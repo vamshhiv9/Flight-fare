{
 "cells": [
  {
   "cell_type": "markdown",
   "metadata": {},
   "source": [
    "# Flight Price Prediction"
   ]
  },
  {
   "cell_type": "code",
   "execution_count": 1,
   "metadata": {},
   "outputs": [],
   "source": [
    "import pandas as pd\n",
    "import numpy as np\n",
    "import matplotlib.pyplot as plt\n",
    "import seaborn as sns"
   ]
  },
  {
   "cell_type": "code",
   "execution_count": 2,
   "metadata": {},
   "outputs": [
    {
     "data": {
      "text/html": [
       "<div>\n",
       "<style scoped>\n",
       "    .dataframe tbody tr th:only-of-type {\n",
       "        vertical-align: middle;\n",
       "    }\n",
       "\n",
       "    .dataframe tbody tr th {\n",
       "        vertical-align: top;\n",
       "    }\n",
       "\n",
       "    .dataframe thead th {\n",
       "        text-align: right;\n",
       "    }\n",
       "</style>\n",
       "<table border=\"1\" class=\"dataframe\">\n",
       "  <thead>\n",
       "    <tr style=\"text-align: right;\">\n",
       "      <th></th>\n",
       "      <th>Airline</th>\n",
       "      <th>Date_of_Journey</th>\n",
       "      <th>Source</th>\n",
       "      <th>Destination</th>\n",
       "      <th>Route</th>\n",
       "      <th>Dep_Time</th>\n",
       "      <th>Arrival_Time</th>\n",
       "      <th>Duration</th>\n",
       "      <th>Total_Stops</th>\n",
       "      <th>Additional_Info</th>\n",
       "      <th>Price</th>\n",
       "    </tr>\n",
       "  </thead>\n",
       "  <tbody>\n",
       "    <tr>\n",
       "      <th>0</th>\n",
       "      <td>IndiGo</td>\n",
       "      <td>24/03/2019</td>\n",
       "      <td>Banglore</td>\n",
       "      <td>New Delhi</td>\n",
       "      <td>BLR → DEL</td>\n",
       "      <td>22:20</td>\n",
       "      <td>01:10 22 Mar</td>\n",
       "      <td>2h 50m</td>\n",
       "      <td>non-stop</td>\n",
       "      <td>No info</td>\n",
       "      <td>3897</td>\n",
       "    </tr>\n",
       "    <tr>\n",
       "      <th>1</th>\n",
       "      <td>Air India</td>\n",
       "      <td>1/05/2019</td>\n",
       "      <td>Kolkata</td>\n",
       "      <td>Banglore</td>\n",
       "      <td>CCU → IXR → BBI → BLR</td>\n",
       "      <td>05:50</td>\n",
       "      <td>13:15</td>\n",
       "      <td>7h 25m</td>\n",
       "      <td>2 stops</td>\n",
       "      <td>No info</td>\n",
       "      <td>7662</td>\n",
       "    </tr>\n",
       "    <tr>\n",
       "      <th>2</th>\n",
       "      <td>Jet Airways</td>\n",
       "      <td>9/06/2019</td>\n",
       "      <td>Delhi</td>\n",
       "      <td>Cochin</td>\n",
       "      <td>DEL → LKO → BOM → COK</td>\n",
       "      <td>09:25</td>\n",
       "      <td>04:25 10 Jun</td>\n",
       "      <td>19h</td>\n",
       "      <td>2 stops</td>\n",
       "      <td>No info</td>\n",
       "      <td>13882</td>\n",
       "    </tr>\n",
       "    <tr>\n",
       "      <th>3</th>\n",
       "      <td>IndiGo</td>\n",
       "      <td>12/05/2019</td>\n",
       "      <td>Kolkata</td>\n",
       "      <td>Banglore</td>\n",
       "      <td>CCU → NAG → BLR</td>\n",
       "      <td>18:05</td>\n",
       "      <td>23:30</td>\n",
       "      <td>5h 25m</td>\n",
       "      <td>1 stop</td>\n",
       "      <td>No info</td>\n",
       "      <td>6218</td>\n",
       "    </tr>\n",
       "    <tr>\n",
       "      <th>4</th>\n",
       "      <td>IndiGo</td>\n",
       "      <td>01/03/2019</td>\n",
       "      <td>Banglore</td>\n",
       "      <td>New Delhi</td>\n",
       "      <td>BLR → NAG → DEL</td>\n",
       "      <td>16:50</td>\n",
       "      <td>21:35</td>\n",
       "      <td>4h 45m</td>\n",
       "      <td>1 stop</td>\n",
       "      <td>No info</td>\n",
       "      <td>13302</td>\n",
       "    </tr>\n",
       "  </tbody>\n",
       "</table>\n",
       "</div>"
      ],
      "text/plain": [
       "       Airline Date_of_Journey    Source Destination                  Route  \\\n",
       "0       IndiGo      24/03/2019  Banglore   New Delhi              BLR → DEL   \n",
       "1    Air India       1/05/2019   Kolkata    Banglore  CCU → IXR → BBI → BLR   \n",
       "2  Jet Airways       9/06/2019     Delhi      Cochin  DEL → LKO → BOM → COK   \n",
       "3       IndiGo      12/05/2019   Kolkata    Banglore        CCU → NAG → BLR   \n",
       "4       IndiGo      01/03/2019  Banglore   New Delhi        BLR → NAG → DEL   \n",
       "\n",
       "  Dep_Time  Arrival_Time Duration Total_Stops Additional_Info  Price  \n",
       "0    22:20  01:10 22 Mar   2h 50m    non-stop         No info   3897  \n",
       "1    05:50         13:15   7h 25m     2 stops         No info   7662  \n",
       "2    09:25  04:25 10 Jun      19h     2 stops         No info  13882  \n",
       "3    18:05         23:30   5h 25m      1 stop         No info   6218  \n",
       "4    16:50         21:35   4h 45m      1 stop         No info  13302  "
      ]
     },
     "execution_count": 2,
     "metadata": {},
     "output_type": "execute_result"
    }
   ],
   "source": [
    "train=pd.read_excel('Data_Train.xlsx')\n",
    "train.head()"
   ]
  },
  {
   "cell_type": "code",
   "execution_count": 3,
   "metadata": {},
   "outputs": [
    {
     "name": "stdout",
     "output_type": "stream",
     "text": [
      "<class 'pandas.core.frame.DataFrame'>\n",
      "RangeIndex: 10683 entries, 0 to 10682\n",
      "Data columns (total 11 columns):\n",
      " #   Column           Non-Null Count  Dtype \n",
      "---  ------           --------------  ----- \n",
      " 0   Airline          10683 non-null  object\n",
      " 1   Date_of_Journey  10683 non-null  object\n",
      " 2   Source           10683 non-null  object\n",
      " 3   Destination      10683 non-null  object\n",
      " 4   Route            10682 non-null  object\n",
      " 5   Dep_Time         10683 non-null  object\n",
      " 6   Arrival_Time     10683 non-null  object\n",
      " 7   Duration         10683 non-null  object\n",
      " 8   Total_Stops      10682 non-null  object\n",
      " 9   Additional_Info  10683 non-null  object\n",
      " 10  Price            10683 non-null  int64 \n",
      "dtypes: int64(1), object(10)\n",
      "memory usage: 918.2+ KB\n"
     ]
    }
   ],
   "source": [
    "train.info()"
   ]
  },
  {
   "cell_type": "markdown",
   "metadata": {},
   "source": [
    "## Preprocessing\n",
    "\n",
    "<h3> The dataset is cleaned of null or redundant values. Columns like date of journey is split into month and day to provide more info. The arrival ,departure time and the duration is further split into hours and minutes. </h3>"
   ]
  },
  {
   "cell_type": "code",
   "execution_count": 4,
   "metadata": {},
   "outputs": [],
   "source": [
    "train.dropna(inplace=True)"
   ]
  },
  {
   "cell_type": "code",
   "execution_count": 5,
   "metadata": {},
   "outputs": [
    {
     "data": {
      "text/plain": [
       "(10682, 11)"
      ]
     },
     "execution_count": 5,
     "metadata": {},
     "output_type": "execute_result"
    }
   ],
   "source": [
    "train.shape"
   ]
  },
  {
   "cell_type": "code",
   "execution_count": 6,
   "metadata": {},
   "outputs": [
    {
     "data": {
      "text/plain": [
       "2h 50m     550\n",
       "1h 30m     386\n",
       "2h 55m     337\n",
       "2h 45m     337\n",
       "2h 35m     329\n",
       "          ... \n",
       "29h 30m      1\n",
       "29h 40m      1\n",
       "5m           1\n",
       "30h 10m      1\n",
       "41h 20m      1\n",
       "Name: Duration, Length: 368, dtype: int64"
      ]
     },
     "execution_count": 6,
     "metadata": {},
     "output_type": "execute_result"
    }
   ],
   "source": [
    "train[\"Duration\"].value_counts()"
   ]
  },
  {
   "cell_type": "code",
   "execution_count": 7,
   "metadata": {},
   "outputs": [
    {
     "data": {
      "text/plain": [
       "Airline            0\n",
       "Date_of_Journey    0\n",
       "Source             0\n",
       "Destination        0\n",
       "Route              0\n",
       "Dep_Time           0\n",
       "Arrival_Time       0\n",
       "Duration           0\n",
       "Total_Stops        0\n",
       "Additional_Info    0\n",
       "Price              0\n",
       "dtype: int64"
      ]
     },
     "execution_count": 7,
     "metadata": {},
     "output_type": "execute_result"
    }
   ],
   "source": [
    "train.isnull().sum()"
   ]
  },
  {
   "cell_type": "code",
   "execution_count": 8,
   "metadata": {},
   "outputs": [
    {
     "data": {
      "text/html": [
       "<div>\n",
       "<style scoped>\n",
       "    .dataframe tbody tr th:only-of-type {\n",
       "        vertical-align: middle;\n",
       "    }\n",
       "\n",
       "    .dataframe tbody tr th {\n",
       "        vertical-align: top;\n",
       "    }\n",
       "\n",
       "    .dataframe thead th {\n",
       "        text-align: right;\n",
       "    }\n",
       "</style>\n",
       "<table border=\"1\" class=\"dataframe\">\n",
       "  <thead>\n",
       "    <tr style=\"text-align: right;\">\n",
       "      <th></th>\n",
       "      <th>Airline</th>\n",
       "      <th>Date_of_Journey</th>\n",
       "      <th>Source</th>\n",
       "      <th>Destination</th>\n",
       "      <th>Route</th>\n",
       "      <th>Dep_Time</th>\n",
       "      <th>Arrival_Time</th>\n",
       "      <th>Duration</th>\n",
       "      <th>Total_Stops</th>\n",
       "      <th>Additional_Info</th>\n",
       "      <th>Price</th>\n",
       "      <th>Journey_day</th>\n",
       "      <th>Journey_month</th>\n",
       "    </tr>\n",
       "  </thead>\n",
       "  <tbody>\n",
       "    <tr>\n",
       "      <th>0</th>\n",
       "      <td>IndiGo</td>\n",
       "      <td>24/03/2019</td>\n",
       "      <td>Banglore</td>\n",
       "      <td>New Delhi</td>\n",
       "      <td>BLR → DEL</td>\n",
       "      <td>22:20</td>\n",
       "      <td>01:10 22 Mar</td>\n",
       "      <td>2h 50m</td>\n",
       "      <td>non-stop</td>\n",
       "      <td>No info</td>\n",
       "      <td>3897</td>\n",
       "      <td>24</td>\n",
       "      <td>3</td>\n",
       "    </tr>\n",
       "    <tr>\n",
       "      <th>1</th>\n",
       "      <td>Air India</td>\n",
       "      <td>1/05/2019</td>\n",
       "      <td>Kolkata</td>\n",
       "      <td>Banglore</td>\n",
       "      <td>CCU → IXR → BBI → BLR</td>\n",
       "      <td>05:50</td>\n",
       "      <td>13:15</td>\n",
       "      <td>7h 25m</td>\n",
       "      <td>2 stops</td>\n",
       "      <td>No info</td>\n",
       "      <td>7662</td>\n",
       "      <td>1</td>\n",
       "      <td>5</td>\n",
       "    </tr>\n",
       "    <tr>\n",
       "      <th>2</th>\n",
       "      <td>Jet Airways</td>\n",
       "      <td>9/06/2019</td>\n",
       "      <td>Delhi</td>\n",
       "      <td>Cochin</td>\n",
       "      <td>DEL → LKO → BOM → COK</td>\n",
       "      <td>09:25</td>\n",
       "      <td>04:25 10 Jun</td>\n",
       "      <td>19h</td>\n",
       "      <td>2 stops</td>\n",
       "      <td>No info</td>\n",
       "      <td>13882</td>\n",
       "      <td>9</td>\n",
       "      <td>6</td>\n",
       "    </tr>\n",
       "    <tr>\n",
       "      <th>3</th>\n",
       "      <td>IndiGo</td>\n",
       "      <td>12/05/2019</td>\n",
       "      <td>Kolkata</td>\n",
       "      <td>Banglore</td>\n",
       "      <td>CCU → NAG → BLR</td>\n",
       "      <td>18:05</td>\n",
       "      <td>23:30</td>\n",
       "      <td>5h 25m</td>\n",
       "      <td>1 stop</td>\n",
       "      <td>No info</td>\n",
       "      <td>6218</td>\n",
       "      <td>12</td>\n",
       "      <td>5</td>\n",
       "    </tr>\n",
       "    <tr>\n",
       "      <th>4</th>\n",
       "      <td>IndiGo</td>\n",
       "      <td>01/03/2019</td>\n",
       "      <td>Banglore</td>\n",
       "      <td>New Delhi</td>\n",
       "      <td>BLR → NAG → DEL</td>\n",
       "      <td>16:50</td>\n",
       "      <td>21:35</td>\n",
       "      <td>4h 45m</td>\n",
       "      <td>1 stop</td>\n",
       "      <td>No info</td>\n",
       "      <td>13302</td>\n",
       "      <td>1</td>\n",
       "      <td>3</td>\n",
       "    </tr>\n",
       "  </tbody>\n",
       "</table>\n",
       "</div>"
      ],
      "text/plain": [
       "       Airline Date_of_Journey    Source Destination                  Route  \\\n",
       "0       IndiGo      24/03/2019  Banglore   New Delhi              BLR → DEL   \n",
       "1    Air India       1/05/2019   Kolkata    Banglore  CCU → IXR → BBI → BLR   \n",
       "2  Jet Airways       9/06/2019     Delhi      Cochin  DEL → LKO → BOM → COK   \n",
       "3       IndiGo      12/05/2019   Kolkata    Banglore        CCU → NAG → BLR   \n",
       "4       IndiGo      01/03/2019  Banglore   New Delhi        BLR → NAG → DEL   \n",
       "\n",
       "  Dep_Time  Arrival_Time Duration Total_Stops Additional_Info  Price  \\\n",
       "0    22:20  01:10 22 Mar   2h 50m    non-stop         No info   3897   \n",
       "1    05:50         13:15   7h 25m     2 stops         No info   7662   \n",
       "2    09:25  04:25 10 Jun      19h     2 stops         No info  13882   \n",
       "3    18:05         23:30   5h 25m      1 stop         No info   6218   \n",
       "4    16:50         21:35   4h 45m      1 stop         No info  13302   \n",
       "\n",
       "   Journey_day  Journey_month  \n",
       "0           24              3  \n",
       "1            1              5  \n",
       "2            9              6  \n",
       "3           12              5  \n",
       "4            1              3  "
      ]
     },
     "execution_count": 8,
     "metadata": {},
     "output_type": "execute_result"
    }
   ],
   "source": [
    "train[\"Journey_day\"]=pd.to_datetime(train.Date_of_Journey,format=\"%d/%m/%Y\").dt.day\n",
    "train[\"Journey_month\"]=pd.to_datetime(train.Date_of_Journey,format=\"%d/%m/%Y\").dt.month\n",
    "train.head()"
   ]
  },
  {
   "cell_type": "code",
   "execution_count": 9,
   "metadata": {},
   "outputs": [],
   "source": [
    "train.drop(['Date_of_Journey'],axis=1,inplace=True)"
   ]
  },
  {
   "cell_type": "code",
   "execution_count": 10,
   "metadata": {},
   "outputs": [],
   "source": [
    "train['Dep_hour']=pd.to_datetime(train[\"Dep_Time\"]).dt.hour\n",
    "train['Dep_min']=pd.to_datetime(train[\"Dep_Time\"]).dt.minute\n",
    "train.drop(['Dep_Time'],axis=1,inplace=True)\n"
   ]
  },
  {
   "cell_type": "code",
   "execution_count": 11,
   "metadata": {},
   "outputs": [
    {
     "data": {
      "text/html": [
       "<div>\n",
       "<style scoped>\n",
       "    .dataframe tbody tr th:only-of-type {\n",
       "        vertical-align: middle;\n",
       "    }\n",
       "\n",
       "    .dataframe tbody tr th {\n",
       "        vertical-align: top;\n",
       "    }\n",
       "\n",
       "    .dataframe thead th {\n",
       "        text-align: right;\n",
       "    }\n",
       "</style>\n",
       "<table border=\"1\" class=\"dataframe\">\n",
       "  <thead>\n",
       "    <tr style=\"text-align: right;\">\n",
       "      <th></th>\n",
       "      <th>Airline</th>\n",
       "      <th>Source</th>\n",
       "      <th>Destination</th>\n",
       "      <th>Route</th>\n",
       "      <th>Arrival_Time</th>\n",
       "      <th>Duration</th>\n",
       "      <th>Total_Stops</th>\n",
       "      <th>Additional_Info</th>\n",
       "      <th>Price</th>\n",
       "      <th>Journey_day</th>\n",
       "      <th>Journey_month</th>\n",
       "      <th>Dep_hour</th>\n",
       "      <th>Dep_min</th>\n",
       "    </tr>\n",
       "  </thead>\n",
       "  <tbody>\n",
       "    <tr>\n",
       "      <th>0</th>\n",
       "      <td>IndiGo</td>\n",
       "      <td>Banglore</td>\n",
       "      <td>New Delhi</td>\n",
       "      <td>BLR → DEL</td>\n",
       "      <td>01:10 22 Mar</td>\n",
       "      <td>2h 50m</td>\n",
       "      <td>non-stop</td>\n",
       "      <td>No info</td>\n",
       "      <td>3897</td>\n",
       "      <td>24</td>\n",
       "      <td>3</td>\n",
       "      <td>22</td>\n",
       "      <td>20</td>\n",
       "    </tr>\n",
       "    <tr>\n",
       "      <th>1</th>\n",
       "      <td>Air India</td>\n",
       "      <td>Kolkata</td>\n",
       "      <td>Banglore</td>\n",
       "      <td>CCU → IXR → BBI → BLR</td>\n",
       "      <td>13:15</td>\n",
       "      <td>7h 25m</td>\n",
       "      <td>2 stops</td>\n",
       "      <td>No info</td>\n",
       "      <td>7662</td>\n",
       "      <td>1</td>\n",
       "      <td>5</td>\n",
       "      <td>5</td>\n",
       "      <td>50</td>\n",
       "    </tr>\n",
       "    <tr>\n",
       "      <th>2</th>\n",
       "      <td>Jet Airways</td>\n",
       "      <td>Delhi</td>\n",
       "      <td>Cochin</td>\n",
       "      <td>DEL → LKO → BOM → COK</td>\n",
       "      <td>04:25 10 Jun</td>\n",
       "      <td>19h</td>\n",
       "      <td>2 stops</td>\n",
       "      <td>No info</td>\n",
       "      <td>13882</td>\n",
       "      <td>9</td>\n",
       "      <td>6</td>\n",
       "      <td>9</td>\n",
       "      <td>25</td>\n",
       "    </tr>\n",
       "    <tr>\n",
       "      <th>3</th>\n",
       "      <td>IndiGo</td>\n",
       "      <td>Kolkata</td>\n",
       "      <td>Banglore</td>\n",
       "      <td>CCU → NAG → BLR</td>\n",
       "      <td>23:30</td>\n",
       "      <td>5h 25m</td>\n",
       "      <td>1 stop</td>\n",
       "      <td>No info</td>\n",
       "      <td>6218</td>\n",
       "      <td>12</td>\n",
       "      <td>5</td>\n",
       "      <td>18</td>\n",
       "      <td>5</td>\n",
       "    </tr>\n",
       "    <tr>\n",
       "      <th>4</th>\n",
       "      <td>IndiGo</td>\n",
       "      <td>Banglore</td>\n",
       "      <td>New Delhi</td>\n",
       "      <td>BLR → NAG → DEL</td>\n",
       "      <td>21:35</td>\n",
       "      <td>4h 45m</td>\n",
       "      <td>1 stop</td>\n",
       "      <td>No info</td>\n",
       "      <td>13302</td>\n",
       "      <td>1</td>\n",
       "      <td>3</td>\n",
       "      <td>16</td>\n",
       "      <td>50</td>\n",
       "    </tr>\n",
       "  </tbody>\n",
       "</table>\n",
       "</div>"
      ],
      "text/plain": [
       "       Airline    Source Destination                  Route  Arrival_Time  \\\n",
       "0       IndiGo  Banglore   New Delhi              BLR → DEL  01:10 22 Mar   \n",
       "1    Air India   Kolkata    Banglore  CCU → IXR → BBI → BLR         13:15   \n",
       "2  Jet Airways     Delhi      Cochin  DEL → LKO → BOM → COK  04:25 10 Jun   \n",
       "3       IndiGo   Kolkata    Banglore        CCU → NAG → BLR         23:30   \n",
       "4       IndiGo  Banglore   New Delhi        BLR → NAG → DEL         21:35   \n",
       "\n",
       "  Duration Total_Stops Additional_Info  Price  Journey_day  Journey_month  \\\n",
       "0   2h 50m    non-stop         No info   3897           24              3   \n",
       "1   7h 25m     2 stops         No info   7662            1              5   \n",
       "2      19h     2 stops         No info  13882            9              6   \n",
       "3   5h 25m      1 stop         No info   6218           12              5   \n",
       "4   4h 45m      1 stop         No info  13302            1              3   \n",
       "\n",
       "   Dep_hour  Dep_min  \n",
       "0        22       20  \n",
       "1         5       50  \n",
       "2         9       25  \n",
       "3        18        5  \n",
       "4        16       50  "
      ]
     },
     "execution_count": 11,
     "metadata": {},
     "output_type": "execute_result"
    }
   ],
   "source": [
    "train.head()"
   ]
  },
  {
   "cell_type": "code",
   "execution_count": 12,
   "metadata": {},
   "outputs": [],
   "source": [
    "train[\"Arrival_hour\"]=pd.to_datetime(train.Arrival_Time).dt.hour\n",
    "train[\"Arrival_min\"]=pd.to_datetime(train.Arrival_Time).dt.minute\n",
    "train.drop(['Arrival_Time'],axis=1,inplace=True)"
   ]
  },
  {
   "cell_type": "code",
   "execution_count": 13,
   "metadata": {},
   "outputs": [
    {
     "data": {
      "text/html": [
       "<div>\n",
       "<style scoped>\n",
       "    .dataframe tbody tr th:only-of-type {\n",
       "        vertical-align: middle;\n",
       "    }\n",
       "\n",
       "    .dataframe tbody tr th {\n",
       "        vertical-align: top;\n",
       "    }\n",
       "\n",
       "    .dataframe thead th {\n",
       "        text-align: right;\n",
       "    }\n",
       "</style>\n",
       "<table border=\"1\" class=\"dataframe\">\n",
       "  <thead>\n",
       "    <tr style=\"text-align: right;\">\n",
       "      <th></th>\n",
       "      <th>Airline</th>\n",
       "      <th>Source</th>\n",
       "      <th>Destination</th>\n",
       "      <th>Route</th>\n",
       "      <th>Duration</th>\n",
       "      <th>Total_Stops</th>\n",
       "      <th>Additional_Info</th>\n",
       "      <th>Price</th>\n",
       "      <th>Journey_day</th>\n",
       "      <th>Journey_month</th>\n",
       "      <th>Dep_hour</th>\n",
       "      <th>Dep_min</th>\n",
       "      <th>Arrival_hour</th>\n",
       "      <th>Arrival_min</th>\n",
       "    </tr>\n",
       "  </thead>\n",
       "  <tbody>\n",
       "    <tr>\n",
       "      <th>0</th>\n",
       "      <td>IndiGo</td>\n",
       "      <td>Banglore</td>\n",
       "      <td>New Delhi</td>\n",
       "      <td>BLR → DEL</td>\n",
       "      <td>2h 50m</td>\n",
       "      <td>non-stop</td>\n",
       "      <td>No info</td>\n",
       "      <td>3897</td>\n",
       "      <td>24</td>\n",
       "      <td>3</td>\n",
       "      <td>22</td>\n",
       "      <td>20</td>\n",
       "      <td>1</td>\n",
       "      <td>10</td>\n",
       "    </tr>\n",
       "    <tr>\n",
       "      <th>1</th>\n",
       "      <td>Air India</td>\n",
       "      <td>Kolkata</td>\n",
       "      <td>Banglore</td>\n",
       "      <td>CCU → IXR → BBI → BLR</td>\n",
       "      <td>7h 25m</td>\n",
       "      <td>2 stops</td>\n",
       "      <td>No info</td>\n",
       "      <td>7662</td>\n",
       "      <td>1</td>\n",
       "      <td>5</td>\n",
       "      <td>5</td>\n",
       "      <td>50</td>\n",
       "      <td>13</td>\n",
       "      <td>15</td>\n",
       "    </tr>\n",
       "    <tr>\n",
       "      <th>2</th>\n",
       "      <td>Jet Airways</td>\n",
       "      <td>Delhi</td>\n",
       "      <td>Cochin</td>\n",
       "      <td>DEL → LKO → BOM → COK</td>\n",
       "      <td>19h</td>\n",
       "      <td>2 stops</td>\n",
       "      <td>No info</td>\n",
       "      <td>13882</td>\n",
       "      <td>9</td>\n",
       "      <td>6</td>\n",
       "      <td>9</td>\n",
       "      <td>25</td>\n",
       "      <td>4</td>\n",
       "      <td>25</td>\n",
       "    </tr>\n",
       "    <tr>\n",
       "      <th>3</th>\n",
       "      <td>IndiGo</td>\n",
       "      <td>Kolkata</td>\n",
       "      <td>Banglore</td>\n",
       "      <td>CCU → NAG → BLR</td>\n",
       "      <td>5h 25m</td>\n",
       "      <td>1 stop</td>\n",
       "      <td>No info</td>\n",
       "      <td>6218</td>\n",
       "      <td>12</td>\n",
       "      <td>5</td>\n",
       "      <td>18</td>\n",
       "      <td>5</td>\n",
       "      <td>23</td>\n",
       "      <td>30</td>\n",
       "    </tr>\n",
       "    <tr>\n",
       "      <th>4</th>\n",
       "      <td>IndiGo</td>\n",
       "      <td>Banglore</td>\n",
       "      <td>New Delhi</td>\n",
       "      <td>BLR → NAG → DEL</td>\n",
       "      <td>4h 45m</td>\n",
       "      <td>1 stop</td>\n",
       "      <td>No info</td>\n",
       "      <td>13302</td>\n",
       "      <td>1</td>\n",
       "      <td>3</td>\n",
       "      <td>16</td>\n",
       "      <td>50</td>\n",
       "      <td>21</td>\n",
       "      <td>35</td>\n",
       "    </tr>\n",
       "  </tbody>\n",
       "</table>\n",
       "</div>"
      ],
      "text/plain": [
       "       Airline    Source Destination                  Route Duration  \\\n",
       "0       IndiGo  Banglore   New Delhi              BLR → DEL   2h 50m   \n",
       "1    Air India   Kolkata    Banglore  CCU → IXR → BBI → BLR   7h 25m   \n",
       "2  Jet Airways     Delhi      Cochin  DEL → LKO → BOM → COK      19h   \n",
       "3       IndiGo   Kolkata    Banglore        CCU → NAG → BLR   5h 25m   \n",
       "4       IndiGo  Banglore   New Delhi        BLR → NAG → DEL   4h 45m   \n",
       "\n",
       "  Total_Stops Additional_Info  Price  Journey_day  Journey_month  Dep_hour  \\\n",
       "0    non-stop         No info   3897           24              3        22   \n",
       "1     2 stops         No info   7662            1              5         5   \n",
       "2     2 stops         No info  13882            9              6         9   \n",
       "3      1 stop         No info   6218           12              5        18   \n",
       "4      1 stop         No info  13302            1              3        16   \n",
       "\n",
       "   Dep_min  Arrival_hour  Arrival_min  \n",
       "0       20             1           10  \n",
       "1       50            13           15  \n",
       "2       25             4           25  \n",
       "3        5            23           30  \n",
       "4       50            21           35  "
      ]
     },
     "execution_count": 13,
     "metadata": {},
     "output_type": "execute_result"
    }
   ],
   "source": [
    "train.head()"
   ]
  },
  {
   "cell_type": "code",
   "execution_count": 14,
   "metadata": {},
   "outputs": [],
   "source": [
    "dur=list(train[\"Duration\"])\n",
    "for i in range(len(dur)):\n",
    "    if len(dur[i].split())!=2:\n",
    "        if \"h\" in dur[i]:\n",
    "            dur[i]=dur[i].strip()+\" 0m\"\n",
    "        else:\n",
    "            dur[i]=\"0h \"+dur[i]\n",
    "dur_h=[]\n",
    "dur_m=[]\n",
    "for i in range(len(dur)):\n",
    "    dur_h.append(int(dur[i].split(sep=\"h\")[0]))\n",
    "    dur_m.append(int(dur[i].split(sep=\"m\")[0].split()[-1]))"
   ]
  },
  {
   "cell_type": "code",
   "execution_count": 15,
   "metadata": {},
   "outputs": [],
   "source": [
    "train[\"Duration_hours\"]=dur_h\n",
    "train[\"Duration_mins\"]=dur_m"
   ]
  },
  {
   "cell_type": "code",
   "execution_count": 16,
   "metadata": {},
   "outputs": [
    {
     "data": {
      "text/html": [
       "<div>\n",
       "<style scoped>\n",
       "    .dataframe tbody tr th:only-of-type {\n",
       "        vertical-align: middle;\n",
       "    }\n",
       "\n",
       "    .dataframe tbody tr th {\n",
       "        vertical-align: top;\n",
       "    }\n",
       "\n",
       "    .dataframe thead th {\n",
       "        text-align: right;\n",
       "    }\n",
       "</style>\n",
       "<table border=\"1\" class=\"dataframe\">\n",
       "  <thead>\n",
       "    <tr style=\"text-align: right;\">\n",
       "      <th></th>\n",
       "      <th>Airline</th>\n",
       "      <th>Source</th>\n",
       "      <th>Destination</th>\n",
       "      <th>Route</th>\n",
       "      <th>Duration</th>\n",
       "      <th>Total_Stops</th>\n",
       "      <th>Additional_Info</th>\n",
       "      <th>Price</th>\n",
       "      <th>Journey_day</th>\n",
       "      <th>Journey_month</th>\n",
       "      <th>Dep_hour</th>\n",
       "      <th>Dep_min</th>\n",
       "      <th>Arrival_hour</th>\n",
       "      <th>Arrival_min</th>\n",
       "      <th>Duration_hours</th>\n",
       "      <th>Duration_mins</th>\n",
       "    </tr>\n",
       "  </thead>\n",
       "  <tbody>\n",
       "    <tr>\n",
       "      <th>0</th>\n",
       "      <td>IndiGo</td>\n",
       "      <td>Banglore</td>\n",
       "      <td>New Delhi</td>\n",
       "      <td>BLR → DEL</td>\n",
       "      <td>2h 50m</td>\n",
       "      <td>non-stop</td>\n",
       "      <td>No info</td>\n",
       "      <td>3897</td>\n",
       "      <td>24</td>\n",
       "      <td>3</td>\n",
       "      <td>22</td>\n",
       "      <td>20</td>\n",
       "      <td>1</td>\n",
       "      <td>10</td>\n",
       "      <td>2</td>\n",
       "      <td>50</td>\n",
       "    </tr>\n",
       "    <tr>\n",
       "      <th>1</th>\n",
       "      <td>Air India</td>\n",
       "      <td>Kolkata</td>\n",
       "      <td>Banglore</td>\n",
       "      <td>CCU → IXR → BBI → BLR</td>\n",
       "      <td>7h 25m</td>\n",
       "      <td>2 stops</td>\n",
       "      <td>No info</td>\n",
       "      <td>7662</td>\n",
       "      <td>1</td>\n",
       "      <td>5</td>\n",
       "      <td>5</td>\n",
       "      <td>50</td>\n",
       "      <td>13</td>\n",
       "      <td>15</td>\n",
       "      <td>7</td>\n",
       "      <td>25</td>\n",
       "    </tr>\n",
       "    <tr>\n",
       "      <th>2</th>\n",
       "      <td>Jet Airways</td>\n",
       "      <td>Delhi</td>\n",
       "      <td>Cochin</td>\n",
       "      <td>DEL → LKO → BOM → COK</td>\n",
       "      <td>19h</td>\n",
       "      <td>2 stops</td>\n",
       "      <td>No info</td>\n",
       "      <td>13882</td>\n",
       "      <td>9</td>\n",
       "      <td>6</td>\n",
       "      <td>9</td>\n",
       "      <td>25</td>\n",
       "      <td>4</td>\n",
       "      <td>25</td>\n",
       "      <td>19</td>\n",
       "      <td>0</td>\n",
       "    </tr>\n",
       "    <tr>\n",
       "      <th>3</th>\n",
       "      <td>IndiGo</td>\n",
       "      <td>Kolkata</td>\n",
       "      <td>Banglore</td>\n",
       "      <td>CCU → NAG → BLR</td>\n",
       "      <td>5h 25m</td>\n",
       "      <td>1 stop</td>\n",
       "      <td>No info</td>\n",
       "      <td>6218</td>\n",
       "      <td>12</td>\n",
       "      <td>5</td>\n",
       "      <td>18</td>\n",
       "      <td>5</td>\n",
       "      <td>23</td>\n",
       "      <td>30</td>\n",
       "      <td>5</td>\n",
       "      <td>25</td>\n",
       "    </tr>\n",
       "    <tr>\n",
       "      <th>4</th>\n",
       "      <td>IndiGo</td>\n",
       "      <td>Banglore</td>\n",
       "      <td>New Delhi</td>\n",
       "      <td>BLR → NAG → DEL</td>\n",
       "      <td>4h 45m</td>\n",
       "      <td>1 stop</td>\n",
       "      <td>No info</td>\n",
       "      <td>13302</td>\n",
       "      <td>1</td>\n",
       "      <td>3</td>\n",
       "      <td>16</td>\n",
       "      <td>50</td>\n",
       "      <td>21</td>\n",
       "      <td>35</td>\n",
       "      <td>4</td>\n",
       "      <td>45</td>\n",
       "    </tr>\n",
       "  </tbody>\n",
       "</table>\n",
       "</div>"
      ],
      "text/plain": [
       "       Airline    Source Destination                  Route Duration  \\\n",
       "0       IndiGo  Banglore   New Delhi              BLR → DEL   2h 50m   \n",
       "1    Air India   Kolkata    Banglore  CCU → IXR → BBI → BLR   7h 25m   \n",
       "2  Jet Airways     Delhi      Cochin  DEL → LKO → BOM → COK      19h   \n",
       "3       IndiGo   Kolkata    Banglore        CCU → NAG → BLR   5h 25m   \n",
       "4       IndiGo  Banglore   New Delhi        BLR → NAG → DEL   4h 45m   \n",
       "\n",
       "  Total_Stops Additional_Info  Price  Journey_day  Journey_month  Dep_hour  \\\n",
       "0    non-stop         No info   3897           24              3        22   \n",
       "1     2 stops         No info   7662            1              5         5   \n",
       "2     2 stops         No info  13882            9              6         9   \n",
       "3      1 stop         No info   6218           12              5        18   \n",
       "4      1 stop         No info  13302            1              3        16   \n",
       "\n",
       "   Dep_min  Arrival_hour  Arrival_min  Duration_hours  Duration_mins  \n",
       "0       20             1           10               2             50  \n",
       "1       50            13           15               7             25  \n",
       "2       25             4           25              19              0  \n",
       "3        5            23           30               5             25  \n",
       "4       50            21           35               4             45  "
      ]
     },
     "execution_count": 16,
     "metadata": {},
     "output_type": "execute_result"
    }
   ],
   "source": [
    "train.head()"
   ]
  },
  {
   "cell_type": "code",
   "execution_count": 17,
   "metadata": {},
   "outputs": [],
   "source": [
    "train.drop([\"Duration\"],axis=1,inplace=True)"
   ]
  },
  {
   "cell_type": "code",
   "execution_count": 18,
   "metadata": {},
   "outputs": [
    {
     "data": {
      "text/html": [
       "<div>\n",
       "<style scoped>\n",
       "    .dataframe tbody tr th:only-of-type {\n",
       "        vertical-align: middle;\n",
       "    }\n",
       "\n",
       "    .dataframe tbody tr th {\n",
       "        vertical-align: top;\n",
       "    }\n",
       "\n",
       "    .dataframe thead th {\n",
       "        text-align: right;\n",
       "    }\n",
       "</style>\n",
       "<table border=\"1\" class=\"dataframe\">\n",
       "  <thead>\n",
       "    <tr style=\"text-align: right;\">\n",
       "      <th></th>\n",
       "      <th>Airline</th>\n",
       "      <th>Source</th>\n",
       "      <th>Destination</th>\n",
       "      <th>Route</th>\n",
       "      <th>Total_Stops</th>\n",
       "      <th>Additional_Info</th>\n",
       "      <th>Price</th>\n",
       "      <th>Journey_day</th>\n",
       "      <th>Journey_month</th>\n",
       "      <th>Dep_hour</th>\n",
       "      <th>Dep_min</th>\n",
       "      <th>Arrival_hour</th>\n",
       "      <th>Arrival_min</th>\n",
       "      <th>Duration_hours</th>\n",
       "      <th>Duration_mins</th>\n",
       "    </tr>\n",
       "  </thead>\n",
       "  <tbody>\n",
       "    <tr>\n",
       "      <th>0</th>\n",
       "      <td>IndiGo</td>\n",
       "      <td>Banglore</td>\n",
       "      <td>New Delhi</td>\n",
       "      <td>BLR → DEL</td>\n",
       "      <td>non-stop</td>\n",
       "      <td>No info</td>\n",
       "      <td>3897</td>\n",
       "      <td>24</td>\n",
       "      <td>3</td>\n",
       "      <td>22</td>\n",
       "      <td>20</td>\n",
       "      <td>1</td>\n",
       "      <td>10</td>\n",
       "      <td>2</td>\n",
       "      <td>50</td>\n",
       "    </tr>\n",
       "    <tr>\n",
       "      <th>1</th>\n",
       "      <td>Air India</td>\n",
       "      <td>Kolkata</td>\n",
       "      <td>Banglore</td>\n",
       "      <td>CCU → IXR → BBI → BLR</td>\n",
       "      <td>2 stops</td>\n",
       "      <td>No info</td>\n",
       "      <td>7662</td>\n",
       "      <td>1</td>\n",
       "      <td>5</td>\n",
       "      <td>5</td>\n",
       "      <td>50</td>\n",
       "      <td>13</td>\n",
       "      <td>15</td>\n",
       "      <td>7</td>\n",
       "      <td>25</td>\n",
       "    </tr>\n",
       "    <tr>\n",
       "      <th>2</th>\n",
       "      <td>Jet Airways</td>\n",
       "      <td>Delhi</td>\n",
       "      <td>Cochin</td>\n",
       "      <td>DEL → LKO → BOM → COK</td>\n",
       "      <td>2 stops</td>\n",
       "      <td>No info</td>\n",
       "      <td>13882</td>\n",
       "      <td>9</td>\n",
       "      <td>6</td>\n",
       "      <td>9</td>\n",
       "      <td>25</td>\n",
       "      <td>4</td>\n",
       "      <td>25</td>\n",
       "      <td>19</td>\n",
       "      <td>0</td>\n",
       "    </tr>\n",
       "    <tr>\n",
       "      <th>3</th>\n",
       "      <td>IndiGo</td>\n",
       "      <td>Kolkata</td>\n",
       "      <td>Banglore</td>\n",
       "      <td>CCU → NAG → BLR</td>\n",
       "      <td>1 stop</td>\n",
       "      <td>No info</td>\n",
       "      <td>6218</td>\n",
       "      <td>12</td>\n",
       "      <td>5</td>\n",
       "      <td>18</td>\n",
       "      <td>5</td>\n",
       "      <td>23</td>\n",
       "      <td>30</td>\n",
       "      <td>5</td>\n",
       "      <td>25</td>\n",
       "    </tr>\n",
       "    <tr>\n",
       "      <th>4</th>\n",
       "      <td>IndiGo</td>\n",
       "      <td>Banglore</td>\n",
       "      <td>New Delhi</td>\n",
       "      <td>BLR → NAG → DEL</td>\n",
       "      <td>1 stop</td>\n",
       "      <td>No info</td>\n",
       "      <td>13302</td>\n",
       "      <td>1</td>\n",
       "      <td>3</td>\n",
       "      <td>16</td>\n",
       "      <td>50</td>\n",
       "      <td>21</td>\n",
       "      <td>35</td>\n",
       "      <td>4</td>\n",
       "      <td>45</td>\n",
       "    </tr>\n",
       "  </tbody>\n",
       "</table>\n",
       "</div>"
      ],
      "text/plain": [
       "       Airline    Source Destination                  Route Total_Stops  \\\n",
       "0       IndiGo  Banglore   New Delhi              BLR → DEL    non-stop   \n",
       "1    Air India   Kolkata    Banglore  CCU → IXR → BBI → BLR     2 stops   \n",
       "2  Jet Airways     Delhi      Cochin  DEL → LKO → BOM → COK     2 stops   \n",
       "3       IndiGo   Kolkata    Banglore        CCU → NAG → BLR      1 stop   \n",
       "4       IndiGo  Banglore   New Delhi        BLR → NAG → DEL      1 stop   \n",
       "\n",
       "  Additional_Info  Price  Journey_day  Journey_month  Dep_hour  Dep_min  \\\n",
       "0         No info   3897           24              3        22       20   \n",
       "1         No info   7662            1              5         5       50   \n",
       "2         No info  13882            9              6         9       25   \n",
       "3         No info   6218           12              5        18        5   \n",
       "4         No info  13302            1              3        16       50   \n",
       "\n",
       "   Arrival_hour  Arrival_min  Duration_hours  Duration_mins  \n",
       "0             1           10               2             50  \n",
       "1            13           15               7             25  \n",
       "2             4           25              19              0  \n",
       "3            23           30               5             25  \n",
       "4            21           35               4             45  "
      ]
     },
     "execution_count": 18,
     "metadata": {},
     "output_type": "execute_result"
    }
   ],
   "source": [
    "train.head()"
   ]
  },
  {
   "cell_type": "markdown",
   "metadata": {},
   "source": [
    "### Categorical data"
   ]
  },
  {
   "cell_type": "code",
   "execution_count": 19,
   "metadata": {},
   "outputs": [
    {
     "data": {
      "text/plain": [
       "Jet Airways                          3849\n",
       "IndiGo                               2053\n",
       "Air India                            1751\n",
       "Multiple carriers                    1196\n",
       "SpiceJet                              818\n",
       "Vistara                               479\n",
       "Air Asia                              319\n",
       "GoAir                                 194\n",
       "Multiple carriers Premium economy      13\n",
       "Jet Airways Business                    6\n",
       "Vistara Premium economy                 3\n",
       "Trujet                                  1\n",
       "Name: Airline, dtype: int64"
      ]
     },
     "execution_count": 19,
     "metadata": {},
     "output_type": "execute_result"
    }
   ],
   "source": [
    "train[\"Airline\"].value_counts()"
   ]
  },
  {
   "cell_type": "markdown",
   "metadata": {},
   "source": [
    "#### The Jet Airways column is removed as it is no longer in service"
   ]
  },
  {
   "cell_type": "code",
   "execution_count": 20,
   "metadata": {},
   "outputs": [
    {
     "data": {
      "text/plain": [
       "IndiGo                               2053\n",
       "Air India                            1751\n",
       "Multiple carriers                    1196\n",
       "SpiceJet                              818\n",
       "Vistara                               479\n",
       "Air Asia                              319\n",
       "GoAir                                 194\n",
       "Multiple carriers Premium economy      13\n",
       "Jet Airways Business                    6\n",
       "Vistara Premium economy                 3\n",
       "Trujet                                  1\n",
       "Name: Airline, dtype: int64"
      ]
     },
     "execution_count": 20,
     "metadata": {},
     "output_type": "execute_result"
    }
   ],
   "source": [
    "jet=train[(train['Airline']=='Jet Airways')].index\n",
    "train.drop(jet,inplace=True)\n",
    "train[\"Airline\"].value_counts()"
   ]
  },
  {
   "cell_type": "code",
   "execution_count": 21,
   "metadata": {},
   "outputs": [
    {
     "data": {
      "text/plain": [
       "(6833, 15)"
      ]
     },
     "execution_count": 21,
     "metadata": {},
     "output_type": "execute_result"
    }
   ],
   "source": [
    "train.shape"
   ]
  },
  {
   "cell_type": "markdown",
   "metadata": {},
   "source": [
    "#### Catplot to visualize the airlines that charges the most. "
   ]
  },
  {
   "cell_type": "code",
   "execution_count": 22,
   "metadata": {},
   "outputs": [
    {
     "data": {
      "image/png": "[encoded data removed]",
      "text/plain": [
       "<Figure size 1296x432 with 1 Axes>"
      ]
     },
     "metadata": {
      "needs_background": "light"
     },
     "output_type": "display_data"
    }
   ],
   "source": [
    "sns.catplot(y=\"Price\",x=\"Airline\",data=train.sort_values(\"Price\",ascending=False),kind='boxen',height=6,aspect=3)\n",
    "plt.show()"
   ]
  },
  {
   "cell_type": "code",
   "execution_count": 23,
   "metadata": {},
   "outputs": [
    {
     "data": {
      "text/html": [
       "<div>\n",
       "<style scoped>\n",
       "    .dataframe tbody tr th:only-of-type {\n",
       "        vertical-align: middle;\n",
       "    }\n",
       "\n",
       "    .dataframe tbody tr th {\n",
       "        vertical-align: top;\n",
       "    }\n",
       "\n",
       "    .dataframe thead th {\n",
       "        text-align: right;\n",
       "    }\n",
       "</style>\n",
       "<table border=\"1\" class=\"dataframe\">\n",
       "  <thead>\n",
       "    <tr style=\"text-align: right;\">\n",
       "      <th></th>\n",
       "      <th>Airline_Air India</th>\n",
       "      <th>Airline_GoAir</th>\n",
       "      <th>Airline_IndiGo</th>\n",
       "      <th>Airline_Jet Airways Business</th>\n",
       "      <th>Airline_Multiple carriers</th>\n",
       "      <th>Airline_Multiple carriers Premium economy</th>\n",
       "      <th>Airline_SpiceJet</th>\n",
       "      <th>Airline_Trujet</th>\n",
       "      <th>Airline_Vistara</th>\n",
       "      <th>Airline_Vistara Premium economy</th>\n",
       "    </tr>\n",
       "  </thead>\n",
       "  <tbody>\n",
       "    <tr>\n",
       "      <th>0</th>\n",
       "      <td>0</td>\n",
       "      <td>0</td>\n",
       "      <td>1</td>\n",
       "      <td>0</td>\n",
       "      <td>0</td>\n",
       "      <td>0</td>\n",
       "      <td>0</td>\n",
       "      <td>0</td>\n",
       "      <td>0</td>\n",
       "      <td>0</td>\n",
       "    </tr>\n",
       "    <tr>\n",
       "      <th>1</th>\n",
       "      <td>1</td>\n",
       "      <td>0</td>\n",
       "      <td>0</td>\n",
       "      <td>0</td>\n",
       "      <td>0</td>\n",
       "      <td>0</td>\n",
       "      <td>0</td>\n",
       "      <td>0</td>\n",
       "      <td>0</td>\n",
       "      <td>0</td>\n",
       "    </tr>\n",
       "    <tr>\n",
       "      <th>3</th>\n",
       "      <td>0</td>\n",
       "      <td>0</td>\n",
       "      <td>1</td>\n",
       "      <td>0</td>\n",
       "      <td>0</td>\n",
       "      <td>0</td>\n",
       "      <td>0</td>\n",
       "      <td>0</td>\n",
       "      <td>0</td>\n",
       "      <td>0</td>\n",
       "    </tr>\n",
       "    <tr>\n",
       "      <th>4</th>\n",
       "      <td>0</td>\n",
       "      <td>0</td>\n",
       "      <td>1</td>\n",
       "      <td>0</td>\n",
       "      <td>0</td>\n",
       "      <td>0</td>\n",
       "      <td>0</td>\n",
       "      <td>0</td>\n",
       "      <td>0</td>\n",
       "      <td>0</td>\n",
       "    </tr>\n",
       "    <tr>\n",
       "      <th>5</th>\n",
       "      <td>0</td>\n",
       "      <td>0</td>\n",
       "      <td>0</td>\n",
       "      <td>0</td>\n",
       "      <td>0</td>\n",
       "      <td>0</td>\n",
       "      <td>1</td>\n",
       "      <td>0</td>\n",
       "      <td>0</td>\n",
       "      <td>0</td>\n",
       "    </tr>\n",
       "  </tbody>\n",
       "</table>\n",
       "</div>"
      ],
      "text/plain": [
       "   Airline_Air India  Airline_GoAir  Airline_IndiGo  \\\n",
       "0                  0              0               1   \n",
       "1                  1              0               0   \n",
       "3                  0              0               1   \n",
       "4                  0              0               1   \n",
       "5                  0              0               0   \n",
       "\n",
       "   Airline_Jet Airways Business  Airline_Multiple carriers  \\\n",
       "0                             0                          0   \n",
       "1                             0                          0   \n",
       "3                             0                          0   \n",
       "4                             0                          0   \n",
       "5                             0                          0   \n",
       "\n",
       "   Airline_Multiple carriers Premium economy  Airline_SpiceJet  \\\n",
       "0                                          0                 0   \n",
       "1                                          0                 0   \n",
       "3                                          0                 0   \n",
       "4                                          0                 0   \n",
       "5                                          0                 1   \n",
       "\n",
       "   Airline_Trujet  Airline_Vistara  Airline_Vistara Premium economy  \n",
       "0               0                0                                0  \n",
       "1               0                0                                0  \n",
       "3               0                0                                0  \n",
       "4               0                0                                0  \n",
       "5               0                0                                0  "
      ]
     },
     "execution_count": 23,
     "metadata": {},
     "output_type": "execute_result"
    }
   ],
   "source": [
    "Airline=train[[\"Airline\"]]                    #One Hot Encoding\n",
    "Airline=pd.get_dummies(Airline,drop_first=True)\n",
    "Airline.head()"
   ]
  },
  {
   "cell_type": "code",
   "execution_count": 24,
   "metadata": {},
   "outputs": [
    {
     "data": {
      "text/plain": [
       "Delhi       2950\n",
       "Kolkata     1615\n",
       "Banglore    1409\n",
       "Mumbai       478\n",
       "Chennai      381\n",
       "Name: Source, dtype: int64"
      ]
     },
     "execution_count": 24,
     "metadata": {},
     "output_type": "execute_result"
    }
   ],
   "source": [
    "train[\"Source\"].value_counts()"
   ]
  },
  {
   "cell_type": "markdown",
   "metadata": {},
   "source": [
    "#### Catplot to visualize the Source city that has the highest air fare"
   ]
  },
  {
   "cell_type": "code",
   "execution_count": 25,
   "metadata": {},
   "outputs": [
    {
     "data": {
      "image/png": "[encoded data removed]",
      "text/plain": [
       "<Figure size 1296x432 with 1 Axes>"
      ]
     },
     "metadata": {
      "needs_background": "light"
     },
     "output_type": "display_data"
    }
   ],
   "source": [
    "sns.catplot(y=\"Price\",x=\"Source\",data=train.sort_values(\"Price\",ascending=False),kind='boxen',height=6,aspect=3)\n",
    "plt.show()"
   ]
  },
  {
   "cell_type": "code",
   "execution_count": 26,
   "metadata": {},
   "outputs": [
    {
     "data": {
      "text/html": [
       "<div>\n",
       "<style scoped>\n",
       "    .dataframe tbody tr th:only-of-type {\n",
       "        vertical-align: middle;\n",
       "    }\n",
       "\n",
       "    .dataframe tbody tr th {\n",
       "        vertical-align: top;\n",
       "    }\n",
       "\n",
       "    .dataframe thead th {\n",
       "        text-align: right;\n",
       "    }\n",
       "</style>\n",
       "<table border=\"1\" class=\"dataframe\">\n",
       "  <thead>\n",
       "    <tr style=\"text-align: right;\">\n",
       "      <th></th>\n",
       "      <th>Source_Chennai</th>\n",
       "      <th>Source_Delhi</th>\n",
       "      <th>Source_Kolkata</th>\n",
       "      <th>Source_Mumbai</th>\n",
       "    </tr>\n",
       "  </thead>\n",
       "  <tbody>\n",
       "    <tr>\n",
       "      <th>0</th>\n",
       "      <td>0</td>\n",
       "      <td>0</td>\n",
       "      <td>0</td>\n",
       "      <td>0</td>\n",
       "    </tr>\n",
       "    <tr>\n",
       "      <th>1</th>\n",
       "      <td>0</td>\n",
       "      <td>0</td>\n",
       "      <td>1</td>\n",
       "      <td>0</td>\n",
       "    </tr>\n",
       "    <tr>\n",
       "      <th>3</th>\n",
       "      <td>0</td>\n",
       "      <td>0</td>\n",
       "      <td>1</td>\n",
       "      <td>0</td>\n",
       "    </tr>\n",
       "    <tr>\n",
       "      <th>4</th>\n",
       "      <td>0</td>\n",
       "      <td>0</td>\n",
       "      <td>0</td>\n",
       "      <td>0</td>\n",
       "    </tr>\n",
       "    <tr>\n",
       "      <th>5</th>\n",
       "      <td>0</td>\n",
       "      <td>0</td>\n",
       "      <td>1</td>\n",
       "      <td>0</td>\n",
       "    </tr>\n",
       "  </tbody>\n",
       "</table>\n",
       "</div>"
      ],
      "text/plain": [
       "   Source_Chennai  Source_Delhi  Source_Kolkata  Source_Mumbai\n",
       "0               0             0               0              0\n",
       "1               0             0               1              0\n",
       "3               0             0               1              0\n",
       "4               0             0               0              0\n",
       "5               0             0               1              0"
      ]
     },
     "execution_count": 26,
     "metadata": {},
     "output_type": "execute_result"
    }
   ],
   "source": [
    "source=train[['Source']]            \n",
    "source=pd.get_dummies(source,drop_first=True)\n",
    "source.head()"
   ]
  },
  {
   "cell_type": "code",
   "execution_count": 27,
   "metadata": {},
   "outputs": [
    {
     "data": {
      "text/plain": [
       "Cochin       2950\n",
       "Banglore     1615\n",
       "Delhi         895\n",
       "New Delhi     514\n",
       "Hyderabad     478\n",
       "Kolkata       381\n",
       "Name: Destination, dtype: int64"
      ]
     },
     "execution_count": 27,
     "metadata": {},
     "output_type": "execute_result"
    }
   ],
   "source": [
    "train['Destination'].value_counts()"
   ]
  },
  {
   "cell_type": "code",
   "execution_count": 28,
   "metadata": {},
   "outputs": [
    {
     "data": {
      "text/html": [
       "<div>\n",
       "<style scoped>\n",
       "    .dataframe tbody tr th:only-of-type {\n",
       "        vertical-align: middle;\n",
       "    }\n",
       "\n",
       "    .dataframe tbody tr th {\n",
       "        vertical-align: top;\n",
       "    }\n",
       "\n",
       "    .dataframe thead th {\n",
       "        text-align: right;\n",
       "    }\n",
       "</style>\n",
       "<table border=\"1\" class=\"dataframe\">\n",
       "  <thead>\n",
       "    <tr style=\"text-align: right;\">\n",
       "      <th></th>\n",
       "      <th>Destination_Cochin</th>\n",
       "      <th>Destination_Delhi</th>\n",
       "      <th>Destination_Hyderabad</th>\n",
       "      <th>Destination_Kolkata</th>\n",
       "      <th>Destination_New Delhi</th>\n",
       "    </tr>\n",
       "  </thead>\n",
       "  <tbody>\n",
       "    <tr>\n",
       "      <th>0</th>\n",
       "      <td>0</td>\n",
       "      <td>0</td>\n",
       "      <td>0</td>\n",
       "      <td>0</td>\n",
       "      <td>1</td>\n",
       "    </tr>\n",
       "    <tr>\n",
       "      <th>1</th>\n",
       "      <td>0</td>\n",
       "      <td>0</td>\n",
       "      <td>0</td>\n",
       "      <td>0</td>\n",
       "      <td>0</td>\n",
       "    </tr>\n",
       "    <tr>\n",
       "      <th>3</th>\n",
       "      <td>0</td>\n",
       "      <td>0</td>\n",
       "      <td>0</td>\n",
       "      <td>0</td>\n",
       "      <td>0</td>\n",
       "    </tr>\n",
       "    <tr>\n",
       "      <th>4</th>\n",
       "      <td>0</td>\n",
       "      <td>0</td>\n",
       "      <td>0</td>\n",
       "      <td>0</td>\n",
       "      <td>1</td>\n",
       "    </tr>\n",
       "    <tr>\n",
       "      <th>5</th>\n",
       "      <td>0</td>\n",
       "      <td>0</td>\n",
       "      <td>0</td>\n",
       "      <td>0</td>\n",
       "      <td>0</td>\n",
       "    </tr>\n",
       "  </tbody>\n",
       "</table>\n",
       "</div>"
      ],
      "text/plain": [
       "   Destination_Cochin  Destination_Delhi  Destination_Hyderabad  \\\n",
       "0                   0                  0                      0   \n",
       "1                   0                  0                      0   \n",
       "3                   0                  0                      0   \n",
       "4                   0                  0                      0   \n",
       "5                   0                  0                      0   \n",
       "\n",
       "   Destination_Kolkata  Destination_New Delhi  \n",
       "0                    0                      1  \n",
       "1                    0                      0  \n",
       "3                    0                      0  \n",
       "4                    0                      1  \n",
       "5                    0                      0  "
      ]
     },
     "execution_count": 28,
     "metadata": {},
     "output_type": "execute_result"
    }
   ],
   "source": [
    "dest=train[['Destination']]            \n",
    "dest=pd.get_dummies(dest,drop_first=True)\n",
    "dest.head()"
   ]
  },
  {
   "cell_type": "markdown",
   "metadata": {},
   "source": [
    "#### Since majority of the Additional Info column had redundant data, it is dropped. The route column is also dropped because the same information is provided in the form of total number of stops."
   ]
  },
  {
   "cell_type": "code",
   "execution_count": 29,
   "metadata": {},
   "outputs": [],
   "source": [
    "train.drop([\"Route\",\"Additional_Info\"],axis=1,inplace=True)"
   ]
  },
  {
   "cell_type": "code",
   "execution_count": 30,
   "metadata": {},
   "outputs": [
    {
     "data": {
      "text/plain": [
       "1 stop      3090\n",
       "non-stop    2868\n",
       "2 stops      829\n",
       "3 stops       45\n",
       "4 stops        1\n",
       "Name: Total_Stops, dtype: int64"
      ]
     },
     "execution_count": 30,
     "metadata": {},
     "output_type": "execute_result"
    }
   ],
   "source": [
    "train[\"Total_Stops\"].value_counts()"
   ]
  },
  {
   "cell_type": "code",
   "execution_count": 31,
   "metadata": {},
   "outputs": [],
   "source": [
    "train.replace({\"non-stop\" :0,\"1 stop\":1,\"2 stops\":2,\"3 stops\":3,\"4 stops\":4},inplace=True)\n"
   ]
  },
  {
   "cell_type": "code",
   "execution_count": 32,
   "metadata": {},
   "outputs": [
    {
     "data": {
      "text/html": [
       "<div>\n",
       "<style scoped>\n",
       "    .dataframe tbody tr th:only-of-type {\n",
       "        vertical-align: middle;\n",
       "    }\n",
       "\n",
       "    .dataframe tbody tr th {\n",
       "        vertical-align: top;\n",
       "    }\n",
       "\n",
       "    .dataframe thead th {\n",
       "        text-align: right;\n",
       "    }\n",
       "</style>\n",
       "<table border=\"1\" class=\"dataframe\">\n",
       "  <thead>\n",
       "    <tr style=\"text-align: right;\">\n",
       "      <th></th>\n",
       "      <th>Airline</th>\n",
       "      <th>Source</th>\n",
       "      <th>Destination</th>\n",
       "      <th>Total_Stops</th>\n",
       "      <th>Price</th>\n",
       "      <th>Journey_day</th>\n",
       "      <th>Journey_month</th>\n",
       "      <th>Dep_hour</th>\n",
       "      <th>Dep_min</th>\n",
       "      <th>Arrival_hour</th>\n",
       "      <th>Arrival_min</th>\n",
       "      <th>Duration_hours</th>\n",
       "      <th>Duration_mins</th>\n",
       "    </tr>\n",
       "  </thead>\n",
       "  <tbody>\n",
       "    <tr>\n",
       "      <th>0</th>\n",
       "      <td>IndiGo</td>\n",
       "      <td>Banglore</td>\n",
       "      <td>New Delhi</td>\n",
       "      <td>0</td>\n",
       "      <td>3897</td>\n",
       "      <td>24</td>\n",
       "      <td>3</td>\n",
       "      <td>22</td>\n",
       "      <td>20</td>\n",
       "      <td>1</td>\n",
       "      <td>10</td>\n",
       "      <td>2</td>\n",
       "      <td>50</td>\n",
       "    </tr>\n",
       "    <tr>\n",
       "      <th>1</th>\n",
       "      <td>Air India</td>\n",
       "      <td>Kolkata</td>\n",
       "      <td>Banglore</td>\n",
       "      <td>2</td>\n",
       "      <td>7662</td>\n",
       "      <td>1</td>\n",
       "      <td>5</td>\n",
       "      <td>5</td>\n",
       "      <td>50</td>\n",
       "      <td>13</td>\n",
       "      <td>15</td>\n",
       "      <td>7</td>\n",
       "      <td>25</td>\n",
       "    </tr>\n",
       "    <tr>\n",
       "      <th>3</th>\n",
       "      <td>IndiGo</td>\n",
       "      <td>Kolkata</td>\n",
       "      <td>Banglore</td>\n",
       "      <td>1</td>\n",
       "      <td>6218</td>\n",
       "      <td>12</td>\n",
       "      <td>5</td>\n",
       "      <td>18</td>\n",
       "      <td>5</td>\n",
       "      <td>23</td>\n",
       "      <td>30</td>\n",
       "      <td>5</td>\n",
       "      <td>25</td>\n",
       "    </tr>\n",
       "    <tr>\n",
       "      <th>4</th>\n",
       "      <td>IndiGo</td>\n",
       "      <td>Banglore</td>\n",
       "      <td>New Delhi</td>\n",
       "      <td>1</td>\n",
       "      <td>13302</td>\n",
       "      <td>1</td>\n",
       "      <td>3</td>\n",
       "      <td>16</td>\n",
       "      <td>50</td>\n",
       "      <td>21</td>\n",
       "      <td>35</td>\n",
       "      <td>4</td>\n",
       "      <td>45</td>\n",
       "    </tr>\n",
       "    <tr>\n",
       "      <th>5</th>\n",
       "      <td>SpiceJet</td>\n",
       "      <td>Kolkata</td>\n",
       "      <td>Banglore</td>\n",
       "      <td>0</td>\n",
       "      <td>3873</td>\n",
       "      <td>24</td>\n",
       "      <td>6</td>\n",
       "      <td>9</td>\n",
       "      <td>0</td>\n",
       "      <td>11</td>\n",
       "      <td>25</td>\n",
       "      <td>2</td>\n",
       "      <td>25</td>\n",
       "    </tr>\n",
       "  </tbody>\n",
       "</table>\n",
       "</div>"
      ],
      "text/plain": [
       "     Airline    Source Destination  Total_Stops  Price  Journey_day  \\\n",
       "0     IndiGo  Banglore   New Delhi            0   3897           24   \n",
       "1  Air India   Kolkata    Banglore            2   7662            1   \n",
       "3     IndiGo   Kolkata    Banglore            1   6218           12   \n",
       "4     IndiGo  Banglore   New Delhi            1  13302            1   \n",
       "5   SpiceJet   Kolkata    Banglore            0   3873           24   \n",
       "\n",
       "   Journey_month  Dep_hour  Dep_min  Arrival_hour  Arrival_min  \\\n",
       "0              3        22       20             1           10   \n",
       "1              5         5       50            13           15   \n",
       "3              5        18        5            23           30   \n",
       "4              3        16       50            21           35   \n",
       "5              6         9        0            11           25   \n",
       "\n",
       "   Duration_hours  Duration_mins  \n",
       "0               2             50  \n",
       "1               7             25  \n",
       "3               5             25  \n",
       "4               4             45  \n",
       "5               2             25  "
      ]
     },
     "execution_count": 32,
     "metadata": {},
     "output_type": "execute_result"
    }
   ],
   "source": [
    "train.head()"
   ]
  },
  {
   "cell_type": "code",
   "execution_count": 33,
   "metadata": {},
   "outputs": [
    {
     "data": {
      "text/html": [
       "<div>\n",
       "<style scoped>\n",
       "    .dataframe tbody tr th:only-of-type {\n",
       "        vertical-align: middle;\n",
       "    }\n",
       "\n",
       "    .dataframe tbody tr th {\n",
       "        vertical-align: top;\n",
       "    }\n",
       "\n",
       "    .dataframe thead th {\n",
       "        text-align: right;\n",
       "    }\n",
       "</style>\n",
       "<table border=\"1\" class=\"dataframe\">\n",
       "  <thead>\n",
       "    <tr style=\"text-align: right;\">\n",
       "      <th></th>\n",
       "      <th>Airline</th>\n",
       "      <th>Source</th>\n",
       "      <th>Destination</th>\n",
       "      <th>Total_Stops</th>\n",
       "      <th>Price</th>\n",
       "      <th>Journey_day</th>\n",
       "      <th>Journey_month</th>\n",
       "      <th>Dep_hour</th>\n",
       "      <th>Dep_min</th>\n",
       "      <th>Arrival_hour</th>\n",
       "      <th>...</th>\n",
       "      <th>Airline_Vistara Premium economy</th>\n",
       "      <th>Source_Chennai</th>\n",
       "      <th>Source_Delhi</th>\n",
       "      <th>Source_Kolkata</th>\n",
       "      <th>Source_Mumbai</th>\n",
       "      <th>Destination_Cochin</th>\n",
       "      <th>Destination_Delhi</th>\n",
       "      <th>Destination_Hyderabad</th>\n",
       "      <th>Destination_Kolkata</th>\n",
       "      <th>Destination_New Delhi</th>\n",
       "    </tr>\n",
       "  </thead>\n",
       "  <tbody>\n",
       "    <tr>\n",
       "      <th>0</th>\n",
       "      <td>IndiGo</td>\n",
       "      <td>Banglore</td>\n",
       "      <td>New Delhi</td>\n",
       "      <td>0</td>\n",
       "      <td>3897</td>\n",
       "      <td>24</td>\n",
       "      <td>3</td>\n",
       "      <td>22</td>\n",
       "      <td>20</td>\n",
       "      <td>1</td>\n",
       "      <td>...</td>\n",
       "      <td>0</td>\n",
       "      <td>0</td>\n",
       "      <td>0</td>\n",
       "      <td>0</td>\n",
       "      <td>0</td>\n",
       "      <td>0</td>\n",
       "      <td>0</td>\n",
       "      <td>0</td>\n",
       "      <td>0</td>\n",
       "      <td>1</td>\n",
       "    </tr>\n",
       "    <tr>\n",
       "      <th>1</th>\n",
       "      <td>Air India</td>\n",
       "      <td>Kolkata</td>\n",
       "      <td>Banglore</td>\n",
       "      <td>2</td>\n",
       "      <td>7662</td>\n",
       "      <td>1</td>\n",
       "      <td>5</td>\n",
       "      <td>5</td>\n",
       "      <td>50</td>\n",
       "      <td>13</td>\n",
       "      <td>...</td>\n",
       "      <td>0</td>\n",
       "      <td>0</td>\n",
       "      <td>0</td>\n",
       "      <td>1</td>\n",
       "      <td>0</td>\n",
       "      <td>0</td>\n",
       "      <td>0</td>\n",
       "      <td>0</td>\n",
       "      <td>0</td>\n",
       "      <td>0</td>\n",
       "    </tr>\n",
       "    <tr>\n",
       "      <th>3</th>\n",
       "      <td>IndiGo</td>\n",
       "      <td>Kolkata</td>\n",
       "      <td>Banglore</td>\n",
       "      <td>1</td>\n",
       "      <td>6218</td>\n",
       "      <td>12</td>\n",
       "      <td>5</td>\n",
       "      <td>18</td>\n",
       "      <td>5</td>\n",
       "      <td>23</td>\n",
       "      <td>...</td>\n",
       "      <td>0</td>\n",
       "      <td>0</td>\n",
       "      <td>0</td>\n",
       "      <td>1</td>\n",
       "      <td>0</td>\n",
       "      <td>0</td>\n",
       "      <td>0</td>\n",
       "      <td>0</td>\n",
       "      <td>0</td>\n",
       "      <td>0</td>\n",
       "    </tr>\n",
       "    <tr>\n",
       "      <th>4</th>\n",
       "      <td>IndiGo</td>\n",
       "      <td>Banglore</td>\n",
       "      <td>New Delhi</td>\n",
       "      <td>1</td>\n",
       "      <td>13302</td>\n",
       "      <td>1</td>\n",
       "      <td>3</td>\n",
       "      <td>16</td>\n",
       "      <td>50</td>\n",
       "      <td>21</td>\n",
       "      <td>...</td>\n",
       "      <td>0</td>\n",
       "      <td>0</td>\n",
       "      <td>0</td>\n",
       "      <td>0</td>\n",
       "      <td>0</td>\n",
       "      <td>0</td>\n",
       "      <td>0</td>\n",
       "      <td>0</td>\n",
       "      <td>0</td>\n",
       "      <td>1</td>\n",
       "    </tr>\n",
       "    <tr>\n",
       "      <th>5</th>\n",
       "      <td>SpiceJet</td>\n",
       "      <td>Kolkata</td>\n",
       "      <td>Banglore</td>\n",
       "      <td>0</td>\n",
       "      <td>3873</td>\n",
       "      <td>24</td>\n",
       "      <td>6</td>\n",
       "      <td>9</td>\n",
       "      <td>0</td>\n",
       "      <td>11</td>\n",
       "      <td>...</td>\n",
       "      <td>0</td>\n",
       "      <td>0</td>\n",
       "      <td>0</td>\n",
       "      <td>1</td>\n",
       "      <td>0</td>\n",
       "      <td>0</td>\n",
       "      <td>0</td>\n",
       "      <td>0</td>\n",
       "      <td>0</td>\n",
       "      <td>0</td>\n",
       "    </tr>\n",
       "  </tbody>\n",
       "</table>\n",
       "<p>5 rows × 32 columns</p>\n",
       "</div>"
      ],
      "text/plain": [
       "     Airline    Source Destination  Total_Stops  Price  Journey_day  \\\n",
       "0     IndiGo  Banglore   New Delhi            0   3897           24   \n",
       "1  Air India   Kolkata    Banglore            2   7662            1   \n",
       "3     IndiGo   Kolkata    Banglore            1   6218           12   \n",
       "4     IndiGo  Banglore   New Delhi            1  13302            1   \n",
       "5   SpiceJet   Kolkata    Banglore            0   3873           24   \n",
       "\n",
       "   Journey_month  Dep_hour  Dep_min  Arrival_hour  ...  \\\n",
       "0              3        22       20             1  ...   \n",
       "1              5         5       50            13  ...   \n",
       "3              5        18        5            23  ...   \n",
       "4              3        16       50            21  ...   \n",
       "5              6         9        0            11  ...   \n",
       "\n",
       "   Airline_Vistara Premium economy  Source_Chennai  Source_Delhi  \\\n",
       "0                                0               0             0   \n",
       "1                                0               0             0   \n",
       "3                                0               0             0   \n",
       "4                                0               0             0   \n",
       "5                                0               0             0   \n",
       "\n",
       "   Source_Kolkata  Source_Mumbai  Destination_Cochin  Destination_Delhi  \\\n",
       "0               0              0                   0                  0   \n",
       "1               1              0                   0                  0   \n",
       "3               1              0                   0                  0   \n",
       "4               0              0                   0                  0   \n",
       "5               1              0                   0                  0   \n",
       "\n",
       "   Destination_Hyderabad  Destination_Kolkata  Destination_New Delhi  \n",
       "0                      0                    0                      1  \n",
       "1                      0                    0                      0  \n",
       "3                      0                    0                      0  \n",
       "4                      0                    0                      1  \n",
       "5                      0                    0                      0  \n",
       "\n",
       "[5 rows x 32 columns]"
      ]
     },
     "execution_count": 33,
     "metadata": {},
     "output_type": "execute_result"
    }
   ],
   "source": [
    "df=pd.concat([train, Airline, source, dest],axis=1)\n",
    "df.head()"
   ]
  },
  {
   "cell_type": "code",
   "execution_count": 34,
   "metadata": {},
   "outputs": [
    {
     "data": {
      "text/html": [
       "<div>\n",
       "<style scoped>\n",
       "    .dataframe tbody tr th:only-of-type {\n",
       "        vertical-align: middle;\n",
       "    }\n",
       "\n",
       "    .dataframe tbody tr th {\n",
       "        vertical-align: top;\n",
       "    }\n",
       "\n",
       "    .dataframe thead th {\n",
       "        text-align: right;\n",
       "    }\n",
       "</style>\n",
       "<table border=\"1\" class=\"dataframe\">\n",
       "  <thead>\n",
       "    <tr style=\"text-align: right;\">\n",
       "      <th></th>\n",
       "      <th>Total_Stops</th>\n",
       "      <th>Price</th>\n",
       "      <th>Journey_day</th>\n",
       "      <th>Journey_month</th>\n",
       "      <th>Dep_hour</th>\n",
       "      <th>Dep_min</th>\n",
       "      <th>Arrival_hour</th>\n",
       "      <th>Arrival_min</th>\n",
       "      <th>Duration_hours</th>\n",
       "      <th>Duration_mins</th>\n",
       "      <th>...</th>\n",
       "      <th>Airline_Vistara Premium economy</th>\n",
       "      <th>Source_Chennai</th>\n",
       "      <th>Source_Delhi</th>\n",
       "      <th>Source_Kolkata</th>\n",
       "      <th>Source_Mumbai</th>\n",
       "      <th>Destination_Cochin</th>\n",
       "      <th>Destination_Delhi</th>\n",
       "      <th>Destination_Hyderabad</th>\n",
       "      <th>Destination_Kolkata</th>\n",
       "      <th>Destination_New Delhi</th>\n",
       "    </tr>\n",
       "  </thead>\n",
       "  <tbody>\n",
       "    <tr>\n",
       "      <th>0</th>\n",
       "      <td>0</td>\n",
       "      <td>3897</td>\n",
       "      <td>24</td>\n",
       "      <td>3</td>\n",
       "      <td>22</td>\n",
       "      <td>20</td>\n",
       "      <td>1</td>\n",
       "      <td>10</td>\n",
       "      <td>2</td>\n",
       "      <td>50</td>\n",
       "      <td>...</td>\n",
       "      <td>0</td>\n",
       "      <td>0</td>\n",
       "      <td>0</td>\n",
       "      <td>0</td>\n",
       "      <td>0</td>\n",
       "      <td>0</td>\n",
       "      <td>0</td>\n",
       "      <td>0</td>\n",
       "      <td>0</td>\n",
       "      <td>1</td>\n",
       "    </tr>\n",
       "    <tr>\n",
       "      <th>1</th>\n",
       "      <td>2</td>\n",
       "      <td>7662</td>\n",
       "      <td>1</td>\n",
       "      <td>5</td>\n",
       "      <td>5</td>\n",
       "      <td>50</td>\n",
       "      <td>13</td>\n",
       "      <td>15</td>\n",
       "      <td>7</td>\n",
       "      <td>25</td>\n",
       "      <td>...</td>\n",
       "      <td>0</td>\n",
       "      <td>0</td>\n",
       "      <td>0</td>\n",
       "      <td>1</td>\n",
       "      <td>0</td>\n",
       "      <td>0</td>\n",
       "      <td>0</td>\n",
       "      <td>0</td>\n",
       "      <td>0</td>\n",
       "      <td>0</td>\n",
       "    </tr>\n",
       "    <tr>\n",
       "      <th>3</th>\n",
       "      <td>1</td>\n",
       "      <td>6218</td>\n",
       "      <td>12</td>\n",
       "      <td>5</td>\n",
       "      <td>18</td>\n",
       "      <td>5</td>\n",
       "      <td>23</td>\n",
       "      <td>30</td>\n",
       "      <td>5</td>\n",
       "      <td>25</td>\n",
       "      <td>...</td>\n",
       "      <td>0</td>\n",
       "      <td>0</td>\n",
       "      <td>0</td>\n",
       "      <td>1</td>\n",
       "      <td>0</td>\n",
       "      <td>0</td>\n",
       "      <td>0</td>\n",
       "      <td>0</td>\n",
       "      <td>0</td>\n",
       "      <td>0</td>\n",
       "    </tr>\n",
       "    <tr>\n",
       "      <th>4</th>\n",
       "      <td>1</td>\n",
       "      <td>13302</td>\n",
       "      <td>1</td>\n",
       "      <td>3</td>\n",
       "      <td>16</td>\n",
       "      <td>50</td>\n",
       "      <td>21</td>\n",
       "      <td>35</td>\n",
       "      <td>4</td>\n",
       "      <td>45</td>\n",
       "      <td>...</td>\n",
       "      <td>0</td>\n",
       "      <td>0</td>\n",
       "      <td>0</td>\n",
       "      <td>0</td>\n",
       "      <td>0</td>\n",
       "      <td>0</td>\n",
       "      <td>0</td>\n",
       "      <td>0</td>\n",
       "      <td>0</td>\n",
       "      <td>1</td>\n",
       "    </tr>\n",
       "    <tr>\n",
       "      <th>5</th>\n",
       "      <td>0</td>\n",
       "      <td>3873</td>\n",
       "      <td>24</td>\n",
       "      <td>6</td>\n",
       "      <td>9</td>\n",
       "      <td>0</td>\n",
       "      <td>11</td>\n",
       "      <td>25</td>\n",
       "      <td>2</td>\n",
       "      <td>25</td>\n",
       "      <td>...</td>\n",
       "      <td>0</td>\n",
       "      <td>0</td>\n",
       "      <td>0</td>\n",
       "      <td>1</td>\n",
       "      <td>0</td>\n",
       "      <td>0</td>\n",
       "      <td>0</td>\n",
       "      <td>0</td>\n",
       "      <td>0</td>\n",
       "      <td>0</td>\n",
       "    </tr>\n",
       "  </tbody>\n",
       "</table>\n",
       "<p>5 rows × 29 columns</p>\n",
       "</div>"
      ],
      "text/plain": [
       "   Total_Stops  Price  Journey_day  Journey_month  Dep_hour  Dep_min  \\\n",
       "0            0   3897           24              3        22       20   \n",
       "1            2   7662            1              5         5       50   \n",
       "3            1   6218           12              5        18        5   \n",
       "4            1  13302            1              3        16       50   \n",
       "5            0   3873           24              6         9        0   \n",
       "\n",
       "   Arrival_hour  Arrival_min  Duration_hours  Duration_mins  ...  \\\n",
       "0             1           10               2             50  ...   \n",
       "1            13           15               7             25  ...   \n",
       "3            23           30               5             25  ...   \n",
       "4            21           35               4             45  ...   \n",
       "5            11           25               2             25  ...   \n",
       "\n",
       "   Airline_Vistara Premium economy  Source_Chennai  Source_Delhi  \\\n",
       "0                                0               0             0   \n",
       "1                                0               0             0   \n",
       "3                                0               0             0   \n",
       "4                                0               0             0   \n",
       "5                                0               0             0   \n",
       "\n",
       "   Source_Kolkata  Source_Mumbai  Destination_Cochin  Destination_Delhi  \\\n",
       "0               0              0                   0                  0   \n",
       "1               1              0                   0                  0   \n",
       "3               1              0                   0                  0   \n",
       "4               0              0                   0                  0   \n",
       "5               1              0                   0                  0   \n",
       "\n",
       "   Destination_Hyderabad  Destination_Kolkata  Destination_New Delhi  \n",
       "0                      0                    0                      1  \n",
       "1                      0                    0                      0  \n",
       "3                      0                    0                      0  \n",
       "4                      0                    0                      1  \n",
       "5                      0                    0                      0  \n",
       "\n",
       "[5 rows x 29 columns]"
      ]
     },
     "execution_count": 34,
     "metadata": {},
     "output_type": "execute_result"
    }
   ],
   "source": [
    "df.drop([\"Airline\",\"Source\",\"Destination\"],axis=1,inplace=True)\n",
    "df.head()"
   ]
  },
  {
   "cell_type": "code",
   "execution_count": 35,
   "metadata": {},
   "outputs": [
    {
     "data": {
      "text/plain": [
       "(6833, 29)"
      ]
     },
     "execution_count": 35,
     "metadata": {},
     "output_type": "execute_result"
    }
   ],
   "source": [
    "df.shape"
   ]
  },
  {
   "cell_type": "markdown",
   "metadata": {},
   "source": [
    "## Test Dataset\n",
    "### The test dataset will undergo the same preprocessing techniques as done for the training set"
   ]
  },
  {
   "cell_type": "code",
   "execution_count": 36,
   "metadata": {},
   "outputs": [
    {
     "data": {
      "text/html": [
       "<div>\n",
       "<style scoped>\n",
       "    .dataframe tbody tr th:only-of-type {\n",
       "        vertical-align: middle;\n",
       "    }\n",
       "\n",
       "    .dataframe tbody tr th {\n",
       "        vertical-align: top;\n",
       "    }\n",
       "\n",
       "    .dataframe thead th {\n",
       "        text-align: right;\n",
       "    }\n",
       "</style>\n",
       "<table border=\"1\" class=\"dataframe\">\n",
       "  <thead>\n",
       "    <tr style=\"text-align: right;\">\n",
       "      <th></th>\n",
       "      <th>Airline</th>\n",
       "      <th>Date_of_Journey</th>\n",
       "      <th>Source</th>\n",
       "      <th>Destination</th>\n",
       "      <th>Route</th>\n",
       "      <th>Dep_Time</th>\n",
       "      <th>Arrival_Time</th>\n",
       "      <th>Duration</th>\n",
       "      <th>Total_Stops</th>\n",
       "      <th>Additional_Info</th>\n",
       "    </tr>\n",
       "  </thead>\n",
       "  <tbody>\n",
       "    <tr>\n",
       "      <th>0</th>\n",
       "      <td>Jet Airways</td>\n",
       "      <td>6/06/2019</td>\n",
       "      <td>Delhi</td>\n",
       "      <td>Cochin</td>\n",
       "      <td>DEL → BOM → COK</td>\n",
       "      <td>17:30</td>\n",
       "      <td>04:25 07 Jun</td>\n",
       "      <td>10h 55m</td>\n",
       "      <td>1 stop</td>\n",
       "      <td>No info</td>\n",
       "    </tr>\n",
       "    <tr>\n",
       "      <th>1</th>\n",
       "      <td>IndiGo</td>\n",
       "      <td>12/05/2019</td>\n",
       "      <td>Kolkata</td>\n",
       "      <td>Banglore</td>\n",
       "      <td>CCU → MAA → BLR</td>\n",
       "      <td>06:20</td>\n",
       "      <td>10:20</td>\n",
       "      <td>4h</td>\n",
       "      <td>1 stop</td>\n",
       "      <td>No info</td>\n",
       "    </tr>\n",
       "    <tr>\n",
       "      <th>2</th>\n",
       "      <td>Jet Airways</td>\n",
       "      <td>21/05/2019</td>\n",
       "      <td>Delhi</td>\n",
       "      <td>Cochin</td>\n",
       "      <td>DEL → BOM → COK</td>\n",
       "      <td>19:15</td>\n",
       "      <td>19:00 22 May</td>\n",
       "      <td>23h 45m</td>\n",
       "      <td>1 stop</td>\n",
       "      <td>In-flight meal not included</td>\n",
       "    </tr>\n",
       "    <tr>\n",
       "      <th>3</th>\n",
       "      <td>Multiple carriers</td>\n",
       "      <td>21/05/2019</td>\n",
       "      <td>Delhi</td>\n",
       "      <td>Cochin</td>\n",
       "      <td>DEL → BOM → COK</td>\n",
       "      <td>08:00</td>\n",
       "      <td>21:00</td>\n",
       "      <td>13h</td>\n",
       "      <td>1 stop</td>\n",
       "      <td>No info</td>\n",
       "    </tr>\n",
       "    <tr>\n",
       "      <th>4</th>\n",
       "      <td>Air Asia</td>\n",
       "      <td>24/06/2019</td>\n",
       "      <td>Banglore</td>\n",
       "      <td>Delhi</td>\n",
       "      <td>BLR → DEL</td>\n",
       "      <td>23:55</td>\n",
       "      <td>02:45 25 Jun</td>\n",
       "      <td>2h 50m</td>\n",
       "      <td>non-stop</td>\n",
       "      <td>No info</td>\n",
       "    </tr>\n",
       "  </tbody>\n",
       "</table>\n",
       "</div>"
      ],
      "text/plain": [
       "             Airline Date_of_Journey    Source Destination            Route  \\\n",
       "0        Jet Airways       6/06/2019     Delhi      Cochin  DEL → BOM → COK   \n",
       "1             IndiGo      12/05/2019   Kolkata    Banglore  CCU → MAA → BLR   \n",
       "2        Jet Airways      21/05/2019     Delhi      Cochin  DEL → BOM → COK   \n",
       "3  Multiple carriers      21/05/2019     Delhi      Cochin  DEL → BOM → COK   \n",
       "4           Air Asia      24/06/2019  Banglore       Delhi        BLR → DEL   \n",
       "\n",
       "  Dep_Time  Arrival_Time Duration Total_Stops              Additional_Info  \n",
       "0    17:30  04:25 07 Jun  10h 55m      1 stop                      No info  \n",
       "1    06:20         10:20       4h      1 stop                      No info  \n",
       "2    19:15  19:00 22 May  23h 45m      1 stop  In-flight meal not included  \n",
       "3    08:00         21:00      13h      1 stop                      No info  \n",
       "4    23:55  02:45 25 Jun   2h 50m    non-stop                      No info  "
      ]
     },
     "execution_count": 36,
     "metadata": {},
     "output_type": "execute_result"
    }
   ],
   "source": [
    "test=pd.read_excel(\"Test_set.xlsx\")\n",
    "test.head()"
   ]
  },
  {
   "cell_type": "code",
   "execution_count": 37,
   "metadata": {},
   "outputs": [
    {
     "data": {
      "text/plain": [
       "(2671, 10)"
      ]
     },
     "execution_count": 37,
     "metadata": {},
     "output_type": "execute_result"
    }
   ],
   "source": [
    "test.shape"
   ]
  },
  {
   "cell_type": "code",
   "execution_count": 38,
   "metadata": {},
   "outputs": [
    {
     "name": "stdout",
     "output_type": "stream",
     "text": [
      "<class 'pandas.core.frame.DataFrame'>\n",
      "RangeIndex: 2671 entries, 0 to 2670\n",
      "Data columns (total 10 columns):\n",
      " #   Column           Non-Null Count  Dtype \n",
      "---  ------           --------------  ----- \n",
      " 0   Airline          2671 non-null   object\n",
      " 1   Date_of_Journey  2671 non-null   object\n",
      " 2   Source           2671 non-null   object\n",
      " 3   Destination      2671 non-null   object\n",
      " 4   Route            2671 non-null   object\n",
      " 5   Dep_Time         2671 non-null   object\n",
      " 6   Arrival_Time     2671 non-null   object\n",
      " 7   Duration         2671 non-null   object\n",
      " 8   Total_Stops      2671 non-null   object\n",
      " 9   Additional_Info  2671 non-null   object\n",
      "dtypes: object(10)\n",
      "memory usage: 208.8+ KB\n"
     ]
    }
   ],
   "source": [
    "test.info()"
   ]
  },
  {
   "cell_type": "code",
   "execution_count": 39,
   "metadata": {},
   "outputs": [
    {
     "data": {
      "text/plain": [
       "Airline            0\n",
       "Date_of_Journey    0\n",
       "Source             0\n",
       "Destination        0\n",
       "Route              0\n",
       "Dep_Time           0\n",
       "Arrival_Time       0\n",
       "Duration           0\n",
       "Total_Stops        0\n",
       "Additional_Info    0\n",
       "dtype: int64"
      ]
     },
     "execution_count": 39,
     "metadata": {},
     "output_type": "execute_result"
    }
   ],
   "source": [
    "test.isnull().sum()"
   ]
  },
  {
   "cell_type": "code",
   "execution_count": 40,
   "metadata": {},
   "outputs": [
    {
     "data": {
      "text/html": [
       "<div>\n",
       "<style scoped>\n",
       "    .dataframe tbody tr th:only-of-type {\n",
       "        vertical-align: middle;\n",
       "    }\n",
       "\n",
       "    .dataframe tbody tr th {\n",
       "        vertical-align: top;\n",
       "    }\n",
       "\n",
       "    .dataframe thead th {\n",
       "        text-align: right;\n",
       "    }\n",
       "</style>\n",
       "<table border=\"1\" class=\"dataframe\">\n",
       "  <thead>\n",
       "    <tr style=\"text-align: right;\">\n",
       "      <th></th>\n",
       "      <th>Airline</th>\n",
       "      <th>Source</th>\n",
       "      <th>Destination</th>\n",
       "      <th>Route</th>\n",
       "      <th>Dep_Time</th>\n",
       "      <th>Arrival_Time</th>\n",
       "      <th>Duration</th>\n",
       "      <th>Total_Stops</th>\n",
       "      <th>Additional_Info</th>\n",
       "      <th>Journey_day</th>\n",
       "      <th>Journey_month</th>\n",
       "    </tr>\n",
       "  </thead>\n",
       "  <tbody>\n",
       "    <tr>\n",
       "      <th>0</th>\n",
       "      <td>Jet Airways</td>\n",
       "      <td>Delhi</td>\n",
       "      <td>Cochin</td>\n",
       "      <td>DEL → BOM → COK</td>\n",
       "      <td>17:30</td>\n",
       "      <td>04:25 07 Jun</td>\n",
       "      <td>10h 55m</td>\n",
       "      <td>1 stop</td>\n",
       "      <td>No info</td>\n",
       "      <td>6</td>\n",
       "      <td>6</td>\n",
       "    </tr>\n",
       "    <tr>\n",
       "      <th>1</th>\n",
       "      <td>IndiGo</td>\n",
       "      <td>Kolkata</td>\n",
       "      <td>Banglore</td>\n",
       "      <td>CCU → MAA → BLR</td>\n",
       "      <td>06:20</td>\n",
       "      <td>10:20</td>\n",
       "      <td>4h</td>\n",
       "      <td>1 stop</td>\n",
       "      <td>No info</td>\n",
       "      <td>12</td>\n",
       "      <td>5</td>\n",
       "    </tr>\n",
       "    <tr>\n",
       "      <th>2</th>\n",
       "      <td>Jet Airways</td>\n",
       "      <td>Delhi</td>\n",
       "      <td>Cochin</td>\n",
       "      <td>DEL → BOM → COK</td>\n",
       "      <td>19:15</td>\n",
       "      <td>19:00 22 May</td>\n",
       "      <td>23h 45m</td>\n",
       "      <td>1 stop</td>\n",
       "      <td>In-flight meal not included</td>\n",
       "      <td>21</td>\n",
       "      <td>5</td>\n",
       "    </tr>\n",
       "    <tr>\n",
       "      <th>3</th>\n",
       "      <td>Multiple carriers</td>\n",
       "      <td>Delhi</td>\n",
       "      <td>Cochin</td>\n",
       "      <td>DEL → BOM → COK</td>\n",
       "      <td>08:00</td>\n",
       "      <td>21:00</td>\n",
       "      <td>13h</td>\n",
       "      <td>1 stop</td>\n",
       "      <td>No info</td>\n",
       "      <td>21</td>\n",
       "      <td>5</td>\n",
       "    </tr>\n",
       "    <tr>\n",
       "      <th>4</th>\n",
       "      <td>Air Asia</td>\n",
       "      <td>Banglore</td>\n",
       "      <td>Delhi</td>\n",
       "      <td>BLR → DEL</td>\n",
       "      <td>23:55</td>\n",
       "      <td>02:45 25 Jun</td>\n",
       "      <td>2h 50m</td>\n",
       "      <td>non-stop</td>\n",
       "      <td>No info</td>\n",
       "      <td>24</td>\n",
       "      <td>6</td>\n",
       "    </tr>\n",
       "  </tbody>\n",
       "</table>\n",
       "</div>"
      ],
      "text/plain": [
       "             Airline    Source Destination            Route Dep_Time  \\\n",
       "0        Jet Airways     Delhi      Cochin  DEL → BOM → COK    17:30   \n",
       "1             IndiGo   Kolkata    Banglore  CCU → MAA → BLR    06:20   \n",
       "2        Jet Airways     Delhi      Cochin  DEL → BOM → COK    19:15   \n",
       "3  Multiple carriers     Delhi      Cochin  DEL → BOM → COK    08:00   \n",
       "4           Air Asia  Banglore       Delhi        BLR → DEL    23:55   \n",
       "\n",
       "   Arrival_Time Duration Total_Stops              Additional_Info  \\\n",
       "0  04:25 07 Jun  10h 55m      1 stop                      No info   \n",
       "1         10:20       4h      1 stop                      No info   \n",
       "2  19:00 22 May  23h 45m      1 stop  In-flight meal not included   \n",
       "3         21:00      13h      1 stop                      No info   \n",
       "4  02:45 25 Jun   2h 50m    non-stop                      No info   \n",
       "\n",
       "   Journey_day  Journey_month  \n",
       "0            6              6  \n",
       "1           12              5  \n",
       "2           21              5  \n",
       "3           21              5  \n",
       "4           24              6  "
      ]
     },
     "execution_count": 40,
     "metadata": {},
     "output_type": "execute_result"
    }
   ],
   "source": [
    "test[\"Journey_day\"]=pd.to_datetime(test.Date_of_Journey,format=\"%d/%m/%Y\").dt.day\n",
    "test[\"Journey_month\"]=pd.to_datetime(test.Date_of_Journey,format=\"%d/%m/%Y\").dt.month\n",
    "test.drop(['Date_of_Journey'],axis=1,inplace=True)\n",
    "test.head()"
   ]
  },
  {
   "cell_type": "code",
   "execution_count": 41,
   "metadata": {},
   "outputs": [
    {
     "data": {
      "text/html": [
       "<div>\n",
       "<style scoped>\n",
       "    .dataframe tbody tr th:only-of-type {\n",
       "        vertical-align: middle;\n",
       "    }\n",
       "\n",
       "    .dataframe tbody tr th {\n",
       "        vertical-align: top;\n",
       "    }\n",
       "\n",
       "    .dataframe thead th {\n",
       "        text-align: right;\n",
       "    }\n",
       "</style>\n",
       "<table border=\"1\" class=\"dataframe\">\n",
       "  <thead>\n",
       "    <tr style=\"text-align: right;\">\n",
       "      <th></th>\n",
       "      <th>Airline</th>\n",
       "      <th>Source</th>\n",
       "      <th>Destination</th>\n",
       "      <th>Route</th>\n",
       "      <th>Arrival_Time</th>\n",
       "      <th>Duration</th>\n",
       "      <th>Total_Stops</th>\n",
       "      <th>Additional_Info</th>\n",
       "      <th>Journey_day</th>\n",
       "      <th>Journey_month</th>\n",
       "      <th>Dep_hour</th>\n",
       "      <th>Dep_min</th>\n",
       "    </tr>\n",
       "  </thead>\n",
       "  <tbody>\n",
       "    <tr>\n",
       "      <th>0</th>\n",
       "      <td>Jet Airways</td>\n",
       "      <td>Delhi</td>\n",
       "      <td>Cochin</td>\n",
       "      <td>DEL → BOM → COK</td>\n",
       "      <td>04:25 07 Jun</td>\n",
       "      <td>10h 55m</td>\n",
       "      <td>1 stop</td>\n",
       "      <td>No info</td>\n",
       "      <td>6</td>\n",
       "      <td>6</td>\n",
       "      <td>17</td>\n",
       "      <td>30</td>\n",
       "    </tr>\n",
       "    <tr>\n",
       "      <th>1</th>\n",
       "      <td>IndiGo</td>\n",
       "      <td>Kolkata</td>\n",
       "      <td>Banglore</td>\n",
       "      <td>CCU → MAA → BLR</td>\n",
       "      <td>10:20</td>\n",
       "      <td>4h</td>\n",
       "      <td>1 stop</td>\n",
       "      <td>No info</td>\n",
       "      <td>12</td>\n",
       "      <td>5</td>\n",
       "      <td>6</td>\n",
       "      <td>20</td>\n",
       "    </tr>\n",
       "    <tr>\n",
       "      <th>2</th>\n",
       "      <td>Jet Airways</td>\n",
       "      <td>Delhi</td>\n",
       "      <td>Cochin</td>\n",
       "      <td>DEL → BOM → COK</td>\n",
       "      <td>19:00 22 May</td>\n",
       "      <td>23h 45m</td>\n",
       "      <td>1 stop</td>\n",
       "      <td>In-flight meal not included</td>\n",
       "      <td>21</td>\n",
       "      <td>5</td>\n",
       "      <td>19</td>\n",
       "      <td>15</td>\n",
       "    </tr>\n",
       "    <tr>\n",
       "      <th>3</th>\n",
       "      <td>Multiple carriers</td>\n",
       "      <td>Delhi</td>\n",
       "      <td>Cochin</td>\n",
       "      <td>DEL → BOM → COK</td>\n",
       "      <td>21:00</td>\n",
       "      <td>13h</td>\n",
       "      <td>1 stop</td>\n",
       "      <td>No info</td>\n",
       "      <td>21</td>\n",
       "      <td>5</td>\n",
       "      <td>8</td>\n",
       "      <td>0</td>\n",
       "    </tr>\n",
       "    <tr>\n",
       "      <th>4</th>\n",
       "      <td>Air Asia</td>\n",
       "      <td>Banglore</td>\n",
       "      <td>Delhi</td>\n",
       "      <td>BLR → DEL</td>\n",
       "      <td>02:45 25 Jun</td>\n",
       "      <td>2h 50m</td>\n",
       "      <td>non-stop</td>\n",
       "      <td>No info</td>\n",
       "      <td>24</td>\n",
       "      <td>6</td>\n",
       "      <td>23</td>\n",
       "      <td>55</td>\n",
       "    </tr>\n",
       "  </tbody>\n",
       "</table>\n",
       "</div>"
      ],
      "text/plain": [
       "             Airline    Source Destination            Route  Arrival_Time  \\\n",
       "0        Jet Airways     Delhi      Cochin  DEL → BOM → COK  04:25 07 Jun   \n",
       "1             IndiGo   Kolkata    Banglore  CCU → MAA → BLR         10:20   \n",
       "2        Jet Airways     Delhi      Cochin  DEL → BOM → COK  19:00 22 May   \n",
       "3  Multiple carriers     Delhi      Cochin  DEL → BOM → COK         21:00   \n",
       "4           Air Asia  Banglore       Delhi        BLR → DEL  02:45 25 Jun   \n",
       "\n",
       "  Duration Total_Stops              Additional_Info  Journey_day  \\\n",
       "0  10h 55m      1 stop                      No info            6   \n",
       "1       4h      1 stop                      No info           12   \n",
       "2  23h 45m      1 stop  In-flight meal not included           21   \n",
       "3      13h      1 stop                      No info           21   \n",
       "4   2h 50m    non-stop                      No info           24   \n",
       "\n",
       "   Journey_month  Dep_hour  Dep_min  \n",
       "0              6        17       30  \n",
       "1              5         6       20  \n",
       "2              5        19       15  \n",
       "3              5         8        0  \n",
       "4              6        23       55  "
      ]
     },
     "execution_count": 41,
     "metadata": {},
     "output_type": "execute_result"
    }
   ],
   "source": [
    "test['Dep_hour']=pd.to_datetime(test[\"Dep_Time\"]).dt.hour\n",
    "test['Dep_min']=pd.to_datetime(test[\"Dep_Time\"]).dt.minute\n",
    "test.drop(['Dep_Time'],axis=1,inplace=True)\n",
    "test.head()"
   ]
  },
  {
   "cell_type": "code",
   "execution_count": 42,
   "metadata": {},
   "outputs": [
    {
     "data": {
      "text/html": [
       "<div>\n",
       "<style scoped>\n",
       "    .dataframe tbody tr th:only-of-type {\n",
       "        vertical-align: middle;\n",
       "    }\n",
       "\n",
       "    .dataframe tbody tr th {\n",
       "        vertical-align: top;\n",
       "    }\n",
       "\n",
       "    .dataframe thead th {\n",
       "        text-align: right;\n",
       "    }\n",
       "</style>\n",
       "<table border=\"1\" class=\"dataframe\">\n",
       "  <thead>\n",
       "    <tr style=\"text-align: right;\">\n",
       "      <th></th>\n",
       "      <th>Airline</th>\n",
       "      <th>Source</th>\n",
       "      <th>Destination</th>\n",
       "      <th>Route</th>\n",
       "      <th>Duration</th>\n",
       "      <th>Total_Stops</th>\n",
       "      <th>Additional_Info</th>\n",
       "      <th>Journey_day</th>\n",
       "      <th>Journey_month</th>\n",
       "      <th>Dep_hour</th>\n",
       "      <th>Dep_min</th>\n",
       "      <th>Arrival_hour</th>\n",
       "      <th>Arrival_min</th>\n",
       "    </tr>\n",
       "  </thead>\n",
       "  <tbody>\n",
       "    <tr>\n",
       "      <th>0</th>\n",
       "      <td>Jet Airways</td>\n",
       "      <td>Delhi</td>\n",
       "      <td>Cochin</td>\n",
       "      <td>DEL → BOM → COK</td>\n",
       "      <td>10h 55m</td>\n",
       "      <td>1 stop</td>\n",
       "      <td>No info</td>\n",
       "      <td>6</td>\n",
       "      <td>6</td>\n",
       "      <td>17</td>\n",
       "      <td>30</td>\n",
       "      <td>4</td>\n",
       "      <td>25</td>\n",
       "    </tr>\n",
       "    <tr>\n",
       "      <th>1</th>\n",
       "      <td>IndiGo</td>\n",
       "      <td>Kolkata</td>\n",
       "      <td>Banglore</td>\n",
       "      <td>CCU → MAA → BLR</td>\n",
       "      <td>4h</td>\n",
       "      <td>1 stop</td>\n",
       "      <td>No info</td>\n",
       "      <td>12</td>\n",
       "      <td>5</td>\n",
       "      <td>6</td>\n",
       "      <td>20</td>\n",
       "      <td>10</td>\n",
       "      <td>20</td>\n",
       "    </tr>\n",
       "    <tr>\n",
       "      <th>2</th>\n",
       "      <td>Jet Airways</td>\n",
       "      <td>Delhi</td>\n",
       "      <td>Cochin</td>\n",
       "      <td>DEL → BOM → COK</td>\n",
       "      <td>23h 45m</td>\n",
       "      <td>1 stop</td>\n",
       "      <td>In-flight meal not included</td>\n",
       "      <td>21</td>\n",
       "      <td>5</td>\n",
       "      <td>19</td>\n",
       "      <td>15</td>\n",
       "      <td>19</td>\n",
       "      <td>0</td>\n",
       "    </tr>\n",
       "    <tr>\n",
       "      <th>3</th>\n",
       "      <td>Multiple carriers</td>\n",
       "      <td>Delhi</td>\n",
       "      <td>Cochin</td>\n",
       "      <td>DEL → BOM → COK</td>\n",
       "      <td>13h</td>\n",
       "      <td>1 stop</td>\n",
       "      <td>No info</td>\n",
       "      <td>21</td>\n",
       "      <td>5</td>\n",
       "      <td>8</td>\n",
       "      <td>0</td>\n",
       "      <td>21</td>\n",
       "      <td>0</td>\n",
       "    </tr>\n",
       "    <tr>\n",
       "      <th>4</th>\n",
       "      <td>Air Asia</td>\n",
       "      <td>Banglore</td>\n",
       "      <td>Delhi</td>\n",
       "      <td>BLR → DEL</td>\n",
       "      <td>2h 50m</td>\n",
       "      <td>non-stop</td>\n",
       "      <td>No info</td>\n",
       "      <td>24</td>\n",
       "      <td>6</td>\n",
       "      <td>23</td>\n",
       "      <td>55</td>\n",
       "      <td>2</td>\n",
       "      <td>45</td>\n",
       "    </tr>\n",
       "  </tbody>\n",
       "</table>\n",
       "</div>"
      ],
      "text/plain": [
       "             Airline    Source Destination            Route Duration  \\\n",
       "0        Jet Airways     Delhi      Cochin  DEL → BOM → COK  10h 55m   \n",
       "1             IndiGo   Kolkata    Banglore  CCU → MAA → BLR       4h   \n",
       "2        Jet Airways     Delhi      Cochin  DEL → BOM → COK  23h 45m   \n",
       "3  Multiple carriers     Delhi      Cochin  DEL → BOM → COK      13h   \n",
       "4           Air Asia  Banglore       Delhi        BLR → DEL   2h 50m   \n",
       "\n",
       "  Total_Stops              Additional_Info  Journey_day  Journey_month  \\\n",
       "0      1 stop                      No info            6              6   \n",
       "1      1 stop                      No info           12              5   \n",
       "2      1 stop  In-flight meal not included           21              5   \n",
       "3      1 stop                      No info           21              5   \n",
       "4    non-stop                      No info           24              6   \n",
       "\n",
       "   Dep_hour  Dep_min  Arrival_hour  Arrival_min  \n",
       "0        17       30             4           25  \n",
       "1         6       20            10           20  \n",
       "2        19       15            19            0  \n",
       "3         8        0            21            0  \n",
       "4        23       55             2           45  "
      ]
     },
     "execution_count": 42,
     "metadata": {},
     "output_type": "execute_result"
    }
   ],
   "source": [
    "test[\"Arrival_hour\"]=pd.to_datetime(test.Arrival_Time).dt.hour\n",
    "test[\"Arrival_min\"]=pd.to_datetime(test.Arrival_Time).dt.minute\n",
    "test.drop(['Arrival_Time'],axis=1,inplace=True)\n",
    "test.head()"
   ]
  },
  {
   "cell_type": "code",
   "execution_count": 43,
   "metadata": {},
   "outputs": [],
   "source": [
    "dur=list(test[\"Duration\"])\n",
    "for i in range(len(dur)):\n",
    "    if len(dur[i].split())!=2:\n",
    "        if \"h\" in dur[i]:\n",
    "            dur[i]=dur[i].strip()+\" 0m\"\n",
    "        else:\n",
    "            dur[i]=\"0h \"+dur[i]\n",
    "dur_h=[]\n",
    "dur_m=[]\n",
    "for i in range(len(dur)):\n",
    "    dur_h.append(int(dur[i].split(sep=\"h\")[0]))\n",
    "    dur_m.append(int(dur[i].split(sep=\"m\")[0].split()[-1]))"
   ]
  },
  {
   "cell_type": "code",
   "execution_count": 44,
   "metadata": {},
   "outputs": [
    {
     "data": {
      "text/html": [
       "<div>\n",
       "<style scoped>\n",
       "    .dataframe tbody tr th:only-of-type {\n",
       "        vertical-align: middle;\n",
       "    }\n",
       "\n",
       "    .dataframe tbody tr th {\n",
       "        vertical-align: top;\n",
       "    }\n",
       "\n",
       "    .dataframe thead th {\n",
       "        text-align: right;\n",
       "    }\n",
       "</style>\n",
       "<table border=\"1\" class=\"dataframe\">\n",
       "  <thead>\n",
       "    <tr style=\"text-align: right;\">\n",
       "      <th></th>\n",
       "      <th>Airline</th>\n",
       "      <th>Source</th>\n",
       "      <th>Destination</th>\n",
       "      <th>Route</th>\n",
       "      <th>Total_Stops</th>\n",
       "      <th>Additional_Info</th>\n",
       "      <th>Journey_day</th>\n",
       "      <th>Journey_month</th>\n",
       "      <th>Dep_hour</th>\n",
       "      <th>Dep_min</th>\n",
       "      <th>Arrival_hour</th>\n",
       "      <th>Arrival_min</th>\n",
       "      <th>Duration_hours</th>\n",
       "      <th>Duration_mins</th>\n",
       "    </tr>\n",
       "  </thead>\n",
       "  <tbody>\n",
       "    <tr>\n",
       "      <th>0</th>\n",
       "      <td>Jet Airways</td>\n",
       "      <td>Delhi</td>\n",
       "      <td>Cochin</td>\n",
       "      <td>DEL → BOM → COK</td>\n",
       "      <td>1 stop</td>\n",
       "      <td>No info</td>\n",
       "      <td>6</td>\n",
       "      <td>6</td>\n",
       "      <td>17</td>\n",
       "      <td>30</td>\n",
       "      <td>4</td>\n",
       "      <td>25</td>\n",
       "      <td>10</td>\n",
       "      <td>55</td>\n",
       "    </tr>\n",
       "    <tr>\n",
       "      <th>1</th>\n",
       "      <td>IndiGo</td>\n",
       "      <td>Kolkata</td>\n",
       "      <td>Banglore</td>\n",
       "      <td>CCU → MAA → BLR</td>\n",
       "      <td>1 stop</td>\n",
       "      <td>No info</td>\n",
       "      <td>12</td>\n",
       "      <td>5</td>\n",
       "      <td>6</td>\n",
       "      <td>20</td>\n",
       "      <td>10</td>\n",
       "      <td>20</td>\n",
       "      <td>4</td>\n",
       "      <td>0</td>\n",
       "    </tr>\n",
       "    <tr>\n",
       "      <th>2</th>\n",
       "      <td>Jet Airways</td>\n",
       "      <td>Delhi</td>\n",
       "      <td>Cochin</td>\n",
       "      <td>DEL → BOM → COK</td>\n",
       "      <td>1 stop</td>\n",
       "      <td>In-flight meal not included</td>\n",
       "      <td>21</td>\n",
       "      <td>5</td>\n",
       "      <td>19</td>\n",
       "      <td>15</td>\n",
       "      <td>19</td>\n",
       "      <td>0</td>\n",
       "      <td>23</td>\n",
       "      <td>45</td>\n",
       "    </tr>\n",
       "    <tr>\n",
       "      <th>3</th>\n",
       "      <td>Multiple carriers</td>\n",
       "      <td>Delhi</td>\n",
       "      <td>Cochin</td>\n",
       "      <td>DEL → BOM → COK</td>\n",
       "      <td>1 stop</td>\n",
       "      <td>No info</td>\n",
       "      <td>21</td>\n",
       "      <td>5</td>\n",
       "      <td>8</td>\n",
       "      <td>0</td>\n",
       "      <td>21</td>\n",
       "      <td>0</td>\n",
       "      <td>13</td>\n",
       "      <td>0</td>\n",
       "    </tr>\n",
       "    <tr>\n",
       "      <th>4</th>\n",
       "      <td>Air Asia</td>\n",
       "      <td>Banglore</td>\n",
       "      <td>Delhi</td>\n",
       "      <td>BLR → DEL</td>\n",
       "      <td>non-stop</td>\n",
       "      <td>No info</td>\n",
       "      <td>24</td>\n",
       "      <td>6</td>\n",
       "      <td>23</td>\n",
       "      <td>55</td>\n",
       "      <td>2</td>\n",
       "      <td>45</td>\n",
       "      <td>2</td>\n",
       "      <td>50</td>\n",
       "    </tr>\n",
       "  </tbody>\n",
       "</table>\n",
       "</div>"
      ],
      "text/plain": [
       "             Airline    Source Destination            Route Total_Stops  \\\n",
       "0        Jet Airways     Delhi      Cochin  DEL → BOM → COK      1 stop   \n",
       "1             IndiGo   Kolkata    Banglore  CCU → MAA → BLR      1 stop   \n",
       "2        Jet Airways     Delhi      Cochin  DEL → BOM → COK      1 stop   \n",
       "3  Multiple carriers     Delhi      Cochin  DEL → BOM → COK      1 stop   \n",
       "4           Air Asia  Banglore       Delhi        BLR → DEL    non-stop   \n",
       "\n",
       "               Additional_Info  Journey_day  Journey_month  Dep_hour  Dep_min  \\\n",
       "0                      No info            6              6        17       30   \n",
       "1                      No info           12              5         6       20   \n",
       "2  In-flight meal not included           21              5        19       15   \n",
       "3                      No info           21              5         8        0   \n",
       "4                      No info           24              6        23       55   \n",
       "\n",
       "   Arrival_hour  Arrival_min  Duration_hours  Duration_mins  \n",
       "0             4           25              10             55  \n",
       "1            10           20               4              0  \n",
       "2            19            0              23             45  \n",
       "3            21            0              13              0  \n",
       "4             2           45               2             50  "
      ]
     },
     "execution_count": 44,
     "metadata": {},
     "output_type": "execute_result"
    }
   ],
   "source": [
    "test[\"Duration_hours\"]=dur_h\n",
    "test[\"Duration_mins\"]=dur_m\n",
    "test.drop([\"Duration\"],axis=1,inplace=True)\n",
    "test.head()"
   ]
  },
  {
   "cell_type": "code",
   "execution_count": 45,
   "metadata": {},
   "outputs": [
    {
     "data": {
      "text/plain": [
       "IndiGo                               511\n",
       "Air India                            440\n",
       "Multiple carriers                    347\n",
       "SpiceJet                             208\n",
       "Vistara                              129\n",
       "Air Asia                              86\n",
       "GoAir                                 46\n",
       "Multiple carriers Premium economy      3\n",
       "Vistara Premium economy                2\n",
       "Jet Airways Business                   2\n",
       "Name: Airline, dtype: int64"
      ]
     },
     "execution_count": 45,
     "metadata": {},
     "output_type": "execute_result"
    }
   ],
   "source": [
    "jet=test[(test['Airline']=='Jet Airways')].index\n",
    "test.drop(jet,inplace=True)\n",
    "test[\"Airline\"].value_counts()"
   ]
  },
  {
   "cell_type": "code",
   "execution_count": 46,
   "metadata": {},
   "outputs": [
    {
     "data": {
      "text/plain": [
       "(1774, 14)"
      ]
     },
     "execution_count": 46,
     "metadata": {},
     "output_type": "execute_result"
    }
   ],
   "source": [
    "test.shape"
   ]
  },
  {
   "cell_type": "code",
   "execution_count": 47,
   "metadata": {},
   "outputs": [
    {
     "data": {
      "text/html": [
       "<div>\n",
       "<style scoped>\n",
       "    .dataframe tbody tr th:only-of-type {\n",
       "        vertical-align: middle;\n",
       "    }\n",
       "\n",
       "    .dataframe tbody tr th {\n",
       "        vertical-align: top;\n",
       "    }\n",
       "\n",
       "    .dataframe thead th {\n",
       "        text-align: right;\n",
       "    }\n",
       "</style>\n",
       "<table border=\"1\" class=\"dataframe\">\n",
       "  <thead>\n",
       "    <tr style=\"text-align: right;\">\n",
       "      <th></th>\n",
       "      <th>Airline_Air India</th>\n",
       "      <th>Airline_GoAir</th>\n",
       "      <th>Airline_IndiGo</th>\n",
       "      <th>Airline_Jet Airways Business</th>\n",
       "      <th>Airline_Multiple carriers</th>\n",
       "      <th>Airline_Multiple carriers Premium economy</th>\n",
       "      <th>Airline_SpiceJet</th>\n",
       "      <th>Airline_Vistara</th>\n",
       "      <th>Airline_Vistara Premium economy</th>\n",
       "    </tr>\n",
       "  </thead>\n",
       "  <tbody>\n",
       "    <tr>\n",
       "      <th>1</th>\n",
       "      <td>0</td>\n",
       "      <td>0</td>\n",
       "      <td>1</td>\n",
       "      <td>0</td>\n",
       "      <td>0</td>\n",
       "      <td>0</td>\n",
       "      <td>0</td>\n",
       "      <td>0</td>\n",
       "      <td>0</td>\n",
       "    </tr>\n",
       "    <tr>\n",
       "      <th>3</th>\n",
       "      <td>0</td>\n",
       "      <td>0</td>\n",
       "      <td>0</td>\n",
       "      <td>0</td>\n",
       "      <td>1</td>\n",
       "      <td>0</td>\n",
       "      <td>0</td>\n",
       "      <td>0</td>\n",
       "      <td>0</td>\n",
       "    </tr>\n",
       "    <tr>\n",
       "      <th>4</th>\n",
       "      <td>0</td>\n",
       "      <td>0</td>\n",
       "      <td>0</td>\n",
       "      <td>0</td>\n",
       "      <td>0</td>\n",
       "      <td>0</td>\n",
       "      <td>0</td>\n",
       "      <td>0</td>\n",
       "      <td>0</td>\n",
       "    </tr>\n",
       "    <tr>\n",
       "      <th>6</th>\n",
       "      <td>1</td>\n",
       "      <td>0</td>\n",
       "      <td>0</td>\n",
       "      <td>0</td>\n",
       "      <td>0</td>\n",
       "      <td>0</td>\n",
       "      <td>0</td>\n",
       "      <td>0</td>\n",
       "      <td>0</td>\n",
       "    </tr>\n",
       "    <tr>\n",
       "      <th>7</th>\n",
       "      <td>0</td>\n",
       "      <td>0</td>\n",
       "      <td>1</td>\n",
       "      <td>0</td>\n",
       "      <td>0</td>\n",
       "      <td>0</td>\n",
       "      <td>0</td>\n",
       "      <td>0</td>\n",
       "      <td>0</td>\n",
       "    </tr>\n",
       "  </tbody>\n",
       "</table>\n",
       "</div>"
      ],
      "text/plain": [
       "   Airline_Air India  Airline_GoAir  Airline_IndiGo  \\\n",
       "1                  0              0               1   \n",
       "3                  0              0               0   \n",
       "4                  0              0               0   \n",
       "6                  1              0               0   \n",
       "7                  0              0               1   \n",
       "\n",
       "   Airline_Jet Airways Business  Airline_Multiple carriers  \\\n",
       "1                             0                          0   \n",
       "3                             0                          1   \n",
       "4                             0                          0   \n",
       "6                             0                          0   \n",
       "7                             0                          0   \n",
       "\n",
       "   Airline_Multiple carriers Premium economy  Airline_SpiceJet  \\\n",
       "1                                          0                 0   \n",
       "3                                          0                 0   \n",
       "4                                          0                 0   \n",
       "6                                          0                 0   \n",
       "7                                          0                 0   \n",
       "\n",
       "   Airline_Vistara  Airline_Vistara Premium economy  \n",
       "1                0                                0  \n",
       "3                0                                0  \n",
       "4                0                                0  \n",
       "6                0                                0  \n",
       "7                0                                0  "
      ]
     },
     "execution_count": 47,
     "metadata": {},
     "output_type": "execute_result"
    }
   ],
   "source": [
    "Airline=test[[\"Airline\"]]                    #One Hot Encoding\n",
    "Airline=pd.get_dummies(Airline,drop_first=True)\n",
    "Airline.head()"
   ]
  },
  {
   "cell_type": "code",
   "execution_count": 48,
   "metadata": {},
   "outputs": [],
   "source": [
    "source=test[['Source']]            #One hot encoding\n",
    "source=pd.get_dummies(source,drop_first=True)\n",
    "dest=test[['Destination']]            #One hot encoding\n",
    "dest=pd.get_dummies(dest,drop_first=True)\n"
   ]
  },
  {
   "cell_type": "code",
   "execution_count": 49,
   "metadata": {},
   "outputs": [],
   "source": [
    "test.drop([\"Route\",\"Additional_Info\"],axis=1,inplace=True)"
   ]
  },
  {
   "cell_type": "code",
   "execution_count": 50,
   "metadata": {},
   "outputs": [],
   "source": [
    "test.replace({\"non-stop\" :0,\"1 stop\":1,\"2 stops\":2,\"3 stops\":3,\"4 stops\":4},inplace=True)\n"
   ]
  },
  {
   "cell_type": "code",
   "execution_count": null,
   "metadata": {},
   "outputs": [],
   "source": []
  },
  {
   "cell_type": "code",
   "execution_count": 51,
   "metadata": {},
   "outputs": [
    {
     "data": {
      "text/html": [
       "<div>\n",
       "<style scoped>\n",
       "    .dataframe tbody tr th:only-of-type {\n",
       "        vertical-align: middle;\n",
       "    }\n",
       "\n",
       "    .dataframe tbody tr th {\n",
       "        vertical-align: top;\n",
       "    }\n",
       "\n",
       "    .dataframe thead th {\n",
       "        text-align: right;\n",
       "    }\n",
       "</style>\n",
       "<table border=\"1\" class=\"dataframe\">\n",
       "  <thead>\n",
       "    <tr style=\"text-align: right;\">\n",
       "      <th></th>\n",
       "      <th>Total_Stops</th>\n",
       "      <th>Journey_day</th>\n",
       "      <th>Journey_month</th>\n",
       "      <th>Dep_hour</th>\n",
       "      <th>Dep_min</th>\n",
       "      <th>Arrival_hour</th>\n",
       "      <th>Arrival_min</th>\n",
       "      <th>Duration_hours</th>\n",
       "      <th>Duration_mins</th>\n",
       "      <th>Airline_Air India</th>\n",
       "      <th>...</th>\n",
       "      <th>Airline_Vistara Premium economy</th>\n",
       "      <th>Source_Chennai</th>\n",
       "      <th>Source_Delhi</th>\n",
       "      <th>Source_Kolkata</th>\n",
       "      <th>Source_Mumbai</th>\n",
       "      <th>Destination_Cochin</th>\n",
       "      <th>Destination_Delhi</th>\n",
       "      <th>Destination_Hyderabad</th>\n",
       "      <th>Destination_Kolkata</th>\n",
       "      <th>Destination_New Delhi</th>\n",
       "    </tr>\n",
       "  </thead>\n",
       "  <tbody>\n",
       "    <tr>\n",
       "      <th>1</th>\n",
       "      <td>1</td>\n",
       "      <td>12</td>\n",
       "      <td>5</td>\n",
       "      <td>6</td>\n",
       "      <td>20</td>\n",
       "      <td>10</td>\n",
       "      <td>20</td>\n",
       "      <td>4</td>\n",
       "      <td>0</td>\n",
       "      <td>0</td>\n",
       "      <td>...</td>\n",
       "      <td>0</td>\n",
       "      <td>0</td>\n",
       "      <td>0</td>\n",
       "      <td>1</td>\n",
       "      <td>0</td>\n",
       "      <td>0</td>\n",
       "      <td>0</td>\n",
       "      <td>0</td>\n",
       "      <td>0</td>\n",
       "      <td>0</td>\n",
       "    </tr>\n",
       "    <tr>\n",
       "      <th>3</th>\n",
       "      <td>1</td>\n",
       "      <td>21</td>\n",
       "      <td>5</td>\n",
       "      <td>8</td>\n",
       "      <td>0</td>\n",
       "      <td>21</td>\n",
       "      <td>0</td>\n",
       "      <td>13</td>\n",
       "      <td>0</td>\n",
       "      <td>0</td>\n",
       "      <td>...</td>\n",
       "      <td>0</td>\n",
       "      <td>0</td>\n",
       "      <td>1</td>\n",
       "      <td>0</td>\n",
       "      <td>0</td>\n",
       "      <td>1</td>\n",
       "      <td>0</td>\n",
       "      <td>0</td>\n",
       "      <td>0</td>\n",
       "      <td>0</td>\n",
       "    </tr>\n",
       "    <tr>\n",
       "      <th>4</th>\n",
       "      <td>0</td>\n",
       "      <td>24</td>\n",
       "      <td>6</td>\n",
       "      <td>23</td>\n",
       "      <td>55</td>\n",
       "      <td>2</td>\n",
       "      <td>45</td>\n",
       "      <td>2</td>\n",
       "      <td>50</td>\n",
       "      <td>0</td>\n",
       "      <td>...</td>\n",
       "      <td>0</td>\n",
       "      <td>0</td>\n",
       "      <td>0</td>\n",
       "      <td>0</td>\n",
       "      <td>0</td>\n",
       "      <td>0</td>\n",
       "      <td>1</td>\n",
       "      <td>0</td>\n",
       "      <td>0</td>\n",
       "      <td>0</td>\n",
       "    </tr>\n",
       "    <tr>\n",
       "      <th>6</th>\n",
       "      <td>1</td>\n",
       "      <td>12</td>\n",
       "      <td>3</td>\n",
       "      <td>7</td>\n",
       "      <td>30</td>\n",
       "      <td>22</td>\n",
       "      <td>35</td>\n",
       "      <td>15</td>\n",
       "      <td>5</td>\n",
       "      <td>1</td>\n",
       "      <td>...</td>\n",
       "      <td>0</td>\n",
       "      <td>0</td>\n",
       "      <td>0</td>\n",
       "      <td>0</td>\n",
       "      <td>0</td>\n",
       "      <td>0</td>\n",
       "      <td>0</td>\n",
       "      <td>0</td>\n",
       "      <td>0</td>\n",
       "      <td>1</td>\n",
       "    </tr>\n",
       "    <tr>\n",
       "      <th>7</th>\n",
       "      <td>1</td>\n",
       "      <td>1</td>\n",
       "      <td>5</td>\n",
       "      <td>15</td>\n",
       "      <td>15</td>\n",
       "      <td>20</td>\n",
       "      <td>30</td>\n",
       "      <td>5</td>\n",
       "      <td>15</td>\n",
       "      <td>0</td>\n",
       "      <td>...</td>\n",
       "      <td>0</td>\n",
       "      <td>0</td>\n",
       "      <td>0</td>\n",
       "      <td>1</td>\n",
       "      <td>0</td>\n",
       "      <td>0</td>\n",
       "      <td>0</td>\n",
       "      <td>0</td>\n",
       "      <td>0</td>\n",
       "      <td>0</td>\n",
       "    </tr>\n",
       "  </tbody>\n",
       "</table>\n",
       "<p>5 rows × 27 columns</p>\n",
       "</div>"
      ],
      "text/plain": [
       "   Total_Stops  Journey_day  Journey_month  Dep_hour  Dep_min  Arrival_hour  \\\n",
       "1            1           12              5         6       20            10   \n",
       "3            1           21              5         8        0            21   \n",
       "4            0           24              6        23       55             2   \n",
       "6            1           12              3         7       30            22   \n",
       "7            1            1              5        15       15            20   \n",
       "\n",
       "   Arrival_min  Duration_hours  Duration_mins  Airline_Air India  ...  \\\n",
       "1           20               4              0                  0  ...   \n",
       "3            0              13              0                  0  ...   \n",
       "4           45               2             50                  0  ...   \n",
       "6           35              15              5                  1  ...   \n",
       "7           30               5             15                  0  ...   \n",
       "\n",
       "   Airline_Vistara Premium economy  Source_Chennai  Source_Delhi  \\\n",
       "1                                0               0             0   \n",
       "3                                0               0             1   \n",
       "4                                0               0             0   \n",
       "6                                0               0             0   \n",
       "7                                0               0             0   \n",
       "\n",
       "   Source_Kolkata  Source_Mumbai  Destination_Cochin  Destination_Delhi  \\\n",
       "1               1              0                   0                  0   \n",
       "3               0              0                   1                  0   \n",
       "4               0              0                   0                  1   \n",
       "6               0              0                   0                  0   \n",
       "7               1              0                   0                  0   \n",
       "\n",
       "   Destination_Hyderabad  Destination_Kolkata  Destination_New Delhi  \n",
       "1                      0                    0                      0  \n",
       "3                      0                    0                      0  \n",
       "4                      0                    0                      0  \n",
       "6                      0                    0                      1  \n",
       "7                      0                    0                      0  \n",
       "\n",
       "[5 rows x 27 columns]"
      ]
     },
     "execution_count": 51,
     "metadata": {},
     "output_type": "execute_result"
    }
   ],
   "source": [
    "dt=pd.concat([test, Airline, source, dest],axis=1)\n",
    "dt.drop([\"Airline\",\"Source\",\"Destination\"],axis=1,inplace=True)\n",
    "dt.head()"
   ]
  },
  {
   "cell_type": "code",
   "execution_count": 52,
   "metadata": {},
   "outputs": [],
   "source": [
    "#feature selection#"
   ]
  },
  {
   "cell_type": "code",
   "execution_count": 53,
   "metadata": {},
   "outputs": [
    {
     "data": {
      "text/plain": [
       "(6833, 29)"
      ]
     },
     "execution_count": 53,
     "metadata": {},
     "output_type": "execute_result"
    }
   ],
   "source": [
    "df.shape"
   ]
  },
  {
   "cell_type": "code",
   "execution_count": 54,
   "metadata": {},
   "outputs": [
    {
     "data": {
      "text/html": [
       "<div>\n",
       "<style scoped>\n",
       "    .dataframe tbody tr th:only-of-type {\n",
       "        vertical-align: middle;\n",
       "    }\n",
       "\n",
       "    .dataframe tbody tr th {\n",
       "        vertical-align: top;\n",
       "    }\n",
       "\n",
       "    .dataframe thead th {\n",
       "        text-align: right;\n",
       "    }\n",
       "</style>\n",
       "<table border=\"1\" class=\"dataframe\">\n",
       "  <thead>\n",
       "    <tr style=\"text-align: right;\">\n",
       "      <th></th>\n",
       "      <th>Total_Stops</th>\n",
       "      <th>Journey_day</th>\n",
       "      <th>Journey_month</th>\n",
       "      <th>Dep_hour</th>\n",
       "      <th>Dep_min</th>\n",
       "      <th>Arrival_hour</th>\n",
       "      <th>Arrival_min</th>\n",
       "      <th>Duration_hours</th>\n",
       "      <th>Duration_mins</th>\n",
       "      <th>Airline_Air India</th>\n",
       "      <th>...</th>\n",
       "      <th>Airline_Vistara Premium economy</th>\n",
       "      <th>Source_Chennai</th>\n",
       "      <th>Source_Delhi</th>\n",
       "      <th>Source_Kolkata</th>\n",
       "      <th>Source_Mumbai</th>\n",
       "      <th>Destination_Cochin</th>\n",
       "      <th>Destination_Delhi</th>\n",
       "      <th>Destination_Hyderabad</th>\n",
       "      <th>Destination_Kolkata</th>\n",
       "      <th>Destination_New Delhi</th>\n",
       "    </tr>\n",
       "  </thead>\n",
       "  <tbody>\n",
       "    <tr>\n",
       "      <th>0</th>\n",
       "      <td>0</td>\n",
       "      <td>24</td>\n",
       "      <td>3</td>\n",
       "      <td>22</td>\n",
       "      <td>20</td>\n",
       "      <td>1</td>\n",
       "      <td>10</td>\n",
       "      <td>2</td>\n",
       "      <td>50</td>\n",
       "      <td>0</td>\n",
       "      <td>...</td>\n",
       "      <td>0</td>\n",
       "      <td>0</td>\n",
       "      <td>0</td>\n",
       "      <td>0</td>\n",
       "      <td>0</td>\n",
       "      <td>0</td>\n",
       "      <td>0</td>\n",
       "      <td>0</td>\n",
       "      <td>0</td>\n",
       "      <td>1</td>\n",
       "    </tr>\n",
       "    <tr>\n",
       "      <th>1</th>\n",
       "      <td>2</td>\n",
       "      <td>1</td>\n",
       "      <td>5</td>\n",
       "      <td>5</td>\n",
       "      <td>50</td>\n",
       "      <td>13</td>\n",
       "      <td>15</td>\n",
       "      <td>7</td>\n",
       "      <td>25</td>\n",
       "      <td>1</td>\n",
       "      <td>...</td>\n",
       "      <td>0</td>\n",
       "      <td>0</td>\n",
       "      <td>0</td>\n",
       "      <td>1</td>\n",
       "      <td>0</td>\n",
       "      <td>0</td>\n",
       "      <td>0</td>\n",
       "      <td>0</td>\n",
       "      <td>0</td>\n",
       "      <td>0</td>\n",
       "    </tr>\n",
       "    <tr>\n",
       "      <th>3</th>\n",
       "      <td>1</td>\n",
       "      <td>12</td>\n",
       "      <td>5</td>\n",
       "      <td>18</td>\n",
       "      <td>5</td>\n",
       "      <td>23</td>\n",
       "      <td>30</td>\n",
       "      <td>5</td>\n",
       "      <td>25</td>\n",
       "      <td>0</td>\n",
       "      <td>...</td>\n",
       "      <td>0</td>\n",
       "      <td>0</td>\n",
       "      <td>0</td>\n",
       "      <td>1</td>\n",
       "      <td>0</td>\n",
       "      <td>0</td>\n",
       "      <td>0</td>\n",
       "      <td>0</td>\n",
       "      <td>0</td>\n",
       "      <td>0</td>\n",
       "    </tr>\n",
       "    <tr>\n",
       "      <th>4</th>\n",
       "      <td>1</td>\n",
       "      <td>1</td>\n",
       "      <td>3</td>\n",
       "      <td>16</td>\n",
       "      <td>50</td>\n",
       "      <td>21</td>\n",
       "      <td>35</td>\n",
       "      <td>4</td>\n",
       "      <td>45</td>\n",
       "      <td>0</td>\n",
       "      <td>...</td>\n",
       "      <td>0</td>\n",
       "      <td>0</td>\n",
       "      <td>0</td>\n",
       "      <td>0</td>\n",
       "      <td>0</td>\n",
       "      <td>0</td>\n",
       "      <td>0</td>\n",
       "      <td>0</td>\n",
       "      <td>0</td>\n",
       "      <td>1</td>\n",
       "    </tr>\n",
       "    <tr>\n",
       "      <th>5</th>\n",
       "      <td>0</td>\n",
       "      <td>24</td>\n",
       "      <td>6</td>\n",
       "      <td>9</td>\n",
       "      <td>0</td>\n",
       "      <td>11</td>\n",
       "      <td>25</td>\n",
       "      <td>2</td>\n",
       "      <td>25</td>\n",
       "      <td>0</td>\n",
       "      <td>...</td>\n",
       "      <td>0</td>\n",
       "      <td>0</td>\n",
       "      <td>0</td>\n",
       "      <td>1</td>\n",
       "      <td>0</td>\n",
       "      <td>0</td>\n",
       "      <td>0</td>\n",
       "      <td>0</td>\n",
       "      <td>0</td>\n",
       "      <td>0</td>\n",
       "    </tr>\n",
       "  </tbody>\n",
       "</table>\n",
       "<p>5 rows × 28 columns</p>\n",
       "</div>"
      ],
      "text/plain": [
       "   Total_Stops  Journey_day  Journey_month  Dep_hour  Dep_min  Arrival_hour  \\\n",
       "0            0           24              3        22       20             1   \n",
       "1            2            1              5         5       50            13   \n",
       "3            1           12              5        18        5            23   \n",
       "4            1            1              3        16       50            21   \n",
       "5            0           24              6         9        0            11   \n",
       "\n",
       "   Arrival_min  Duration_hours  Duration_mins  Airline_Air India  ...  \\\n",
       "0           10               2             50                  0  ...   \n",
       "1           15               7             25                  1  ...   \n",
       "3           30               5             25                  0  ...   \n",
       "4           35               4             45                  0  ...   \n",
       "5           25               2             25                  0  ...   \n",
       "\n",
       "   Airline_Vistara Premium economy  Source_Chennai  Source_Delhi  \\\n",
       "0                                0               0             0   \n",
       "1                                0               0             0   \n",
       "3                                0               0             0   \n",
       "4                                0               0             0   \n",
       "5                                0               0             0   \n",
       "\n",
       "   Source_Kolkata  Source_Mumbai  Destination_Cochin  Destination_Delhi  \\\n",
       "0               0              0                   0                  0   \n",
       "1               1              0                   0                  0   \n",
       "3               1              0                   0                  0   \n",
       "4               0              0                   0                  0   \n",
       "5               1              0                   0                  0   \n",
       "\n",
       "   Destination_Hyderabad  Destination_Kolkata  Destination_New Delhi  \n",
       "0                      0                    0                      1  \n",
       "1                      0                    0                      0  \n",
       "3                      0                    0                      0  \n",
       "4                      0                    0                      1  \n",
       "5                      0                    0                      0  \n",
       "\n",
       "[5 rows x 28 columns]"
      ]
     },
     "execution_count": 54,
     "metadata": {},
     "output_type": "execute_result"
    }
   ],
   "source": [
    "X=df.loc[:,['Total_Stops', 'Journey_day', 'Journey_month', 'Dep_hour',\n",
    "       'Dep_min', 'Arrival_hour', 'Arrival_min', 'Duration_hours',\n",
    "       'Duration_mins', 'Airline_Air India', 'Airline_GoAir', 'Airline_IndiGo',\n",
    "       'Airline_Jet Airways Business', 'Airline_Multiple carriers',\n",
    "       'Airline_Multiple carriers Premium economy', 'Airline_SpiceJet',\n",
    "       'Airline_Trujet', 'Airline_Vistara', 'Airline_Vistara Premium economy',\n",
    "       'Source_Chennai', 'Source_Delhi', 'Source_Kolkata', 'Source_Mumbai',\n",
    "       'Destination_Cochin', 'Destination_Delhi', 'Destination_Hyderabad',\n",
    "       'Destination_Kolkata', 'Destination_New Delhi']\n",
    "      ]\n",
    "X.head()"
   ]
  },
  {
   "cell_type": "code",
   "execution_count": 55,
   "metadata": {},
   "outputs": [
    {
     "data": {
      "text/plain": [
       "0     3897\n",
       "1     7662\n",
       "3     6218\n",
       "4    13302\n",
       "5     3873\n",
       "Name: Price, dtype: int64"
      ]
     },
     "execution_count": 55,
     "metadata": {},
     "output_type": "execute_result"
    }
   ],
   "source": [
    "y=df.iloc[:,1]    #dependent feature\n",
    "y.head()"
   ]
  },
  {
   "cell_type": "markdown",
   "metadata": {},
   "source": [
    "## Feature Extraction\n",
    "### Heatmap is used to visualize the feature with the highest correlation. Extra Trees Regressor is used to confirm the most important feature that contributes to the price"
   ]
  },
  {
   "cell_type": "code",
   "execution_count": 56,
   "metadata": {},
   "outputs": [
    {
     "data": {
      "image/png": "[encoded data removed]",
      "text/plain": [
       "<Figure size 864x720 with 2 Axes>"
      ]
     },
     "metadata": {
      "needs_background": "light"
     },
     "output_type": "display_data"
    }
   ],
   "source": [
    "plt.figure(figsize=(12,10))\n",
    "sns.heatmap(train.corr(),annot=True)\n",
    "plt.show()"
   ]
  },
  {
   "cell_type": "code",
   "execution_count": 57,
   "metadata": {},
   "outputs": [
    {
     "data": {
      "text/plain": [
       "ExtraTreesRegressor()"
      ]
     },
     "execution_count": 57,
     "metadata": {},
     "output_type": "execute_result"
    }
   ],
   "source": [
    "from sklearn.ensemble import ExtraTreesRegressor\n",
    "sel=ExtraTreesRegressor()\n",
    "sel.fit(X,y)"
   ]
  },
  {
   "cell_type": "code",
   "execution_count": 58,
   "metadata": {},
   "outputs": [
    {
     "name": "stdout",
     "output_type": "stream",
     "text": [
      "[2.69948914e-01 1.04107452e-01 6.43263987e-02 2.87961304e-02\n",
      " 2.93979406e-02 2.91150061e-02 2.45434831e-02 1.05628610e-01\n",
      " 2.31552638e-02 1.99299600e-02 3.01683593e-03 3.02426207e-02\n",
      " 1.27656451e-01 3.56098355e-02 1.71286307e-03 4.66463639e-03\n",
      " 1.93599151e-04 9.96109912e-03 1.65183374e-04 9.63618510e-04\n",
      " 2.36933391e-02 4.65977951e-03 3.36865744e-03 2.88675781e-02\n",
      " 9.95543766e-04 3.45865471e-03 8.82183275e-04 2.09383631e-02]\n"
     ]
    }
   ],
   "source": [
    "print(sel.feature_importances_)"
   ]
  },
  {
   "cell_type": "code",
   "execution_count": 59,
   "metadata": {},
   "outputs": [
    {
     "data": {
      "image/png": "[encoded data removed]",
      "text/plain": [
       "<Figure size 864x576 with 1 Axes>"
      ]
     },
     "metadata": {
      "needs_background": "light"
     },
     "output_type": "display_data"
    }
   ],
   "source": [
    "plt.figure(figsize=(12,8))\n",
    "f=pd.Series(sel.feature_importances_,index=X.columns)\n",
    "f.nlargest(20).plot(kind='barh')\n",
    "plt.show()"
   ]
  },
  {
   "cell_type": "markdown",
   "metadata": {},
   "source": [
    "#### From the graph above we can conclude that the total number of stops is the most important contributing factor to the price"
   ]
  },
  {
   "cell_type": "markdown",
   "metadata": {},
   "source": []
  },
  {
   "cell_type": "markdown",
   "metadata": {},
   "source": [
    "## Train Test split\n",
    "\n",
    "### Here the dataset is split with 80:20 ratio"
   ]
  },
  {
   "cell_type": "code",
   "execution_count": 60,
   "metadata": {},
   "outputs": [],
   "source": [
    "from sklearn.model_selection import train_test_split\n",
    "X_train,X_test,y_train,y_test=train_test_split(X,y,test_size=0.2,random_state=42)\n",
    "acc=[]\n",
    "labels=[]"
   ]
  },
  {
   "cell_type": "markdown",
   "metadata": {},
   "source": [
    "## Applying Algorithms"
   ]
  },
  {
   "cell_type": "markdown",
   "metadata": {},
   "source": [
    "## 1. Random Forest Regressor"
   ]
  },
  {
   "cell_type": "code",
   "execution_count": 61,
   "metadata": {},
   "outputs": [
    {
     "data": {
      "text/plain": [
       "RandomForestRegressor()"
      ]
     },
     "execution_count": 61,
     "metadata": {},
     "output_type": "execute_result"
    }
   ],
   "source": [
    "from sklearn.ensemble import RandomForestRegressor\n",
    "rf=RandomForestRegressor()\n",
    "rf.fit(X_train,y_train)"
   ]
  },
  {
   "cell_type": "code",
   "execution_count": 62,
   "metadata": {},
   "outputs": [
    {
     "data": {
      "text/plain": [
       "0.9734441626660716"
      ]
     },
     "execution_count": 62,
     "metadata": {},
     "output_type": "execute_result"
    }
   ],
   "source": [
    "ypred=rf.predict(X_test)\n",
    "rf.score(X_train,y_train)"
   ]
  },
  {
   "cell_type": "code",
   "execution_count": 63,
   "metadata": {},
   "outputs": [
    {
     "data": {
      "text/plain": [
       "0.8255635086761441"
      ]
     },
     "execution_count": 63,
     "metadata": {},
     "output_type": "execute_result"
    }
   ],
   "source": [
    "RF_Test=rf.score(X_test,y_test)\n",
    "acc.append(RF_Test)\n",
    "labels.append('Random FR')\n",
    "RF_Test"
   ]
  },
  {
   "cell_type": "code",
   "execution_count": 64,
   "metadata": {},
   "outputs": [
    {
     "data": {
      "image/png": "[encoded data removed]",
      "text/plain": [
       "<Figure size 432x288 with 1 Axes>"
      ]
     },
     "metadata": {
      "needs_background": "light"
     },
     "output_type": "display_data"
    }
   ],
   "source": [
    "sns.distplot(y_test-ypred)\n",
    "plt.show()"
   ]
  },
  {
   "cell_type": "code",
   "execution_count": 65,
   "metadata": {},
   "outputs": [
    {
     "name": "stdout",
     "output_type": "stream",
     "text": [
      "MAE: 783.3069091669121\n",
      "MSE: 3175304.4980266998\n",
      "RMSE: 1781.9384102787335\n"
     ]
    }
   ],
   "source": [
    "from sklearn import metrics\n",
    "print(\"MAE:\",metrics.mean_absolute_error(y_test,ypred))\n",
    "print(\"MSE:\",metrics.mean_squared_error(y_test,ypred))\n",
    "print(\"RMSE:\",np.sqrt(metrics.mean_squared_error(y_test,ypred)))"
   ]
  },
  {
   "cell_type": "code",
   "execution_count": 66,
   "metadata": {},
   "outputs": [
    {
     "data": {
      "text/plain": [
       "0.8255635086761441"
      ]
     },
     "execution_count": 66,
     "metadata": {},
     "output_type": "execute_result"
    }
   ],
   "source": [
    "metrics.r2_score(y_test,ypred)"
   ]
  },
  {
   "cell_type": "markdown",
   "metadata": {},
   "source": [
    "###  a) Random forest regressor with Random Search CV"
   ]
  },
  {
   "cell_type": "code",
   "execution_count": 67,
   "metadata": {},
   "outputs": [],
   "source": [
    "from sklearn.model_selection import RandomizedSearchCV\n",
    "\n",
    "n_estimators=[int(x) for x in np.linspace(start=100,stop=1200,num=12)]\n",
    "max_features=['auto','sqrt']\n",
    "max_depth=[int(x) for x in np.linspace(5,30,num=6)]\n",
    "min_samples_split=[2,5,10,15,10]\n",
    "min_samples_leaf=[1,2,5,10]\n"
   ]
  },
  {
   "cell_type": "code",
   "execution_count": 68,
   "metadata": {},
   "outputs": [],
   "source": [
    "rg={'n_estimators':n_estimators,\n",
    "   'max_depth':max_depth,\n",
    "   'max_features':max_features,\n",
    "   'min_samples_split':min_samples_split,\n",
    "   'min_samples_leaf':min_samples_leaf}\n",
    "random_rf=RandomizedSearchCV(estimator=rf,param_distributions=rg,scoring='neg_mean_squared_error',n_iter=10,cv=5,verbose=2,random_state=42,n_jobs=1)"
   ]
  },
  {
   "cell_type": "code",
   "execution_count": 69,
   "metadata": {},
   "outputs": [
    {
     "name": "stdout",
     "output_type": "stream",
     "text": [
      "Fitting 5 folds for each of 10 candidates, totalling 50 fits\n",
      "[CV] n_estimators=900, min_samples_split=5, min_samples_leaf=5, max_features=sqrt, max_depth=10 \n"
     ]
    },
    {
     "name": "stderr",
     "output_type": "stream",
     "text": [
      "[Parallel(n_jobs=1)]: Using backend SequentialBackend with 1 concurrent workers.\n"
     ]
    },
    {
     "name": "stdout",
     "output_type": "stream",
     "text": [
      "[CV]  n_estimators=900, min_samples_split=5, min_samples_leaf=5, max_features=sqrt, max_depth=10, total=   2.3s\n",
      "[CV] n_estimators=900, min_samples_split=5, min_samples_leaf=5, max_features=sqrt, max_depth=10 \n"
     ]
    },
    {
     "name": "stderr",
     "output_type": "stream",
     "text": [
      "[Parallel(n_jobs=1)]: Done   1 out of   1 | elapsed:    2.2s remaining:    0.0s\n"
     ]
    },
    {
     "name": "stdout",
     "output_type": "stream",
     "text": [
      "[CV]  n_estimators=900, min_samples_split=5, min_samples_leaf=5, max_features=sqrt, max_depth=10, total=   2.5s\n",
      "[CV] n_estimators=900, min_samples_split=5, min_samples_leaf=5, max_features=sqrt, max_depth=10 \n",
      "[CV]  n_estimators=900, min_samples_split=5, min_samples_leaf=5, max_features=sqrt, max_depth=10, total=   2.3s\n",
      "[CV] n_estimators=900, min_samples_split=5, min_samples_leaf=5, max_features=sqrt, max_depth=10 \n",
      "[CV]  n_estimators=900, min_samples_split=5, min_samples_leaf=5, max_features=sqrt, max_depth=10, total=   2.4s\n",
      "[CV] n_estimators=900, min_samples_split=5, min_samples_leaf=5, max_features=sqrt, max_depth=10 \n",
      "[CV]  n_estimators=900, min_samples_split=5, min_samples_leaf=5, max_features=sqrt, max_depth=10, total=   2.4s\n",
      "[CV] n_estimators=1100, min_samples_split=10, min_samples_leaf=2, max_features=sqrt, max_depth=15 \n",
      "[CV]  n_estimators=1100, min_samples_split=10, min_samples_leaf=2, max_features=sqrt, max_depth=15, total=   3.4s\n",
      "[CV] n_estimators=1100, min_samples_split=10, min_samples_leaf=2, max_features=sqrt, max_depth=15 \n",
      "[CV]  n_estimators=1100, min_samples_split=10, min_samples_leaf=2, max_features=sqrt, max_depth=15, total=   3.3s\n",
      "[CV] n_estimators=1100, min_samples_split=10, min_samples_leaf=2, max_features=sqrt, max_depth=15 \n",
      "[CV]  n_estimators=1100, min_samples_split=10, min_samples_leaf=2, max_features=sqrt, max_depth=15, total=   3.4s\n",
      "[CV] n_estimators=1100, min_samples_split=10, min_samples_leaf=2, max_features=sqrt, max_depth=15 \n",
      "[CV]  n_estimators=1100, min_samples_split=10, min_samples_leaf=2, max_features=sqrt, max_depth=15, total=   3.5s\n",
      "[CV] n_estimators=1100, min_samples_split=10, min_samples_leaf=2, max_features=sqrt, max_depth=15 \n",
      "[CV]  n_estimators=1100, min_samples_split=10, min_samples_leaf=2, max_features=sqrt, max_depth=15, total=   3.4s\n",
      "[CV] n_estimators=300, min_samples_split=10, min_samples_leaf=5, max_features=auto, max_depth=15 \n",
      "[CV]  n_estimators=300, min_samples_split=10, min_samples_leaf=5, max_features=auto, max_depth=15, total=   2.6s\n",
      "[CV] n_estimators=300, min_samples_split=10, min_samples_leaf=5, max_features=auto, max_depth=15 \n",
      "[CV]  n_estimators=300, min_samples_split=10, min_samples_leaf=5, max_features=auto, max_depth=15, total=   2.5s\n",
      "[CV] n_estimators=300, min_samples_split=10, min_samples_leaf=5, max_features=auto, max_depth=15 \n",
      "[CV]  n_estimators=300, min_samples_split=10, min_samples_leaf=5, max_features=auto, max_depth=15, total=   2.5s\n",
      "[CV] n_estimators=300, min_samples_split=10, min_samples_leaf=5, max_features=auto, max_depth=15 \n",
      "[CV]  n_estimators=300, min_samples_split=10, min_samples_leaf=5, max_features=auto, max_depth=15, total=   2.5s\n",
      "[CV] n_estimators=300, min_samples_split=10, min_samples_leaf=5, max_features=auto, max_depth=15 \n",
      "[CV]  n_estimators=300, min_samples_split=10, min_samples_leaf=5, max_features=auto, max_depth=15, total=   2.7s\n",
      "[CV] n_estimators=400, min_samples_split=5, min_samples_leaf=5, max_features=auto, max_depth=15 \n",
      "[CV]  n_estimators=400, min_samples_split=5, min_samples_leaf=5, max_features=auto, max_depth=15, total=   4.0s\n",
      "[CV] n_estimators=400, min_samples_split=5, min_samples_leaf=5, max_features=auto, max_depth=15 \n",
      "[CV]  n_estimators=400, min_samples_split=5, min_samples_leaf=5, max_features=auto, max_depth=15, total=   3.3s\n",
      "[CV] n_estimators=400, min_samples_split=5, min_samples_leaf=5, max_features=auto, max_depth=15 \n",
      "[CV]  n_estimators=400, min_samples_split=5, min_samples_leaf=5, max_features=auto, max_depth=15, total=   3.5s\n",
      "[CV] n_estimators=400, min_samples_split=5, min_samples_leaf=5, max_features=auto, max_depth=15 \n",
      "[CV]  n_estimators=400, min_samples_split=5, min_samples_leaf=5, max_features=auto, max_depth=15, total=   3.4s\n",
      "[CV] n_estimators=400, min_samples_split=5, min_samples_leaf=5, max_features=auto, max_depth=15 \n",
      "[CV]  n_estimators=400, min_samples_split=5, min_samples_leaf=5, max_features=auto, max_depth=15, total=   3.4s\n",
      "[CV] n_estimators=700, min_samples_split=5, min_samples_leaf=10, max_features=auto, max_depth=20 \n",
      "[CV]  n_estimators=700, min_samples_split=5, min_samples_leaf=10, max_features=auto, max_depth=20, total=   5.2s\n",
      "[CV] n_estimators=700, min_samples_split=5, min_samples_leaf=10, max_features=auto, max_depth=20 \n",
      "[CV]  n_estimators=700, min_samples_split=5, min_samples_leaf=10, max_features=auto, max_depth=20, total=   5.3s\n",
      "[CV] n_estimators=700, min_samples_split=5, min_samples_leaf=10, max_features=auto, max_depth=20 \n",
      "[CV]  n_estimators=700, min_samples_split=5, min_samples_leaf=10, max_features=auto, max_depth=20, total=   5.4s\n",
      "[CV] n_estimators=700, min_samples_split=5, min_samples_leaf=10, max_features=auto, max_depth=20 \n",
      "[CV]  n_estimators=700, min_samples_split=5, min_samples_leaf=10, max_features=auto, max_depth=20, total=   5.2s\n",
      "[CV] n_estimators=700, min_samples_split=5, min_samples_leaf=10, max_features=auto, max_depth=20 \n",
      "[CV]  n_estimators=700, min_samples_split=5, min_samples_leaf=10, max_features=auto, max_depth=20, total=   5.4s\n",
      "[CV] n_estimators=1000, min_samples_split=2, min_samples_leaf=1, max_features=sqrt, max_depth=25 \n",
      "[CV]  n_estimators=1000, min_samples_split=2, min_samples_leaf=1, max_features=sqrt, max_depth=25, total=   5.1s\n",
      "[CV] n_estimators=1000, min_samples_split=2, min_samples_leaf=1, max_features=sqrt, max_depth=25 \n",
      "[CV]  n_estimators=1000, min_samples_split=2, min_samples_leaf=1, max_features=sqrt, max_depth=25, total=   4.9s\n",
      "[CV] n_estimators=1000, min_samples_split=2, min_samples_leaf=1, max_features=sqrt, max_depth=25 \n",
      "[CV]  n_estimators=1000, min_samples_split=2, min_samples_leaf=1, max_features=sqrt, max_depth=25, total=   4.8s\n",
      "[CV] n_estimators=1000, min_samples_split=2, min_samples_leaf=1, max_features=sqrt, max_depth=25 \n",
      "[CV]  n_estimators=1000, min_samples_split=2, min_samples_leaf=1, max_features=sqrt, max_depth=25, total=   4.8s\n",
      "[CV] n_estimators=1000, min_samples_split=2, min_samples_leaf=1, max_features=sqrt, max_depth=25 \n",
      "[CV]  n_estimators=1000, min_samples_split=2, min_samples_leaf=1, max_features=sqrt, max_depth=25, total=   4.7s\n",
      "[CV] n_estimators=1100, min_samples_split=15, min_samples_leaf=10, max_features=sqrt, max_depth=5 \n",
      "[CV]  n_estimators=1100, min_samples_split=15, min_samples_leaf=10, max_features=sqrt, max_depth=5, total=   2.1s\n",
      "[CV] n_estimators=1100, min_samples_split=15, min_samples_leaf=10, max_features=sqrt, max_depth=5 \n",
      "[CV]  n_estimators=1100, min_samples_split=15, min_samples_leaf=10, max_features=sqrt, max_depth=5, total=   2.2s\n",
      "[CV] n_estimators=1100, min_samples_split=15, min_samples_leaf=10, max_features=sqrt, max_depth=5 \n",
      "[CV]  n_estimators=1100, min_samples_split=15, min_samples_leaf=10, max_features=sqrt, max_depth=5, total=   2.1s\n",
      "[CV] n_estimators=1100, min_samples_split=15, min_samples_leaf=10, max_features=sqrt, max_depth=5 \n",
      "[CV]  n_estimators=1100, min_samples_split=15, min_samples_leaf=10, max_features=sqrt, max_depth=5, total=   2.1s\n",
      "[CV] n_estimators=1100, min_samples_split=15, min_samples_leaf=10, max_features=sqrt, max_depth=5 \n",
      "[CV]  n_estimators=1100, min_samples_split=15, min_samples_leaf=10, max_features=sqrt, max_depth=5, total=   3.5s\n",
      "[CV] n_estimators=300, min_samples_split=15, min_samples_leaf=1, max_features=sqrt, max_depth=15 \n",
      "[CV]  n_estimators=300, min_samples_split=15, min_samples_leaf=1, max_features=sqrt, max_depth=15, total=   0.9s\n",
      "[CV] n_estimators=300, min_samples_split=15, min_samples_leaf=1, max_features=sqrt, max_depth=15 \n",
      "[CV]  n_estimators=300, min_samples_split=15, min_samples_leaf=1, max_features=sqrt, max_depth=15, total=   0.9s\n",
      "[CV] n_estimators=300, min_samples_split=15, min_samples_leaf=1, max_features=sqrt, max_depth=15 \n",
      "[CV]  n_estimators=300, min_samples_split=15, min_samples_leaf=1, max_features=sqrt, max_depth=15, total=   0.9s\n",
      "[CV] n_estimators=300, min_samples_split=15, min_samples_leaf=1, max_features=sqrt, max_depth=15 \n",
      "[CV]  n_estimators=300, min_samples_split=15, min_samples_leaf=1, max_features=sqrt, max_depth=15, total=   1.0s\n",
      "[CV] n_estimators=300, min_samples_split=15, min_samples_leaf=1, max_features=sqrt, max_depth=15 \n",
      "[CV]  n_estimators=300, min_samples_split=15, min_samples_leaf=1, max_features=sqrt, max_depth=15, total=   0.9s\n",
      "[CV] n_estimators=700, min_samples_split=10, min_samples_leaf=2, max_features=sqrt, max_depth=5 \n"
     ]
    },
    {
     "name": "stdout",
     "output_type": "stream",
     "text": [
      "[CV]  n_estimators=700, min_samples_split=10, min_samples_leaf=2, max_features=sqrt, max_depth=5, total=   1.3s\n",
      "[CV] n_estimators=700, min_samples_split=10, min_samples_leaf=2, max_features=sqrt, max_depth=5 \n",
      "[CV]  n_estimators=700, min_samples_split=10, min_samples_leaf=2, max_features=sqrt, max_depth=5, total=   1.3s\n",
      "[CV] n_estimators=700, min_samples_split=10, min_samples_leaf=2, max_features=sqrt, max_depth=5 \n",
      "[CV]  n_estimators=700, min_samples_split=10, min_samples_leaf=2, max_features=sqrt, max_depth=5, total=   1.3s\n",
      "[CV] n_estimators=700, min_samples_split=10, min_samples_leaf=2, max_features=sqrt, max_depth=5 \n",
      "[CV]  n_estimators=700, min_samples_split=10, min_samples_leaf=2, max_features=sqrt, max_depth=5, total=   1.4s\n",
      "[CV] n_estimators=700, min_samples_split=10, min_samples_leaf=2, max_features=sqrt, max_depth=5 \n",
      "[CV]  n_estimators=700, min_samples_split=10, min_samples_leaf=2, max_features=sqrt, max_depth=5, total=   1.3s\n",
      "[CV] n_estimators=700, min_samples_split=15, min_samples_leaf=1, max_features=auto, max_depth=20 \n",
      "[CV]  n_estimators=700, min_samples_split=15, min_samples_leaf=1, max_features=auto, max_depth=20, total=   6.4s\n",
      "[CV] n_estimators=700, min_samples_split=15, min_samples_leaf=1, max_features=auto, max_depth=20 \n",
      "[CV]  n_estimators=700, min_samples_split=15, min_samples_leaf=1, max_features=auto, max_depth=20, total=   6.3s\n",
      "[CV] n_estimators=700, min_samples_split=15, min_samples_leaf=1, max_features=auto, max_depth=20 \n",
      "[CV]  n_estimators=700, min_samples_split=15, min_samples_leaf=1, max_features=auto, max_depth=20, total=   6.6s\n",
      "[CV] n_estimators=700, min_samples_split=15, min_samples_leaf=1, max_features=auto, max_depth=20 \n",
      "[CV]  n_estimators=700, min_samples_split=15, min_samples_leaf=1, max_features=auto, max_depth=20, total=   6.3s\n",
      "[CV] n_estimators=700, min_samples_split=15, min_samples_leaf=1, max_features=auto, max_depth=20 \n",
      "[CV]  n_estimators=700, min_samples_split=15, min_samples_leaf=1, max_features=auto, max_depth=20, total=   8.3s\n"
     ]
    },
    {
     "name": "stderr",
     "output_type": "stream",
     "text": [
      "[Parallel(n_jobs=1)]: Done  50 out of  50 | elapsed:  2.8min finished\n"
     ]
    },
    {
     "data": {
      "text/plain": [
       "RandomizedSearchCV(cv=5, estimator=RandomForestRegressor(), n_jobs=1,\n",
       "                   param_distributions={'max_depth': [5, 10, 15, 20, 25, 30],\n",
       "                                        'max_features': ['auto', 'sqrt'],\n",
       "                                        'min_samples_leaf': [1, 2, 5, 10],\n",
       "                                        'min_samples_split': [2, 5, 10, 15, 10],\n",
       "                                        'n_estimators': [100, 200, 300, 400,\n",
       "                                                         500, 600, 700, 800,\n",
       "                                                         900, 1000, 1100,\n",
       "                                                         1200]},\n",
       "                   random_state=42, scoring='neg_mean_squared_error',\n",
       "                   verbose=2)"
      ]
     },
     "execution_count": 69,
     "metadata": {},
     "output_type": "execute_result"
    }
   ],
   "source": [
    "random_rf.fit(X_train,y_train)"
   ]
  },
  {
   "cell_type": "code",
   "execution_count": 70,
   "metadata": {},
   "outputs": [
    {
     "data": {
      "text/plain": [
       "-3141369.6900734142"
      ]
     },
     "execution_count": 70,
     "metadata": {},
     "output_type": "execute_result"
    }
   ],
   "source": [
    "random_rf.best_score_"
   ]
  },
  {
   "cell_type": "code",
   "execution_count": 71,
   "metadata": {},
   "outputs": [
    {
     "data": {
      "text/plain": [
       "{'n_estimators': 1000,\n",
       " 'min_samples_split': 2,\n",
       " 'min_samples_leaf': 1,\n",
       " 'max_features': 'sqrt',\n",
       " 'max_depth': 25}"
      ]
     },
     "execution_count": 71,
     "metadata": {},
     "output_type": "execute_result"
    }
   ],
   "source": [
    "random_rf.best_params_"
   ]
  },
  {
   "cell_type": "code",
   "execution_count": 72,
   "metadata": {},
   "outputs": [],
   "source": [
    "pred=random_rf.predict(X_test)"
   ]
  },
  {
   "cell_type": "code",
   "execution_count": 73,
   "metadata": {},
   "outputs": [
    {
     "data": {
      "image/png": "[encoded data removed]",
      "text/plain": [
       "<Figure size 576x576 with 1 Axes>"
      ]
     },
     "metadata": {
      "needs_background": "light"
     },
     "output_type": "display_data"
    }
   ],
   "source": [
    "plt.figure(figsize=(8,8))\n",
    "sns.distplot(y_test-pred)\n",
    "plt.show()"
   ]
  },
  {
   "cell_type": "code",
   "execution_count": 74,
   "metadata": {},
   "outputs": [
    {
     "data": {
      "image/png": "[encoded data removed]",
      "text/plain": [
       "<Figure size 576x576 with 1 Axes>"
      ]
     },
     "metadata": {
      "needs_background": "light"
     },
     "output_type": "display_data"
    }
   ],
   "source": [
    "plt.figure(figsize=(8,8))\n",
    "plt.scatter(y_test,pred,alpha=0.5)\n",
    "plt.xlabel(\"y_test\")\n",
    "plt.ylabel(\"y_pred\")\n",
    "plt.show()"
   ]
  },
  {
   "cell_type": "code",
   "execution_count": null,
   "metadata": {},
   "outputs": [],
   "source": [
    "metrics.r2_score(y_test,pred)"
   ]
  },
  {
   "cell_type": "markdown",
   "metadata": {},
   "source": [
    "## 2. Gradient Boosting Regressor"
   ]
  },
  {
   "cell_type": "code",
   "execution_count": 75,
   "metadata": {},
   "outputs": [
    {
     "data": {
      "text/plain": [
       "GradientBoostingRegressor(random_state=42)"
      ]
     },
     "execution_count": 75,
     "metadata": {},
     "output_type": "execute_result"
    }
   ],
   "source": [
    "from sklearn.ensemble import GradientBoostingRegressor\n",
    "gbr=GradientBoostingRegressor(random_state=42)\n",
    "gbr.fit(X_train,y_train)\n"
   ]
  },
  {
   "cell_type": "code",
   "execution_count": 76,
   "metadata": {},
   "outputs": [
    {
     "data": {
      "text/plain": [
       "array([ 8943.5790499 ,  3751.27539524, 10469.7542301 , ...,\n",
       "        2283.77095584,  4550.0220661 , 10311.16770944])"
      ]
     },
     "execution_count": 76,
     "metadata": {},
     "output_type": "execute_result"
    }
   ],
   "source": [
    "gbr.predict(X_test)"
   ]
  },
  {
   "cell_type": "code",
   "execution_count": 77,
   "metadata": {},
   "outputs": [
    {
     "data": {
      "text/plain": [
       "0.733351011782732"
      ]
     },
     "execution_count": 77,
     "metadata": {},
     "output_type": "execute_result"
    }
   ],
   "source": [
    "GBR_Test=gbr.score(X_test,y_test)\n",
    "acc.append(GBR_Test)\n",
    "labels.append('GBR')\n",
    "GBR_Test"
   ]
  },
  {
   "cell_type": "markdown",
   "metadata": {},
   "source": [
    "### a) Gradient Boosting Regressor with Randomized Search CV"
   ]
  },
  {
   "cell_type": "code",
   "execution_count": 78,
   "metadata": {},
   "outputs": [
    {
     "data": {
      "text/plain": [
       "0.7757479127706987"
      ]
     },
     "execution_count": 78,
     "metadata": {},
     "output_type": "execute_result"
    }
   ],
   "source": [
    "parameters = {'learning_rate': [0.01,0.02,0.03,0.04],\n",
    "                  'n_estimators' : [100,500,1000],\n",
    "                  'max_depth'    : [4,6,8,10]\n",
    "                 }\n",
    "random_gbr=RandomizedSearchCV(estimator=gbr, param_distributions=parameters, cv = 2, n_jobs=-1)\n",
    "random_gbr.fit(X_train,y_train)\n",
    "GBR_Rscv_Test=random_gbr.best_score_\n",
    "acc.append(GBR_Rscv_Test)\n",
    "labels.append('GBR & Rscv')\n",
    "GBR_Rscv_Test"
   ]
  },
  {
   "cell_type": "markdown",
   "metadata": {},
   "source": [
    "### b) Gradient Boosting Regressor with Grid Search Cv"
   ]
  },
  {
   "cell_type": "code",
   "execution_count": 79,
   "metadata": {},
   "outputs": [
    {
     "name": "stdout",
     "output_type": "stream",
     "text": [
      " Results from Grid Search \n",
      "\n",
      " The best estimator across ALL searched params:\n",
      " GradientBoostingRegressor(learning_rate=0.04, max_depth=4, n_estimators=1000)\n",
      "\n",
      " The best score across ALL searched params:\n",
      " 0.7964232972035477\n",
      "\n",
      " The best parameters across ALL searched params:\n",
      " {'learning_rate': 0.04, 'max_depth': 4, 'n_estimators': 1000}\n"
     ]
    }
   ],
   "source": [
    "from sklearn.model_selection import GridSearchCV\n",
    "from sklearn.ensemble import GradientBoostingRegressor\n",
    "parameters = {'learning_rate': [0.01,0.02,0.03,0.04],\n",
    "                  'n_estimators' : [100,500,1000],\n",
    "                  'max_depth'    : [4,6,8,10,20,50]\n",
    "                 }\n",
    "GBR=GradientBoostingRegressor()\n",
    "grid_GBR = GridSearchCV(estimator=GBR, param_grid = parameters, cv = 2, n_jobs=-1)\n",
    "grid_GBR.fit(X_train, y_train)\n",
    "print(\" Results from Grid Search \" )\n",
    "print(\"\\n The best estimator across ALL searched params:\\n\",grid_GBR.best_estimator_)\n",
    "print(\"\\n The best score across ALL searched params:\\n\",grid_GBR.best_score_)\n",
    "GBR_grid_Test=grid_GBR.best_score_\n",
    "acc.append(GBR_grid_Test)\n",
    "labels.append('GBR & Grid')\n",
    "print(\"\\n The best parameters across ALL searched params:\\n\",grid_GBR.best_params_)"
   ]
  },
  {
   "cell_type": "markdown",
   "metadata": {},
   "source": [
    "## 3. Ada Boost Regressor"
   ]
  },
  {
   "cell_type": "code",
   "execution_count": 80,
   "metadata": {},
   "outputs": [
    {
     "data": {
      "text/plain": [
       "AdaBoostRegressor(random_state=42)"
      ]
     },
     "execution_count": 80,
     "metadata": {},
     "output_type": "execute_result"
    }
   ],
   "source": [
    "from sklearn.ensemble import AdaBoostRegressor\n",
    "abr=AdaBoostRegressor(random_state=42)\n",
    "abr.fit(X_train,y_train)"
   ]
  },
  {
   "cell_type": "code",
   "execution_count": 81,
   "metadata": {},
   "outputs": [
    {
     "data": {
      "text/plain": [
       "array([ 9677.34966499,  5467.16312057, 12080.45611702, ...,\n",
       "        5467.16312057,  5467.16312057, 10358.37966538])"
      ]
     },
     "execution_count": 81,
     "metadata": {},
     "output_type": "execute_result"
    }
   ],
   "source": [
    "abr.predict(X_test)"
   ]
  },
  {
   "cell_type": "code",
   "execution_count": 82,
   "metadata": {},
   "outputs": [
    {
     "data": {
      "text/plain": [
       "0.5752200473173084"
      ]
     },
     "execution_count": 82,
     "metadata": {},
     "output_type": "execute_result"
    }
   ],
   "source": [
    "ABR_Test=abr.score(X_test,y_test)\n",
    "acc.append(ABR_Test)\n",
    "labels.append('ABR')\n",
    "ABR_Test"
   ]
  },
  {
   "cell_type": "markdown",
   "metadata": {},
   "source": [
    "## 4. SVR (linear kernel)"
   ]
  },
  {
   "cell_type": "code",
   "execution_count": 83,
   "metadata": {},
   "outputs": [
    {
     "data": {
      "text/plain": [
       "SVR(kernel='linear')"
      ]
     },
     "execution_count": 83,
     "metadata": {},
     "output_type": "execute_result"
    }
   ],
   "source": [
    "from sklearn.svm import SVR\n",
    "lin_svr=SVR(kernel='linear')\n",
    "lin_svr.fit(X_train,y_train)"
   ]
  },
  {
   "cell_type": "code",
   "execution_count": 84,
   "metadata": {},
   "outputs": [
    {
     "data": {
      "text/plain": [
       "array([ 7660.24723784,  4235.9769029 , 11405.42850885, ...,\n",
       "        3346.08746115,  4649.46362464,  8141.4047262 ])"
      ]
     },
     "execution_count": 84,
     "metadata": {},
     "output_type": "execute_result"
    }
   ],
   "source": [
    "lin_svr.predict(X_test)"
   ]
  },
  {
   "cell_type": "code",
   "execution_count": 85,
   "metadata": {},
   "outputs": [
    {
     "data": {
      "text/plain": [
       "0.3773018238579783"
      ]
     },
     "execution_count": 85,
     "metadata": {},
     "output_type": "execute_result"
    }
   ],
   "source": [
    "SVR_Test=lin_svr.score(X_test,y_test)\n",
    "acc.append(SVR_Test)\n",
    "labels.append('SVR')\n",
    "SVR_Test"
   ]
  },
  {
   "cell_type": "markdown",
   "metadata": {},
   "source": [
    "###  SVR (rbf kernel)"
   ]
  },
  {
   "cell_type": "code",
   "execution_count": 86,
   "metadata": {},
   "outputs": [
    {
     "data": {
      "text/plain": [
       "SVR()"
      ]
     },
     "execution_count": 86,
     "metadata": {},
     "output_type": "execute_result"
    }
   ],
   "source": [
    "from sklearn.svm import SVR\n",
    "rbf_svr=SVR(kernel='rbf')\n",
    "rbf_svr.fit(X_train,y_train)"
   ]
  },
  {
   "cell_type": "code",
   "execution_count": 87,
   "metadata": {},
   "outputs": [
    {
     "data": {
      "text/plain": [
       "array([6699.31264997, 6435.43049841, 6702.34465831, ..., 6497.24097121,\n",
       "       6548.16818177, 6706.78052821])"
      ]
     },
     "execution_count": 87,
     "metadata": {},
     "output_type": "execute_result"
    }
   ],
   "source": [
    "rbf_svr.predict(X_test)"
   ]
  },
  {
   "cell_type": "code",
   "execution_count": 88,
   "metadata": {},
   "outputs": [
    {
     "data": {
      "text/plain": [
       "-0.029628806534985674"
      ]
     },
     "execution_count": 88,
     "metadata": {},
     "output_type": "execute_result"
    }
   ],
   "source": [
    "rbf_svr.score(X_test,y_test)"
   ]
  },
  {
   "cell_type": "markdown",
   "metadata": {},
   "source": [
    "## 5. Decision Tree Regressor"
   ]
  },
  {
   "cell_type": "code",
   "execution_count": 89,
   "metadata": {},
   "outputs": [
    {
     "data": {
      "text/plain": [
       "DecisionTreeRegressor()"
      ]
     },
     "execution_count": 89,
     "metadata": {},
     "output_type": "execute_result"
    }
   ],
   "source": [
    "from sklearn.tree import DecisionTreeRegressor\n",
    "dtr=DecisionTreeRegressor()\n",
    "dtr.fit(X_train,y_train)"
   ]
  },
  {
   "cell_type": "code",
   "execution_count": 90,
   "metadata": {},
   "outputs": [
    {
     "data": {
      "text/plain": [
       "array([ 7005. ,  4007.5,  8236. , ...,  2017. ,  3597. , 11200. ])"
      ]
     },
     "execution_count": 90,
     "metadata": {},
     "output_type": "execute_result"
    }
   ],
   "source": [
    "dtr.predict(X_test)"
   ]
  },
  {
   "cell_type": "code",
   "execution_count": 91,
   "metadata": {},
   "outputs": [
    {
     "data": {
      "text/plain": [
       "0.7051537597675532"
      ]
     },
     "execution_count": 91,
     "metadata": {},
     "output_type": "execute_result"
    }
   ],
   "source": [
    "DTR_Test=dtr.score(X_test,y_test)\n",
    "acc.append(DTR_Test)\n",
    "labels.append('DTR')\n",
    "DTR_Test"
   ]
  },
  {
   "cell_type": "markdown",
   "metadata": {},
   "source": [
    "### a) Decision Tree Regressor with Randomized Search CV"
   ]
  },
  {
   "cell_type": "code",
   "execution_count": 92,
   "metadata": {},
   "outputs": [],
   "source": [
    "parameters={\"splitter\":[\"best\",\"random\"],\n",
    "            \"max_depth\" : [1,3,5,7,9,11,12],\n",
    "           \"min_samples_leaf\":[1,2,3,4,5,6,7,8,9,10],\n",
    "           \"max_features\":[\"auto\",\"log2\",\"sqrt\",None],\n",
    "           \"max_leaf_nodes\":[None,10,20,50,100,200,500,1000] }\n",
    "random_dtr=RandomizedSearchCV(estimator=dtr,param_distributions=parameters,scoring='neg_mean_squared_error',n_iter=10,cv=5,verbose=2,random_state=42)"
   ]
  },
  {
   "cell_type": "code",
   "execution_count": 93,
   "metadata": {},
   "outputs": [
    {
     "name": "stdout",
     "output_type": "stream",
     "text": [
      "Fitting 5 folds for each of 10 candidates, totalling 50 fits\n",
      "[CV] splitter=best, min_samples_leaf=1, max_leaf_nodes=50, max_features=log2, max_depth=3 \n",
      "[CV]  splitter=best, min_samples_leaf=1, max_leaf_nodes=50, max_features=log2, max_depth=3, total=   0.0s\n",
      "[CV] splitter=best, min_samples_leaf=1, max_leaf_nodes=50, max_features=log2, max_depth=3 \n",
      "[CV]  splitter=best, min_samples_leaf=1, max_leaf_nodes=50, max_features=log2, max_depth=3, total=   0.0s\n",
      "[CV] splitter=best, min_samples_leaf=1, max_leaf_nodes=50, max_features=log2, max_depth=3 \n",
      "[CV]  splitter=best, min_samples_leaf=1, max_leaf_nodes=50, max_features=log2, max_depth=3, total=   0.0s\n",
      "[CV] splitter=best, min_samples_leaf=1, max_leaf_nodes=50, max_features=log2, max_depth=3 \n",
      "[CV]  splitter=best, min_samples_leaf=1, max_leaf_nodes=50, max_features=log2, max_depth=3, total=   0.0s\n",
      "[CV] splitter=best, min_samples_leaf=1, max_leaf_nodes=50, max_features=log2, max_depth=3 \n",
      "[CV]  splitter=best, min_samples_leaf=1, max_leaf_nodes=50, max_features=log2, max_depth=3, total=   0.0s\n",
      "[CV] splitter=best, min_samples_leaf=7, max_leaf_nodes=100, max_features=None, max_depth=11 \n",
      "[CV]  splitter=best, min_samples_leaf=7, max_leaf_nodes=100, max_features=None, max_depth=11, total=   0.0s\n",
      "[CV] splitter=best, min_samples_leaf=7, max_leaf_nodes=100, max_features=None, max_depth=11 \n",
      "[CV]  splitter=best, min_samples_leaf=7, max_leaf_nodes=100, max_features=None, max_depth=11, total=   0.0s\n",
      "[CV] splitter=best, min_samples_leaf=7, max_leaf_nodes=100, max_features=None, max_depth=11 \n",
      "[CV]  splitter=best, min_samples_leaf=7, max_leaf_nodes=100, max_features=None, max_depth=11, total=   0.0s\n",
      "[CV] splitter=best, min_samples_leaf=7, max_leaf_nodes=100, max_features=None, max_depth=11 \n",
      "[CV]  splitter=best, min_samples_leaf=7, max_leaf_nodes=100, max_features=None, max_depth=11, total=   0.0s\n",
      "[CV] splitter=best, min_samples_leaf=7, max_leaf_nodes=100, max_features=None, max_depth=11 \n",
      "[CV]  splitter=best, min_samples_leaf=7, max_leaf_nodes=100, max_features=None, max_depth=11, total=   0.0s\n",
      "[CV] splitter=best, min_samples_leaf=7, max_leaf_nodes=20, max_features=None, max_depth=9 \n",
      "[CV]  splitter=best, min_samples_leaf=7, max_leaf_nodes=20, max_features=None, max_depth=9, total=   0.0s"
     ]
    },
    {
     "name": "stderr",
     "output_type": "stream",
     "text": [
      "[Parallel(n_jobs=1)]: Using backend SequentialBackend with 1 concurrent workers.\n",
      "[Parallel(n_jobs=1)]: Done   1 out of   1 | elapsed:    0.0s remaining:    0.0s\n"
     ]
    },
    {
     "name": "stdout",
     "output_type": "stream",
     "text": [
      "\n",
      "[CV] splitter=best, min_samples_leaf=7, max_leaf_nodes=20, max_features=None, max_depth=9 \n",
      "[CV]  splitter=best, min_samples_leaf=7, max_leaf_nodes=20, max_features=None, max_depth=9, total=   0.0s\n",
      "[CV] splitter=best, min_samples_leaf=7, max_leaf_nodes=20, max_features=None, max_depth=9 \n",
      "[CV]  splitter=best, min_samples_leaf=7, max_leaf_nodes=20, max_features=None, max_depth=9, total=   0.0s\n",
      "[CV] splitter=best, min_samples_leaf=7, max_leaf_nodes=20, max_features=None, max_depth=9 \n",
      "[CV]  splitter=best, min_samples_leaf=7, max_leaf_nodes=20, max_features=None, max_depth=9, total=   0.0s\n",
      "[CV] splitter=best, min_samples_leaf=7, max_leaf_nodes=20, max_features=None, max_depth=9 \n",
      "[CV]  splitter=best, min_samples_leaf=7, max_leaf_nodes=20, max_features=None, max_depth=9, total=   0.0s\n",
      "[CV] splitter=best, min_samples_leaf=4, max_leaf_nodes=1000, max_features=sqrt, max_depth=1 \n",
      "[CV]  splitter=best, min_samples_leaf=4, max_leaf_nodes=1000, max_features=sqrt, max_depth=1, total=   0.0s\n",
      "[CV] splitter=best, min_samples_leaf=4, max_leaf_nodes=1000, max_features=sqrt, max_depth=1 \n",
      "[CV]  splitter=best, min_samples_leaf=4, max_leaf_nodes=1000, max_features=sqrt, max_depth=1, total=   0.0s\n",
      "[CV] splitter=best, min_samples_leaf=4, max_leaf_nodes=1000, max_features=sqrt, max_depth=1 \n",
      "[CV]  splitter=best, min_samples_leaf=4, max_leaf_nodes=1000, max_features=sqrt, max_depth=1, total=   0.0s\n",
      "[CV] splitter=best, min_samples_leaf=4, max_leaf_nodes=1000, max_features=sqrt, max_depth=1 \n",
      "[CV]  splitter=best, min_samples_leaf=4, max_leaf_nodes=1000, max_features=sqrt, max_depth=1, total=   0.0s\n",
      "[CV] splitter=best, min_samples_leaf=4, max_leaf_nodes=1000, max_features=sqrt, max_depth=1 \n",
      "[CV]  splitter=best, min_samples_leaf=4, max_leaf_nodes=1000, max_features=sqrt, max_depth=1, total=   0.0s\n",
      "[CV] splitter=best, min_samples_leaf=4, max_leaf_nodes=200, max_features=None, max_depth=12 \n",
      "[CV]  splitter=best, min_samples_leaf=4, max_leaf_nodes=200, max_features=None, max_depth=12, total=   0.0s\n",
      "[CV] splitter=best, min_samples_leaf=4, max_leaf_nodes=200, max_features=None, max_depth=12 \n",
      "[CV]  splitter=best, min_samples_leaf=4, max_leaf_nodes=200, max_features=None, max_depth=12, total=   0.0s\n",
      "[CV] splitter=best, min_samples_leaf=4, max_leaf_nodes=200, max_features=None, max_depth=12 \n",
      "[CV]  splitter=best, min_samples_leaf=4, max_leaf_nodes=200, max_features=None, max_depth=12, total=   0.0s\n",
      "[CV] splitter=best, min_samples_leaf=4, max_leaf_nodes=200, max_features=None, max_depth=12 \n",
      "[CV]  splitter=best, min_samples_leaf=4, max_leaf_nodes=200, max_features=None, max_depth=12, total=   0.0s\n",
      "[CV] splitter=best, min_samples_leaf=4, max_leaf_nodes=200, max_features=None, max_depth=12 \n",
      "[CV]  splitter=best, min_samples_leaf=4, max_leaf_nodes=200, max_features=None, max_depth=12, total=   0.0s\n",
      "[CV] splitter=best, min_samples_leaf=3, max_leaf_nodes=100, max_features=log2, max_depth=11 \n",
      "[CV]  splitter=best, min_samples_leaf=3, max_leaf_nodes=100, max_features=log2, max_depth=11, total=   0.0s\n",
      "[CV] splitter=best, min_samples_leaf=3, max_leaf_nodes=100, max_features=log2, max_depth=11 \n",
      "[CV]  splitter=best, min_samples_leaf=3, max_leaf_nodes=100, max_features=log2, max_depth=11, total=   0.0s\n",
      "[CV] splitter=best, min_samples_leaf=3, max_leaf_nodes=100, max_features=log2, max_depth=11 \n",
      "[CV]  splitter=best, min_samples_leaf=3, max_leaf_nodes=100, max_features=log2, max_depth=11, total=   0.0s\n",
      "[CV] splitter=best, min_samples_leaf=3, max_leaf_nodes=100, max_features=log2, max_depth=11 \n",
      "[CV]  splitter=best, min_samples_leaf=3, max_leaf_nodes=100, max_features=log2, max_depth=11, total=   0.0s\n",
      "[CV] splitter=best, min_samples_leaf=3, max_leaf_nodes=100, max_features=log2, max_depth=11 \n",
      "[CV]  splitter=best, min_samples_leaf=3, max_leaf_nodes=100, max_features=log2, max_depth=11, total=   0.0s\n",
      "[CV] splitter=random, min_samples_leaf=6, max_leaf_nodes=500, max_features=None, max_depth=9 \n",
      "[CV]  splitter=random, min_samples_leaf=6, max_leaf_nodes=500, max_features=None, max_depth=9, total=   0.0s\n",
      "[CV] splitter=random, min_samples_leaf=6, max_leaf_nodes=500, max_features=None, max_depth=9 \n",
      "[CV]  splitter=random, min_samples_leaf=6, max_leaf_nodes=500, max_features=None, max_depth=9, total=   0.0s\n",
      "[CV] splitter=random, min_samples_leaf=6, max_leaf_nodes=500, max_features=None, max_depth=9 \n",
      "[CV]  splitter=random, min_samples_leaf=6, max_leaf_nodes=500, max_features=None, max_depth=9, total=   0.0s\n",
      "[CV] splitter=random, min_samples_leaf=6, max_leaf_nodes=500, max_features=None, max_depth=9 \n",
      "[CV]  splitter=random, min_samples_leaf=6, max_leaf_nodes=500, max_features=None, max_depth=9, total=   0.0s\n",
      "[CV] splitter=random, min_samples_leaf=6, max_leaf_nodes=500, max_features=None, max_depth=9 \n",
      "[CV]  splitter=random, min_samples_leaf=6, max_leaf_nodes=500, max_features=None, max_depth=9, total=   0.0s\n",
      "[CV] splitter=random, min_samples_leaf=10, max_leaf_nodes=10, max_features=sqrt, max_depth=9 \n",
      "[CV]  splitter=random, min_samples_leaf=10, max_leaf_nodes=10, max_features=sqrt, max_depth=9, total=   0.0s\n",
      "[CV] splitter=random, min_samples_leaf=10, max_leaf_nodes=10, max_features=sqrt, max_depth=9 \n",
      "[CV]  splitter=random, min_samples_leaf=10, max_leaf_nodes=10, max_features=sqrt, max_depth=9, total=   0.0s\n",
      "[CV] splitter=random, min_samples_leaf=10, max_leaf_nodes=10, max_features=sqrt, max_depth=9 \n",
      "[CV]  splitter=random, min_samples_leaf=10, max_leaf_nodes=10, max_features=sqrt, max_depth=9, total=   0.0s\n",
      "[CV] splitter=random, min_samples_leaf=10, max_leaf_nodes=10, max_features=sqrt, max_depth=9 \n",
      "[CV]  splitter=random, min_samples_leaf=10, max_leaf_nodes=10, max_features=sqrt, max_depth=9, total=   0.0s\n",
      "[CV] splitter=random, min_samples_leaf=10, max_leaf_nodes=10, max_features=sqrt, max_depth=9 \n",
      "[CV]  splitter=random, min_samples_leaf=10, max_leaf_nodes=10, max_features=sqrt, max_depth=9, total=   0.0s\n",
      "[CV] splitter=best, min_samples_leaf=6, max_leaf_nodes=500, max_features=auto, max_depth=1 \n",
      "[CV]  splitter=best, min_samples_leaf=6, max_leaf_nodes=500, max_features=auto, max_depth=1, total=   0.0s\n",
      "[CV] splitter=best, min_samples_leaf=6, max_leaf_nodes=500, max_features=auto, max_depth=1 \n",
      "[CV]  splitter=best, min_samples_leaf=6, max_leaf_nodes=500, max_features=auto, max_depth=1, total=   0.0s\n",
      "[CV] splitter=best, min_samples_leaf=6, max_leaf_nodes=500, max_features=auto, max_depth=1 \n",
      "[CV]  splitter=best, min_samples_leaf=6, max_leaf_nodes=500, max_features=auto, max_depth=1, total=   0.0s\n",
      "[CV] splitter=best, min_samples_leaf=6, max_leaf_nodes=500, max_features=auto, max_depth=1 \n",
      "[CV]  splitter=best, min_samples_leaf=6, max_leaf_nodes=500, max_features=auto, max_depth=1, total=   0.0s\n",
      "[CV] splitter=best, min_samples_leaf=6, max_leaf_nodes=500, max_features=auto, max_depth=1 \n",
      "[CV]  splitter=best, min_samples_leaf=6, max_leaf_nodes=500, max_features=auto, max_depth=1, total=   0.0s\n",
      "[CV] splitter=random, min_samples_leaf=3, max_leaf_nodes=100, max_features=sqrt, max_depth=5 \n",
      "[CV]  splitter=random, min_samples_leaf=3, max_leaf_nodes=100, max_features=sqrt, max_depth=5, total=   0.0s\n",
      "[CV] splitter=random, min_samples_leaf=3, max_leaf_nodes=100, max_features=sqrt, max_depth=5 \n",
      "[CV]  splitter=random, min_samples_leaf=3, max_leaf_nodes=100, max_features=sqrt, max_depth=5, total=   0.0s\n",
      "[CV] splitter=random, min_samples_leaf=3, max_leaf_nodes=100, max_features=sqrt, max_depth=5 \n",
      "[CV]  splitter=random, min_samples_leaf=3, max_leaf_nodes=100, max_features=sqrt, max_depth=5, total=   0.0s\n",
      "[CV] splitter=random, min_samples_leaf=3, max_leaf_nodes=100, max_features=sqrt, max_depth=5 \n",
      "[CV]  splitter=random, min_samples_leaf=3, max_leaf_nodes=100, max_features=sqrt, max_depth=5, total=   0.0s\n",
      "[CV] splitter=random, min_samples_leaf=3, max_leaf_nodes=100, max_features=sqrt, max_depth=5 \n",
      "[CV]  splitter=random, min_samples_leaf=3, max_leaf_nodes=100, max_features=sqrt, max_depth=5, total=   0.0s\n"
     ]
    },
    {
     "name": "stderr",
     "output_type": "stream",
     "text": [
      "[Parallel(n_jobs=1)]: Done  50 out of  50 | elapsed:    0.6s finished\n"
     ]
    },
    {
     "data": {
      "text/plain": [
       "RandomizedSearchCV(cv=5, estimator=DecisionTreeRegressor(),\n",
       "                   param_distributions={'max_depth': [1, 3, 5, 7, 9, 11, 12],\n",
       "                                        'max_features': ['auto', 'log2', 'sqrt',\n",
       "                                                         None],\n",
       "                                        'max_leaf_nodes': [None, 10, 20, 50,\n",
       "                                                           100, 200, 500,\n",
       "                                                           1000],\n",
       "                                        'min_samples_leaf': [1, 2, 3, 4, 5, 6,\n",
       "                                                             7, 8, 9, 10],\n",
       "                                        'splitter': ['best', 'random']},\n",
       "                   random_state=42, scoring='neg_mean_squared_error',\n",
       "                   verbose=2)"
      ]
     },
     "execution_count": 93,
     "metadata": {},
     "output_type": "execute_result"
    }
   ],
   "source": [
    "random_dtr.fit(X_train,y_train)"
   ]
  },
  {
   "cell_type": "code",
   "execution_count": 94,
   "metadata": {},
   "outputs": [
    {
     "data": {
      "text/plain": [
       "{'splitter': 'best',\n",
       " 'min_samples_leaf': 7,\n",
       " 'max_leaf_nodes': 100,\n",
       " 'max_features': None,\n",
       " 'max_depth': 11}"
      ]
     },
     "execution_count": 94,
     "metadata": {},
     "output_type": "execute_result"
    }
   ],
   "source": [
    "random_dtr.best_params_"
   ]
  },
  {
   "cell_type": "code",
   "execution_count": 95,
   "metadata": {},
   "outputs": [],
   "source": [
    "pred_dtr=random_dtr.predict(X_test)"
   ]
  },
  {
   "cell_type": "code",
   "execution_count": 96,
   "metadata": {},
   "outputs": [
    {
     "data": {
      "text/plain": [
       "0.6749802861620742"
      ]
     },
     "execution_count": 96,
     "metadata": {},
     "output_type": "execute_result"
    }
   ],
   "source": [
    "tuned_dtr=DecisionTreeRegressor(splitter='random',min_samples_leaf=6,max_leaf_nodes=500,max_features=None,max_depth=9).fit(X_train,y_train)\n",
    "tpred=tuned_dtr.predict(X_test)\n",
    "DTR_Rscv_Test=tuned_dtr.score(X_test,y_test)\n",
    "acc.append(DTR_Rscv_Test)\n",
    "labels.append('DTR & Rscv')\n",
    "DTR_Rscv_Test"
   ]
  },
  {
   "cell_type": "code",
   "execution_count": 97,
   "metadata": {},
   "outputs": [
    {
     "data": {
      "image/png": "[encoded data removed]",
      "text/plain": [
       "<Figure size 576x576 with 1 Axes>"
      ]
     },
     "metadata": {
      "needs_background": "light"
     },
     "output_type": "display_data"
    }
   ],
   "source": [
    "plt.figure(figsize=(8,8))\n",
    "sns.distplot(y_test-pred_dtr)\n",
    "plt.show()"
   ]
  },
  {
   "cell_type": "code",
   "execution_count": 98,
   "metadata": {},
   "outputs": [
    {
     "data": {
      "image/png": "[encoded data removed]",
      "text/plain": [
       "<Figure size 576x576 with 1 Axes>"
      ]
     },
     "metadata": {
      "needs_background": "light"
     },
     "output_type": "display_data"
    }
   ],
   "source": [
    "plt.figure(figsize=(8,8))\n",
    "plt.scatter(y_test,pred_dtr,alpha=0.5)\n",
    "plt.xlabel(\"y_test\")\n",
    "plt.ylabel(\"y_pred\")\n",
    "plt.show()"
   ]
  },
  {
   "cell_type": "markdown",
   "metadata": {},
   "source": [
    "### b) Decision Tree Regressor with Grid Search CV"
   ]
  },
  {
   "cell_type": "code",
   "execution_count": 99,
   "metadata": {},
   "outputs": [],
   "source": [
    "parameters={\"splitter\":[\"best\",\"random\"],\n",
    "            \"max_depth\" : [1,7,9,11,12],\n",
    "           \"max_features\":[\"auto\",\"log2\",\"sqrt\",None],\n",
    "           \"max_leaf_nodes\":[None,10,20,50,100,200,500,1000] }\n",
    "\n",
    "from sklearn.model_selection import GridSearchCV\n",
    "grid_dtr=GridSearchCV(dtr,param_grid=parameters,scoring='neg_mean_squared_error',cv=3,verbose=2)"
   ]
  },
  {
   "cell_type": "code",
   "execution_count": 100,
   "metadata": {},
   "outputs": [
    {
     "name": "stdout",
     "output_type": "stream",
     "text": [
      "Fitting 3 folds for each of 320 candidates, totalling 960 fits\n",
      "[CV] max_depth=1, max_features=auto, max_leaf_nodes=None, splitter=best \n",
      "[CV]  max_depth=1, max_features=auto, max_leaf_nodes=None, splitter=best, total=   0.0s\n",
      "[CV] max_depth=1, max_features=auto, max_leaf_nodes=None, splitter=best \n",
      "[CV]  max_depth=1, max_features=auto, max_leaf_nodes=None, splitter=best, total=   0.0s\n",
      "[CV] max_depth=1, max_features=auto, max_leaf_nodes=None, splitter=best \n",
      "[CV]  max_depth=1, max_features=auto, max_leaf_nodes=None, splitter=best, total=   0.0s\n",
      "[CV] max_depth=1, max_features=auto, max_leaf_nodes=None, splitter=random \n",
      "[CV]  max_depth=1, max_features=auto, max_leaf_nodes=None, splitter=random, total=   0.0s\n",
      "[CV] max_depth=1, max_features=auto, max_leaf_nodes=None, splitter=random \n",
      "[CV]  max_depth=1, max_features=auto, max_leaf_nodes=None, splitter=random, total=   0.0s\n",
      "[CV] max_depth=1, max_features=auto, max_leaf_nodes=None, splitter=random \n",
      "[CV]  max_depth=1, max_features=auto, max_leaf_nodes=None, splitter=random, total=   0.0s\n",
      "[CV] max_depth=1, max_features=auto, max_leaf_nodes=10, splitter=best \n",
      "[CV]  max_depth=1, max_features=auto, max_leaf_nodes=10, splitter=best, total=   0.0s\n",
      "[CV] max_depth=1, max_features=auto, max_leaf_nodes=10, splitter=best \n",
      "[CV]  max_depth=1, max_features=auto, max_leaf_nodes=10, splitter=best, total=   0.0s\n",
      "[CV] max_depth=1, max_features=auto, max_leaf_nodes=10, splitter=best \n",
      "[CV]  max_depth=1, max_features=auto, max_leaf_nodes=10, splitter=best, total=   0.0s\n",
      "[CV] max_depth=1, max_features=auto, max_leaf_nodes=10, splitter=random \n",
      "[CV]  max_depth=1, max_features=auto, max_leaf_nodes=10, splitter=random, total=   0.0s\n",
      "[CV] max_depth=1, max_features=auto, max_leaf_nodes=10, splitter=random \n",
      "[CV]  max_depth=1, max_features=auto, max_leaf_nodes=10, splitter=random, total=   0.0s\n",
      "[CV] max_depth=1, max_features=auto, max_leaf_nodes=10, splitter=random \n",
      "[CV]  max_depth=1, max_features=auto, max_leaf_nodes=10, splitter=random, total=   0.0s\n",
      "[CV] max_depth=1, max_features=auto, max_leaf_nodes=20, splitter=best \n",
      "[CV]  max_depth=1, max_features=auto, max_leaf_nodes=20, splitter=best, total=   0.0s\n",
      "[CV] max_depth=1, max_features=auto, max_leaf_nodes=20, splitter=best \n",
      "[CV]  max_depth=1, max_features=auto, max_leaf_nodes=20, splitter=best, total=   0.0s\n",
      "[CV] max_depth=1, max_features=auto, max_leaf_nodes=20, splitter=best \n",
      "[CV]  max_depth=1, max_features=auto, max_leaf_nodes=20, splitter=best, total=   0.0s\n",
      "[CV] max_depth=1, max_features=auto, max_leaf_nodes=20, splitter=random \n",
      "[CV]  max_depth=1, max_features=auto, max_leaf_nodes=20, splitter=random, total=   0.0s\n",
      "[CV] max_depth=1, max_features=auto, max_leaf_nodes=20, splitter=random \n",
      "[CV]  max_depth=1, max_features=auto, max_leaf_nodes=20, splitter=random, total=   0.0s\n",
      "[CV] max_depth=1, max_features=auto, max_leaf_nodes=20, splitter=random \n",
      "[CV]  max_depth=1, max_features=auto, max_leaf_nodes=20, splitter=random, total=   0.0s\n",
      "[CV] max_depth=1, max_features=auto, max_leaf_nodes=50, splitter=best \n",
      "[CV]  max_depth=1, max_features=auto, max_leaf_nodes=50, splitter=best, total=   0.0s\n",
      "[CV] max_depth=1, max_features=auto, max_leaf_nodes=50, splitter=best \n",
      "[CV]  max_depth=1, max_features=auto, max_leaf_nodes=50, splitter=best, total=   0.0s\n",
      "[CV] max_depth=1, max_features=auto, max_leaf_nodes=50, splitter=best \n",
      "[CV]  max_depth=1, max_features=auto, max_leaf_nodes=50, splitter=best, total=   0.0s\n",
      "[CV] max_depth=1, max_features=auto, max_leaf_nodes=50, splitter=random \n",
      "[CV]  max_depth=1, max_features=auto, max_leaf_nodes=50, splitter=random, total=   0.0s\n",
      "[CV] max_depth=1, max_features=auto, max_leaf_nodes=50, splitter=random \n",
      "[CV]  max_depth=1, max_features=auto, max_leaf_nodes=50, splitter=random, total=   0.0s\n",
      "[CV] max_depth=1, max_features=auto, max_leaf_nodes=50, splitter=random \n",
      "[CV]  max_depth=1, max_features=auto, max_leaf_nodes=50, splitter=random, total=   0.0s\n",
      "[CV] max_depth=1, max_features=auto, max_leaf_nodes=100, splitter=best \n",
      "[CV]  max_depth=1, max_features=auto, max_leaf_nodes=100, splitter=best, total=   0.0s\n",
      "[CV] max_depth=1, max_features=auto, max_leaf_nodes=100, splitter=best \n",
      "[CV]  max_depth=1, max_features=auto, max_leaf_nodes=100, splitter=best, total=   0.0s\n",
      "[CV] max_depth=1, max_features=auto, max_leaf_nodes=100, splitter=best \n",
      "[CV]  max_depth=1, max_features=auto, max_leaf_nodes=100, splitter=best, total=   0.0s\n",
      "[CV] max_depth=1, max_features=auto, max_leaf_nodes=100, splitter=random \n",
      "[CV]  max_depth=1, max_features=auto, max_leaf_nodes=100, splitter=random, total=   0.0s\n",
      "[CV] max_depth=1, max_features=auto, max_leaf_nodes=100, splitter=random \n",
      "[CV]  max_depth=1, max_features=auto, max_leaf_nodes=100, splitter=random, total=   0.0s\n",
      "[CV] max_depth=1, max_features=auto, max_leaf_nodes=100, splitter=random \n",
      "[CV]  max_depth=1, max_features=auto, max_leaf_nodes=100, splitter=random, total=   0.0s\n",
      "[CV] max_depth=1, max_features=auto, max_leaf_nodes=200, splitter=best \n",
      "[CV]  max_depth=1, max_features=auto, max_leaf_nodes=200, splitter=best, total=   0.0s\n",
      "[CV] max_depth=1, max_features=auto, max_leaf_nodes=200, splitter=best \n"
     ]
    },
    {
     "name": "stderr",
     "output_type": "stream",
     "text": [
      "[Parallel(n_jobs=1)]: Using backend SequentialBackend with 1 concurrent workers.\n",
      "[Parallel(n_jobs=1)]: Done   1 out of   1 | elapsed:    0.0s remaining:    0.0s\n"
     ]
    },
    {
     "name": "stdout",
     "output_type": "stream",
     "text": [
      "[CV]  max_depth=1, max_features=auto, max_leaf_nodes=200, splitter=best, total=   0.0s\n",
      "[CV] max_depth=1, max_features=auto, max_leaf_nodes=200, splitter=best \n",
      "[CV]  max_depth=1, max_features=auto, max_leaf_nodes=200, splitter=best, total=   0.0s\n",
      "[CV] max_depth=1, max_features=auto, max_leaf_nodes=200, splitter=random \n",
      "[CV]  max_depth=1, max_features=auto, max_leaf_nodes=200, splitter=random, total=   0.0s\n",
      "[CV] max_depth=1, max_features=auto, max_leaf_nodes=200, splitter=random \n",
      "[CV]  max_depth=1, max_features=auto, max_leaf_nodes=200, splitter=random, total=   0.0s\n",
      "[CV] max_depth=1, max_features=auto, max_leaf_nodes=200, splitter=random \n",
      "[CV]  max_depth=1, max_features=auto, max_leaf_nodes=200, splitter=random, total=   0.0s\n",
      "[CV] max_depth=1, max_features=auto, max_leaf_nodes=500, splitter=best \n",
      "[CV]  max_depth=1, max_features=auto, max_leaf_nodes=500, splitter=best, total=   0.0s\n",
      "[CV] max_depth=1, max_features=auto, max_leaf_nodes=500, splitter=best \n",
      "[CV]  max_depth=1, max_features=auto, max_leaf_nodes=500, splitter=best, total=   0.0s\n",
      "[CV] max_depth=1, max_features=auto, max_leaf_nodes=500, splitter=best \n",
      "[CV]  max_depth=1, max_features=auto, max_leaf_nodes=500, splitter=best, total=   0.0s\n",
      "[CV] max_depth=1, max_features=auto, max_leaf_nodes=500, splitter=random \n",
      "[CV]  max_depth=1, max_features=auto, max_leaf_nodes=500, splitter=random, total=   0.0s\n",
      "[CV] max_depth=1, max_features=auto, max_leaf_nodes=500, splitter=random \n",
      "[CV]  max_depth=1, max_features=auto, max_leaf_nodes=500, splitter=random, total=   0.0s\n",
      "[CV] max_depth=1, max_features=auto, max_leaf_nodes=500, splitter=random \n",
      "[CV]  max_depth=1, max_features=auto, max_leaf_nodes=500, splitter=random, total=   0.0s\n",
      "[CV] max_depth=1, max_features=auto, max_leaf_nodes=1000, splitter=best \n",
      "[CV]  max_depth=1, max_features=auto, max_leaf_nodes=1000, splitter=best, total=   0.0s\n",
      "[CV] max_depth=1, max_features=auto, max_leaf_nodes=1000, splitter=best \n",
      "[CV]  max_depth=1, max_features=auto, max_leaf_nodes=1000, splitter=best, total=   0.0s\n",
      "[CV] max_depth=1, max_features=auto, max_leaf_nodes=1000, splitter=best \n",
      "[CV]  max_depth=1, max_features=auto, max_leaf_nodes=1000, splitter=best, total=   0.0s\n",
      "[CV] max_depth=1, max_features=auto, max_leaf_nodes=1000, splitter=random \n",
      "[CV]  max_depth=1, max_features=auto, max_leaf_nodes=1000, splitter=random, total=   0.0s\n",
      "[CV] max_depth=1, max_features=auto, max_leaf_nodes=1000, splitter=random \n",
      "[CV]  max_depth=1, max_features=auto, max_leaf_nodes=1000, splitter=random, total=   0.0s\n",
      "[CV] max_depth=1, max_features=auto, max_leaf_nodes=1000, splitter=random \n",
      "[CV]  max_depth=1, max_features=auto, max_leaf_nodes=1000, splitter=random, total=   0.0s\n",
      "[CV] max_depth=1, max_features=log2, max_leaf_nodes=None, splitter=best \n",
      "[CV]  max_depth=1, max_features=log2, max_leaf_nodes=None, splitter=best, total=   0.0s\n",
      "[CV] max_depth=1, max_features=log2, max_leaf_nodes=None, splitter=best \n",
      "[CV]  max_depth=1, max_features=log2, max_leaf_nodes=None, splitter=best, total=   0.0s\n",
      "[CV] max_depth=1, max_features=log2, max_leaf_nodes=None, splitter=best \n",
      "[CV]  max_depth=1, max_features=log2, max_leaf_nodes=None, splitter=best, total=   0.0s\n",
      "[CV] max_depth=1, max_features=log2, max_leaf_nodes=None, splitter=random \n",
      "[CV]  max_depth=1, max_features=log2, max_leaf_nodes=None, splitter=random, total=   0.0s\n",
      "[CV] max_depth=1, max_features=log2, max_leaf_nodes=None, splitter=random \n",
      "[CV]  max_depth=1, max_features=log2, max_leaf_nodes=None, splitter=random, total=   0.0s\n",
      "[CV] max_depth=1, max_features=log2, max_leaf_nodes=None, splitter=random \n",
      "[CV]  max_depth=1, max_features=log2, max_leaf_nodes=None, splitter=random, total=   0.0s\n",
      "[CV] max_depth=1, max_features=log2, max_leaf_nodes=10, splitter=best \n",
      "[CV]  max_depth=1, max_features=log2, max_leaf_nodes=10, splitter=best, total=   0.0s\n",
      "[CV] max_depth=1, max_features=log2, max_leaf_nodes=10, splitter=best \n",
      "[CV]  max_depth=1, max_features=log2, max_leaf_nodes=10, splitter=best, total=   0.0s\n",
      "[CV] max_depth=1, max_features=log2, max_leaf_nodes=10, splitter=best \n",
      "[CV]  max_depth=1, max_features=log2, max_leaf_nodes=10, splitter=best, total=   0.0s\n",
      "[CV] max_depth=1, max_features=log2, max_leaf_nodes=10, splitter=random \n",
      "[CV]  max_depth=1, max_features=log2, max_leaf_nodes=10, splitter=random, total=   0.0s\n",
      "[CV] max_depth=1, max_features=log2, max_leaf_nodes=10, splitter=random \n",
      "[CV]  max_depth=1, max_features=log2, max_leaf_nodes=10, splitter=random, total=   0.0s\n",
      "[CV] max_depth=1, max_features=log2, max_leaf_nodes=10, splitter=random \n",
      "[CV]  max_depth=1, max_features=log2, max_leaf_nodes=10, splitter=random, total=   0.0s\n",
      "[CV] max_depth=1, max_features=log2, max_leaf_nodes=20, splitter=best \n",
      "[CV]  max_depth=1, max_features=log2, max_leaf_nodes=20, splitter=best, total=   0.0s\n",
      "[CV] max_depth=1, max_features=log2, max_leaf_nodes=20, splitter=best \n",
      "[CV]  max_depth=1, max_features=log2, max_leaf_nodes=20, splitter=best, total=   0.0s\n",
      "[CV] max_depth=1, max_features=log2, max_leaf_nodes=20, splitter=best \n",
      "[CV]  max_depth=1, max_features=log2, max_leaf_nodes=20, splitter=best, total=   0.0s\n",
      "[CV] max_depth=1, max_features=log2, max_leaf_nodes=20, splitter=random \n",
      "[CV]  max_depth=1, max_features=log2, max_leaf_nodes=20, splitter=random, total=   0.0s\n",
      "[CV] max_depth=1, max_features=log2, max_leaf_nodes=20, splitter=random \n",
      "[CV]  max_depth=1, max_features=log2, max_leaf_nodes=20, splitter=random, total=   0.0s\n",
      "[CV] max_depth=1, max_features=log2, max_leaf_nodes=20, splitter=random \n",
      "[CV]  max_depth=1, max_features=log2, max_leaf_nodes=20, splitter=random, total=   0.0s\n",
      "[CV] max_depth=1, max_features=log2, max_leaf_nodes=50, splitter=best \n",
      "[CV]  max_depth=1, max_features=log2, max_leaf_nodes=50, splitter=best, total=   0.0s\n",
      "[CV] max_depth=1, max_features=log2, max_leaf_nodes=50, splitter=best \n",
      "[CV]  max_depth=1, max_features=log2, max_leaf_nodes=50, splitter=best, total=   0.0s\n",
      "[CV] max_depth=1, max_features=log2, max_leaf_nodes=50, splitter=best \n",
      "[CV]  max_depth=1, max_features=log2, max_leaf_nodes=50, splitter=best, total=   0.0s\n",
      "[CV] max_depth=1, max_features=log2, max_leaf_nodes=50, splitter=random \n",
      "[CV]  max_depth=1, max_features=log2, max_leaf_nodes=50, splitter=random, total=   0.0s\n",
      "[CV] max_depth=1, max_features=log2, max_leaf_nodes=50, splitter=random \n",
      "[CV]  max_depth=1, max_features=log2, max_leaf_nodes=50, splitter=random, total=   0.0s\n",
      "[CV] max_depth=1, max_features=log2, max_leaf_nodes=50, splitter=random \n",
      "[CV]  max_depth=1, max_features=log2, max_leaf_nodes=50, splitter=random, total=   0.0s\n",
      "[CV] max_depth=1, max_features=log2, max_leaf_nodes=100, splitter=best \n",
      "[CV]  max_depth=1, max_features=log2, max_leaf_nodes=100, splitter=best, total=   0.0s\n",
      "[CV] max_depth=1, max_features=log2, max_leaf_nodes=100, splitter=best \n",
      "[CV]  max_depth=1, max_features=log2, max_leaf_nodes=100, splitter=best, total=   0.0s\n",
      "[CV] max_depth=1, max_features=log2, max_leaf_nodes=100, splitter=best \n",
      "[CV]  max_depth=1, max_features=log2, max_leaf_nodes=100, splitter=best, total=   0.0s\n",
      "[CV] max_depth=1, max_features=log2, max_leaf_nodes=100, splitter=random \n",
      "[CV]  max_depth=1, max_features=log2, max_leaf_nodes=100, splitter=random, total=   0.0s\n",
      "[CV] max_depth=1, max_features=log2, max_leaf_nodes=100, splitter=random \n",
      "[CV]  max_depth=1, max_features=log2, max_leaf_nodes=100, splitter=random, total=   0.0s\n",
      "[CV] max_depth=1, max_features=log2, max_leaf_nodes=100, splitter=random \n",
      "[CV]  max_depth=1, max_features=log2, max_leaf_nodes=100, splitter=random, total=   0.0s\n",
      "[CV] max_depth=1, max_features=log2, max_leaf_nodes=200, splitter=best \n",
      "[CV]  max_depth=1, max_features=log2, max_leaf_nodes=200, splitter=best, total=   0.0s\n",
      "[CV] max_depth=1, max_features=log2, max_leaf_nodes=200, splitter=best \n",
      "[CV]  max_depth=1, max_features=log2, max_leaf_nodes=200, splitter=best, total=   0.0s\n",
      "[CV] max_depth=1, max_features=log2, max_leaf_nodes=200, splitter=best \n",
      "[CV]  max_depth=1, max_features=log2, max_leaf_nodes=200, splitter=best, total=   0.0s\n",
      "[CV] max_depth=1, max_features=log2, max_leaf_nodes=200, splitter=random \n",
      "[CV]  max_depth=1, max_features=log2, max_leaf_nodes=200, splitter=random, total=   0.0s\n",
      "[CV] max_depth=1, max_features=log2, max_leaf_nodes=200, splitter=random \n",
      "[CV]  max_depth=1, max_features=log2, max_leaf_nodes=200, splitter=random, total=   0.0s\n",
      "[CV] max_depth=1, max_features=log2, max_leaf_nodes=200, splitter=random \n",
      "[CV]  max_depth=1, max_features=log2, max_leaf_nodes=200, splitter=random, total=   0.0s\n",
      "[CV] max_depth=1, max_features=log2, max_leaf_nodes=500, splitter=best \n",
      "[CV]  max_depth=1, max_features=log2, max_leaf_nodes=500, splitter=best, total=   0.0s\n",
      "[CV] max_depth=1, max_features=log2, max_leaf_nodes=500, splitter=best \n",
      "[CV]  max_depth=1, max_features=log2, max_leaf_nodes=500, splitter=best, total=   0.0s\n",
      "[CV] max_depth=1, max_features=log2, max_leaf_nodes=500, splitter=best \n",
      "[CV]  max_depth=1, max_features=log2, max_leaf_nodes=500, splitter=best, total=   0.0s\n",
      "[CV] max_depth=1, max_features=log2, max_leaf_nodes=500, splitter=random \n",
      "[CV]  max_depth=1, max_features=log2, max_leaf_nodes=500, splitter=random, total=   0.0s\n",
      "[CV] max_depth=1, max_features=log2, max_leaf_nodes=500, splitter=random \n",
      "[CV]  max_depth=1, max_features=log2, max_leaf_nodes=500, splitter=random, total=   0.0s\n",
      "[CV] max_depth=1, max_features=log2, max_leaf_nodes=500, splitter=random \n",
      "[CV]  max_depth=1, max_features=log2, max_leaf_nodes=500, splitter=random, total=   0.0s\n",
      "[CV] max_depth=1, max_features=log2, max_leaf_nodes=1000, splitter=best \n",
      "[CV]  max_depth=1, max_features=log2, max_leaf_nodes=1000, splitter=best, total=   0.0s\n",
      "[CV] max_depth=1, max_features=log2, max_leaf_nodes=1000, splitter=best \n",
      "[CV]  max_depth=1, max_features=log2, max_leaf_nodes=1000, splitter=best, total=   0.0s\n",
      "[CV] max_depth=1, max_features=log2, max_leaf_nodes=1000, splitter=best \n",
      "[CV]  max_depth=1, max_features=log2, max_leaf_nodes=1000, splitter=best, total=   0.0s\n",
      "[CV] max_depth=1, max_features=log2, max_leaf_nodes=1000, splitter=random \n",
      "[CV]  max_depth=1, max_features=log2, max_leaf_nodes=1000, splitter=random, total=   0.0s\n",
      "[CV] max_depth=1, max_features=log2, max_leaf_nodes=1000, splitter=random \n",
      "[CV]  max_depth=1, max_features=log2, max_leaf_nodes=1000, splitter=random, total=   0.0s\n",
      "[CV] max_depth=1, max_features=log2, max_leaf_nodes=1000, splitter=random \n",
      "[CV]  max_depth=1, max_features=log2, max_leaf_nodes=1000, splitter=random, total=   0.0s\n",
      "[CV] max_depth=1, max_features=sqrt, max_leaf_nodes=None, splitter=best \n"
     ]
    },
    {
     "name": "stdout",
     "output_type": "stream",
     "text": [
      "[CV]  max_depth=1, max_features=sqrt, max_leaf_nodes=None, splitter=best, total=   0.0s\n",
      "[CV] max_depth=1, max_features=sqrt, max_leaf_nodes=None, splitter=best \n",
      "[CV]  max_depth=1, max_features=sqrt, max_leaf_nodes=None, splitter=best, total=   0.0s\n",
      "[CV] max_depth=1, max_features=sqrt, max_leaf_nodes=None, splitter=best \n",
      "[CV]  max_depth=1, max_features=sqrt, max_leaf_nodes=None, splitter=best, total=   0.0s\n",
      "[CV] max_depth=1, max_features=sqrt, max_leaf_nodes=None, splitter=random \n",
      "[CV]  max_depth=1, max_features=sqrt, max_leaf_nodes=None, splitter=random, total=   0.0s\n",
      "[CV] max_depth=1, max_features=sqrt, max_leaf_nodes=None, splitter=random \n",
      "[CV]  max_depth=1, max_features=sqrt, max_leaf_nodes=None, splitter=random, total=   0.0s\n",
      "[CV] max_depth=1, max_features=sqrt, max_leaf_nodes=None, splitter=random \n",
      "[CV]  max_depth=1, max_features=sqrt, max_leaf_nodes=None, splitter=random, total=   0.0s\n",
      "[CV] max_depth=1, max_features=sqrt, max_leaf_nodes=10, splitter=best \n",
      "[CV]  max_depth=1, max_features=sqrt, max_leaf_nodes=10, splitter=best, total=   0.0s\n",
      "[CV] max_depth=1, max_features=sqrt, max_leaf_nodes=10, splitter=best \n",
      "[CV]  max_depth=1, max_features=sqrt, max_leaf_nodes=10, splitter=best, total=   0.0s\n",
      "[CV] max_depth=1, max_features=sqrt, max_leaf_nodes=10, splitter=best \n",
      "[CV]  max_depth=1, max_features=sqrt, max_leaf_nodes=10, splitter=best, total=   0.0s\n",
      "[CV] max_depth=1, max_features=sqrt, max_leaf_nodes=10, splitter=random \n",
      "[CV]  max_depth=1, max_features=sqrt, max_leaf_nodes=10, splitter=random, total=   0.0s\n",
      "[CV] max_depth=1, max_features=sqrt, max_leaf_nodes=10, splitter=random \n",
      "[CV]  max_depth=1, max_features=sqrt, max_leaf_nodes=10, splitter=random, total=   0.0s\n",
      "[CV] max_depth=1, max_features=sqrt, max_leaf_nodes=10, splitter=random \n",
      "[CV]  max_depth=1, max_features=sqrt, max_leaf_nodes=10, splitter=random, total=   0.0s\n",
      "[CV] max_depth=1, max_features=sqrt, max_leaf_nodes=20, splitter=best \n",
      "[CV]  max_depth=1, max_features=sqrt, max_leaf_nodes=20, splitter=best, total=   0.0s\n",
      "[CV] max_depth=1, max_features=sqrt, max_leaf_nodes=20, splitter=best \n",
      "[CV]  max_depth=1, max_features=sqrt, max_leaf_nodes=20, splitter=best, total=   0.0s\n",
      "[CV] max_depth=1, max_features=sqrt, max_leaf_nodes=20, splitter=best \n",
      "[CV]  max_depth=1, max_features=sqrt, max_leaf_nodes=20, splitter=best, total=   0.0s\n",
      "[CV] max_depth=1, max_features=sqrt, max_leaf_nodes=20, splitter=random \n",
      "[CV]  max_depth=1, max_features=sqrt, max_leaf_nodes=20, splitter=random, total=   0.0s\n",
      "[CV] max_depth=1, max_features=sqrt, max_leaf_nodes=20, splitter=random \n",
      "[CV]  max_depth=1, max_features=sqrt, max_leaf_nodes=20, splitter=random, total=   0.0s\n",
      "[CV] max_depth=1, max_features=sqrt, max_leaf_nodes=20, splitter=random \n",
      "[CV]  max_depth=1, max_features=sqrt, max_leaf_nodes=20, splitter=random, total=   0.0s\n",
      "[CV] max_depth=1, max_features=sqrt, max_leaf_nodes=50, splitter=best \n",
      "[CV]  max_depth=1, max_features=sqrt, max_leaf_nodes=50, splitter=best, total=   0.0s\n",
      "[CV] max_depth=1, max_features=sqrt, max_leaf_nodes=50, splitter=best \n",
      "[CV]  max_depth=1, max_features=sqrt, max_leaf_nodes=50, splitter=best, total=   0.0s\n",
      "[CV] max_depth=1, max_features=sqrt, max_leaf_nodes=50, splitter=best \n",
      "[CV]  max_depth=1, max_features=sqrt, max_leaf_nodes=50, splitter=best, total=   0.0s\n",
      "[CV] max_depth=1, max_features=sqrt, max_leaf_nodes=50, splitter=random \n",
      "[CV]  max_depth=1, max_features=sqrt, max_leaf_nodes=50, splitter=random, total=   0.0s\n",
      "[CV] max_depth=1, max_features=sqrt, max_leaf_nodes=50, splitter=random \n",
      "[CV]  max_depth=1, max_features=sqrt, max_leaf_nodes=50, splitter=random, total=   0.0s\n",
      "[CV] max_depth=1, max_features=sqrt, max_leaf_nodes=50, splitter=random \n",
      "[CV]  max_depth=1, max_features=sqrt, max_leaf_nodes=50, splitter=random, total=   0.0s\n",
      "[CV] max_depth=1, max_features=sqrt, max_leaf_nodes=100, splitter=best \n",
      "[CV]  max_depth=1, max_features=sqrt, max_leaf_nodes=100, splitter=best, total=   0.0s\n",
      "[CV] max_depth=1, max_features=sqrt, max_leaf_nodes=100, splitter=best \n",
      "[CV]  max_depth=1, max_features=sqrt, max_leaf_nodes=100, splitter=best, total=   0.0s\n",
      "[CV] max_depth=1, max_features=sqrt, max_leaf_nodes=100, splitter=best \n",
      "[CV]  max_depth=1, max_features=sqrt, max_leaf_nodes=100, splitter=best, total=   0.0s\n",
      "[CV] max_depth=1, max_features=sqrt, max_leaf_nodes=100, splitter=random \n",
      "[CV]  max_depth=1, max_features=sqrt, max_leaf_nodes=100, splitter=random, total=   0.0s\n",
      "[CV] max_depth=1, max_features=sqrt, max_leaf_nodes=100, splitter=random \n",
      "[CV]  max_depth=1, max_features=sqrt, max_leaf_nodes=100, splitter=random, total=   0.0s\n",
      "[CV] max_depth=1, max_features=sqrt, max_leaf_nodes=100, splitter=random \n",
      "[CV]  max_depth=1, max_features=sqrt, max_leaf_nodes=100, splitter=random, total=   0.0s\n",
      "[CV] max_depth=1, max_features=sqrt, max_leaf_nodes=200, splitter=best \n",
      "[CV]  max_depth=1, max_features=sqrt, max_leaf_nodes=200, splitter=best, total=   0.0s\n",
      "[CV] max_depth=1, max_features=sqrt, max_leaf_nodes=200, splitter=best \n",
      "[CV]  max_depth=1, max_features=sqrt, max_leaf_nodes=200, splitter=best, total=   0.0s\n",
      "[CV] max_depth=1, max_features=sqrt, max_leaf_nodes=200, splitter=best \n",
      "[CV]  max_depth=1, max_features=sqrt, max_leaf_nodes=200, splitter=best, total=   0.0s\n",
      "[CV] max_depth=1, max_features=sqrt, max_leaf_nodes=200, splitter=random \n",
      "[CV]  max_depth=1, max_features=sqrt, max_leaf_nodes=200, splitter=random, total=   0.0s\n",
      "[CV] max_depth=1, max_features=sqrt, max_leaf_nodes=200, splitter=random \n",
      "[CV]  max_depth=1, max_features=sqrt, max_leaf_nodes=200, splitter=random, total=   0.0s\n",
      "[CV] max_depth=1, max_features=sqrt, max_leaf_nodes=200, splitter=random \n",
      "[CV]  max_depth=1, max_features=sqrt, max_leaf_nodes=200, splitter=random, total=   0.0s\n",
      "[CV] max_depth=1, max_features=sqrt, max_leaf_nodes=500, splitter=best \n",
      "[CV]  max_depth=1, max_features=sqrt, max_leaf_nodes=500, splitter=best, total=   0.0s\n",
      "[CV] max_depth=1, max_features=sqrt, max_leaf_nodes=500, splitter=best \n",
      "[CV]  max_depth=1, max_features=sqrt, max_leaf_nodes=500, splitter=best, total=   0.0s\n",
      "[CV] max_depth=1, max_features=sqrt, max_leaf_nodes=500, splitter=best \n",
      "[CV]  max_depth=1, max_features=sqrt, max_leaf_nodes=500, splitter=best, total=   0.0s\n",
      "[CV] max_depth=1, max_features=sqrt, max_leaf_nodes=500, splitter=random \n",
      "[CV]  max_depth=1, max_features=sqrt, max_leaf_nodes=500, splitter=random, total=   0.0s\n",
      "[CV] max_depth=1, max_features=sqrt, max_leaf_nodes=500, splitter=random \n",
      "[CV]  max_depth=1, max_features=sqrt, max_leaf_nodes=500, splitter=random, total=   0.0s\n",
      "[CV] max_depth=1, max_features=sqrt, max_leaf_nodes=500, splitter=random \n",
      "[CV]  max_depth=1, max_features=sqrt, max_leaf_nodes=500, splitter=random, total=   0.0s\n",
      "[CV] max_depth=1, max_features=sqrt, max_leaf_nodes=1000, splitter=best \n",
      "[CV]  max_depth=1, max_features=sqrt, max_leaf_nodes=1000, splitter=best, total=   0.0s\n",
      "[CV] max_depth=1, max_features=sqrt, max_leaf_nodes=1000, splitter=best \n",
      "[CV]  max_depth=1, max_features=sqrt, max_leaf_nodes=1000, splitter=best, total=   0.0s\n",
      "[CV] max_depth=1, max_features=sqrt, max_leaf_nodes=1000, splitter=best \n",
      "[CV]  max_depth=1, max_features=sqrt, max_leaf_nodes=1000, splitter=best, total=   0.0s\n",
      "[CV] max_depth=1, max_features=sqrt, max_leaf_nodes=1000, splitter=random \n",
      "[CV]  max_depth=1, max_features=sqrt, max_leaf_nodes=1000, splitter=random, total=   0.0s\n",
      "[CV] max_depth=1, max_features=sqrt, max_leaf_nodes=1000, splitter=random \n",
      "[CV]  max_depth=1, max_features=sqrt, max_leaf_nodes=1000, splitter=random, total=   0.0s\n",
      "[CV] max_depth=1, max_features=sqrt, max_leaf_nodes=1000, splitter=random \n",
      "[CV]  max_depth=1, max_features=sqrt, max_leaf_nodes=1000, splitter=random, total=   0.0s\n",
      "[CV] max_depth=1, max_features=None, max_leaf_nodes=None, splitter=best \n",
      "[CV]  max_depth=1, max_features=None, max_leaf_nodes=None, splitter=best, total=   0.0s\n",
      "[CV] max_depth=1, max_features=None, max_leaf_nodes=None, splitter=best \n",
      "[CV]  max_depth=1, max_features=None, max_leaf_nodes=None, splitter=best, total=   0.0s\n",
      "[CV] max_depth=1, max_features=None, max_leaf_nodes=None, splitter=best \n",
      "[CV]  max_depth=1, max_features=None, max_leaf_nodes=None, splitter=best, total=   0.0s\n",
      "[CV] max_depth=1, max_features=None, max_leaf_nodes=None, splitter=random \n",
      "[CV]  max_depth=1, max_features=None, max_leaf_nodes=None, splitter=random, total=   0.0s\n",
      "[CV] max_depth=1, max_features=None, max_leaf_nodes=None, splitter=random \n",
      "[CV]  max_depth=1, max_features=None, max_leaf_nodes=None, splitter=random, total=   0.0s\n",
      "[CV] max_depth=1, max_features=None, max_leaf_nodes=None, splitter=random \n",
      "[CV]  max_depth=1, max_features=None, max_leaf_nodes=None, splitter=random, total=   0.0s\n",
      "[CV] max_depth=1, max_features=None, max_leaf_nodes=10, splitter=best \n",
      "[CV]  max_depth=1, max_features=None, max_leaf_nodes=10, splitter=best, total=   0.0s\n",
      "[CV] max_depth=1, max_features=None, max_leaf_nodes=10, splitter=best \n",
      "[CV]  max_depth=1, max_features=None, max_leaf_nodes=10, splitter=best, total=   0.0s\n",
      "[CV] max_depth=1, max_features=None, max_leaf_nodes=10, splitter=best \n",
      "[CV]  max_depth=1, max_features=None, max_leaf_nodes=10, splitter=best, total=   0.0s\n",
      "[CV] max_depth=1, max_features=None, max_leaf_nodes=10, splitter=random \n",
      "[CV]  max_depth=1, max_features=None, max_leaf_nodes=10, splitter=random, total=   0.0s\n",
      "[CV] max_depth=1, max_features=None, max_leaf_nodes=10, splitter=random \n",
      "[CV]  max_depth=1, max_features=None, max_leaf_nodes=10, splitter=random, total=   0.0s\n",
      "[CV] max_depth=1, max_features=None, max_leaf_nodes=10, splitter=random \n",
      "[CV]  max_depth=1, max_features=None, max_leaf_nodes=10, splitter=random, total=   0.0s\n",
      "[CV] max_depth=1, max_features=None, max_leaf_nodes=20, splitter=best \n",
      "[CV]  max_depth=1, max_features=None, max_leaf_nodes=20, splitter=best, total=   0.0s\n",
      "[CV] max_depth=1, max_features=None, max_leaf_nodes=20, splitter=best \n",
      "[CV]  max_depth=1, max_features=None, max_leaf_nodes=20, splitter=best, total=   0.0s\n",
      "[CV] max_depth=1, max_features=None, max_leaf_nodes=20, splitter=best \n",
      "[CV]  max_depth=1, max_features=None, max_leaf_nodes=20, splitter=best, total=   0.0s\n",
      "[CV] max_depth=1, max_features=None, max_leaf_nodes=20, splitter=random \n",
      "[CV]  max_depth=1, max_features=None, max_leaf_nodes=20, splitter=random, total=   0.0s\n",
      "[CV] max_depth=1, max_features=None, max_leaf_nodes=20, splitter=random \n",
      "[CV]  max_depth=1, max_features=None, max_leaf_nodes=20, splitter=random, total=   0.0s\n",
      "[CV] max_depth=1, max_features=None, max_leaf_nodes=20, splitter=random \n",
      "[CV]  max_depth=1, max_features=None, max_leaf_nodes=20, splitter=random, total=   0.0s\n",
      "[CV] max_depth=1, max_features=None, max_leaf_nodes=50, splitter=best \n",
      "[CV]  max_depth=1, max_features=None, max_leaf_nodes=50, splitter=best, total=   0.0s\n",
      "[CV] max_depth=1, max_features=None, max_leaf_nodes=50, splitter=best \n",
      "[CV]  max_depth=1, max_features=None, max_leaf_nodes=50, splitter=best, total=   0.0s\n",
      "[CV] max_depth=1, max_features=None, max_leaf_nodes=50, splitter=best \n",
      "[CV]  max_depth=1, max_features=None, max_leaf_nodes=50, splitter=best, total=   0.0s\n",
      "[CV] max_depth=1, max_features=None, max_leaf_nodes=50, splitter=random \n",
      "[CV]  max_depth=1, max_features=None, max_leaf_nodes=50, splitter=random, total=   0.0s\n",
      "[CV] max_depth=1, max_features=None, max_leaf_nodes=50, splitter=random \n"
     ]
    },
    {
     "name": "stdout",
     "output_type": "stream",
     "text": [
      "[CV]  max_depth=1, max_features=None, max_leaf_nodes=50, splitter=random, total=   0.0s\n",
      "[CV] max_depth=1, max_features=None, max_leaf_nodes=50, splitter=random \n",
      "[CV]  max_depth=1, max_features=None, max_leaf_nodes=50, splitter=random, total=   0.0s\n",
      "[CV] max_depth=1, max_features=None, max_leaf_nodes=100, splitter=best \n",
      "[CV]  max_depth=1, max_features=None, max_leaf_nodes=100, splitter=best, total=   0.0s\n",
      "[CV] max_depth=1, max_features=None, max_leaf_nodes=100, splitter=best \n",
      "[CV]  max_depth=1, max_features=None, max_leaf_nodes=100, splitter=best, total=   0.0s\n",
      "[CV] max_depth=1, max_features=None, max_leaf_nodes=100, splitter=best \n",
      "[CV]  max_depth=1, max_features=None, max_leaf_nodes=100, splitter=best, total=   0.0s\n",
      "[CV] max_depth=1, max_features=None, max_leaf_nodes=100, splitter=random \n",
      "[CV]  max_depth=1, max_features=None, max_leaf_nodes=100, splitter=random, total=   0.0s\n",
      "[CV] max_depth=1, max_features=None, max_leaf_nodes=100, splitter=random \n",
      "[CV]  max_depth=1, max_features=None, max_leaf_nodes=100, splitter=random, total=   0.0s\n",
      "[CV] max_depth=1, max_features=None, max_leaf_nodes=100, splitter=random \n",
      "[CV]  max_depth=1, max_features=None, max_leaf_nodes=100, splitter=random, total=   0.0s\n",
      "[CV] max_depth=1, max_features=None, max_leaf_nodes=200, splitter=best \n",
      "[CV]  max_depth=1, max_features=None, max_leaf_nodes=200, splitter=best, total=   0.0s\n",
      "[CV] max_depth=1, max_features=None, max_leaf_nodes=200, splitter=best \n",
      "[CV]  max_depth=1, max_features=None, max_leaf_nodes=200, splitter=best, total=   0.0s\n",
      "[CV] max_depth=1, max_features=None, max_leaf_nodes=200, splitter=best \n",
      "[CV]  max_depth=1, max_features=None, max_leaf_nodes=200, splitter=best, total=   0.0s\n",
      "[CV] max_depth=1, max_features=None, max_leaf_nodes=200, splitter=random \n",
      "[CV]  max_depth=1, max_features=None, max_leaf_nodes=200, splitter=random, total=   0.0s\n",
      "[CV] max_depth=1, max_features=None, max_leaf_nodes=200, splitter=random \n",
      "[CV]  max_depth=1, max_features=None, max_leaf_nodes=200, splitter=random, total=   0.0s\n",
      "[CV] max_depth=1, max_features=None, max_leaf_nodes=200, splitter=random \n",
      "[CV]  max_depth=1, max_features=None, max_leaf_nodes=200, splitter=random, total=   0.0s\n",
      "[CV] max_depth=1, max_features=None, max_leaf_nodes=500, splitter=best \n",
      "[CV]  max_depth=1, max_features=None, max_leaf_nodes=500, splitter=best, total=   0.0s\n",
      "[CV] max_depth=1, max_features=None, max_leaf_nodes=500, splitter=best \n",
      "[CV]  max_depth=1, max_features=None, max_leaf_nodes=500, splitter=best, total=   0.0s\n",
      "[CV] max_depth=1, max_features=None, max_leaf_nodes=500, splitter=best \n",
      "[CV]  max_depth=1, max_features=None, max_leaf_nodes=500, splitter=best, total=   0.0s\n",
      "[CV] max_depth=1, max_features=None, max_leaf_nodes=500, splitter=random \n",
      "[CV]  max_depth=1, max_features=None, max_leaf_nodes=500, splitter=random, total=   0.0s\n",
      "[CV] max_depth=1, max_features=None, max_leaf_nodes=500, splitter=random \n",
      "[CV]  max_depth=1, max_features=None, max_leaf_nodes=500, splitter=random, total=   0.0s\n",
      "[CV] max_depth=1, max_features=None, max_leaf_nodes=500, splitter=random \n",
      "[CV]  max_depth=1, max_features=None, max_leaf_nodes=500, splitter=random, total=   0.0s\n",
      "[CV] max_depth=1, max_features=None, max_leaf_nodes=1000, splitter=best \n",
      "[CV]  max_depth=1, max_features=None, max_leaf_nodes=1000, splitter=best, total=   0.0s\n",
      "[CV] max_depth=1, max_features=None, max_leaf_nodes=1000, splitter=best \n",
      "[CV]  max_depth=1, max_features=None, max_leaf_nodes=1000, splitter=best, total=   0.0s\n",
      "[CV] max_depth=1, max_features=None, max_leaf_nodes=1000, splitter=best \n",
      "[CV]  max_depth=1, max_features=None, max_leaf_nodes=1000, splitter=best, total=   0.0s\n",
      "[CV] max_depth=1, max_features=None, max_leaf_nodes=1000, splitter=random \n",
      "[CV]  max_depth=1, max_features=None, max_leaf_nodes=1000, splitter=random, total=   0.0s\n",
      "[CV] max_depth=1, max_features=None, max_leaf_nodes=1000, splitter=random \n",
      "[CV]  max_depth=1, max_features=None, max_leaf_nodes=1000, splitter=random, total=   0.0s\n",
      "[CV] max_depth=1, max_features=None, max_leaf_nodes=1000, splitter=random \n",
      "[CV]  max_depth=1, max_features=None, max_leaf_nodes=1000, splitter=random, total=   0.0s\n",
      "[CV] max_depth=7, max_features=auto, max_leaf_nodes=None, splitter=best \n",
      "[CV]  max_depth=7, max_features=auto, max_leaf_nodes=None, splitter=best, total=   0.0s\n",
      "[CV] max_depth=7, max_features=auto, max_leaf_nodes=None, splitter=best \n",
      "[CV]  max_depth=7, max_features=auto, max_leaf_nodes=None, splitter=best, total=   0.0s\n",
      "[CV] max_depth=7, max_features=auto, max_leaf_nodes=None, splitter=best \n",
      "[CV]  max_depth=7, max_features=auto, max_leaf_nodes=None, splitter=best, total=   0.0s\n",
      "[CV] max_depth=7, max_features=auto, max_leaf_nodes=None, splitter=random \n",
      "[CV]  max_depth=7, max_features=auto, max_leaf_nodes=None, splitter=random, total=   0.0s\n",
      "[CV] max_depth=7, max_features=auto, max_leaf_nodes=None, splitter=random \n",
      "[CV]  max_depth=7, max_features=auto, max_leaf_nodes=None, splitter=random, total=   0.0s\n",
      "[CV] max_depth=7, max_features=auto, max_leaf_nodes=None, splitter=random \n",
      "[CV]  max_depth=7, max_features=auto, max_leaf_nodes=None, splitter=random, total=   0.0s\n",
      "[CV] max_depth=7, max_features=auto, max_leaf_nodes=10, splitter=best \n",
      "[CV]  max_depth=7, max_features=auto, max_leaf_nodes=10, splitter=best, total=   0.0s\n",
      "[CV] max_depth=7, max_features=auto, max_leaf_nodes=10, splitter=best \n",
      "[CV]  max_depth=7, max_features=auto, max_leaf_nodes=10, splitter=best, total=   0.0s\n",
      "[CV] max_depth=7, max_features=auto, max_leaf_nodes=10, splitter=best \n",
      "[CV]  max_depth=7, max_features=auto, max_leaf_nodes=10, splitter=best, total=   0.0s\n",
      "[CV] max_depth=7, max_features=auto, max_leaf_nodes=10, splitter=random \n",
      "[CV]  max_depth=7, max_features=auto, max_leaf_nodes=10, splitter=random, total=   0.0s\n",
      "[CV] max_depth=7, max_features=auto, max_leaf_nodes=10, splitter=random \n",
      "[CV]  max_depth=7, max_features=auto, max_leaf_nodes=10, splitter=random, total=   0.0s\n",
      "[CV] max_depth=7, max_features=auto, max_leaf_nodes=10, splitter=random \n",
      "[CV]  max_depth=7, max_features=auto, max_leaf_nodes=10, splitter=random, total=   0.0s\n",
      "[CV] max_depth=7, max_features=auto, max_leaf_nodes=20, splitter=best \n",
      "[CV]  max_depth=7, max_features=auto, max_leaf_nodes=20, splitter=best, total=   0.0s\n",
      "[CV] max_depth=7, max_features=auto, max_leaf_nodes=20, splitter=best \n",
      "[CV]  max_depth=7, max_features=auto, max_leaf_nodes=20, splitter=best, total=   0.0s\n",
      "[CV] max_depth=7, max_features=auto, max_leaf_nodes=20, splitter=best \n",
      "[CV]  max_depth=7, max_features=auto, max_leaf_nodes=20, splitter=best, total=   0.0s\n",
      "[CV] max_depth=7, max_features=auto, max_leaf_nodes=20, splitter=random \n",
      "[CV]  max_depth=7, max_features=auto, max_leaf_nodes=20, splitter=random, total=   0.0s\n",
      "[CV] max_depth=7, max_features=auto, max_leaf_nodes=20, splitter=random \n",
      "[CV]  max_depth=7, max_features=auto, max_leaf_nodes=20, splitter=random, total=   0.0s\n",
      "[CV] max_depth=7, max_features=auto, max_leaf_nodes=20, splitter=random \n",
      "[CV]  max_depth=7, max_features=auto, max_leaf_nodes=20, splitter=random, total=   0.0s\n",
      "[CV] max_depth=7, max_features=auto, max_leaf_nodes=50, splitter=best \n",
      "[CV]  max_depth=7, max_features=auto, max_leaf_nodes=50, splitter=best, total=   0.0s\n",
      "[CV] max_depth=7, max_features=auto, max_leaf_nodes=50, splitter=best \n",
      "[CV]  max_depth=7, max_features=auto, max_leaf_nodes=50, splitter=best, total=   0.0s\n",
      "[CV] max_depth=7, max_features=auto, max_leaf_nodes=50, splitter=best \n",
      "[CV]  max_depth=7, max_features=auto, max_leaf_nodes=50, splitter=best, total=   0.0s\n",
      "[CV] max_depth=7, max_features=auto, max_leaf_nodes=50, splitter=random \n",
      "[CV]  max_depth=7, max_features=auto, max_leaf_nodes=50, splitter=random, total=   0.0s\n",
      "[CV] max_depth=7, max_features=auto, max_leaf_nodes=50, splitter=random \n",
      "[CV]  max_depth=7, max_features=auto, max_leaf_nodes=50, splitter=random, total=   0.0s\n",
      "[CV] max_depth=7, max_features=auto, max_leaf_nodes=50, splitter=random \n",
      "[CV]  max_depth=7, max_features=auto, max_leaf_nodes=50, splitter=random, total=   0.0s\n",
      "[CV] max_depth=7, max_features=auto, max_leaf_nodes=100, splitter=best \n",
      "[CV]  max_depth=7, max_features=auto, max_leaf_nodes=100, splitter=best, total=   0.0s\n",
      "[CV] max_depth=7, max_features=auto, max_leaf_nodes=100, splitter=best \n"
     ]
    },
    {
     "name": "stdout",
     "output_type": "stream",
     "text": [
      "[CV]  max_depth=7, max_features=auto, max_leaf_nodes=100, splitter=best, total=   0.0s\n",
      "[CV] max_depth=7, max_features=auto, max_leaf_nodes=100, splitter=best \n",
      "[CV]  max_depth=7, max_features=auto, max_leaf_nodes=100, splitter=best, total=   0.0s\n",
      "[CV] max_depth=7, max_features=auto, max_leaf_nodes=100, splitter=random \n",
      "[CV]  max_depth=7, max_features=auto, max_leaf_nodes=100, splitter=random, total=   0.0s\n",
      "[CV] max_depth=7, max_features=auto, max_leaf_nodes=100, splitter=random \n",
      "[CV]  max_depth=7, max_features=auto, max_leaf_nodes=100, splitter=random, total=   0.0s\n",
      "[CV] max_depth=7, max_features=auto, max_leaf_nodes=100, splitter=random \n",
      "[CV]  max_depth=7, max_features=auto, max_leaf_nodes=100, splitter=random, total=   0.0s\n",
      "[CV] max_depth=7, max_features=auto, max_leaf_nodes=200, splitter=best \n",
      "[CV]  max_depth=7, max_features=auto, max_leaf_nodes=200, splitter=best, total=   0.0s\n",
      "[CV] max_depth=7, max_features=auto, max_leaf_nodes=200, splitter=best \n",
      "[CV]  max_depth=7, max_features=auto, max_leaf_nodes=200, splitter=best, total=   0.0s\n",
      "[CV] max_depth=7, max_features=auto, max_leaf_nodes=200, splitter=best \n",
      "[CV]  max_depth=7, max_features=auto, max_leaf_nodes=200, splitter=best, total=   0.0s\n",
      "[CV] max_depth=7, max_features=auto, max_leaf_nodes=200, splitter=random \n",
      "[CV]  max_depth=7, max_features=auto, max_leaf_nodes=200, splitter=random, total=   0.0s\n",
      "[CV] max_depth=7, max_features=auto, max_leaf_nodes=200, splitter=random \n",
      "[CV]  max_depth=7, max_features=auto, max_leaf_nodes=200, splitter=random, total=   0.0s\n",
      "[CV] max_depth=7, max_features=auto, max_leaf_nodes=200, splitter=random \n",
      "[CV]  max_depth=7, max_features=auto, max_leaf_nodes=200, splitter=random, total=   0.0s\n",
      "[CV] max_depth=7, max_features=auto, max_leaf_nodes=500, splitter=best \n",
      "[CV]  max_depth=7, max_features=auto, max_leaf_nodes=500, splitter=best, total=   0.0s\n",
      "[CV] max_depth=7, max_features=auto, max_leaf_nodes=500, splitter=best \n",
      "[CV]  max_depth=7, max_features=auto, max_leaf_nodes=500, splitter=best, total=   0.0s\n",
      "[CV] max_depth=7, max_features=auto, max_leaf_nodes=500, splitter=best \n",
      "[CV]  max_depth=7, max_features=auto, max_leaf_nodes=500, splitter=best, total=   0.0s\n",
      "[CV] max_depth=7, max_features=auto, max_leaf_nodes=500, splitter=random \n",
      "[CV]  max_depth=7, max_features=auto, max_leaf_nodes=500, splitter=random, total=   0.0s\n",
      "[CV] max_depth=7, max_features=auto, max_leaf_nodes=500, splitter=random \n",
      "[CV]  max_depth=7, max_features=auto, max_leaf_nodes=500, splitter=random, total=   0.0s\n",
      "[CV] max_depth=7, max_features=auto, max_leaf_nodes=500, splitter=random \n",
      "[CV]  max_depth=7, max_features=auto, max_leaf_nodes=500, splitter=random, total=   0.0s\n",
      "[CV] max_depth=7, max_features=auto, max_leaf_nodes=1000, splitter=best \n",
      "[CV]  max_depth=7, max_features=auto, max_leaf_nodes=1000, splitter=best, total=   0.0s\n",
      "[CV] max_depth=7, max_features=auto, max_leaf_nodes=1000, splitter=best \n",
      "[CV]  max_depth=7, max_features=auto, max_leaf_nodes=1000, splitter=best, total=   0.0s\n",
      "[CV] max_depth=7, max_features=auto, max_leaf_nodes=1000, splitter=best \n",
      "[CV]  max_depth=7, max_features=auto, max_leaf_nodes=1000, splitter=best, total=   0.0s\n",
      "[CV] max_depth=7, max_features=auto, max_leaf_nodes=1000, splitter=random \n",
      "[CV]  max_depth=7, max_features=auto, max_leaf_nodes=1000, splitter=random, total=   0.0s\n",
      "[CV] max_depth=7, max_features=auto, max_leaf_nodes=1000, splitter=random \n",
      "[CV]  max_depth=7, max_features=auto, max_leaf_nodes=1000, splitter=random, total=   0.0s\n",
      "[CV] max_depth=7, max_features=auto, max_leaf_nodes=1000, splitter=random \n",
      "[CV]  max_depth=7, max_features=auto, max_leaf_nodes=1000, splitter=random, total=   0.0s\n",
      "[CV] max_depth=7, max_features=log2, max_leaf_nodes=None, splitter=best \n",
      "[CV]  max_depth=7, max_features=log2, max_leaf_nodes=None, splitter=best, total=   0.0s\n",
      "[CV] max_depth=7, max_features=log2, max_leaf_nodes=None, splitter=best \n",
      "[CV]  max_depth=7, max_features=log2, max_leaf_nodes=None, splitter=best, total=   0.0s\n",
      "[CV] max_depth=7, max_features=log2, max_leaf_nodes=None, splitter=best \n",
      "[CV]  max_depth=7, max_features=log2, max_leaf_nodes=None, splitter=best, total=   0.0s\n",
      "[CV] max_depth=7, max_features=log2, max_leaf_nodes=None, splitter=random \n",
      "[CV]  max_depth=7, max_features=log2, max_leaf_nodes=None, splitter=random, total=   0.0s\n",
      "[CV] max_depth=7, max_features=log2, max_leaf_nodes=None, splitter=random \n",
      "[CV]  max_depth=7, max_features=log2, max_leaf_nodes=None, splitter=random, total=   0.0s\n",
      "[CV] max_depth=7, max_features=log2, max_leaf_nodes=None, splitter=random \n",
      "[CV]  max_depth=7, max_features=log2, max_leaf_nodes=None, splitter=random, total=   0.0s\n",
      "[CV] max_depth=7, max_features=log2, max_leaf_nodes=10, splitter=best \n",
      "[CV]  max_depth=7, max_features=log2, max_leaf_nodes=10, splitter=best, total=   0.0s\n",
      "[CV] max_depth=7, max_features=log2, max_leaf_nodes=10, splitter=best \n",
      "[CV]  max_depth=7, max_features=log2, max_leaf_nodes=10, splitter=best, total=   0.0s\n",
      "[CV] max_depth=7, max_features=log2, max_leaf_nodes=10, splitter=best \n",
      "[CV]  max_depth=7, max_features=log2, max_leaf_nodes=10, splitter=best, total=   0.0s\n",
      "[CV] max_depth=7, max_features=log2, max_leaf_nodes=10, splitter=random \n",
      "[CV]  max_depth=7, max_features=log2, max_leaf_nodes=10, splitter=random, total=   0.0s\n",
      "[CV] max_depth=7, max_features=log2, max_leaf_nodes=10, splitter=random \n",
      "[CV]  max_depth=7, max_features=log2, max_leaf_nodes=10, splitter=random, total=   0.0s\n",
      "[CV] max_depth=7, max_features=log2, max_leaf_nodes=10, splitter=random \n",
      "[CV]  max_depth=7, max_features=log2, max_leaf_nodes=10, splitter=random, total=   0.0s\n",
      "[CV] max_depth=7, max_features=log2, max_leaf_nodes=20, splitter=best \n",
      "[CV]  max_depth=7, max_features=log2, max_leaf_nodes=20, splitter=best, total=   0.0s\n",
      "[CV] max_depth=7, max_features=log2, max_leaf_nodes=20, splitter=best \n",
      "[CV]  max_depth=7, max_features=log2, max_leaf_nodes=20, splitter=best, total=   0.0s\n",
      "[CV] max_depth=7, max_features=log2, max_leaf_nodes=20, splitter=best \n",
      "[CV]  max_depth=7, max_features=log2, max_leaf_nodes=20, splitter=best, total=   0.0s\n",
      "[CV] max_depth=7, max_features=log2, max_leaf_nodes=20, splitter=random \n",
      "[CV]  max_depth=7, max_features=log2, max_leaf_nodes=20, splitter=random, total=   0.0s\n",
      "[CV] max_depth=7, max_features=log2, max_leaf_nodes=20, splitter=random \n",
      "[CV]  max_depth=7, max_features=log2, max_leaf_nodes=20, splitter=random, total=   0.0s\n",
      "[CV] max_depth=7, max_features=log2, max_leaf_nodes=20, splitter=random \n",
      "[CV]  max_depth=7, max_features=log2, max_leaf_nodes=20, splitter=random, total=   0.0s\n",
      "[CV] max_depth=7, max_features=log2, max_leaf_nodes=50, splitter=best \n",
      "[CV]  max_depth=7, max_features=log2, max_leaf_nodes=50, splitter=best, total=   0.0s\n",
      "[CV] max_depth=7, max_features=log2, max_leaf_nodes=50, splitter=best \n",
      "[CV]  max_depth=7, max_features=log2, max_leaf_nodes=50, splitter=best, total=   0.0s\n",
      "[CV] max_depth=7, max_features=log2, max_leaf_nodes=50, splitter=best \n",
      "[CV]  max_depth=7, max_features=log2, max_leaf_nodes=50, splitter=best, total=   0.0s\n",
      "[CV] max_depth=7, max_features=log2, max_leaf_nodes=50, splitter=random \n",
      "[CV]  max_depth=7, max_features=log2, max_leaf_nodes=50, splitter=random, total=   0.0s\n",
      "[CV] max_depth=7, max_features=log2, max_leaf_nodes=50, splitter=random \n",
      "[CV]  max_depth=7, max_features=log2, max_leaf_nodes=50, splitter=random, total=   0.0s\n",
      "[CV] max_depth=7, max_features=log2, max_leaf_nodes=50, splitter=random \n",
      "[CV]  max_depth=7, max_features=log2, max_leaf_nodes=50, splitter=random, total=   0.0s\n",
      "[CV] max_depth=7, max_features=log2, max_leaf_nodes=100, splitter=best \n",
      "[CV]  max_depth=7, max_features=log2, max_leaf_nodes=100, splitter=best, total=   0.0s\n",
      "[CV] max_depth=7, max_features=log2, max_leaf_nodes=100, splitter=best \n",
      "[CV]  max_depth=7, max_features=log2, max_leaf_nodes=100, splitter=best, total=   0.0s\n",
      "[CV] max_depth=7, max_features=log2, max_leaf_nodes=100, splitter=best \n",
      "[CV]  max_depth=7, max_features=log2, max_leaf_nodes=100, splitter=best, total=   0.0s\n",
      "[CV] max_depth=7, max_features=log2, max_leaf_nodes=100, splitter=random \n",
      "[CV]  max_depth=7, max_features=log2, max_leaf_nodes=100, splitter=random, total=   0.0s\n",
      "[CV] max_depth=7, max_features=log2, max_leaf_nodes=100, splitter=random \n",
      "[CV]  max_depth=7, max_features=log2, max_leaf_nodes=100, splitter=random, total=   0.0s\n",
      "[CV] max_depth=7, max_features=log2, max_leaf_nodes=100, splitter=random \n",
      "[CV]  max_depth=7, max_features=log2, max_leaf_nodes=100, splitter=random, total=   0.0s\n",
      "[CV] max_depth=7, max_features=log2, max_leaf_nodes=200, splitter=best \n",
      "[CV]  max_depth=7, max_features=log2, max_leaf_nodes=200, splitter=best, total=   0.0s\n",
      "[CV] max_depth=7, max_features=log2, max_leaf_nodes=200, splitter=best \n",
      "[CV]  max_depth=7, max_features=log2, max_leaf_nodes=200, splitter=best, total=   0.0s\n",
      "[CV] max_depth=7, max_features=log2, max_leaf_nodes=200, splitter=best \n",
      "[CV]  max_depth=7, max_features=log2, max_leaf_nodes=200, splitter=best, total=   0.0s\n",
      "[CV] max_depth=7, max_features=log2, max_leaf_nodes=200, splitter=random \n",
      "[CV]  max_depth=7, max_features=log2, max_leaf_nodes=200, splitter=random, total=   0.0s\n",
      "[CV] max_depth=7, max_features=log2, max_leaf_nodes=200, splitter=random \n",
      "[CV]  max_depth=7, max_features=log2, max_leaf_nodes=200, splitter=random, total=   0.0s\n",
      "[CV] max_depth=7, max_features=log2, max_leaf_nodes=200, splitter=random \n",
      "[CV]  max_depth=7, max_features=log2, max_leaf_nodes=200, splitter=random, total=   0.0s\n",
      "[CV] max_depth=7, max_features=log2, max_leaf_nodes=500, splitter=best \n",
      "[CV]  max_depth=7, max_features=log2, max_leaf_nodes=500, splitter=best, total=   0.0s\n",
      "[CV] max_depth=7, max_features=log2, max_leaf_nodes=500, splitter=best \n",
      "[CV]  max_depth=7, max_features=log2, max_leaf_nodes=500, splitter=best, total=   0.0s\n",
      "[CV] max_depth=7, max_features=log2, max_leaf_nodes=500, splitter=best \n",
      "[CV]  max_depth=7, max_features=log2, max_leaf_nodes=500, splitter=best, total=   0.0s\n",
      "[CV] max_depth=7, max_features=log2, max_leaf_nodes=500, splitter=random \n",
      "[CV]  max_depth=7, max_features=log2, max_leaf_nodes=500, splitter=random, total=   0.0s\n",
      "[CV] max_depth=7, max_features=log2, max_leaf_nodes=500, splitter=random \n",
      "[CV]  max_depth=7, max_features=log2, max_leaf_nodes=500, splitter=random, total=   0.0s\n",
      "[CV] max_depth=7, max_features=log2, max_leaf_nodes=500, splitter=random \n",
      "[CV]  max_depth=7, max_features=log2, max_leaf_nodes=500, splitter=random, total=   0.0s\n",
      "[CV] max_depth=7, max_features=log2, max_leaf_nodes=1000, splitter=best \n",
      "[CV]  max_depth=7, max_features=log2, max_leaf_nodes=1000, splitter=best, total=   0.0s\n",
      "[CV] max_depth=7, max_features=log2, max_leaf_nodes=1000, splitter=best \n",
      "[CV]  max_depth=7, max_features=log2, max_leaf_nodes=1000, splitter=best, total=   0.0s\n",
      "[CV] max_depth=7, max_features=log2, max_leaf_nodes=1000, splitter=best \n",
      "[CV]  max_depth=7, max_features=log2, max_leaf_nodes=1000, splitter=best, total=   0.0s\n",
      "[CV] max_depth=7, max_features=log2, max_leaf_nodes=1000, splitter=random \n",
      "[CV]  max_depth=7, max_features=log2, max_leaf_nodes=1000, splitter=random, total=   0.0s\n",
      "[CV] max_depth=7, max_features=log2, max_leaf_nodes=1000, splitter=random \n",
      "[CV]  max_depth=7, max_features=log2, max_leaf_nodes=1000, splitter=random, total=   0.0s\n",
      "[CV] max_depth=7, max_features=log2, max_leaf_nodes=1000, splitter=random \n",
      "[CV]  max_depth=7, max_features=log2, max_leaf_nodes=1000, splitter=random, total=   0.0s\n",
      "[CV] max_depth=7, max_features=sqrt, max_leaf_nodes=None, splitter=best \n",
      "[CV]  max_depth=7, max_features=sqrt, max_leaf_nodes=None, splitter=best, total=   0.0s\n",
      "[CV] max_depth=7, max_features=sqrt, max_leaf_nodes=None, splitter=best \n",
      "[CV]  max_depth=7, max_features=sqrt, max_leaf_nodes=None, splitter=best, total=   0.0s\n",
      "[CV] max_depth=7, max_features=sqrt, max_leaf_nodes=None, splitter=best \n"
     ]
    },
    {
     "name": "stdout",
     "output_type": "stream",
     "text": [
      "[CV]  max_depth=7, max_features=sqrt, max_leaf_nodes=None, splitter=best, total=   0.0s\n",
      "[CV] max_depth=7, max_features=sqrt, max_leaf_nodes=None, splitter=random \n",
      "[CV]  max_depth=7, max_features=sqrt, max_leaf_nodes=None, splitter=random, total=   0.0s\n",
      "[CV] max_depth=7, max_features=sqrt, max_leaf_nodes=None, splitter=random \n",
      "[CV]  max_depth=7, max_features=sqrt, max_leaf_nodes=None, splitter=random, total=   0.0s\n",
      "[CV] max_depth=7, max_features=sqrt, max_leaf_nodes=None, splitter=random \n",
      "[CV]  max_depth=7, max_features=sqrt, max_leaf_nodes=None, splitter=random, total=   0.0s\n",
      "[CV] max_depth=7, max_features=sqrt, max_leaf_nodes=10, splitter=best \n",
      "[CV]  max_depth=7, max_features=sqrt, max_leaf_nodes=10, splitter=best, total=   0.0s\n",
      "[CV] max_depth=7, max_features=sqrt, max_leaf_nodes=10, splitter=best \n",
      "[CV]  max_depth=7, max_features=sqrt, max_leaf_nodes=10, splitter=best, total=   0.0s\n",
      "[CV] max_depth=7, max_features=sqrt, max_leaf_nodes=10, splitter=best \n",
      "[CV]  max_depth=7, max_features=sqrt, max_leaf_nodes=10, splitter=best, total=   0.0s\n",
      "[CV] max_depth=7, max_features=sqrt, max_leaf_nodes=10, splitter=random \n",
      "[CV]  max_depth=7, max_features=sqrt, max_leaf_nodes=10, splitter=random, total=   0.0s\n",
      "[CV] max_depth=7, max_features=sqrt, max_leaf_nodes=10, splitter=random \n",
      "[CV]  max_depth=7, max_features=sqrt, max_leaf_nodes=10, splitter=random, total=   0.0s\n",
      "[CV] max_depth=7, max_features=sqrt, max_leaf_nodes=10, splitter=random \n",
      "[CV]  max_depth=7, max_features=sqrt, max_leaf_nodes=10, splitter=random, total=   0.0s\n",
      "[CV] max_depth=7, max_features=sqrt, max_leaf_nodes=20, splitter=best \n",
      "[CV]  max_depth=7, max_features=sqrt, max_leaf_nodes=20, splitter=best, total=   0.0s\n",
      "[CV] max_depth=7, max_features=sqrt, max_leaf_nodes=20, splitter=best \n",
      "[CV]  max_depth=7, max_features=sqrt, max_leaf_nodes=20, splitter=best, total=   0.0s\n",
      "[CV] max_depth=7, max_features=sqrt, max_leaf_nodes=20, splitter=best \n",
      "[CV]  max_depth=7, max_features=sqrt, max_leaf_nodes=20, splitter=best, total=   0.0s\n",
      "[CV] max_depth=7, max_features=sqrt, max_leaf_nodes=20, splitter=random \n",
      "[CV]  max_depth=7, max_features=sqrt, max_leaf_nodes=20, splitter=random, total=   0.0s\n",
      "[CV] max_depth=7, max_features=sqrt, max_leaf_nodes=20, splitter=random \n",
      "[CV]  max_depth=7, max_features=sqrt, max_leaf_nodes=20, splitter=random, total=   0.0s\n",
      "[CV] max_depth=7, max_features=sqrt, max_leaf_nodes=20, splitter=random \n",
      "[CV]  max_depth=7, max_features=sqrt, max_leaf_nodes=20, splitter=random, total=   0.0s\n",
      "[CV] max_depth=7, max_features=sqrt, max_leaf_nodes=50, splitter=best \n",
      "[CV]  max_depth=7, max_features=sqrt, max_leaf_nodes=50, splitter=best, total=   0.0s\n",
      "[CV] max_depth=7, max_features=sqrt, max_leaf_nodes=50, splitter=best \n",
      "[CV]  max_depth=7, max_features=sqrt, max_leaf_nodes=50, splitter=best, total=   0.0s\n",
      "[CV] max_depth=7, max_features=sqrt, max_leaf_nodes=50, splitter=best \n",
      "[CV]  max_depth=7, max_features=sqrt, max_leaf_nodes=50, splitter=best, total=   0.0s\n",
      "[CV] max_depth=7, max_features=sqrt, max_leaf_nodes=50, splitter=random \n",
      "[CV]  max_depth=7, max_features=sqrt, max_leaf_nodes=50, splitter=random, total=   0.0s\n",
      "[CV] max_depth=7, max_features=sqrt, max_leaf_nodes=50, splitter=random \n",
      "[CV]  max_depth=7, max_features=sqrt, max_leaf_nodes=50, splitter=random, total=   0.0s\n",
      "[CV] max_depth=7, max_features=sqrt, max_leaf_nodes=50, splitter=random \n",
      "[CV]  max_depth=7, max_features=sqrt, max_leaf_nodes=50, splitter=random, total=   0.0s\n",
      "[CV] max_depth=7, max_features=sqrt, max_leaf_nodes=100, splitter=best \n",
      "[CV]  max_depth=7, max_features=sqrt, max_leaf_nodes=100, splitter=best, total=   0.0s\n",
      "[CV] max_depth=7, max_features=sqrt, max_leaf_nodes=100, splitter=best \n",
      "[CV]  max_depth=7, max_features=sqrt, max_leaf_nodes=100, splitter=best, total=   0.0s\n",
      "[CV] max_depth=7, max_features=sqrt, max_leaf_nodes=100, splitter=best \n",
      "[CV]  max_depth=7, max_features=sqrt, max_leaf_nodes=100, splitter=best, total=   0.0s\n",
      "[CV] max_depth=7, max_features=sqrt, max_leaf_nodes=100, splitter=random \n",
      "[CV]  max_depth=7, max_features=sqrt, max_leaf_nodes=100, splitter=random, total=   0.0s\n",
      "[CV] max_depth=7, max_features=sqrt, max_leaf_nodes=100, splitter=random \n",
      "[CV]  max_depth=7, max_features=sqrt, max_leaf_nodes=100, splitter=random, total=   0.0s\n",
      "[CV] max_depth=7, max_features=sqrt, max_leaf_nodes=100, splitter=random \n",
      "[CV]  max_depth=7, max_features=sqrt, max_leaf_nodes=100, splitter=random, total=   0.0s\n",
      "[CV] max_depth=7, max_features=sqrt, max_leaf_nodes=200, splitter=best \n",
      "[CV]  max_depth=7, max_features=sqrt, max_leaf_nodes=200, splitter=best, total=   0.0s\n",
      "[CV] max_depth=7, max_features=sqrt, max_leaf_nodes=200, splitter=best \n",
      "[CV]  max_depth=7, max_features=sqrt, max_leaf_nodes=200, splitter=best, total=   0.0s\n",
      "[CV] max_depth=7, max_features=sqrt, max_leaf_nodes=200, splitter=best \n",
      "[CV]  max_depth=7, max_features=sqrt, max_leaf_nodes=200, splitter=best, total=   0.0s\n",
      "[CV] max_depth=7, max_features=sqrt, max_leaf_nodes=200, splitter=random \n",
      "[CV]  max_depth=7, max_features=sqrt, max_leaf_nodes=200, splitter=random, total=   0.0s\n",
      "[CV] max_depth=7, max_features=sqrt, max_leaf_nodes=200, splitter=random \n",
      "[CV]  max_depth=7, max_features=sqrt, max_leaf_nodes=200, splitter=random, total=   0.0s\n",
      "[CV] max_depth=7, max_features=sqrt, max_leaf_nodes=200, splitter=random \n",
      "[CV]  max_depth=7, max_features=sqrt, max_leaf_nodes=200, splitter=random, total=   0.0s\n",
      "[CV] max_depth=7, max_features=sqrt, max_leaf_nodes=500, splitter=best \n",
      "[CV]  max_depth=7, max_features=sqrt, max_leaf_nodes=500, splitter=best, total=   0.0s\n",
      "[CV] max_depth=7, max_features=sqrt, max_leaf_nodes=500, splitter=best \n",
      "[CV]  max_depth=7, max_features=sqrt, max_leaf_nodes=500, splitter=best, total=   0.0s\n",
      "[CV] max_depth=7, max_features=sqrt, max_leaf_nodes=500, splitter=best \n",
      "[CV]  max_depth=7, max_features=sqrt, max_leaf_nodes=500, splitter=best, total=   0.0s\n",
      "[CV] max_depth=7, max_features=sqrt, max_leaf_nodes=500, splitter=random \n",
      "[CV]  max_depth=7, max_features=sqrt, max_leaf_nodes=500, splitter=random, total=   0.0s\n",
      "[CV] max_depth=7, max_features=sqrt, max_leaf_nodes=500, splitter=random \n",
      "[CV]  max_depth=7, max_features=sqrt, max_leaf_nodes=500, splitter=random, total=   0.0s\n",
      "[CV] max_depth=7, max_features=sqrt, max_leaf_nodes=500, splitter=random \n",
      "[CV]  max_depth=7, max_features=sqrt, max_leaf_nodes=500, splitter=random, total=   0.0s\n",
      "[CV] max_depth=7, max_features=sqrt, max_leaf_nodes=1000, splitter=best \n",
      "[CV]  max_depth=7, max_features=sqrt, max_leaf_nodes=1000, splitter=best, total=   0.0s\n",
      "[CV] max_depth=7, max_features=sqrt, max_leaf_nodes=1000, splitter=best \n",
      "[CV]  max_depth=7, max_features=sqrt, max_leaf_nodes=1000, splitter=best, total=   0.0s\n",
      "[CV] max_depth=7, max_features=sqrt, max_leaf_nodes=1000, splitter=best \n",
      "[CV]  max_depth=7, max_features=sqrt, max_leaf_nodes=1000, splitter=best, total=   0.0s\n",
      "[CV] max_depth=7, max_features=sqrt, max_leaf_nodes=1000, splitter=random \n",
      "[CV]  max_depth=7, max_features=sqrt, max_leaf_nodes=1000, splitter=random, total=   0.0s\n",
      "[CV] max_depth=7, max_features=sqrt, max_leaf_nodes=1000, splitter=random \n",
      "[CV]  max_depth=7, max_features=sqrt, max_leaf_nodes=1000, splitter=random, total=   0.0s\n",
      "[CV] max_depth=7, max_features=sqrt, max_leaf_nodes=1000, splitter=random \n",
      "[CV]  max_depth=7, max_features=sqrt, max_leaf_nodes=1000, splitter=random, total=   0.0s\n",
      "[CV] max_depth=7, max_features=None, max_leaf_nodes=None, splitter=best \n",
      "[CV]  max_depth=7, max_features=None, max_leaf_nodes=None, splitter=best, total=   0.0s\n",
      "[CV] max_depth=7, max_features=None, max_leaf_nodes=None, splitter=best \n",
      "[CV]  max_depth=7, max_features=None, max_leaf_nodes=None, splitter=best, total=   0.0s\n",
      "[CV] max_depth=7, max_features=None, max_leaf_nodes=None, splitter=best \n",
      "[CV]  max_depth=7, max_features=None, max_leaf_nodes=None, splitter=best, total=   0.0s\n",
      "[CV] max_depth=7, max_features=None, max_leaf_nodes=None, splitter=random \n",
      "[CV]  max_depth=7, max_features=None, max_leaf_nodes=None, splitter=random, total=   0.0s\n",
      "[CV] max_depth=7, max_features=None, max_leaf_nodes=None, splitter=random \n",
      "[CV]  max_depth=7, max_features=None, max_leaf_nodes=None, splitter=random, total=   0.0s\n",
      "[CV] max_depth=7, max_features=None, max_leaf_nodes=None, splitter=random \n"
     ]
    },
    {
     "name": "stdout",
     "output_type": "stream",
     "text": [
      "[CV]  max_depth=7, max_features=None, max_leaf_nodes=None, splitter=random, total=   0.0s\n",
      "[CV] max_depth=7, max_features=None, max_leaf_nodes=10, splitter=best \n",
      "[CV]  max_depth=7, max_features=None, max_leaf_nodes=10, splitter=best, total=   0.0s\n",
      "[CV] max_depth=7, max_features=None, max_leaf_nodes=10, splitter=best \n",
      "[CV]  max_depth=7, max_features=None, max_leaf_nodes=10, splitter=best, total=   0.0s\n",
      "[CV] max_depth=7, max_features=None, max_leaf_nodes=10, splitter=best \n",
      "[CV]  max_depth=7, max_features=None, max_leaf_nodes=10, splitter=best, total=   0.0s\n",
      "[CV] max_depth=7, max_features=None, max_leaf_nodes=10, splitter=random \n",
      "[CV]  max_depth=7, max_features=None, max_leaf_nodes=10, splitter=random, total=   0.0s\n",
      "[CV] max_depth=7, max_features=None, max_leaf_nodes=10, splitter=random \n",
      "[CV]  max_depth=7, max_features=None, max_leaf_nodes=10, splitter=random, total=   0.0s\n",
      "[CV] max_depth=7, max_features=None, max_leaf_nodes=10, splitter=random \n",
      "[CV]  max_depth=7, max_features=None, max_leaf_nodes=10, splitter=random, total=   0.0s\n",
      "[CV] max_depth=7, max_features=None, max_leaf_nodes=20, splitter=best \n",
      "[CV]  max_depth=7, max_features=None, max_leaf_nodes=20, splitter=best, total=   0.0s\n",
      "[CV] max_depth=7, max_features=None, max_leaf_nodes=20, splitter=best \n",
      "[CV]  max_depth=7, max_features=None, max_leaf_nodes=20, splitter=best, total=   0.0s\n",
      "[CV] max_depth=7, max_features=None, max_leaf_nodes=20, splitter=best \n",
      "[CV]  max_depth=7, max_features=None, max_leaf_nodes=20, splitter=best, total=   0.0s\n",
      "[CV] max_depth=7, max_features=None, max_leaf_nodes=20, splitter=random \n",
      "[CV]  max_depth=7, max_features=None, max_leaf_nodes=20, splitter=random, total=   0.0s\n",
      "[CV] max_depth=7, max_features=None, max_leaf_nodes=20, splitter=random \n",
      "[CV]  max_depth=7, max_features=None, max_leaf_nodes=20, splitter=random, total=   0.0s\n",
      "[CV] max_depth=7, max_features=None, max_leaf_nodes=20, splitter=random \n",
      "[CV]  max_depth=7, max_features=None, max_leaf_nodes=20, splitter=random, total=   0.0s\n",
      "[CV] max_depth=7, max_features=None, max_leaf_nodes=50, splitter=best \n",
      "[CV]  max_depth=7, max_features=None, max_leaf_nodes=50, splitter=best, total=   0.0s\n",
      "[CV] max_depth=7, max_features=None, max_leaf_nodes=50, splitter=best \n",
      "[CV]  max_depth=7, max_features=None, max_leaf_nodes=50, splitter=best, total=   0.0s\n",
      "[CV] max_depth=7, max_features=None, max_leaf_nodes=50, splitter=best \n",
      "[CV]  max_depth=7, max_features=None, max_leaf_nodes=50, splitter=best, total=   0.0s\n",
      "[CV] max_depth=7, max_features=None, max_leaf_nodes=50, splitter=random \n",
      "[CV]  max_depth=7, max_features=None, max_leaf_nodes=50, splitter=random, total=   0.0s\n",
      "[CV] max_depth=7, max_features=None, max_leaf_nodes=50, splitter=random \n",
      "[CV]  max_depth=7, max_features=None, max_leaf_nodes=50, splitter=random, total=   0.0s\n",
      "[CV] max_depth=7, max_features=None, max_leaf_nodes=50, splitter=random \n",
      "[CV]  max_depth=7, max_features=None, max_leaf_nodes=50, splitter=random, total=   0.0s\n",
      "[CV] max_depth=7, max_features=None, max_leaf_nodes=100, splitter=best \n",
      "[CV]  max_depth=7, max_features=None, max_leaf_nodes=100, splitter=best, total=   0.0s\n",
      "[CV] max_depth=7, max_features=None, max_leaf_nodes=100, splitter=best \n",
      "[CV]  max_depth=7, max_features=None, max_leaf_nodes=100, splitter=best, total=   0.0s\n",
      "[CV] max_depth=7, max_features=None, max_leaf_nodes=100, splitter=best \n",
      "[CV]  max_depth=7, max_features=None, max_leaf_nodes=100, splitter=best, total=   0.0s\n",
      "[CV] max_depth=7, max_features=None, max_leaf_nodes=100, splitter=random \n",
      "[CV]  max_depth=7, max_features=None, max_leaf_nodes=100, splitter=random, total=   0.0s\n",
      "[CV] max_depth=7, max_features=None, max_leaf_nodes=100, splitter=random \n",
      "[CV]  max_depth=7, max_features=None, max_leaf_nodes=100, splitter=random, total=   0.0s\n",
      "[CV] max_depth=7, max_features=None, max_leaf_nodes=100, splitter=random \n",
      "[CV]  max_depth=7, max_features=None, max_leaf_nodes=100, splitter=random, total=   0.0s\n",
      "[CV] max_depth=7, max_features=None, max_leaf_nodes=200, splitter=best \n",
      "[CV]  max_depth=7, max_features=None, max_leaf_nodes=200, splitter=best, total=   0.0s\n",
      "[CV] max_depth=7, max_features=None, max_leaf_nodes=200, splitter=best \n",
      "[CV]  max_depth=7, max_features=None, max_leaf_nodes=200, splitter=best, total=   0.0s\n",
      "[CV] max_depth=7, max_features=None, max_leaf_nodes=200, splitter=best \n",
      "[CV]  max_depth=7, max_features=None, max_leaf_nodes=200, splitter=best, total=   0.0s\n",
      "[CV] max_depth=7, max_features=None, max_leaf_nodes=200, splitter=random \n",
      "[CV]  max_depth=7, max_features=None, max_leaf_nodes=200, splitter=random, total=   0.0s\n",
      "[CV] max_depth=7, max_features=None, max_leaf_nodes=200, splitter=random \n",
      "[CV]  max_depth=7, max_features=None, max_leaf_nodes=200, splitter=random, total=   0.0s\n",
      "[CV] max_depth=7, max_features=None, max_leaf_nodes=200, splitter=random \n",
      "[CV]  max_depth=7, max_features=None, max_leaf_nodes=200, splitter=random, total=   0.0s\n",
      "[CV] max_depth=7, max_features=None, max_leaf_nodes=500, splitter=best \n",
      "[CV]  max_depth=7, max_features=None, max_leaf_nodes=500, splitter=best, total=   0.0s\n",
      "[CV] max_depth=7, max_features=None, max_leaf_nodes=500, splitter=best \n",
      "[CV]  max_depth=7, max_features=None, max_leaf_nodes=500, splitter=best, total=   0.0s\n",
      "[CV] max_depth=7, max_features=None, max_leaf_nodes=500, splitter=best \n",
      "[CV]  max_depth=7, max_features=None, max_leaf_nodes=500, splitter=best, total=   0.0s\n",
      "[CV] max_depth=7, max_features=None, max_leaf_nodes=500, splitter=random \n",
      "[CV]  max_depth=7, max_features=None, max_leaf_nodes=500, splitter=random, total=   0.0s\n",
      "[CV] max_depth=7, max_features=None, max_leaf_nodes=500, splitter=random \n",
      "[CV]  max_depth=7, max_features=None, max_leaf_nodes=500, splitter=random, total=   0.0s\n",
      "[CV] max_depth=7, max_features=None, max_leaf_nodes=500, splitter=random \n",
      "[CV]  max_depth=7, max_features=None, max_leaf_nodes=500, splitter=random, total=   0.0s\n",
      "[CV] max_depth=7, max_features=None, max_leaf_nodes=1000, splitter=best \n",
      "[CV]  max_depth=7, max_features=None, max_leaf_nodes=1000, splitter=best, total=   0.0s\n",
      "[CV] max_depth=7, max_features=None, max_leaf_nodes=1000, splitter=best \n",
      "[CV]  max_depth=7, max_features=None, max_leaf_nodes=1000, splitter=best, total=   0.0s\n",
      "[CV] max_depth=7, max_features=None, max_leaf_nodes=1000, splitter=best \n",
      "[CV]  max_depth=7, max_features=None, max_leaf_nodes=1000, splitter=best, total=   0.0s\n",
      "[CV] max_depth=7, max_features=None, max_leaf_nodes=1000, splitter=random \n",
      "[CV]  max_depth=7, max_features=None, max_leaf_nodes=1000, splitter=random, total=   0.0s\n",
      "[CV] max_depth=7, max_features=None, max_leaf_nodes=1000, splitter=random \n",
      "[CV]  max_depth=7, max_features=None, max_leaf_nodes=1000, splitter=random, total=   0.0s\n",
      "[CV] max_depth=7, max_features=None, max_leaf_nodes=1000, splitter=random \n",
      "[CV]  max_depth=7, max_features=None, max_leaf_nodes=1000, splitter=random, total=   0.0s\n",
      "[CV] max_depth=9, max_features=auto, max_leaf_nodes=None, splitter=best \n",
      "[CV]  max_depth=9, max_features=auto, max_leaf_nodes=None, splitter=best, total=   0.0s\n",
      "[CV] max_depth=9, max_features=auto, max_leaf_nodes=None, splitter=best \n",
      "[CV]  max_depth=9, max_features=auto, max_leaf_nodes=None, splitter=best, total=   0.0s\n",
      "[CV] max_depth=9, max_features=auto, max_leaf_nodes=None, splitter=best \n",
      "[CV]  max_depth=9, max_features=auto, max_leaf_nodes=None, splitter=best, total=   0.0s\n",
      "[CV] max_depth=9, max_features=auto, max_leaf_nodes=None, splitter=random \n",
      "[CV]  max_depth=9, max_features=auto, max_leaf_nodes=None, splitter=random, total=   0.0s\n",
      "[CV] max_depth=9, max_features=auto, max_leaf_nodes=None, splitter=random \n",
      "[CV]  max_depth=9, max_features=auto, max_leaf_nodes=None, splitter=random, total=   0.0s\n",
      "[CV] max_depth=9, max_features=auto, max_leaf_nodes=None, splitter=random \n",
      "[CV]  max_depth=9, max_features=auto, max_leaf_nodes=None, splitter=random, total=   0.0s\n",
      "[CV] max_depth=9, max_features=auto, max_leaf_nodes=10, splitter=best \n",
      "[CV]  max_depth=9, max_features=auto, max_leaf_nodes=10, splitter=best, total=   0.0s\n",
      "[CV] max_depth=9, max_features=auto, max_leaf_nodes=10, splitter=best \n",
      "[CV]  max_depth=9, max_features=auto, max_leaf_nodes=10, splitter=best, total=   0.0s\n",
      "[CV] max_depth=9, max_features=auto, max_leaf_nodes=10, splitter=best \n",
      "[CV]  max_depth=9, max_features=auto, max_leaf_nodes=10, splitter=best, total=   0.0s\n",
      "[CV] max_depth=9, max_features=auto, max_leaf_nodes=10, splitter=random \n",
      "[CV]  max_depth=9, max_features=auto, max_leaf_nodes=10, splitter=random, total=   0.0s\n",
      "[CV] max_depth=9, max_features=auto, max_leaf_nodes=10, splitter=random \n",
      "[CV]  max_depth=9, max_features=auto, max_leaf_nodes=10, splitter=random, total=   0.0s\n",
      "[CV] max_depth=9, max_features=auto, max_leaf_nodes=10, splitter=random \n",
      "[CV]  max_depth=9, max_features=auto, max_leaf_nodes=10, splitter=random, total=   0.0s\n",
      "[CV] max_depth=9, max_features=auto, max_leaf_nodes=20, splitter=best \n",
      "[CV]  max_depth=9, max_features=auto, max_leaf_nodes=20, splitter=best, total=   0.0s\n",
      "[CV] max_depth=9, max_features=auto, max_leaf_nodes=20, splitter=best \n",
      "[CV]  max_depth=9, max_features=auto, max_leaf_nodes=20, splitter=best, total=   0.0s\n",
      "[CV] max_depth=9, max_features=auto, max_leaf_nodes=20, splitter=best \n",
      "[CV]  max_depth=9, max_features=auto, max_leaf_nodes=20, splitter=best, total=   0.0s\n",
      "[CV] max_depth=9, max_features=auto, max_leaf_nodes=20, splitter=random \n",
      "[CV]  max_depth=9, max_features=auto, max_leaf_nodes=20, splitter=random, total=   0.0s\n",
      "[CV] max_depth=9, max_features=auto, max_leaf_nodes=20, splitter=random \n",
      "[CV]  max_depth=9, max_features=auto, max_leaf_nodes=20, splitter=random, total=   0.0s\n",
      "[CV] max_depth=9, max_features=auto, max_leaf_nodes=20, splitter=random \n"
     ]
    },
    {
     "name": "stdout",
     "output_type": "stream",
     "text": [
      "[CV]  max_depth=9, max_features=auto, max_leaf_nodes=20, splitter=random, total=   0.0s\n",
      "[CV] max_depth=9, max_features=auto, max_leaf_nodes=50, splitter=best \n",
      "[CV]  max_depth=9, max_features=auto, max_leaf_nodes=50, splitter=best, total=   0.0s\n",
      "[CV] max_depth=9, max_features=auto, max_leaf_nodes=50, splitter=best \n",
      "[CV]  max_depth=9, max_features=auto, max_leaf_nodes=50, splitter=best, total=   0.0s\n",
      "[CV] max_depth=9, max_features=auto, max_leaf_nodes=50, splitter=best \n",
      "[CV]  max_depth=9, max_features=auto, max_leaf_nodes=50, splitter=best, total=   0.0s\n",
      "[CV] max_depth=9, max_features=auto, max_leaf_nodes=50, splitter=random \n",
      "[CV]  max_depth=9, max_features=auto, max_leaf_nodes=50, splitter=random, total=   0.0s\n",
      "[CV] max_depth=9, max_features=auto, max_leaf_nodes=50, splitter=random \n",
      "[CV]  max_depth=9, max_features=auto, max_leaf_nodes=50, splitter=random, total=   0.0s\n",
      "[CV] max_depth=9, max_features=auto, max_leaf_nodes=50, splitter=random \n",
      "[CV]  max_depth=9, max_features=auto, max_leaf_nodes=50, splitter=random, total=   0.0s\n",
      "[CV] max_depth=9, max_features=auto, max_leaf_nodes=100, splitter=best \n",
      "[CV]  max_depth=9, max_features=auto, max_leaf_nodes=100, splitter=best, total=   0.0s\n",
      "[CV] max_depth=9, max_features=auto, max_leaf_nodes=100, splitter=best \n",
      "[CV]  max_depth=9, max_features=auto, max_leaf_nodes=100, splitter=best, total=   0.0s\n",
      "[CV] max_depth=9, max_features=auto, max_leaf_nodes=100, splitter=best \n",
      "[CV]  max_depth=9, max_features=auto, max_leaf_nodes=100, splitter=best, total=   0.0s\n",
      "[CV] max_depth=9, max_features=auto, max_leaf_nodes=100, splitter=random \n",
      "[CV]  max_depth=9, max_features=auto, max_leaf_nodes=100, splitter=random, total=   0.0s\n",
      "[CV] max_depth=9, max_features=auto, max_leaf_nodes=100, splitter=random \n",
      "[CV]  max_depth=9, max_features=auto, max_leaf_nodes=100, splitter=random, total=   0.0s\n",
      "[CV] max_depth=9, max_features=auto, max_leaf_nodes=100, splitter=random \n",
      "[CV]  max_depth=9, max_features=auto, max_leaf_nodes=100, splitter=random, total=   0.0s\n",
      "[CV] max_depth=9, max_features=auto, max_leaf_nodes=200, splitter=best \n",
      "[CV]  max_depth=9, max_features=auto, max_leaf_nodes=200, splitter=best, total=   0.0s\n",
      "[CV] max_depth=9, max_features=auto, max_leaf_nodes=200, splitter=best \n",
      "[CV]  max_depth=9, max_features=auto, max_leaf_nodes=200, splitter=best, total=   0.0s\n",
      "[CV] max_depth=9, max_features=auto, max_leaf_nodes=200, splitter=best \n",
      "[CV]  max_depth=9, max_features=auto, max_leaf_nodes=200, splitter=best, total=   0.0s\n",
      "[CV] max_depth=9, max_features=auto, max_leaf_nodes=200, splitter=random \n",
      "[CV]  max_depth=9, max_features=auto, max_leaf_nodes=200, splitter=random, total=   0.0s\n",
      "[CV] max_depth=9, max_features=auto, max_leaf_nodes=200, splitter=random \n",
      "[CV]  max_depth=9, max_features=auto, max_leaf_nodes=200, splitter=random, total=   0.0s\n",
      "[CV] max_depth=9, max_features=auto, max_leaf_nodes=200, splitter=random \n",
      "[CV]  max_depth=9, max_features=auto, max_leaf_nodes=200, splitter=random, total=   0.0s\n",
      "[CV] max_depth=9, max_features=auto, max_leaf_nodes=500, splitter=best \n",
      "[CV]  max_depth=9, max_features=auto, max_leaf_nodes=500, splitter=best, total=   0.0s\n",
      "[CV] max_depth=9, max_features=auto, max_leaf_nodes=500, splitter=best \n",
      "[CV]  max_depth=9, max_features=auto, max_leaf_nodes=500, splitter=best, total=   0.0s\n",
      "[CV] max_depth=9, max_features=auto, max_leaf_nodes=500, splitter=best \n",
      "[CV]  max_depth=9, max_features=auto, max_leaf_nodes=500, splitter=best, total=   0.0s\n",
      "[CV] max_depth=9, max_features=auto, max_leaf_nodes=500, splitter=random \n",
      "[CV]  max_depth=9, max_features=auto, max_leaf_nodes=500, splitter=random, total=   0.0s\n",
      "[CV] max_depth=9, max_features=auto, max_leaf_nodes=500, splitter=random \n",
      "[CV]  max_depth=9, max_features=auto, max_leaf_nodes=500, splitter=random, total=   0.0s\n",
      "[CV] max_depth=9, max_features=auto, max_leaf_nodes=500, splitter=random \n",
      "[CV]  max_depth=9, max_features=auto, max_leaf_nodes=500, splitter=random, total=   0.0s\n",
      "[CV] max_depth=9, max_features=auto, max_leaf_nodes=1000, splitter=best \n",
      "[CV]  max_depth=9, max_features=auto, max_leaf_nodes=1000, splitter=best, total=   0.0s\n",
      "[CV] max_depth=9, max_features=auto, max_leaf_nodes=1000, splitter=best \n",
      "[CV]  max_depth=9, max_features=auto, max_leaf_nodes=1000, splitter=best, total=   0.0s\n",
      "[CV] max_depth=9, max_features=auto, max_leaf_nodes=1000, splitter=best \n",
      "[CV]  max_depth=9, max_features=auto, max_leaf_nodes=1000, splitter=best, total=   0.0s\n",
      "[CV] max_depth=9, max_features=auto, max_leaf_nodes=1000, splitter=random \n",
      "[CV]  max_depth=9, max_features=auto, max_leaf_nodes=1000, splitter=random, total=   0.0s\n",
      "[CV] max_depth=9, max_features=auto, max_leaf_nodes=1000, splitter=random \n",
      "[CV]  max_depth=9, max_features=auto, max_leaf_nodes=1000, splitter=random, total=   0.0s\n",
      "[CV] max_depth=9, max_features=auto, max_leaf_nodes=1000, splitter=random \n",
      "[CV]  max_depth=9, max_features=auto, max_leaf_nodes=1000, splitter=random, total=   0.0s\n",
      "[CV] max_depth=9, max_features=log2, max_leaf_nodes=None, splitter=best \n",
      "[CV]  max_depth=9, max_features=log2, max_leaf_nodes=None, splitter=best, total=   0.0s\n",
      "[CV] max_depth=9, max_features=log2, max_leaf_nodes=None, splitter=best \n",
      "[CV]  max_depth=9, max_features=log2, max_leaf_nodes=None, splitter=best, total=   0.0s\n",
      "[CV] max_depth=9, max_features=log2, max_leaf_nodes=None, splitter=best \n",
      "[CV]  max_depth=9, max_features=log2, max_leaf_nodes=None, splitter=best, total=   0.0s\n",
      "[CV] max_depth=9, max_features=log2, max_leaf_nodes=None, splitter=random \n",
      "[CV]  max_depth=9, max_features=log2, max_leaf_nodes=None, splitter=random, total=   0.0s\n",
      "[CV] max_depth=9, max_features=log2, max_leaf_nodes=None, splitter=random \n",
      "[CV]  max_depth=9, max_features=log2, max_leaf_nodes=None, splitter=random, total=   0.0s\n",
      "[CV] max_depth=9, max_features=log2, max_leaf_nodes=None, splitter=random \n",
      "[CV]  max_depth=9, max_features=log2, max_leaf_nodes=None, splitter=random, total=   0.0s\n",
      "[CV] max_depth=9, max_features=log2, max_leaf_nodes=10, splitter=best \n",
      "[CV]  max_depth=9, max_features=log2, max_leaf_nodes=10, splitter=best, total=   0.0s\n",
      "[CV] max_depth=9, max_features=log2, max_leaf_nodes=10, splitter=best \n",
      "[CV]  max_depth=9, max_features=log2, max_leaf_nodes=10, splitter=best, total=   0.0s\n",
      "[CV] max_depth=9, max_features=log2, max_leaf_nodes=10, splitter=best \n",
      "[CV]  max_depth=9, max_features=log2, max_leaf_nodes=10, splitter=best, total=   0.0s\n",
      "[CV] max_depth=9, max_features=log2, max_leaf_nodes=10, splitter=random \n",
      "[CV]  max_depth=9, max_features=log2, max_leaf_nodes=10, splitter=random, total=   0.0s\n",
      "[CV] max_depth=9, max_features=log2, max_leaf_nodes=10, splitter=random \n",
      "[CV]  max_depth=9, max_features=log2, max_leaf_nodes=10, splitter=random, total=   0.0s\n",
      "[CV] max_depth=9, max_features=log2, max_leaf_nodes=10, splitter=random \n",
      "[CV]  max_depth=9, max_features=log2, max_leaf_nodes=10, splitter=random, total=   0.0s\n",
      "[CV] max_depth=9, max_features=log2, max_leaf_nodes=20, splitter=best \n",
      "[CV]  max_depth=9, max_features=log2, max_leaf_nodes=20, splitter=best, total=   0.0s\n",
      "[CV] max_depth=9, max_features=log2, max_leaf_nodes=20, splitter=best \n",
      "[CV]  max_depth=9, max_features=log2, max_leaf_nodes=20, splitter=best, total=   0.0s\n",
      "[CV] max_depth=9, max_features=log2, max_leaf_nodes=20, splitter=best \n",
      "[CV]  max_depth=9, max_features=log2, max_leaf_nodes=20, splitter=best, total=   0.0s\n",
      "[CV] max_depth=9, max_features=log2, max_leaf_nodes=20, splitter=random \n",
      "[CV]  max_depth=9, max_features=log2, max_leaf_nodes=20, splitter=random, total=   0.0s\n",
      "[CV] max_depth=9, max_features=log2, max_leaf_nodes=20, splitter=random \n",
      "[CV]  max_depth=9, max_features=log2, max_leaf_nodes=20, splitter=random, total=   0.0s\n",
      "[CV] max_depth=9, max_features=log2, max_leaf_nodes=20, splitter=random \n",
      "[CV]  max_depth=9, max_features=log2, max_leaf_nodes=20, splitter=random, total=   0.0s\n",
      "[CV] max_depth=9, max_features=log2, max_leaf_nodes=50, splitter=best \n",
      "[CV]  max_depth=9, max_features=log2, max_leaf_nodes=50, splitter=best, total=   0.0s\n",
      "[CV] max_depth=9, max_features=log2, max_leaf_nodes=50, splitter=best \n",
      "[CV]  max_depth=9, max_features=log2, max_leaf_nodes=50, splitter=best, total=   0.0s\n",
      "[CV] max_depth=9, max_features=log2, max_leaf_nodes=50, splitter=best \n",
      "[CV]  max_depth=9, max_features=log2, max_leaf_nodes=50, splitter=best, total=   0.0s\n",
      "[CV] max_depth=9, max_features=log2, max_leaf_nodes=50, splitter=random \n",
      "[CV]  max_depth=9, max_features=log2, max_leaf_nodes=50, splitter=random, total=   0.0s\n",
      "[CV] max_depth=9, max_features=log2, max_leaf_nodes=50, splitter=random \n",
      "[CV]  max_depth=9, max_features=log2, max_leaf_nodes=50, splitter=random, total=   0.0s\n",
      "[CV] max_depth=9, max_features=log2, max_leaf_nodes=50, splitter=random \n",
      "[CV]  max_depth=9, max_features=log2, max_leaf_nodes=50, splitter=random, total=   0.0s\n",
      "[CV] max_depth=9, max_features=log2, max_leaf_nodes=100, splitter=best \n",
      "[CV]  max_depth=9, max_features=log2, max_leaf_nodes=100, splitter=best, total=   0.0s\n",
      "[CV] max_depth=9, max_features=log2, max_leaf_nodes=100, splitter=best \n",
      "[CV]  max_depth=9, max_features=log2, max_leaf_nodes=100, splitter=best, total=   0.0s\n",
      "[CV] max_depth=9, max_features=log2, max_leaf_nodes=100, splitter=best \n",
      "[CV]  max_depth=9, max_features=log2, max_leaf_nodes=100, splitter=best, total=   0.0s\n",
      "[CV] max_depth=9, max_features=log2, max_leaf_nodes=100, splitter=random \n",
      "[CV]  max_depth=9, max_features=log2, max_leaf_nodes=100, splitter=random, total=   0.0s\n",
      "[CV] max_depth=9, max_features=log2, max_leaf_nodes=100, splitter=random \n",
      "[CV]  max_depth=9, max_features=log2, max_leaf_nodes=100, splitter=random, total=   0.0s\n",
      "[CV] max_depth=9, max_features=log2, max_leaf_nodes=100, splitter=random \n",
      "[CV]  max_depth=9, max_features=log2, max_leaf_nodes=100, splitter=random, total=   0.0s\n",
      "[CV] max_depth=9, max_features=log2, max_leaf_nodes=200, splitter=best \n",
      "[CV]  max_depth=9, max_features=log2, max_leaf_nodes=200, splitter=best, total=   0.0s\n",
      "[CV] max_depth=9, max_features=log2, max_leaf_nodes=200, splitter=best \n",
      "[CV]  max_depth=9, max_features=log2, max_leaf_nodes=200, splitter=best, total=   0.0s\n",
      "[CV] max_depth=9, max_features=log2, max_leaf_nodes=200, splitter=best \n"
     ]
    },
    {
     "name": "stdout",
     "output_type": "stream",
     "text": [
      "[CV]  max_depth=9, max_features=log2, max_leaf_nodes=200, splitter=best, total=   0.0s\n",
      "[CV] max_depth=9, max_features=log2, max_leaf_nodes=200, splitter=random \n",
      "[CV]  max_depth=9, max_features=log2, max_leaf_nodes=200, splitter=random, total=   0.0s\n",
      "[CV] max_depth=9, max_features=log2, max_leaf_nodes=200, splitter=random \n",
      "[CV]  max_depth=9, max_features=log2, max_leaf_nodes=200, splitter=random, total=   0.0s\n",
      "[CV] max_depth=9, max_features=log2, max_leaf_nodes=200, splitter=random \n",
      "[CV]  max_depth=9, max_features=log2, max_leaf_nodes=200, splitter=random, total=   0.0s\n",
      "[CV] max_depth=9, max_features=log2, max_leaf_nodes=500, splitter=best \n",
      "[CV]  max_depth=9, max_features=log2, max_leaf_nodes=500, splitter=best, total=   0.0s\n",
      "[CV] max_depth=9, max_features=log2, max_leaf_nodes=500, splitter=best \n",
      "[CV]  max_depth=9, max_features=log2, max_leaf_nodes=500, splitter=best, total=   0.0s\n",
      "[CV] max_depth=9, max_features=log2, max_leaf_nodes=500, splitter=best \n",
      "[CV]  max_depth=9, max_features=log2, max_leaf_nodes=500, splitter=best, total=   0.0s\n",
      "[CV] max_depth=9, max_features=log2, max_leaf_nodes=500, splitter=random \n",
      "[CV]  max_depth=9, max_features=log2, max_leaf_nodes=500, splitter=random, total=   0.0s\n",
      "[CV] max_depth=9, max_features=log2, max_leaf_nodes=500, splitter=random \n",
      "[CV]  max_depth=9, max_features=log2, max_leaf_nodes=500, splitter=random, total=   0.0s\n",
      "[CV] max_depth=9, max_features=log2, max_leaf_nodes=500, splitter=random \n",
      "[CV]  max_depth=9, max_features=log2, max_leaf_nodes=500, splitter=random, total=   0.0s\n",
      "[CV] max_depth=9, max_features=log2, max_leaf_nodes=1000, splitter=best \n",
      "[CV]  max_depth=9, max_features=log2, max_leaf_nodes=1000, splitter=best, total=   0.0s\n",
      "[CV] max_depth=9, max_features=log2, max_leaf_nodes=1000, splitter=best \n",
      "[CV]  max_depth=9, max_features=log2, max_leaf_nodes=1000, splitter=best, total=   0.0s\n",
      "[CV] max_depth=9, max_features=log2, max_leaf_nodes=1000, splitter=best \n",
      "[CV]  max_depth=9, max_features=log2, max_leaf_nodes=1000, splitter=best, total=   0.0s\n",
      "[CV] max_depth=9, max_features=log2, max_leaf_nodes=1000, splitter=random \n",
      "[CV]  max_depth=9, max_features=log2, max_leaf_nodes=1000, splitter=random, total=   0.0s\n",
      "[CV] max_depth=9, max_features=log2, max_leaf_nodes=1000, splitter=random \n",
      "[CV]  max_depth=9, max_features=log2, max_leaf_nodes=1000, splitter=random, total=   0.0s\n",
      "[CV] max_depth=9, max_features=log2, max_leaf_nodes=1000, splitter=random \n",
      "[CV]  max_depth=9, max_features=log2, max_leaf_nodes=1000, splitter=random, total=   0.0s\n",
      "[CV] max_depth=9, max_features=sqrt, max_leaf_nodes=None, splitter=best \n",
      "[CV]  max_depth=9, max_features=sqrt, max_leaf_nodes=None, splitter=best, total=   0.0s\n",
      "[CV] max_depth=9, max_features=sqrt, max_leaf_nodes=None, splitter=best \n",
      "[CV]  max_depth=9, max_features=sqrt, max_leaf_nodes=None, splitter=best, total=   0.0s\n",
      "[CV] max_depth=9, max_features=sqrt, max_leaf_nodes=None, splitter=best \n",
      "[CV]  max_depth=9, max_features=sqrt, max_leaf_nodes=None, splitter=best, total=   0.0s\n",
      "[CV] max_depth=9, max_features=sqrt, max_leaf_nodes=None, splitter=random \n",
      "[CV]  max_depth=9, max_features=sqrt, max_leaf_nodes=None, splitter=random, total=   0.0s\n",
      "[CV] max_depth=9, max_features=sqrt, max_leaf_nodes=None, splitter=random \n",
      "[CV]  max_depth=9, max_features=sqrt, max_leaf_nodes=None, splitter=random, total=   0.0s\n",
      "[CV] max_depth=9, max_features=sqrt, max_leaf_nodes=None, splitter=random \n",
      "[CV]  max_depth=9, max_features=sqrt, max_leaf_nodes=None, splitter=random, total=   0.0s\n",
      "[CV] max_depth=9, max_features=sqrt, max_leaf_nodes=10, splitter=best \n",
      "[CV]  max_depth=9, max_features=sqrt, max_leaf_nodes=10, splitter=best, total=   0.0s\n",
      "[CV] max_depth=9, max_features=sqrt, max_leaf_nodes=10, splitter=best \n",
      "[CV]  max_depth=9, max_features=sqrt, max_leaf_nodes=10, splitter=best, total=   0.0s\n",
      "[CV] max_depth=9, max_features=sqrt, max_leaf_nodes=10, splitter=best \n",
      "[CV]  max_depth=9, max_features=sqrt, max_leaf_nodes=10, splitter=best, total=   0.0s\n",
      "[CV] max_depth=9, max_features=sqrt, max_leaf_nodes=10, splitter=random \n",
      "[CV]  max_depth=9, max_features=sqrt, max_leaf_nodes=10, splitter=random, total=   0.0s\n",
      "[CV] max_depth=9, max_features=sqrt, max_leaf_nodes=10, splitter=random \n",
      "[CV]  max_depth=9, max_features=sqrt, max_leaf_nodes=10, splitter=random, total=   0.0s\n",
      "[CV] max_depth=9, max_features=sqrt, max_leaf_nodes=10, splitter=random \n",
      "[CV]  max_depth=9, max_features=sqrt, max_leaf_nodes=10, splitter=random, total=   0.0s\n",
      "[CV] max_depth=9, max_features=sqrt, max_leaf_nodes=20, splitter=best \n",
      "[CV]  max_depth=9, max_features=sqrt, max_leaf_nodes=20, splitter=best, total=   0.0s\n",
      "[CV] max_depth=9, max_features=sqrt, max_leaf_nodes=20, splitter=best \n",
      "[CV]  max_depth=9, max_features=sqrt, max_leaf_nodes=20, splitter=best, total=   0.0s\n",
      "[CV] max_depth=9, max_features=sqrt, max_leaf_nodes=20, splitter=best \n",
      "[CV]  max_depth=9, max_features=sqrt, max_leaf_nodes=20, splitter=best, total=   0.0s\n",
      "[CV] max_depth=9, max_features=sqrt, max_leaf_nodes=20, splitter=random \n",
      "[CV]  max_depth=9, max_features=sqrt, max_leaf_nodes=20, splitter=random, total=   0.0s\n",
      "[CV] max_depth=9, max_features=sqrt, max_leaf_nodes=20, splitter=random \n",
      "[CV]  max_depth=9, max_features=sqrt, max_leaf_nodes=20, splitter=random, total=   0.0s\n",
      "[CV] max_depth=9, max_features=sqrt, max_leaf_nodes=20, splitter=random \n",
      "[CV]  max_depth=9, max_features=sqrt, max_leaf_nodes=20, splitter=random, total=   0.0s\n",
      "[CV] max_depth=9, max_features=sqrt, max_leaf_nodes=50, splitter=best \n",
      "[CV]  max_depth=9, max_features=sqrt, max_leaf_nodes=50, splitter=best, total=   0.0s\n",
      "[CV] max_depth=9, max_features=sqrt, max_leaf_nodes=50, splitter=best \n",
      "[CV]  max_depth=9, max_features=sqrt, max_leaf_nodes=50, splitter=best, total=   0.0s\n",
      "[CV] max_depth=9, max_features=sqrt, max_leaf_nodes=50, splitter=best \n",
      "[CV]  max_depth=9, max_features=sqrt, max_leaf_nodes=50, splitter=best, total=   0.0s\n",
      "[CV] max_depth=9, max_features=sqrt, max_leaf_nodes=50, splitter=random \n",
      "[CV]  max_depth=9, max_features=sqrt, max_leaf_nodes=50, splitter=random, total=   0.0s\n",
      "[CV] max_depth=9, max_features=sqrt, max_leaf_nodes=50, splitter=random \n",
      "[CV]  max_depth=9, max_features=sqrt, max_leaf_nodes=50, splitter=random, total=   0.0s\n",
      "[CV] max_depth=9, max_features=sqrt, max_leaf_nodes=50, splitter=random \n",
      "[CV]  max_depth=9, max_features=sqrt, max_leaf_nodes=50, splitter=random, total=   0.0s\n",
      "[CV] max_depth=9, max_features=sqrt, max_leaf_nodes=100, splitter=best \n",
      "[CV]  max_depth=9, max_features=sqrt, max_leaf_nodes=100, splitter=best, total=   0.0s\n",
      "[CV] max_depth=9, max_features=sqrt, max_leaf_nodes=100, splitter=best \n",
      "[CV]  max_depth=9, max_features=sqrt, max_leaf_nodes=100, splitter=best, total=   0.0s\n",
      "[CV] max_depth=9, max_features=sqrt, max_leaf_nodes=100, splitter=best \n",
      "[CV]  max_depth=9, max_features=sqrt, max_leaf_nodes=100, splitter=best, total=   0.0s\n",
      "[CV] max_depth=9, max_features=sqrt, max_leaf_nodes=100, splitter=random \n",
      "[CV]  max_depth=9, max_features=sqrt, max_leaf_nodes=100, splitter=random, total=   0.0s\n",
      "[CV] max_depth=9, max_features=sqrt, max_leaf_nodes=100, splitter=random \n",
      "[CV]  max_depth=9, max_features=sqrt, max_leaf_nodes=100, splitter=random, total=   0.0s\n",
      "[CV] max_depth=9, max_features=sqrt, max_leaf_nodes=100, splitter=random \n",
      "[CV]  max_depth=9, max_features=sqrt, max_leaf_nodes=100, splitter=random, total=   0.0s\n",
      "[CV] max_depth=9, max_features=sqrt, max_leaf_nodes=200, splitter=best \n",
      "[CV]  max_depth=9, max_features=sqrt, max_leaf_nodes=200, splitter=best, total=   0.0s\n",
      "[CV] max_depth=9, max_features=sqrt, max_leaf_nodes=200, splitter=best \n",
      "[CV]  max_depth=9, max_features=sqrt, max_leaf_nodes=200, splitter=best, total=   0.0s\n",
      "[CV] max_depth=9, max_features=sqrt, max_leaf_nodes=200, splitter=best \n",
      "[CV]  max_depth=9, max_features=sqrt, max_leaf_nodes=200, splitter=best, total=   0.0s\n",
      "[CV] max_depth=9, max_features=sqrt, max_leaf_nodes=200, splitter=random \n",
      "[CV]  max_depth=9, max_features=sqrt, max_leaf_nodes=200, splitter=random, total=   0.0s\n",
      "[CV] max_depth=9, max_features=sqrt, max_leaf_nodes=200, splitter=random \n",
      "[CV]  max_depth=9, max_features=sqrt, max_leaf_nodes=200, splitter=random, total=   0.0s\n",
      "[CV] max_depth=9, max_features=sqrt, max_leaf_nodes=200, splitter=random \n",
      "[CV]  max_depth=9, max_features=sqrt, max_leaf_nodes=200, splitter=random, total=   0.0s\n",
      "[CV] max_depth=9, max_features=sqrt, max_leaf_nodes=500, splitter=best \n",
      "[CV]  max_depth=9, max_features=sqrt, max_leaf_nodes=500, splitter=best, total=   0.0s\n",
      "[CV] max_depth=9, max_features=sqrt, max_leaf_nodes=500, splitter=best \n",
      "[CV]  max_depth=9, max_features=sqrt, max_leaf_nodes=500, splitter=best, total=   0.0s\n",
      "[CV] max_depth=9, max_features=sqrt, max_leaf_nodes=500, splitter=best \n",
      "[CV]  max_depth=9, max_features=sqrt, max_leaf_nodes=500, splitter=best, total=   0.0s\n",
      "[CV] max_depth=9, max_features=sqrt, max_leaf_nodes=500, splitter=random \n",
      "[CV]  max_depth=9, max_features=sqrt, max_leaf_nodes=500, splitter=random, total=   0.0s\n",
      "[CV] max_depth=9, max_features=sqrt, max_leaf_nodes=500, splitter=random \n",
      "[CV]  max_depth=9, max_features=sqrt, max_leaf_nodes=500, splitter=random, total=   0.0s\n",
      "[CV] max_depth=9, max_features=sqrt, max_leaf_nodes=500, splitter=random \n",
      "[CV]  max_depth=9, max_features=sqrt, max_leaf_nodes=500, splitter=random, total=   0.0s\n",
      "[CV] max_depth=9, max_features=sqrt, max_leaf_nodes=1000, splitter=best \n",
      "[CV]  max_depth=9, max_features=sqrt, max_leaf_nodes=1000, splitter=best, total=   0.0s\n",
      "[CV] max_depth=9, max_features=sqrt, max_leaf_nodes=1000, splitter=best \n",
      "[CV]  max_depth=9, max_features=sqrt, max_leaf_nodes=1000, splitter=best, total=   0.0s\n",
      "[CV] max_depth=9, max_features=sqrt, max_leaf_nodes=1000, splitter=best \n",
      "[CV]  max_depth=9, max_features=sqrt, max_leaf_nodes=1000, splitter=best, total=   0.0s\n",
      "[CV] max_depth=9, max_features=sqrt, max_leaf_nodes=1000, splitter=random \n"
     ]
    },
    {
     "name": "stdout",
     "output_type": "stream",
     "text": [
      "[CV]  max_depth=9, max_features=sqrt, max_leaf_nodes=1000, splitter=random, total=   0.0s\n",
      "[CV] max_depth=9, max_features=sqrt, max_leaf_nodes=1000, splitter=random \n",
      "[CV]  max_depth=9, max_features=sqrt, max_leaf_nodes=1000, splitter=random, total=   0.0s\n",
      "[CV] max_depth=9, max_features=sqrt, max_leaf_nodes=1000, splitter=random \n",
      "[CV]  max_depth=9, max_features=sqrt, max_leaf_nodes=1000, splitter=random, total=   0.0s\n",
      "[CV] max_depth=9, max_features=None, max_leaf_nodes=None, splitter=best \n",
      "[CV]  max_depth=9, max_features=None, max_leaf_nodes=None, splitter=best, total=   0.0s\n",
      "[CV] max_depth=9, max_features=None, max_leaf_nodes=None, splitter=best \n",
      "[CV]  max_depth=9, max_features=None, max_leaf_nodes=None, splitter=best, total=   0.0s\n",
      "[CV] max_depth=9, max_features=None, max_leaf_nodes=None, splitter=best \n",
      "[CV]  max_depth=9, max_features=None, max_leaf_nodes=None, splitter=best, total=   0.0s\n",
      "[CV] max_depth=9, max_features=None, max_leaf_nodes=None, splitter=random \n",
      "[CV]  max_depth=9, max_features=None, max_leaf_nodes=None, splitter=random, total=   0.0s\n",
      "[CV] max_depth=9, max_features=None, max_leaf_nodes=None, splitter=random \n",
      "[CV]  max_depth=9, max_features=None, max_leaf_nodes=None, splitter=random, total=   0.0s\n",
      "[CV] max_depth=9, max_features=None, max_leaf_nodes=None, splitter=random \n",
      "[CV]  max_depth=9, max_features=None, max_leaf_nodes=None, splitter=random, total=   0.0s\n",
      "[CV] max_depth=9, max_features=None, max_leaf_nodes=10, splitter=best \n",
      "[CV]  max_depth=9, max_features=None, max_leaf_nodes=10, splitter=best, total=   0.0s\n",
      "[CV] max_depth=9, max_features=None, max_leaf_nodes=10, splitter=best \n",
      "[CV]  max_depth=9, max_features=None, max_leaf_nodes=10, splitter=best, total=   0.0s\n",
      "[CV] max_depth=9, max_features=None, max_leaf_nodes=10, splitter=best \n",
      "[CV]  max_depth=9, max_features=None, max_leaf_nodes=10, splitter=best, total=   0.0s\n",
      "[CV] max_depth=9, max_features=None, max_leaf_nodes=10, splitter=random \n",
      "[CV]  max_depth=9, max_features=None, max_leaf_nodes=10, splitter=random, total=   0.0s\n",
      "[CV] max_depth=9, max_features=None, max_leaf_nodes=10, splitter=random \n",
      "[CV]  max_depth=9, max_features=None, max_leaf_nodes=10, splitter=random, total=   0.0s\n",
      "[CV] max_depth=9, max_features=None, max_leaf_nodes=10, splitter=random \n",
      "[CV]  max_depth=9, max_features=None, max_leaf_nodes=10, splitter=random, total=   0.0s\n",
      "[CV] max_depth=9, max_features=None, max_leaf_nodes=20, splitter=best \n",
      "[CV]  max_depth=9, max_features=None, max_leaf_nodes=20, splitter=best, total=   0.0s\n",
      "[CV] max_depth=9, max_features=None, max_leaf_nodes=20, splitter=best \n",
      "[CV]  max_depth=9, max_features=None, max_leaf_nodes=20, splitter=best, total=   0.0s\n",
      "[CV] max_depth=9, max_features=None, max_leaf_nodes=20, splitter=best \n",
      "[CV]  max_depth=9, max_features=None, max_leaf_nodes=20, splitter=best, total=   0.0s\n",
      "[CV] max_depth=9, max_features=None, max_leaf_nodes=20, splitter=random \n",
      "[CV]  max_depth=9, max_features=None, max_leaf_nodes=20, splitter=random, total=   0.0s\n",
      "[CV] max_depth=9, max_features=None, max_leaf_nodes=20, splitter=random \n",
      "[CV]  max_depth=9, max_features=None, max_leaf_nodes=20, splitter=random, total=   0.0s\n",
      "[CV] max_depth=9, max_features=None, max_leaf_nodes=20, splitter=random \n",
      "[CV]  max_depth=9, max_features=None, max_leaf_nodes=20, splitter=random, total=   0.0s\n",
      "[CV] max_depth=9, max_features=None, max_leaf_nodes=50, splitter=best \n",
      "[CV]  max_depth=9, max_features=None, max_leaf_nodes=50, splitter=best, total=   0.0s\n",
      "[CV] max_depth=9, max_features=None, max_leaf_nodes=50, splitter=best \n",
      "[CV]  max_depth=9, max_features=None, max_leaf_nodes=50, splitter=best, total=   0.0s\n",
      "[CV] max_depth=9, max_features=None, max_leaf_nodes=50, splitter=best \n",
      "[CV]  max_depth=9, max_features=None, max_leaf_nodes=50, splitter=best, total=   0.0s\n",
      "[CV] max_depth=9, max_features=None, max_leaf_nodes=50, splitter=random \n",
      "[CV]  max_depth=9, max_features=None, max_leaf_nodes=50, splitter=random, total=   0.0s\n",
      "[CV] max_depth=9, max_features=None, max_leaf_nodes=50, splitter=random \n",
      "[CV]  max_depth=9, max_features=None, max_leaf_nodes=50, splitter=random, total=   0.0s\n",
      "[CV] max_depth=9, max_features=None, max_leaf_nodes=50, splitter=random \n",
      "[CV]  max_depth=9, max_features=None, max_leaf_nodes=50, splitter=random, total=   0.0s\n",
      "[CV] max_depth=9, max_features=None, max_leaf_nodes=100, splitter=best \n",
      "[CV]  max_depth=9, max_features=None, max_leaf_nodes=100, splitter=best, total=   0.0s\n",
      "[CV] max_depth=9, max_features=None, max_leaf_nodes=100, splitter=best \n",
      "[CV]  max_depth=9, max_features=None, max_leaf_nodes=100, splitter=best, total=   0.0s\n",
      "[CV] max_depth=9, max_features=None, max_leaf_nodes=100, splitter=best \n",
      "[CV]  max_depth=9, max_features=None, max_leaf_nodes=100, splitter=best, total=   0.0s\n",
      "[CV] max_depth=9, max_features=None, max_leaf_nodes=100, splitter=random \n",
      "[CV]  max_depth=9, max_features=None, max_leaf_nodes=100, splitter=random, total=   0.0s\n",
      "[CV] max_depth=9, max_features=None, max_leaf_nodes=100, splitter=random \n",
      "[CV]  max_depth=9, max_features=None, max_leaf_nodes=100, splitter=random, total=   0.0s\n",
      "[CV] max_depth=9, max_features=None, max_leaf_nodes=100, splitter=random \n",
      "[CV]  max_depth=9, max_features=None, max_leaf_nodes=100, splitter=random, total=   0.0s\n",
      "[CV] max_depth=9, max_features=None, max_leaf_nodes=200, splitter=best \n",
      "[CV]  max_depth=9, max_features=None, max_leaf_nodes=200, splitter=best, total=   0.0s\n",
      "[CV] max_depth=9, max_features=None, max_leaf_nodes=200, splitter=best \n",
      "[CV]  max_depth=9, max_features=None, max_leaf_nodes=200, splitter=best, total=   0.0s\n",
      "[CV] max_depth=9, max_features=None, max_leaf_nodes=200, splitter=best \n",
      "[CV]  max_depth=9, max_features=None, max_leaf_nodes=200, splitter=best, total=   0.0s\n",
      "[CV] max_depth=9, max_features=None, max_leaf_nodes=200, splitter=random \n",
      "[CV]  max_depth=9, max_features=None, max_leaf_nodes=200, splitter=random, total=   0.0s\n",
      "[CV] max_depth=9, max_features=None, max_leaf_nodes=200, splitter=random \n",
      "[CV]  max_depth=9, max_features=None, max_leaf_nodes=200, splitter=random, total=   0.0s\n",
      "[CV] max_depth=9, max_features=None, max_leaf_nodes=200, splitter=random \n",
      "[CV]  max_depth=9, max_features=None, max_leaf_nodes=200, splitter=random, total=   0.0s\n",
      "[CV] max_depth=9, max_features=None, max_leaf_nodes=500, splitter=best \n",
      "[CV]  max_depth=9, max_features=None, max_leaf_nodes=500, splitter=best, total=   0.0s\n",
      "[CV] max_depth=9, max_features=None, max_leaf_nodes=500, splitter=best \n",
      "[CV]  max_depth=9, max_features=None, max_leaf_nodes=500, splitter=best, total=   0.0s\n",
      "[CV] max_depth=9, max_features=None, max_leaf_nodes=500, splitter=best \n",
      "[CV]  max_depth=9, max_features=None, max_leaf_nodes=500, splitter=best, total=   0.0s\n",
      "[CV] max_depth=9, max_features=None, max_leaf_nodes=500, splitter=random \n",
      "[CV]  max_depth=9, max_features=None, max_leaf_nodes=500, splitter=random, total=   0.0s\n",
      "[CV] max_depth=9, max_features=None, max_leaf_nodes=500, splitter=random \n",
      "[CV]  max_depth=9, max_features=None, max_leaf_nodes=500, splitter=random, total=   0.0s\n",
      "[CV] max_depth=9, max_features=None, max_leaf_nodes=500, splitter=random \n",
      "[CV]  max_depth=9, max_features=None, max_leaf_nodes=500, splitter=random, total=   0.0s\n",
      "[CV] max_depth=9, max_features=None, max_leaf_nodes=1000, splitter=best \n",
      "[CV]  max_depth=9, max_features=None, max_leaf_nodes=1000, splitter=best, total=   0.0s\n",
      "[CV] max_depth=9, max_features=None, max_leaf_nodes=1000, splitter=best \n",
      "[CV]  max_depth=9, max_features=None, max_leaf_nodes=1000, splitter=best, total=   0.0s\n",
      "[CV] max_depth=9, max_features=None, max_leaf_nodes=1000, splitter=best \n",
      "[CV]  max_depth=9, max_features=None, max_leaf_nodes=1000, splitter=best, total=   0.0s\n",
      "[CV] max_depth=9, max_features=None, max_leaf_nodes=1000, splitter=random \n",
      "[CV]  max_depth=9, max_features=None, max_leaf_nodes=1000, splitter=random, total=   0.0s\n",
      "[CV] max_depth=9, max_features=None, max_leaf_nodes=1000, splitter=random \n",
      "[CV]  max_depth=9, max_features=None, max_leaf_nodes=1000, splitter=random, total=   0.0s\n",
      "[CV] max_depth=9, max_features=None, max_leaf_nodes=1000, splitter=random \n",
      "[CV]  max_depth=9, max_features=None, max_leaf_nodes=1000, splitter=random, total=   0.0s\n",
      "[CV] max_depth=11, max_features=auto, max_leaf_nodes=None, splitter=best \n",
      "[CV]  max_depth=11, max_features=auto, max_leaf_nodes=None, splitter=best, total=   0.0s\n",
      "[CV] max_depth=11, max_features=auto, max_leaf_nodes=None, splitter=best \n",
      "[CV]  max_depth=11, max_features=auto, max_leaf_nodes=None, splitter=best, total=   0.0s\n",
      "[CV] max_depth=11, max_features=auto, max_leaf_nodes=None, splitter=best \n"
     ]
    },
    {
     "name": "stdout",
     "output_type": "stream",
     "text": [
      "[CV]  max_depth=11, max_features=auto, max_leaf_nodes=None, splitter=best, total=   0.0s\n",
      "[CV] max_depth=11, max_features=auto, max_leaf_nodes=None, splitter=random \n",
      "[CV]  max_depth=11, max_features=auto, max_leaf_nodes=None, splitter=random, total=   0.0s\n",
      "[CV] max_depth=11, max_features=auto, max_leaf_nodes=None, splitter=random \n",
      "[CV]  max_depth=11, max_features=auto, max_leaf_nodes=None, splitter=random, total=   0.0s\n",
      "[CV] max_depth=11, max_features=auto, max_leaf_nodes=None, splitter=random \n",
      "[CV]  max_depth=11, max_features=auto, max_leaf_nodes=None, splitter=random, total=   0.0s\n",
      "[CV] max_depth=11, max_features=auto, max_leaf_nodes=10, splitter=best \n",
      "[CV]  max_depth=11, max_features=auto, max_leaf_nodes=10, splitter=best, total=   0.0s\n",
      "[CV] max_depth=11, max_features=auto, max_leaf_nodes=10, splitter=best \n",
      "[CV]  max_depth=11, max_features=auto, max_leaf_nodes=10, splitter=best, total=   0.0s\n",
      "[CV] max_depth=11, max_features=auto, max_leaf_nodes=10, splitter=best \n",
      "[CV]  max_depth=11, max_features=auto, max_leaf_nodes=10, splitter=best, total=   0.0s\n",
      "[CV] max_depth=11, max_features=auto, max_leaf_nodes=10, splitter=random \n",
      "[CV]  max_depth=11, max_features=auto, max_leaf_nodes=10, splitter=random, total=   0.0s\n",
      "[CV] max_depth=11, max_features=auto, max_leaf_nodes=10, splitter=random \n",
      "[CV]  max_depth=11, max_features=auto, max_leaf_nodes=10, splitter=random, total=   0.0s\n",
      "[CV] max_depth=11, max_features=auto, max_leaf_nodes=10, splitter=random \n",
      "[CV]  max_depth=11, max_features=auto, max_leaf_nodes=10, splitter=random, total=   0.0s\n",
      "[CV] max_depth=11, max_features=auto, max_leaf_nodes=20, splitter=best \n",
      "[CV]  max_depth=11, max_features=auto, max_leaf_nodes=20, splitter=best, total=   0.0s\n",
      "[CV] max_depth=11, max_features=auto, max_leaf_nodes=20, splitter=best \n",
      "[CV]  max_depth=11, max_features=auto, max_leaf_nodes=20, splitter=best, total=   0.0s\n",
      "[CV] max_depth=11, max_features=auto, max_leaf_nodes=20, splitter=best \n",
      "[CV]  max_depth=11, max_features=auto, max_leaf_nodes=20, splitter=best, total=   0.0s\n",
      "[CV] max_depth=11, max_features=auto, max_leaf_nodes=20, splitter=random \n",
      "[CV]  max_depth=11, max_features=auto, max_leaf_nodes=20, splitter=random, total=   0.0s\n",
      "[CV] max_depth=11, max_features=auto, max_leaf_nodes=20, splitter=random \n",
      "[CV]  max_depth=11, max_features=auto, max_leaf_nodes=20, splitter=random, total=   0.0s\n",
      "[CV] max_depth=11, max_features=auto, max_leaf_nodes=20, splitter=random \n",
      "[CV]  max_depth=11, max_features=auto, max_leaf_nodes=20, splitter=random, total=   0.0s\n",
      "[CV] max_depth=11, max_features=auto, max_leaf_nodes=50, splitter=best \n",
      "[CV]  max_depth=11, max_features=auto, max_leaf_nodes=50, splitter=best, total=   0.0s\n",
      "[CV] max_depth=11, max_features=auto, max_leaf_nodes=50, splitter=best \n",
      "[CV]  max_depth=11, max_features=auto, max_leaf_nodes=50, splitter=best, total=   0.0s\n",
      "[CV] max_depth=11, max_features=auto, max_leaf_nodes=50, splitter=best \n",
      "[CV]  max_depth=11, max_features=auto, max_leaf_nodes=50, splitter=best, total=   0.0s\n",
      "[CV] max_depth=11, max_features=auto, max_leaf_nodes=50, splitter=random \n",
      "[CV]  max_depth=11, max_features=auto, max_leaf_nodes=50, splitter=random, total=   0.0s\n",
      "[CV] max_depth=11, max_features=auto, max_leaf_nodes=50, splitter=random \n",
      "[CV]  max_depth=11, max_features=auto, max_leaf_nodes=50, splitter=random, total=   0.0s\n",
      "[CV] max_depth=11, max_features=auto, max_leaf_nodes=50, splitter=random \n",
      "[CV]  max_depth=11, max_features=auto, max_leaf_nodes=50, splitter=random, total=   0.0s\n",
      "[CV] max_depth=11, max_features=auto, max_leaf_nodes=100, splitter=best \n",
      "[CV]  max_depth=11, max_features=auto, max_leaf_nodes=100, splitter=best, total=   0.0s\n",
      "[CV] max_depth=11, max_features=auto, max_leaf_nodes=100, splitter=best \n",
      "[CV]  max_depth=11, max_features=auto, max_leaf_nodes=100, splitter=best, total=   0.0s\n",
      "[CV] max_depth=11, max_features=auto, max_leaf_nodes=100, splitter=best \n",
      "[CV]  max_depth=11, max_features=auto, max_leaf_nodes=100, splitter=best, total=   0.0s\n",
      "[CV] max_depth=11, max_features=auto, max_leaf_nodes=100, splitter=random \n",
      "[CV]  max_depth=11, max_features=auto, max_leaf_nodes=100, splitter=random, total=   0.0s\n",
      "[CV] max_depth=11, max_features=auto, max_leaf_nodes=100, splitter=random \n",
      "[CV]  max_depth=11, max_features=auto, max_leaf_nodes=100, splitter=random, total=   0.0s\n",
      "[CV] max_depth=11, max_features=auto, max_leaf_nodes=100, splitter=random \n",
      "[CV]  max_depth=11, max_features=auto, max_leaf_nodes=100, splitter=random, total=   0.0s\n",
      "[CV] max_depth=11, max_features=auto, max_leaf_nodes=200, splitter=best \n",
      "[CV]  max_depth=11, max_features=auto, max_leaf_nodes=200, splitter=best, total=   0.0s\n",
      "[CV] max_depth=11, max_features=auto, max_leaf_nodes=200, splitter=best \n",
      "[CV]  max_depth=11, max_features=auto, max_leaf_nodes=200, splitter=best, total=   0.0s\n",
      "[CV] max_depth=11, max_features=auto, max_leaf_nodes=200, splitter=best \n",
      "[CV]  max_depth=11, max_features=auto, max_leaf_nodes=200, splitter=best, total=   0.0s\n",
      "[CV] max_depth=11, max_features=auto, max_leaf_nodes=200, splitter=random \n",
      "[CV]  max_depth=11, max_features=auto, max_leaf_nodes=200, splitter=random, total=   0.0s\n",
      "[CV] max_depth=11, max_features=auto, max_leaf_nodes=200, splitter=random \n",
      "[CV]  max_depth=11, max_features=auto, max_leaf_nodes=200, splitter=random, total=   0.0s\n",
      "[CV] max_depth=11, max_features=auto, max_leaf_nodes=200, splitter=random \n",
      "[CV]  max_depth=11, max_features=auto, max_leaf_nodes=200, splitter=random, total=   0.0s\n",
      "[CV] max_depth=11, max_features=auto, max_leaf_nodes=500, splitter=best \n",
      "[CV]  max_depth=11, max_features=auto, max_leaf_nodes=500, splitter=best, total=   0.0s\n",
      "[CV] max_depth=11, max_features=auto, max_leaf_nodes=500, splitter=best \n",
      "[CV]  max_depth=11, max_features=auto, max_leaf_nodes=500, splitter=best, total=   0.0s\n",
      "[CV] max_depth=11, max_features=auto, max_leaf_nodes=500, splitter=best \n",
      "[CV]  max_depth=11, max_features=auto, max_leaf_nodes=500, splitter=best, total=   0.0s\n",
      "[CV] max_depth=11, max_features=auto, max_leaf_nodes=500, splitter=random \n",
      "[CV]  max_depth=11, max_features=auto, max_leaf_nodes=500, splitter=random, total=   0.0s\n",
      "[CV] max_depth=11, max_features=auto, max_leaf_nodes=500, splitter=random \n",
      "[CV]  max_depth=11, max_features=auto, max_leaf_nodes=500, splitter=random, total=   0.0s\n",
      "[CV] max_depth=11, max_features=auto, max_leaf_nodes=500, splitter=random \n",
      "[CV]  max_depth=11, max_features=auto, max_leaf_nodes=500, splitter=random, total=   0.0s\n",
      "[CV] max_depth=11, max_features=auto, max_leaf_nodes=1000, splitter=best \n",
      "[CV]  max_depth=11, max_features=auto, max_leaf_nodes=1000, splitter=best, total=   0.0s\n",
      "[CV] max_depth=11, max_features=auto, max_leaf_nodes=1000, splitter=best \n",
      "[CV]  max_depth=11, max_features=auto, max_leaf_nodes=1000, splitter=best, total=   0.0s\n",
      "[CV] max_depth=11, max_features=auto, max_leaf_nodes=1000, splitter=best \n",
      "[CV]  max_depth=11, max_features=auto, max_leaf_nodes=1000, splitter=best, total=   0.0s\n",
      "[CV] max_depth=11, max_features=auto, max_leaf_nodes=1000, splitter=random \n",
      "[CV]  max_depth=11, max_features=auto, max_leaf_nodes=1000, splitter=random, total=   0.0s\n",
      "[CV] max_depth=11, max_features=auto, max_leaf_nodes=1000, splitter=random \n",
      "[CV]  max_depth=11, max_features=auto, max_leaf_nodes=1000, splitter=random, total=   0.0s\n",
      "[CV] max_depth=11, max_features=auto, max_leaf_nodes=1000, splitter=random \n",
      "[CV]  max_depth=11, max_features=auto, max_leaf_nodes=1000, splitter=random, total=   0.0s\n",
      "[CV] max_depth=11, max_features=log2, max_leaf_nodes=None, splitter=best \n",
      "[CV]  max_depth=11, max_features=log2, max_leaf_nodes=None, splitter=best, total=   0.0s\n",
      "[CV] max_depth=11, max_features=log2, max_leaf_nodes=None, splitter=best \n",
      "[CV]  max_depth=11, max_features=log2, max_leaf_nodes=None, splitter=best, total=   0.0s\n",
      "[CV] max_depth=11, max_features=log2, max_leaf_nodes=None, splitter=best \n",
      "[CV]  max_depth=11, max_features=log2, max_leaf_nodes=None, splitter=best, total=   0.0s\n",
      "[CV] max_depth=11, max_features=log2, max_leaf_nodes=None, splitter=random \n",
      "[CV]  max_depth=11, max_features=log2, max_leaf_nodes=None, splitter=random, total=   0.0s\n",
      "[CV] max_depth=11, max_features=log2, max_leaf_nodes=None, splitter=random \n",
      "[CV]  max_depth=11, max_features=log2, max_leaf_nodes=None, splitter=random, total=   0.0s\n",
      "[CV] max_depth=11, max_features=log2, max_leaf_nodes=None, splitter=random \n",
      "[CV]  max_depth=11, max_features=log2, max_leaf_nodes=None, splitter=random, total=   0.0s\n",
      "[CV] max_depth=11, max_features=log2, max_leaf_nodes=10, splitter=best \n",
      "[CV]  max_depth=11, max_features=log2, max_leaf_nodes=10, splitter=best, total=   0.0s\n",
      "[CV] max_depth=11, max_features=log2, max_leaf_nodes=10, splitter=best \n",
      "[CV]  max_depth=11, max_features=log2, max_leaf_nodes=10, splitter=best, total=   0.0s\n",
      "[CV] max_depth=11, max_features=log2, max_leaf_nodes=10, splitter=best \n",
      "[CV]  max_depth=11, max_features=log2, max_leaf_nodes=10, splitter=best, total=   0.0s\n",
      "[CV] max_depth=11, max_features=log2, max_leaf_nodes=10, splitter=random \n",
      "[CV]  max_depth=11, max_features=log2, max_leaf_nodes=10, splitter=random, total=   0.0s\n",
      "[CV] max_depth=11, max_features=log2, max_leaf_nodes=10, splitter=random \n",
      "[CV]  max_depth=11, max_features=log2, max_leaf_nodes=10, splitter=random, total=   0.0s\n",
      "[CV] max_depth=11, max_features=log2, max_leaf_nodes=10, splitter=random \n",
      "[CV]  max_depth=11, max_features=log2, max_leaf_nodes=10, splitter=random, total=   0.0s\n",
      "[CV] max_depth=11, max_features=log2, max_leaf_nodes=20, splitter=best \n",
      "[CV]  max_depth=11, max_features=log2, max_leaf_nodes=20, splitter=best, total=   0.0s\n",
      "[CV] max_depth=11, max_features=log2, max_leaf_nodes=20, splitter=best \n",
      "[CV]  max_depth=11, max_features=log2, max_leaf_nodes=20, splitter=best, total=   0.0s\n",
      "[CV] max_depth=11, max_features=log2, max_leaf_nodes=20, splitter=best \n",
      "[CV]  max_depth=11, max_features=log2, max_leaf_nodes=20, splitter=best, total=   0.0s\n",
      "[CV] max_depth=11, max_features=log2, max_leaf_nodes=20, splitter=random \n",
      "[CV]  max_depth=11, max_features=log2, max_leaf_nodes=20, splitter=random, total=   0.0s\n",
      "[CV] max_depth=11, max_features=log2, max_leaf_nodes=20, splitter=random \n",
      "[CV]  max_depth=11, max_features=log2, max_leaf_nodes=20, splitter=random, total=   0.0s\n",
      "[CV] max_depth=11, max_features=log2, max_leaf_nodes=20, splitter=random \n",
      "[CV]  max_depth=11, max_features=log2, max_leaf_nodes=20, splitter=random, total=   0.0s\n",
      "[CV] max_depth=11, max_features=log2, max_leaf_nodes=50, splitter=best \n",
      "[CV]  max_depth=11, max_features=log2, max_leaf_nodes=50, splitter=best, total=   0.0s\n",
      "[CV] max_depth=11, max_features=log2, max_leaf_nodes=50, splitter=best \n",
      "[CV]  max_depth=11, max_features=log2, max_leaf_nodes=50, splitter=best, total=   0.0s\n",
      "[CV] max_depth=11, max_features=log2, max_leaf_nodes=50, splitter=best \n",
      "[CV]  max_depth=11, max_features=log2, max_leaf_nodes=50, splitter=best, total=   0.0s\n",
      "[CV] max_depth=11, max_features=log2, max_leaf_nodes=50, splitter=random \n",
      "[CV]  max_depth=11, max_features=log2, max_leaf_nodes=50, splitter=random, total=   0.0s\n",
      "[CV] max_depth=11, max_features=log2, max_leaf_nodes=50, splitter=random \n",
      "[CV]  max_depth=11, max_features=log2, max_leaf_nodes=50, splitter=random, total=   0.0s\n",
      "[CV] max_depth=11, max_features=log2, max_leaf_nodes=50, splitter=random \n",
      "[CV]  max_depth=11, max_features=log2, max_leaf_nodes=50, splitter=random, total=   0.0s\n",
      "[CV] max_depth=11, max_features=log2, max_leaf_nodes=100, splitter=best \n",
      "[CV]  max_depth=11, max_features=log2, max_leaf_nodes=100, splitter=best, total=   0.0s\n",
      "[CV] max_depth=11, max_features=log2, max_leaf_nodes=100, splitter=best \n",
      "[CV]  max_depth=11, max_features=log2, max_leaf_nodes=100, splitter=best, total=   0.0s\n",
      "[CV] max_depth=11, max_features=log2, max_leaf_nodes=100, splitter=best \n",
      "[CV]  max_depth=11, max_features=log2, max_leaf_nodes=100, splitter=best, total=   0.0s\n",
      "[CV] max_depth=11, max_features=log2, max_leaf_nodes=100, splitter=random \n",
      "[CV]  max_depth=11, max_features=log2, max_leaf_nodes=100, splitter=random, total=   0.0s\n",
      "[CV] max_depth=11, max_features=log2, max_leaf_nodes=100, splitter=random \n",
      "[CV]  max_depth=11, max_features=log2, max_leaf_nodes=100, splitter=random, total=   0.0s\n",
      "[CV] max_depth=11, max_features=log2, max_leaf_nodes=100, splitter=random \n",
      "[CV]  max_depth=11, max_features=log2, max_leaf_nodes=100, splitter=random, total=   0.0s\n",
      "[CV] max_depth=11, max_features=log2, max_leaf_nodes=200, splitter=best \n",
      "[CV]  max_depth=11, max_features=log2, max_leaf_nodes=200, splitter=best, total=   0.0s\n",
      "[CV] max_depth=11, max_features=log2, max_leaf_nodes=200, splitter=best \n",
      "[CV]  max_depth=11, max_features=log2, max_leaf_nodes=200, splitter=best, total=   0.0s\n",
      "[CV] max_depth=11, max_features=log2, max_leaf_nodes=200, splitter=best \n",
      "[CV]  max_depth=11, max_features=log2, max_leaf_nodes=200, splitter=best, total=   0.0s\n",
      "[CV] max_depth=11, max_features=log2, max_leaf_nodes=200, splitter=random \n",
      "[CV]  max_depth=11, max_features=log2, max_leaf_nodes=200, splitter=random, total=   0.0s\n",
      "[CV] max_depth=11, max_features=log2, max_leaf_nodes=200, splitter=random \n",
      "[CV]  max_depth=11, max_features=log2, max_leaf_nodes=200, splitter=random, total=   0.0s\n",
      "[CV] max_depth=11, max_features=log2, max_leaf_nodes=200, splitter=random \n",
      "[CV]  max_depth=11, max_features=log2, max_leaf_nodes=200, splitter=random, total=   0.0s\n",
      "[CV] max_depth=11, max_features=log2, max_leaf_nodes=500, splitter=best \n"
     ]
    },
    {
     "name": "stdout",
     "output_type": "stream",
     "text": [
      "[CV]  max_depth=11, max_features=log2, max_leaf_nodes=500, splitter=best, total=   0.0s\n",
      "[CV] max_depth=11, max_features=log2, max_leaf_nodes=500, splitter=best \n",
      "[CV]  max_depth=11, max_features=log2, max_leaf_nodes=500, splitter=best, total=   0.0s\n",
      "[CV] max_depth=11, max_features=log2, max_leaf_nodes=500, splitter=best \n",
      "[CV]  max_depth=11, max_features=log2, max_leaf_nodes=500, splitter=best, total=   0.0s\n",
      "[CV] max_depth=11, max_features=log2, max_leaf_nodes=500, splitter=random \n",
      "[CV]  max_depth=11, max_features=log2, max_leaf_nodes=500, splitter=random, total=   0.0s\n",
      "[CV] max_depth=11, max_features=log2, max_leaf_nodes=500, splitter=random \n",
      "[CV]  max_depth=11, max_features=log2, max_leaf_nodes=500, splitter=random, total=   0.0s\n",
      "[CV] max_depth=11, max_features=log2, max_leaf_nodes=500, splitter=random \n",
      "[CV]  max_depth=11, max_features=log2, max_leaf_nodes=500, splitter=random, total=   0.0s\n",
      "[CV] max_depth=11, max_features=log2, max_leaf_nodes=1000, splitter=best \n",
      "[CV]  max_depth=11, max_features=log2, max_leaf_nodes=1000, splitter=best, total=   0.0s\n",
      "[CV] max_depth=11, max_features=log2, max_leaf_nodes=1000, splitter=best \n",
      "[CV]  max_depth=11, max_features=log2, max_leaf_nodes=1000, splitter=best, total=   0.0s\n",
      "[CV] max_depth=11, max_features=log2, max_leaf_nodes=1000, splitter=best \n",
      "[CV]  max_depth=11, max_features=log2, max_leaf_nodes=1000, splitter=best, total=   0.0s\n",
      "[CV] max_depth=11, max_features=log2, max_leaf_nodes=1000, splitter=random \n",
      "[CV]  max_depth=11, max_features=log2, max_leaf_nodes=1000, splitter=random, total=   0.0s\n",
      "[CV] max_depth=11, max_features=log2, max_leaf_nodes=1000, splitter=random \n",
      "[CV]  max_depth=11, max_features=log2, max_leaf_nodes=1000, splitter=random, total=   0.0s\n",
      "[CV] max_depth=11, max_features=log2, max_leaf_nodes=1000, splitter=random \n",
      "[CV]  max_depth=11, max_features=log2, max_leaf_nodes=1000, splitter=random, total=   0.0s\n",
      "[CV] max_depth=11, max_features=sqrt, max_leaf_nodes=None, splitter=best \n",
      "[CV]  max_depth=11, max_features=sqrt, max_leaf_nodes=None, splitter=best, total=   0.0s\n",
      "[CV] max_depth=11, max_features=sqrt, max_leaf_nodes=None, splitter=best \n",
      "[CV]  max_depth=11, max_features=sqrt, max_leaf_nodes=None, splitter=best, total=   0.0s\n",
      "[CV] max_depth=11, max_features=sqrt, max_leaf_nodes=None, splitter=best \n",
      "[CV]  max_depth=11, max_features=sqrt, max_leaf_nodes=None, splitter=best, total=   0.0s\n",
      "[CV] max_depth=11, max_features=sqrt, max_leaf_nodes=None, splitter=random \n",
      "[CV]  max_depth=11, max_features=sqrt, max_leaf_nodes=None, splitter=random, total=   0.0s\n",
      "[CV] max_depth=11, max_features=sqrt, max_leaf_nodes=None, splitter=random \n",
      "[CV]  max_depth=11, max_features=sqrt, max_leaf_nodes=None, splitter=random, total=   0.0s\n",
      "[CV] max_depth=11, max_features=sqrt, max_leaf_nodes=None, splitter=random \n",
      "[CV]  max_depth=11, max_features=sqrt, max_leaf_nodes=None, splitter=random, total=   0.0s\n",
      "[CV] max_depth=11, max_features=sqrt, max_leaf_nodes=10, splitter=best \n",
      "[CV]  max_depth=11, max_features=sqrt, max_leaf_nodes=10, splitter=best, total=   0.0s\n",
      "[CV] max_depth=11, max_features=sqrt, max_leaf_nodes=10, splitter=best \n",
      "[CV]  max_depth=11, max_features=sqrt, max_leaf_nodes=10, splitter=best, total=   0.0s\n",
      "[CV] max_depth=11, max_features=sqrt, max_leaf_nodes=10, splitter=best \n",
      "[CV]  max_depth=11, max_features=sqrt, max_leaf_nodes=10, splitter=best, total=   0.0s\n",
      "[CV] max_depth=11, max_features=sqrt, max_leaf_nodes=10, splitter=random \n",
      "[CV]  max_depth=11, max_features=sqrt, max_leaf_nodes=10, splitter=random, total=   0.0s\n",
      "[CV] max_depth=11, max_features=sqrt, max_leaf_nodes=10, splitter=random \n",
      "[CV]  max_depth=11, max_features=sqrt, max_leaf_nodes=10, splitter=random, total=   0.0s\n",
      "[CV] max_depth=11, max_features=sqrt, max_leaf_nodes=10, splitter=random \n",
      "[CV]  max_depth=11, max_features=sqrt, max_leaf_nodes=10, splitter=random, total=   0.0s\n",
      "[CV] max_depth=11, max_features=sqrt, max_leaf_nodes=20, splitter=best \n",
      "[CV]  max_depth=11, max_features=sqrt, max_leaf_nodes=20, splitter=best, total=   0.0s\n",
      "[CV] max_depth=11, max_features=sqrt, max_leaf_nodes=20, splitter=best \n",
      "[CV]  max_depth=11, max_features=sqrt, max_leaf_nodes=20, splitter=best, total=   0.0s\n",
      "[CV] max_depth=11, max_features=sqrt, max_leaf_nodes=20, splitter=best \n",
      "[CV]  max_depth=11, max_features=sqrt, max_leaf_nodes=20, splitter=best, total=   0.0s\n",
      "[CV] max_depth=11, max_features=sqrt, max_leaf_nodes=20, splitter=random \n",
      "[CV]  max_depth=11, max_features=sqrt, max_leaf_nodes=20, splitter=random, total=   0.0s\n",
      "[CV] max_depth=11, max_features=sqrt, max_leaf_nodes=20, splitter=random \n",
      "[CV]  max_depth=11, max_features=sqrt, max_leaf_nodes=20, splitter=random, total=   0.0s\n",
      "[CV] max_depth=11, max_features=sqrt, max_leaf_nodes=20, splitter=random \n",
      "[CV]  max_depth=11, max_features=sqrt, max_leaf_nodes=20, splitter=random, total=   0.0s\n",
      "[CV] max_depth=11, max_features=sqrt, max_leaf_nodes=50, splitter=best \n",
      "[CV]  max_depth=11, max_features=sqrt, max_leaf_nodes=50, splitter=best, total=   0.0s\n",
      "[CV] max_depth=11, max_features=sqrt, max_leaf_nodes=50, splitter=best \n",
      "[CV]  max_depth=11, max_features=sqrt, max_leaf_nodes=50, splitter=best, total=   0.0s\n",
      "[CV] max_depth=11, max_features=sqrt, max_leaf_nodes=50, splitter=best \n",
      "[CV]  max_depth=11, max_features=sqrt, max_leaf_nodes=50, splitter=best, total=   0.0s\n",
      "[CV] max_depth=11, max_features=sqrt, max_leaf_nodes=50, splitter=random \n",
      "[CV]  max_depth=11, max_features=sqrt, max_leaf_nodes=50, splitter=random, total=   0.0s\n",
      "[CV] max_depth=11, max_features=sqrt, max_leaf_nodes=50, splitter=random \n",
      "[CV]  max_depth=11, max_features=sqrt, max_leaf_nodes=50, splitter=random, total=   0.0s\n",
      "[CV] max_depth=11, max_features=sqrt, max_leaf_nodes=50, splitter=random \n",
      "[CV]  max_depth=11, max_features=sqrt, max_leaf_nodes=50, splitter=random, total=   0.0s\n",
      "[CV] max_depth=11, max_features=sqrt, max_leaf_nodes=100, splitter=best \n",
      "[CV]  max_depth=11, max_features=sqrt, max_leaf_nodes=100, splitter=best, total=   0.0s\n",
      "[CV] max_depth=11, max_features=sqrt, max_leaf_nodes=100, splitter=best \n",
      "[CV]  max_depth=11, max_features=sqrt, max_leaf_nodes=100, splitter=best, total=   0.0s\n",
      "[CV] max_depth=11, max_features=sqrt, max_leaf_nodes=100, splitter=best \n",
      "[CV]  max_depth=11, max_features=sqrt, max_leaf_nodes=100, splitter=best, total=   0.0s\n",
      "[CV] max_depth=11, max_features=sqrt, max_leaf_nodes=100, splitter=random \n",
      "[CV]  max_depth=11, max_features=sqrt, max_leaf_nodes=100, splitter=random, total=   0.0s\n",
      "[CV] max_depth=11, max_features=sqrt, max_leaf_nodes=100, splitter=random \n",
      "[CV]  max_depth=11, max_features=sqrt, max_leaf_nodes=100, splitter=random, total=   0.0s\n",
      "[CV] max_depth=11, max_features=sqrt, max_leaf_nodes=100, splitter=random \n",
      "[CV]  max_depth=11, max_features=sqrt, max_leaf_nodes=100, splitter=random, total=   0.0s\n",
      "[CV] max_depth=11, max_features=sqrt, max_leaf_nodes=200, splitter=best \n",
      "[CV]  max_depth=11, max_features=sqrt, max_leaf_nodes=200, splitter=best, total=   0.0s\n",
      "[CV] max_depth=11, max_features=sqrt, max_leaf_nodes=200, splitter=best \n",
      "[CV]  max_depth=11, max_features=sqrt, max_leaf_nodes=200, splitter=best, total=   0.0s\n",
      "[CV] max_depth=11, max_features=sqrt, max_leaf_nodes=200, splitter=best \n",
      "[CV]  max_depth=11, max_features=sqrt, max_leaf_nodes=200, splitter=best, total=   0.0s\n",
      "[CV] max_depth=11, max_features=sqrt, max_leaf_nodes=200, splitter=random \n",
      "[CV]  max_depth=11, max_features=sqrt, max_leaf_nodes=200, splitter=random, total=   0.0s\n",
      "[CV] max_depth=11, max_features=sqrt, max_leaf_nodes=200, splitter=random \n",
      "[CV]  max_depth=11, max_features=sqrt, max_leaf_nodes=200, splitter=random, total=   0.0s\n",
      "[CV] max_depth=11, max_features=sqrt, max_leaf_nodes=200, splitter=random \n",
      "[CV]  max_depth=11, max_features=sqrt, max_leaf_nodes=200, splitter=random, total=   0.0s\n",
      "[CV] max_depth=11, max_features=sqrt, max_leaf_nodes=500, splitter=best \n",
      "[CV]  max_depth=11, max_features=sqrt, max_leaf_nodes=500, splitter=best, total=   0.0s\n",
      "[CV] max_depth=11, max_features=sqrt, max_leaf_nodes=500, splitter=best \n",
      "[CV]  max_depth=11, max_features=sqrt, max_leaf_nodes=500, splitter=best, total=   0.0s\n",
      "[CV] max_depth=11, max_features=sqrt, max_leaf_nodes=500, splitter=best \n",
      "[CV]  max_depth=11, max_features=sqrt, max_leaf_nodes=500, splitter=best, total=   0.0s\n",
      "[CV] max_depth=11, max_features=sqrt, max_leaf_nodes=500, splitter=random \n",
      "[CV]  max_depth=11, max_features=sqrt, max_leaf_nodes=500, splitter=random, total=   0.0s\n",
      "[CV] max_depth=11, max_features=sqrt, max_leaf_nodes=500, splitter=random \n",
      "[CV]  max_depth=11, max_features=sqrt, max_leaf_nodes=500, splitter=random, total=   0.0s\n",
      "[CV] max_depth=11, max_features=sqrt, max_leaf_nodes=500, splitter=random \n",
      "[CV]  max_depth=11, max_features=sqrt, max_leaf_nodes=500, splitter=random, total=   0.0s\n",
      "[CV] max_depth=11, max_features=sqrt, max_leaf_nodes=1000, splitter=best \n",
      "[CV]  max_depth=11, max_features=sqrt, max_leaf_nodes=1000, splitter=best, total=   0.0s\n",
      "[CV] max_depth=11, max_features=sqrt, max_leaf_nodes=1000, splitter=best \n",
      "[CV]  max_depth=11, max_features=sqrt, max_leaf_nodes=1000, splitter=best, total=   0.0s\n",
      "[CV] max_depth=11, max_features=sqrt, max_leaf_nodes=1000, splitter=best \n"
     ]
    },
    {
     "name": "stdout",
     "output_type": "stream",
     "text": [
      "[CV]  max_depth=11, max_features=sqrt, max_leaf_nodes=1000, splitter=best, total=   0.0s\n",
      "[CV] max_depth=11, max_features=sqrt, max_leaf_nodes=1000, splitter=random \n",
      "[CV]  max_depth=11, max_features=sqrt, max_leaf_nodes=1000, splitter=random, total=   0.0s\n",
      "[CV] max_depth=11, max_features=sqrt, max_leaf_nodes=1000, splitter=random \n",
      "[CV]  max_depth=11, max_features=sqrt, max_leaf_nodes=1000, splitter=random, total=   0.0s\n",
      "[CV] max_depth=11, max_features=sqrt, max_leaf_nodes=1000, splitter=random \n",
      "[CV]  max_depth=11, max_features=sqrt, max_leaf_nodes=1000, splitter=random, total=   0.0s\n",
      "[CV] max_depth=11, max_features=None, max_leaf_nodes=None, splitter=best \n",
      "[CV]  max_depth=11, max_features=None, max_leaf_nodes=None, splitter=best, total=   0.0s\n",
      "[CV] max_depth=11, max_features=None, max_leaf_nodes=None, splitter=best \n",
      "[CV]  max_depth=11, max_features=None, max_leaf_nodes=None, splitter=best, total=   0.0s\n",
      "[CV] max_depth=11, max_features=None, max_leaf_nodes=None, splitter=best \n",
      "[CV]  max_depth=11, max_features=None, max_leaf_nodes=None, splitter=best, total=   0.0s\n",
      "[CV] max_depth=11, max_features=None, max_leaf_nodes=None, splitter=random \n",
      "[CV]  max_depth=11, max_features=None, max_leaf_nodes=None, splitter=random, total=   0.0s\n",
      "[CV] max_depth=11, max_features=None, max_leaf_nodes=None, splitter=random \n",
      "[CV]  max_depth=11, max_features=None, max_leaf_nodes=None, splitter=random, total=   0.0s\n",
      "[CV] max_depth=11, max_features=None, max_leaf_nodes=None, splitter=random \n",
      "[CV]  max_depth=11, max_features=None, max_leaf_nodes=None, splitter=random, total=   0.0s\n",
      "[CV] max_depth=11, max_features=None, max_leaf_nodes=10, splitter=best \n",
      "[CV]  max_depth=11, max_features=None, max_leaf_nodes=10, splitter=best, total=   0.0s\n",
      "[CV] max_depth=11, max_features=None, max_leaf_nodes=10, splitter=best \n",
      "[CV]  max_depth=11, max_features=None, max_leaf_nodes=10, splitter=best, total=   0.0s\n",
      "[CV] max_depth=11, max_features=None, max_leaf_nodes=10, splitter=best \n",
      "[CV]  max_depth=11, max_features=None, max_leaf_nodes=10, splitter=best, total=   0.0s\n",
      "[CV] max_depth=11, max_features=None, max_leaf_nodes=10, splitter=random \n",
      "[CV]  max_depth=11, max_features=None, max_leaf_nodes=10, splitter=random, total=   0.0s\n",
      "[CV] max_depth=11, max_features=None, max_leaf_nodes=10, splitter=random \n",
      "[CV]  max_depth=11, max_features=None, max_leaf_nodes=10, splitter=random, total=   0.0s\n",
      "[CV] max_depth=11, max_features=None, max_leaf_nodes=10, splitter=random \n",
      "[CV]  max_depth=11, max_features=None, max_leaf_nodes=10, splitter=random, total=   0.0s\n",
      "[CV] max_depth=11, max_features=None, max_leaf_nodes=20, splitter=best \n",
      "[CV]  max_depth=11, max_features=None, max_leaf_nodes=20, splitter=best, total=   0.0s\n",
      "[CV] max_depth=11, max_features=None, max_leaf_nodes=20, splitter=best \n",
      "[CV]  max_depth=11, max_features=None, max_leaf_nodes=20, splitter=best, total=   0.0s\n",
      "[CV] max_depth=11, max_features=None, max_leaf_nodes=20, splitter=best \n",
      "[CV]  max_depth=11, max_features=None, max_leaf_nodes=20, splitter=best, total=   0.0s\n",
      "[CV] max_depth=11, max_features=None, max_leaf_nodes=20, splitter=random \n",
      "[CV]  max_depth=11, max_features=None, max_leaf_nodes=20, splitter=random, total=   0.0s\n",
      "[CV] max_depth=11, max_features=None, max_leaf_nodes=20, splitter=random \n",
      "[CV]  max_depth=11, max_features=None, max_leaf_nodes=20, splitter=random, total=   0.0s\n",
      "[CV] max_depth=11, max_features=None, max_leaf_nodes=20, splitter=random \n",
      "[CV]  max_depth=11, max_features=None, max_leaf_nodes=20, splitter=random, total=   0.0s\n",
      "[CV] max_depth=11, max_features=None, max_leaf_nodes=50, splitter=best \n",
      "[CV]  max_depth=11, max_features=None, max_leaf_nodes=50, splitter=best, total=   0.0s\n",
      "[CV] max_depth=11, max_features=None, max_leaf_nodes=50, splitter=best \n",
      "[CV]  max_depth=11, max_features=None, max_leaf_nodes=50, splitter=best, total=   0.0s\n",
      "[CV] max_depth=11, max_features=None, max_leaf_nodes=50, splitter=best \n",
      "[CV]  max_depth=11, max_features=None, max_leaf_nodes=50, splitter=best, total=   0.0s\n",
      "[CV] max_depth=11, max_features=None, max_leaf_nodes=50, splitter=random \n",
      "[CV]  max_depth=11, max_features=None, max_leaf_nodes=50, splitter=random, total=   0.0s\n",
      "[CV] max_depth=11, max_features=None, max_leaf_nodes=50, splitter=random \n",
      "[CV]  max_depth=11, max_features=None, max_leaf_nodes=50, splitter=random, total=   0.0s\n",
      "[CV] max_depth=11, max_features=None, max_leaf_nodes=50, splitter=random \n",
      "[CV]  max_depth=11, max_features=None, max_leaf_nodes=50, splitter=random, total=   0.0s\n",
      "[CV] max_depth=11, max_features=None, max_leaf_nodes=100, splitter=best \n",
      "[CV]  max_depth=11, max_features=None, max_leaf_nodes=100, splitter=best, total=   0.0s\n",
      "[CV] max_depth=11, max_features=None, max_leaf_nodes=100, splitter=best \n",
      "[CV]  max_depth=11, max_features=None, max_leaf_nodes=100, splitter=best, total=   0.0s\n",
      "[CV] max_depth=11, max_features=None, max_leaf_nodes=100, splitter=best \n",
      "[CV]  max_depth=11, max_features=None, max_leaf_nodes=100, splitter=best, total=   0.0s\n",
      "[CV] max_depth=11, max_features=None, max_leaf_nodes=100, splitter=random \n",
      "[CV]  max_depth=11, max_features=None, max_leaf_nodes=100, splitter=random, total=   0.0s\n",
      "[CV] max_depth=11, max_features=None, max_leaf_nodes=100, splitter=random \n",
      "[CV]  max_depth=11, max_features=None, max_leaf_nodes=100, splitter=random, total=   0.0s\n",
      "[CV] max_depth=11, max_features=None, max_leaf_nodes=100, splitter=random \n",
      "[CV]  max_depth=11, max_features=None, max_leaf_nodes=100, splitter=random, total=   0.0s\n",
      "[CV] max_depth=11, max_features=None, max_leaf_nodes=200, splitter=best \n",
      "[CV]  max_depth=11, max_features=None, max_leaf_nodes=200, splitter=best, total=   0.0s\n",
      "[CV] max_depth=11, max_features=None, max_leaf_nodes=200, splitter=best \n",
      "[CV]  max_depth=11, max_features=None, max_leaf_nodes=200, splitter=best, total=   0.0s\n",
      "[CV] max_depth=11, max_features=None, max_leaf_nodes=200, splitter=best \n",
      "[CV]  max_depth=11, max_features=None, max_leaf_nodes=200, splitter=best, total=   0.0s\n",
      "[CV] max_depth=11, max_features=None, max_leaf_nodes=200, splitter=random \n",
      "[CV]  max_depth=11, max_features=None, max_leaf_nodes=200, splitter=random, total=   0.0s\n",
      "[CV] max_depth=11, max_features=None, max_leaf_nodes=200, splitter=random \n",
      "[CV]  max_depth=11, max_features=None, max_leaf_nodes=200, splitter=random, total=   0.0s\n",
      "[CV] max_depth=11, max_features=None, max_leaf_nodes=200, splitter=random \n",
      "[CV]  max_depth=11, max_features=None, max_leaf_nodes=200, splitter=random, total=   0.0s\n",
      "[CV] max_depth=11, max_features=None, max_leaf_nodes=500, splitter=best \n",
      "[CV]  max_depth=11, max_features=None, max_leaf_nodes=500, splitter=best, total=   0.0s\n",
      "[CV] max_depth=11, max_features=None, max_leaf_nodes=500, splitter=best \n",
      "[CV]  max_depth=11, max_features=None, max_leaf_nodes=500, splitter=best, total=   0.0s\n",
      "[CV] max_depth=11, max_features=None, max_leaf_nodes=500, splitter=best \n",
      "[CV]  max_depth=11, max_features=None, max_leaf_nodes=500, splitter=best, total=   0.0s\n",
      "[CV] max_depth=11, max_features=None, max_leaf_nodes=500, splitter=random \n",
      "[CV]  max_depth=11, max_features=None, max_leaf_nodes=500, splitter=random, total=   0.0s\n",
      "[CV] max_depth=11, max_features=None, max_leaf_nodes=500, splitter=random \n",
      "[CV]  max_depth=11, max_features=None, max_leaf_nodes=500, splitter=random, total=   0.0s\n",
      "[CV] max_depth=11, max_features=None, max_leaf_nodes=500, splitter=random \n",
      "[CV]  max_depth=11, max_features=None, max_leaf_nodes=500, splitter=random, total=   0.0s\n",
      "[CV] max_depth=11, max_features=None, max_leaf_nodes=1000, splitter=best \n",
      "[CV]  max_depth=11, max_features=None, max_leaf_nodes=1000, splitter=best, total=   0.0s\n",
      "[CV] max_depth=11, max_features=None, max_leaf_nodes=1000, splitter=best \n",
      "[CV]  max_depth=11, max_features=None, max_leaf_nodes=1000, splitter=best, total=   0.0s\n",
      "[CV] max_depth=11, max_features=None, max_leaf_nodes=1000, splitter=best \n",
      "[CV]  max_depth=11, max_features=None, max_leaf_nodes=1000, splitter=best, total=   0.0s\n",
      "[CV] max_depth=11, max_features=None, max_leaf_nodes=1000, splitter=random \n",
      "[CV]  max_depth=11, max_features=None, max_leaf_nodes=1000, splitter=random, total=   0.0s\n",
      "[CV] max_depth=11, max_features=None, max_leaf_nodes=1000, splitter=random \n",
      "[CV]  max_depth=11, max_features=None, max_leaf_nodes=1000, splitter=random, total=   0.0s\n",
      "[CV] max_depth=11, max_features=None, max_leaf_nodes=1000, splitter=random \n",
      "[CV]  max_depth=11, max_features=None, max_leaf_nodes=1000, splitter=random, total=   0.0s\n",
      "[CV] max_depth=12, max_features=auto, max_leaf_nodes=None, splitter=best \n",
      "[CV]  max_depth=12, max_features=auto, max_leaf_nodes=None, splitter=best, total=   0.0s\n",
      "[CV] max_depth=12, max_features=auto, max_leaf_nodes=None, splitter=best \n",
      "[CV]  max_depth=12, max_features=auto, max_leaf_nodes=None, splitter=best, total=   0.0s\n"
     ]
    },
    {
     "name": "stdout",
     "output_type": "stream",
     "text": [
      "[CV] max_depth=12, max_features=auto, max_leaf_nodes=None, splitter=best \n",
      "[CV]  max_depth=12, max_features=auto, max_leaf_nodes=None, splitter=best, total=   0.0s\n",
      "[CV] max_depth=12, max_features=auto, max_leaf_nodes=None, splitter=random \n",
      "[CV]  max_depth=12, max_features=auto, max_leaf_nodes=None, splitter=random, total=   0.0s\n",
      "[CV] max_depth=12, max_features=auto, max_leaf_nodes=None, splitter=random \n",
      "[CV]  max_depth=12, max_features=auto, max_leaf_nodes=None, splitter=random, total=   0.0s\n",
      "[CV] max_depth=12, max_features=auto, max_leaf_nodes=None, splitter=random \n",
      "[CV]  max_depth=12, max_features=auto, max_leaf_nodes=None, splitter=random, total=   0.0s\n",
      "[CV] max_depth=12, max_features=auto, max_leaf_nodes=10, splitter=best \n",
      "[CV]  max_depth=12, max_features=auto, max_leaf_nodes=10, splitter=best, total=   0.0s\n",
      "[CV] max_depth=12, max_features=auto, max_leaf_nodes=10, splitter=best \n",
      "[CV]  max_depth=12, max_features=auto, max_leaf_nodes=10, splitter=best, total=   0.0s\n",
      "[CV] max_depth=12, max_features=auto, max_leaf_nodes=10, splitter=best \n",
      "[CV]  max_depth=12, max_features=auto, max_leaf_nodes=10, splitter=best, total=   0.0s\n",
      "[CV] max_depth=12, max_features=auto, max_leaf_nodes=10, splitter=random \n",
      "[CV]  max_depth=12, max_features=auto, max_leaf_nodes=10, splitter=random, total=   0.0s\n",
      "[CV] max_depth=12, max_features=auto, max_leaf_nodes=10, splitter=random \n",
      "[CV]  max_depth=12, max_features=auto, max_leaf_nodes=10, splitter=random, total=   0.0s\n",
      "[CV] max_depth=12, max_features=auto, max_leaf_nodes=10, splitter=random \n",
      "[CV]  max_depth=12, max_features=auto, max_leaf_nodes=10, splitter=random, total=   0.0s\n",
      "[CV] max_depth=12, max_features=auto, max_leaf_nodes=20, splitter=best \n",
      "[CV]  max_depth=12, max_features=auto, max_leaf_nodes=20, splitter=best, total=   0.0s\n",
      "[CV] max_depth=12, max_features=auto, max_leaf_nodes=20, splitter=best \n",
      "[CV]  max_depth=12, max_features=auto, max_leaf_nodes=20, splitter=best, total=   0.0s\n",
      "[CV] max_depth=12, max_features=auto, max_leaf_nodes=20, splitter=best \n",
      "[CV]  max_depth=12, max_features=auto, max_leaf_nodes=20, splitter=best, total=   0.0s\n",
      "[CV] max_depth=12, max_features=auto, max_leaf_nodes=20, splitter=random \n",
      "[CV]  max_depth=12, max_features=auto, max_leaf_nodes=20, splitter=random, total=   0.0s\n",
      "[CV] max_depth=12, max_features=auto, max_leaf_nodes=20, splitter=random \n",
      "[CV]  max_depth=12, max_features=auto, max_leaf_nodes=20, splitter=random, total=   0.0s\n",
      "[CV] max_depth=12, max_features=auto, max_leaf_nodes=20, splitter=random \n",
      "[CV]  max_depth=12, max_features=auto, max_leaf_nodes=20, splitter=random, total=   0.0s\n",
      "[CV] max_depth=12, max_features=auto, max_leaf_nodes=50, splitter=best \n",
      "[CV]  max_depth=12, max_features=auto, max_leaf_nodes=50, splitter=best, total=   0.0s\n",
      "[CV] max_depth=12, max_features=auto, max_leaf_nodes=50, splitter=best \n",
      "[CV]  max_depth=12, max_features=auto, max_leaf_nodes=50, splitter=best, total=   0.0s\n",
      "[CV] max_depth=12, max_features=auto, max_leaf_nodes=50, splitter=best \n",
      "[CV]  max_depth=12, max_features=auto, max_leaf_nodes=50, splitter=best, total=   0.0s\n",
      "[CV] max_depth=12, max_features=auto, max_leaf_nodes=50, splitter=random \n",
      "[CV]  max_depth=12, max_features=auto, max_leaf_nodes=50, splitter=random, total=   0.0s\n",
      "[CV] max_depth=12, max_features=auto, max_leaf_nodes=50, splitter=random \n",
      "[CV]  max_depth=12, max_features=auto, max_leaf_nodes=50, splitter=random, total=   0.0s\n",
      "[CV] max_depth=12, max_features=auto, max_leaf_nodes=50, splitter=random \n",
      "[CV]  max_depth=12, max_features=auto, max_leaf_nodes=50, splitter=random, total=   0.0s\n",
      "[CV] max_depth=12, max_features=auto, max_leaf_nodes=100, splitter=best \n",
      "[CV]  max_depth=12, max_features=auto, max_leaf_nodes=100, splitter=best, total=   0.0s\n",
      "[CV] max_depth=12, max_features=auto, max_leaf_nodes=100, splitter=best \n",
      "[CV]  max_depth=12, max_features=auto, max_leaf_nodes=100, splitter=best, total=   0.0s\n",
      "[CV] max_depth=12, max_features=auto, max_leaf_nodes=100, splitter=best \n",
      "[CV]  max_depth=12, max_features=auto, max_leaf_nodes=100, splitter=best, total=   0.0s\n",
      "[CV] max_depth=12, max_features=auto, max_leaf_nodes=100, splitter=random \n",
      "[CV]  max_depth=12, max_features=auto, max_leaf_nodes=100, splitter=random, total=   0.0s\n",
      "[CV] max_depth=12, max_features=auto, max_leaf_nodes=100, splitter=random \n",
      "[CV]  max_depth=12, max_features=auto, max_leaf_nodes=100, splitter=random, total=   0.0s\n",
      "[CV] max_depth=12, max_features=auto, max_leaf_nodes=100, splitter=random \n",
      "[CV]  max_depth=12, max_features=auto, max_leaf_nodes=100, splitter=random, total=   0.0s\n",
      "[CV] max_depth=12, max_features=auto, max_leaf_nodes=200, splitter=best \n",
      "[CV]  max_depth=12, max_features=auto, max_leaf_nodes=200, splitter=best, total=   0.0s\n",
      "[CV] max_depth=12, max_features=auto, max_leaf_nodes=200, splitter=best \n",
      "[CV]  max_depth=12, max_features=auto, max_leaf_nodes=200, splitter=best, total=   0.0s\n",
      "[CV] max_depth=12, max_features=auto, max_leaf_nodes=200, splitter=best \n",
      "[CV]  max_depth=12, max_features=auto, max_leaf_nodes=200, splitter=best, total=   0.0s\n",
      "[CV] max_depth=12, max_features=auto, max_leaf_nodes=200, splitter=random \n",
      "[CV]  max_depth=12, max_features=auto, max_leaf_nodes=200, splitter=random, total=   0.0s\n",
      "[CV] max_depth=12, max_features=auto, max_leaf_nodes=200, splitter=random \n",
      "[CV]  max_depth=12, max_features=auto, max_leaf_nodes=200, splitter=random, total=   0.0s\n",
      "[CV] max_depth=12, max_features=auto, max_leaf_nodes=200, splitter=random \n",
      "[CV]  max_depth=12, max_features=auto, max_leaf_nodes=200, splitter=random, total=   0.0s\n",
      "[CV] max_depth=12, max_features=auto, max_leaf_nodes=500, splitter=best \n",
      "[CV]  max_depth=12, max_features=auto, max_leaf_nodes=500, splitter=best, total=   0.0s\n",
      "[CV] max_depth=12, max_features=auto, max_leaf_nodes=500, splitter=best \n",
      "[CV]  max_depth=12, max_features=auto, max_leaf_nodes=500, splitter=best, total=   0.0s\n",
      "[CV] max_depth=12, max_features=auto, max_leaf_nodes=500, splitter=best \n",
      "[CV]  max_depth=12, max_features=auto, max_leaf_nodes=500, splitter=best, total=   0.0s\n",
      "[CV] max_depth=12, max_features=auto, max_leaf_nodes=500, splitter=random \n",
      "[CV]  max_depth=12, max_features=auto, max_leaf_nodes=500, splitter=random, total=   0.0s\n",
      "[CV] max_depth=12, max_features=auto, max_leaf_nodes=500, splitter=random \n",
      "[CV]  max_depth=12, max_features=auto, max_leaf_nodes=500, splitter=random, total=   0.0s\n",
      "[CV] max_depth=12, max_features=auto, max_leaf_nodes=500, splitter=random \n",
      "[CV]  max_depth=12, max_features=auto, max_leaf_nodes=500, splitter=random, total=   0.0s\n",
      "[CV] max_depth=12, max_features=auto, max_leaf_nodes=1000, splitter=best \n",
      "[CV]  max_depth=12, max_features=auto, max_leaf_nodes=1000, splitter=best, total=   0.0s\n",
      "[CV] max_depth=12, max_features=auto, max_leaf_nodes=1000, splitter=best \n",
      "[CV]  max_depth=12, max_features=auto, max_leaf_nodes=1000, splitter=best, total=   0.0s\n",
      "[CV] max_depth=12, max_features=auto, max_leaf_nodes=1000, splitter=best \n",
      "[CV]  max_depth=12, max_features=auto, max_leaf_nodes=1000, splitter=best, total=   0.0s\n",
      "[CV] max_depth=12, max_features=auto, max_leaf_nodes=1000, splitter=random \n",
      "[CV]  max_depth=12, max_features=auto, max_leaf_nodes=1000, splitter=random, total=   0.0s\n",
      "[CV] max_depth=12, max_features=auto, max_leaf_nodes=1000, splitter=random \n",
      "[CV]  max_depth=12, max_features=auto, max_leaf_nodes=1000, splitter=random, total=   0.0s\n",
      "[CV] max_depth=12, max_features=auto, max_leaf_nodes=1000, splitter=random \n",
      "[CV]  max_depth=12, max_features=auto, max_leaf_nodes=1000, splitter=random, total=   0.0s\n",
      "[CV] max_depth=12, max_features=log2, max_leaf_nodes=None, splitter=best \n",
      "[CV]  max_depth=12, max_features=log2, max_leaf_nodes=None, splitter=best, total=   0.0s\n",
      "[CV] max_depth=12, max_features=log2, max_leaf_nodes=None, splitter=best \n",
      "[CV]  max_depth=12, max_features=log2, max_leaf_nodes=None, splitter=best, total=   0.0s\n",
      "[CV] max_depth=12, max_features=log2, max_leaf_nodes=None, splitter=best \n",
      "[CV]  max_depth=12, max_features=log2, max_leaf_nodes=None, splitter=best, total=   0.0s\n",
      "[CV] max_depth=12, max_features=log2, max_leaf_nodes=None, splitter=random \n",
      "[CV]  max_depth=12, max_features=log2, max_leaf_nodes=None, splitter=random, total=   0.0s\n",
      "[CV] max_depth=12, max_features=log2, max_leaf_nodes=None, splitter=random \n",
      "[CV]  max_depth=12, max_features=log2, max_leaf_nodes=None, splitter=random, total=   0.0s\n",
      "[CV] max_depth=12, max_features=log2, max_leaf_nodes=None, splitter=random \n",
      "[CV]  max_depth=12, max_features=log2, max_leaf_nodes=None, splitter=random, total=   0.0s\n",
      "[CV] max_depth=12, max_features=log2, max_leaf_nodes=10, splitter=best \n",
      "[CV]  max_depth=12, max_features=log2, max_leaf_nodes=10, splitter=best, total=   0.0s\n",
      "[CV] max_depth=12, max_features=log2, max_leaf_nodes=10, splitter=best \n"
     ]
    },
    {
     "name": "stdout",
     "output_type": "stream",
     "text": [
      "[CV]  max_depth=12, max_features=log2, max_leaf_nodes=10, splitter=best, total=   0.0s\n",
      "[CV] max_depth=12, max_features=log2, max_leaf_nodes=10, splitter=best \n",
      "[CV]  max_depth=12, max_features=log2, max_leaf_nodes=10, splitter=best, total=   0.0s\n",
      "[CV] max_depth=12, max_features=log2, max_leaf_nodes=10, splitter=random \n",
      "[CV]  max_depth=12, max_features=log2, max_leaf_nodes=10, splitter=random, total=   0.0s\n",
      "[CV] max_depth=12, max_features=log2, max_leaf_nodes=10, splitter=random \n",
      "[CV]  max_depth=12, max_features=log2, max_leaf_nodes=10, splitter=random, total=   0.0s\n",
      "[CV] max_depth=12, max_features=log2, max_leaf_nodes=10, splitter=random \n",
      "[CV]  max_depth=12, max_features=log2, max_leaf_nodes=10, splitter=random, total=   0.0s\n",
      "[CV] max_depth=12, max_features=log2, max_leaf_nodes=20, splitter=best \n",
      "[CV]  max_depth=12, max_features=log2, max_leaf_nodes=20, splitter=best, total=   0.0s\n",
      "[CV] max_depth=12, max_features=log2, max_leaf_nodes=20, splitter=best \n",
      "[CV]  max_depth=12, max_features=log2, max_leaf_nodes=20, splitter=best, total=   0.0s\n",
      "[CV] max_depth=12, max_features=log2, max_leaf_nodes=20, splitter=best \n",
      "[CV]  max_depth=12, max_features=log2, max_leaf_nodes=20, splitter=best, total=   0.0s\n",
      "[CV] max_depth=12, max_features=log2, max_leaf_nodes=20, splitter=random \n",
      "[CV]  max_depth=12, max_features=log2, max_leaf_nodes=20, splitter=random, total=   0.0s\n",
      "[CV] max_depth=12, max_features=log2, max_leaf_nodes=20, splitter=random \n",
      "[CV]  max_depth=12, max_features=log2, max_leaf_nodes=20, splitter=random, total=   0.0s\n",
      "[CV] max_depth=12, max_features=log2, max_leaf_nodes=20, splitter=random \n",
      "[CV]  max_depth=12, max_features=log2, max_leaf_nodes=20, splitter=random, total=   0.0s\n",
      "[CV] max_depth=12, max_features=log2, max_leaf_nodes=50, splitter=best \n",
      "[CV]  max_depth=12, max_features=log2, max_leaf_nodes=50, splitter=best, total=   0.0s\n",
      "[CV] max_depth=12, max_features=log2, max_leaf_nodes=50, splitter=best \n",
      "[CV]  max_depth=12, max_features=log2, max_leaf_nodes=50, splitter=best, total=   0.0s\n",
      "[CV] max_depth=12, max_features=log2, max_leaf_nodes=50, splitter=best \n",
      "[CV]  max_depth=12, max_features=log2, max_leaf_nodes=50, splitter=best, total=   0.0s\n",
      "[CV] max_depth=12, max_features=log2, max_leaf_nodes=50, splitter=random \n",
      "[CV]  max_depth=12, max_features=log2, max_leaf_nodes=50, splitter=random, total=   0.0s\n",
      "[CV] max_depth=12, max_features=log2, max_leaf_nodes=50, splitter=random \n",
      "[CV]  max_depth=12, max_features=log2, max_leaf_nodes=50, splitter=random, total=   0.0s\n",
      "[CV] max_depth=12, max_features=log2, max_leaf_nodes=50, splitter=random \n",
      "[CV]  max_depth=12, max_features=log2, max_leaf_nodes=50, splitter=random, total=   0.0s\n",
      "[CV] max_depth=12, max_features=log2, max_leaf_nodes=100, splitter=best \n",
      "[CV]  max_depth=12, max_features=log2, max_leaf_nodes=100, splitter=best, total=   0.0s\n",
      "[CV] max_depth=12, max_features=log2, max_leaf_nodes=100, splitter=best \n",
      "[CV]  max_depth=12, max_features=log2, max_leaf_nodes=100, splitter=best, total=   0.0s\n",
      "[CV] max_depth=12, max_features=log2, max_leaf_nodes=100, splitter=best \n",
      "[CV]  max_depth=12, max_features=log2, max_leaf_nodes=100, splitter=best, total=   0.0s\n",
      "[CV] max_depth=12, max_features=log2, max_leaf_nodes=100, splitter=random \n",
      "[CV]  max_depth=12, max_features=log2, max_leaf_nodes=100, splitter=random, total=   0.0s\n",
      "[CV] max_depth=12, max_features=log2, max_leaf_nodes=100, splitter=random \n",
      "[CV]  max_depth=12, max_features=log2, max_leaf_nodes=100, splitter=random, total=   0.0s\n",
      "[CV] max_depth=12, max_features=log2, max_leaf_nodes=100, splitter=random \n",
      "[CV]  max_depth=12, max_features=log2, max_leaf_nodes=100, splitter=random, total=   0.0s\n",
      "[CV] max_depth=12, max_features=log2, max_leaf_nodes=200, splitter=best \n",
      "[CV]  max_depth=12, max_features=log2, max_leaf_nodes=200, splitter=best, total=   0.0s\n",
      "[CV] max_depth=12, max_features=log2, max_leaf_nodes=200, splitter=best \n",
      "[CV]  max_depth=12, max_features=log2, max_leaf_nodes=200, splitter=best, total=   0.0s\n",
      "[CV] max_depth=12, max_features=log2, max_leaf_nodes=200, splitter=best \n",
      "[CV]  max_depth=12, max_features=log2, max_leaf_nodes=200, splitter=best, total=   0.0s\n",
      "[CV] max_depth=12, max_features=log2, max_leaf_nodes=200, splitter=random \n",
      "[CV]  max_depth=12, max_features=log2, max_leaf_nodes=200, splitter=random, total=   0.0s\n",
      "[CV] max_depth=12, max_features=log2, max_leaf_nodes=200, splitter=random \n",
      "[CV]  max_depth=12, max_features=log2, max_leaf_nodes=200, splitter=random, total=   0.0s\n",
      "[CV] max_depth=12, max_features=log2, max_leaf_nodes=200, splitter=random \n",
      "[CV]  max_depth=12, max_features=log2, max_leaf_nodes=200, splitter=random, total=   0.0s\n",
      "[CV] max_depth=12, max_features=log2, max_leaf_nodes=500, splitter=best \n",
      "[CV]  max_depth=12, max_features=log2, max_leaf_nodes=500, splitter=best, total=   0.0s\n",
      "[CV] max_depth=12, max_features=log2, max_leaf_nodes=500, splitter=best \n",
      "[CV]  max_depth=12, max_features=log2, max_leaf_nodes=500, splitter=best, total=   0.0s\n",
      "[CV] max_depth=12, max_features=log2, max_leaf_nodes=500, splitter=best \n",
      "[CV]  max_depth=12, max_features=log2, max_leaf_nodes=500, splitter=best, total=   0.0s\n",
      "[CV] max_depth=12, max_features=log2, max_leaf_nodes=500, splitter=random \n",
      "[CV]  max_depth=12, max_features=log2, max_leaf_nodes=500, splitter=random, total=   0.0s\n",
      "[CV] max_depth=12, max_features=log2, max_leaf_nodes=500, splitter=random \n",
      "[CV]  max_depth=12, max_features=log2, max_leaf_nodes=500, splitter=random, total=   0.0s\n",
      "[CV] max_depth=12, max_features=log2, max_leaf_nodes=500, splitter=random \n",
      "[CV]  max_depth=12, max_features=log2, max_leaf_nodes=500, splitter=random, total=   0.0s\n",
      "[CV] max_depth=12, max_features=log2, max_leaf_nodes=1000, splitter=best \n",
      "[CV]  max_depth=12, max_features=log2, max_leaf_nodes=1000, splitter=best, total=   0.0s\n",
      "[CV] max_depth=12, max_features=log2, max_leaf_nodes=1000, splitter=best \n",
      "[CV]  max_depth=12, max_features=log2, max_leaf_nodes=1000, splitter=best, total=   0.0s\n",
      "[CV] max_depth=12, max_features=log2, max_leaf_nodes=1000, splitter=best \n",
      "[CV]  max_depth=12, max_features=log2, max_leaf_nodes=1000, splitter=best, total=   0.0s\n",
      "[CV] max_depth=12, max_features=log2, max_leaf_nodes=1000, splitter=random \n",
      "[CV]  max_depth=12, max_features=log2, max_leaf_nodes=1000, splitter=random, total=   0.0s\n",
      "[CV] max_depth=12, max_features=log2, max_leaf_nodes=1000, splitter=random \n",
      "[CV]  max_depth=12, max_features=log2, max_leaf_nodes=1000, splitter=random, total=   0.0s\n",
      "[CV] max_depth=12, max_features=log2, max_leaf_nodes=1000, splitter=random \n",
      "[CV]  max_depth=12, max_features=log2, max_leaf_nodes=1000, splitter=random, total=   0.0s\n",
      "[CV] max_depth=12, max_features=sqrt, max_leaf_nodes=None, splitter=best \n",
      "[CV]  max_depth=12, max_features=sqrt, max_leaf_nodes=None, splitter=best, total=   0.0s\n",
      "[CV] max_depth=12, max_features=sqrt, max_leaf_nodes=None, splitter=best \n",
      "[CV]  max_depth=12, max_features=sqrt, max_leaf_nodes=None, splitter=best, total=   0.0s\n",
      "[CV] max_depth=12, max_features=sqrt, max_leaf_nodes=None, splitter=best \n",
      "[CV]  max_depth=12, max_features=sqrt, max_leaf_nodes=None, splitter=best, total=   0.0s\n",
      "[CV] max_depth=12, max_features=sqrt, max_leaf_nodes=None, splitter=random \n",
      "[CV]  max_depth=12, max_features=sqrt, max_leaf_nodes=None, splitter=random, total=   0.0s\n",
      "[CV] max_depth=12, max_features=sqrt, max_leaf_nodes=None, splitter=random \n",
      "[CV]  max_depth=12, max_features=sqrt, max_leaf_nodes=None, splitter=random, total=   0.0s\n",
      "[CV] max_depth=12, max_features=sqrt, max_leaf_nodes=None, splitter=random \n",
      "[CV]  max_depth=12, max_features=sqrt, max_leaf_nodes=None, splitter=random, total=   0.0s\n",
      "[CV] max_depth=12, max_features=sqrt, max_leaf_nodes=10, splitter=best \n",
      "[CV]  max_depth=12, max_features=sqrt, max_leaf_nodes=10, splitter=best, total=   0.0s\n",
      "[CV] max_depth=12, max_features=sqrt, max_leaf_nodes=10, splitter=best \n",
      "[CV]  max_depth=12, max_features=sqrt, max_leaf_nodes=10, splitter=best, total=   0.0s\n",
      "[CV] max_depth=12, max_features=sqrt, max_leaf_nodes=10, splitter=best \n",
      "[CV]  max_depth=12, max_features=sqrt, max_leaf_nodes=10, splitter=best, total=   0.0s\n",
      "[CV] max_depth=12, max_features=sqrt, max_leaf_nodes=10, splitter=random \n",
      "[CV]  max_depth=12, max_features=sqrt, max_leaf_nodes=10, splitter=random, total=   0.0s\n",
      "[CV] max_depth=12, max_features=sqrt, max_leaf_nodes=10, splitter=random \n",
      "[CV]  max_depth=12, max_features=sqrt, max_leaf_nodes=10, splitter=random, total=   0.0s\n",
      "[CV] max_depth=12, max_features=sqrt, max_leaf_nodes=10, splitter=random \n",
      "[CV]  max_depth=12, max_features=sqrt, max_leaf_nodes=10, splitter=random, total=   0.0s\n",
      "[CV] max_depth=12, max_features=sqrt, max_leaf_nodes=20, splitter=best \n",
      "[CV]  max_depth=12, max_features=sqrt, max_leaf_nodes=20, splitter=best, total=   0.0s\n",
      "[CV] max_depth=12, max_features=sqrt, max_leaf_nodes=20, splitter=best \n",
      "[CV]  max_depth=12, max_features=sqrt, max_leaf_nodes=20, splitter=best, total=   0.0s\n",
      "[CV] max_depth=12, max_features=sqrt, max_leaf_nodes=20, splitter=best \n",
      "[CV]  max_depth=12, max_features=sqrt, max_leaf_nodes=20, splitter=best, total=   0.0s\n",
      "[CV] max_depth=12, max_features=sqrt, max_leaf_nodes=20, splitter=random \n",
      "[CV]  max_depth=12, max_features=sqrt, max_leaf_nodes=20, splitter=random, total=   0.0s\n",
      "[CV] max_depth=12, max_features=sqrt, max_leaf_nodes=20, splitter=random \n",
      "[CV]  max_depth=12, max_features=sqrt, max_leaf_nodes=20, splitter=random, total=   0.0s\n",
      "[CV] max_depth=12, max_features=sqrt, max_leaf_nodes=20, splitter=random \n",
      "[CV]  max_depth=12, max_features=sqrt, max_leaf_nodes=20, splitter=random, total=   0.0s\n",
      "[CV] max_depth=12, max_features=sqrt, max_leaf_nodes=50, splitter=best \n",
      "[CV]  max_depth=12, max_features=sqrt, max_leaf_nodes=50, splitter=best, total=   0.0s\n",
      "[CV] max_depth=12, max_features=sqrt, max_leaf_nodes=50, splitter=best \n",
      "[CV]  max_depth=12, max_features=sqrt, max_leaf_nodes=50, splitter=best, total=   0.0s\n",
      "[CV] max_depth=12, max_features=sqrt, max_leaf_nodes=50, splitter=best \n",
      "[CV]  max_depth=12, max_features=sqrt, max_leaf_nodes=50, splitter=best, total=   0.0s\n",
      "[CV] max_depth=12, max_features=sqrt, max_leaf_nodes=50, splitter=random \n"
     ]
    },
    {
     "name": "stdout",
     "output_type": "stream",
     "text": [
      "[CV]  max_depth=12, max_features=sqrt, max_leaf_nodes=50, splitter=random, total=   0.0s\n",
      "[CV] max_depth=12, max_features=sqrt, max_leaf_nodes=50, splitter=random \n",
      "[CV]  max_depth=12, max_features=sqrt, max_leaf_nodes=50, splitter=random, total=   0.0s\n",
      "[CV] max_depth=12, max_features=sqrt, max_leaf_nodes=50, splitter=random \n",
      "[CV]  max_depth=12, max_features=sqrt, max_leaf_nodes=50, splitter=random, total=   0.0s\n",
      "[CV] max_depth=12, max_features=sqrt, max_leaf_nodes=100, splitter=best \n",
      "[CV]  max_depth=12, max_features=sqrt, max_leaf_nodes=100, splitter=best, total=   0.0s\n",
      "[CV] max_depth=12, max_features=sqrt, max_leaf_nodes=100, splitter=best \n",
      "[CV]  max_depth=12, max_features=sqrt, max_leaf_nodes=100, splitter=best, total=   0.0s\n",
      "[CV] max_depth=12, max_features=sqrt, max_leaf_nodes=100, splitter=best \n",
      "[CV]  max_depth=12, max_features=sqrt, max_leaf_nodes=100, splitter=best, total=   0.0s\n",
      "[CV] max_depth=12, max_features=sqrt, max_leaf_nodes=100, splitter=random \n",
      "[CV]  max_depth=12, max_features=sqrt, max_leaf_nodes=100, splitter=random, total=   0.0s\n",
      "[CV] max_depth=12, max_features=sqrt, max_leaf_nodes=100, splitter=random \n",
      "[CV]  max_depth=12, max_features=sqrt, max_leaf_nodes=100, splitter=random, total=   0.0s\n",
      "[CV] max_depth=12, max_features=sqrt, max_leaf_nodes=100, splitter=random \n",
      "[CV]  max_depth=12, max_features=sqrt, max_leaf_nodes=100, splitter=random, total=   0.0s\n",
      "[CV] max_depth=12, max_features=sqrt, max_leaf_nodes=200, splitter=best \n",
      "[CV]  max_depth=12, max_features=sqrt, max_leaf_nodes=200, splitter=best, total=   0.0s\n",
      "[CV] max_depth=12, max_features=sqrt, max_leaf_nodes=200, splitter=best \n",
      "[CV]  max_depth=12, max_features=sqrt, max_leaf_nodes=200, splitter=best, total=   0.0s\n",
      "[CV] max_depth=12, max_features=sqrt, max_leaf_nodes=200, splitter=best \n",
      "[CV]  max_depth=12, max_features=sqrt, max_leaf_nodes=200, splitter=best, total=   0.0s\n",
      "[CV] max_depth=12, max_features=sqrt, max_leaf_nodes=200, splitter=random \n",
      "[CV]  max_depth=12, max_features=sqrt, max_leaf_nodes=200, splitter=random, total=   0.0s\n",
      "[CV] max_depth=12, max_features=sqrt, max_leaf_nodes=200, splitter=random \n",
      "[CV]  max_depth=12, max_features=sqrt, max_leaf_nodes=200, splitter=random, total=   0.0s\n",
      "[CV] max_depth=12, max_features=sqrt, max_leaf_nodes=200, splitter=random \n",
      "[CV]  max_depth=12, max_features=sqrt, max_leaf_nodes=200, splitter=random, total=   0.0s\n",
      "[CV] max_depth=12, max_features=sqrt, max_leaf_nodes=500, splitter=best \n",
      "[CV]  max_depth=12, max_features=sqrt, max_leaf_nodes=500, splitter=best, total=   0.0s\n",
      "[CV] max_depth=12, max_features=sqrt, max_leaf_nodes=500, splitter=best \n",
      "[CV]  max_depth=12, max_features=sqrt, max_leaf_nodes=500, splitter=best, total=   0.0s\n",
      "[CV] max_depth=12, max_features=sqrt, max_leaf_nodes=500, splitter=best \n",
      "[CV]  max_depth=12, max_features=sqrt, max_leaf_nodes=500, splitter=best, total=   0.0s\n",
      "[CV] max_depth=12, max_features=sqrt, max_leaf_nodes=500, splitter=random \n",
      "[CV]  max_depth=12, max_features=sqrt, max_leaf_nodes=500, splitter=random, total=   0.0s\n",
      "[CV] max_depth=12, max_features=sqrt, max_leaf_nodes=500, splitter=random \n",
      "[CV]  max_depth=12, max_features=sqrt, max_leaf_nodes=500, splitter=random, total=   0.0s\n",
      "[CV] max_depth=12, max_features=sqrt, max_leaf_nodes=500, splitter=random \n",
      "[CV]  max_depth=12, max_features=sqrt, max_leaf_nodes=500, splitter=random, total=   0.0s\n",
      "[CV] max_depth=12, max_features=sqrt, max_leaf_nodes=1000, splitter=best \n",
      "[CV]  max_depth=12, max_features=sqrt, max_leaf_nodes=1000, splitter=best, total=   0.0s\n",
      "[CV] max_depth=12, max_features=sqrt, max_leaf_nodes=1000, splitter=best \n",
      "[CV]  max_depth=12, max_features=sqrt, max_leaf_nodes=1000, splitter=best, total=   0.0s\n",
      "[CV] max_depth=12, max_features=sqrt, max_leaf_nodes=1000, splitter=best \n",
      "[CV]  max_depth=12, max_features=sqrt, max_leaf_nodes=1000, splitter=best, total=   0.0s\n",
      "[CV] max_depth=12, max_features=sqrt, max_leaf_nodes=1000, splitter=random \n",
      "[CV]  max_depth=12, max_features=sqrt, max_leaf_nodes=1000, splitter=random, total=   0.0s\n",
      "[CV] max_depth=12, max_features=sqrt, max_leaf_nodes=1000, splitter=random \n",
      "[CV]  max_depth=12, max_features=sqrt, max_leaf_nodes=1000, splitter=random, total=   0.0s\n",
      "[CV] max_depth=12, max_features=sqrt, max_leaf_nodes=1000, splitter=random \n",
      "[CV]  max_depth=12, max_features=sqrt, max_leaf_nodes=1000, splitter=random, total=   0.0s\n",
      "[CV] max_depth=12, max_features=None, max_leaf_nodes=None, splitter=best \n",
      "[CV]  max_depth=12, max_features=None, max_leaf_nodes=None, splitter=best, total=   0.0s\n",
      "[CV] max_depth=12, max_features=None, max_leaf_nodes=None, splitter=best \n",
      "[CV]  max_depth=12, max_features=None, max_leaf_nodes=None, splitter=best, total=   0.0s\n",
      "[CV] max_depth=12, max_features=None, max_leaf_nodes=None, splitter=best \n",
      "[CV]  max_depth=12, max_features=None, max_leaf_nodes=None, splitter=best, total=   0.0s\n",
      "[CV] max_depth=12, max_features=None, max_leaf_nodes=None, splitter=random \n",
      "[CV]  max_depth=12, max_features=None, max_leaf_nodes=None, splitter=random, total=   0.0s\n",
      "[CV] max_depth=12, max_features=None, max_leaf_nodes=None, splitter=random \n",
      "[CV]  max_depth=12, max_features=None, max_leaf_nodes=None, splitter=random, total=   0.0s\n",
      "[CV] max_depth=12, max_features=None, max_leaf_nodes=None, splitter=random \n",
      "[CV]  max_depth=12, max_features=None, max_leaf_nodes=None, splitter=random, total=   0.0s\n",
      "[CV] max_depth=12, max_features=None, max_leaf_nodes=10, splitter=best \n",
      "[CV]  max_depth=12, max_features=None, max_leaf_nodes=10, splitter=best, total=   0.0s\n",
      "[CV] max_depth=12, max_features=None, max_leaf_nodes=10, splitter=best \n",
      "[CV]  max_depth=12, max_features=None, max_leaf_nodes=10, splitter=best, total=   0.0s\n",
      "[CV] max_depth=12, max_features=None, max_leaf_nodes=10, splitter=best \n",
      "[CV]  max_depth=12, max_features=None, max_leaf_nodes=10, splitter=best, total=   0.0s\n",
      "[CV] max_depth=12, max_features=None, max_leaf_nodes=10, splitter=random \n",
      "[CV]  max_depth=12, max_features=None, max_leaf_nodes=10, splitter=random, total=   0.0s\n",
      "[CV] max_depth=12, max_features=None, max_leaf_nodes=10, splitter=random \n",
      "[CV]  max_depth=12, max_features=None, max_leaf_nodes=10, splitter=random, total=   0.0s\n",
      "[CV] max_depth=12, max_features=None, max_leaf_nodes=10, splitter=random \n",
      "[CV]  max_depth=12, max_features=None, max_leaf_nodes=10, splitter=random, total=   0.0s\n",
      "[CV] max_depth=12, max_features=None, max_leaf_nodes=20, splitter=best \n",
      "[CV]  max_depth=12, max_features=None, max_leaf_nodes=20, splitter=best, total=   0.0s\n",
      "[CV] max_depth=12, max_features=None, max_leaf_nodes=20, splitter=best \n",
      "[CV]  max_depth=12, max_features=None, max_leaf_nodes=20, splitter=best, total=   0.0s\n",
      "[CV] max_depth=12, max_features=None, max_leaf_nodes=20, splitter=best \n",
      "[CV]  max_depth=12, max_features=None, max_leaf_nodes=20, splitter=best, total=   0.0s\n",
      "[CV] max_depth=12, max_features=None, max_leaf_nodes=20, splitter=random \n",
      "[CV]  max_depth=12, max_features=None, max_leaf_nodes=20, splitter=random, total=   0.0s\n",
      "[CV] max_depth=12, max_features=None, max_leaf_nodes=20, splitter=random \n",
      "[CV]  max_depth=12, max_features=None, max_leaf_nodes=20, splitter=random, total=   0.0s\n",
      "[CV] max_depth=12, max_features=None, max_leaf_nodes=20, splitter=random \n",
      "[CV]  max_depth=12, max_features=None, max_leaf_nodes=20, splitter=random, total=   0.0s\n",
      "[CV] max_depth=12, max_features=None, max_leaf_nodes=50, splitter=best \n",
      "[CV]  max_depth=12, max_features=None, max_leaf_nodes=50, splitter=best, total=   0.0s\n",
      "[CV] max_depth=12, max_features=None, max_leaf_nodes=50, splitter=best \n",
      "[CV]  max_depth=12, max_features=None, max_leaf_nodes=50, splitter=best, total=   0.0s\n",
      "[CV] max_depth=12, max_features=None, max_leaf_nodes=50, splitter=best \n",
      "[CV]  max_depth=12, max_features=None, max_leaf_nodes=50, splitter=best, total=   0.0s\n",
      "[CV] max_depth=12, max_features=None, max_leaf_nodes=50, splitter=random \n",
      "[CV]  max_depth=12, max_features=None, max_leaf_nodes=50, splitter=random, total=   0.0s\n",
      "[CV] max_depth=12, max_features=None, max_leaf_nodes=50, splitter=random \n",
      "[CV]  max_depth=12, max_features=None, max_leaf_nodes=50, splitter=random, total=   0.0s\n",
      "[CV] max_depth=12, max_features=None, max_leaf_nodes=50, splitter=random \n",
      "[CV]  max_depth=12, max_features=None, max_leaf_nodes=50, splitter=random, total=   0.0s\n",
      "[CV] max_depth=12, max_features=None, max_leaf_nodes=100, splitter=best \n",
      "[CV]  max_depth=12, max_features=None, max_leaf_nodes=100, splitter=best, total=   0.0s\n",
      "[CV] max_depth=12, max_features=None, max_leaf_nodes=100, splitter=best \n",
      "[CV]  max_depth=12, max_features=None, max_leaf_nodes=100, splitter=best, total=   0.0s\n",
      "[CV] max_depth=12, max_features=None, max_leaf_nodes=100, splitter=best \n",
      "[CV]  max_depth=12, max_features=None, max_leaf_nodes=100, splitter=best, total=   0.0s\n",
      "[CV] max_depth=12, max_features=None, max_leaf_nodes=100, splitter=random \n",
      "[CV]  max_depth=12, max_features=None, max_leaf_nodes=100, splitter=random, total=   0.0s\n",
      "[CV] max_depth=12, max_features=None, max_leaf_nodes=100, splitter=random \n",
      "[CV]  max_depth=12, max_features=None, max_leaf_nodes=100, splitter=random, total=   0.0s\n",
      "[CV] max_depth=12, max_features=None, max_leaf_nodes=100, splitter=random \n",
      "[CV]  max_depth=12, max_features=None, max_leaf_nodes=100, splitter=random, total=   0.0s\n",
      "[CV] max_depth=12, max_features=None, max_leaf_nodes=200, splitter=best \n",
      "[CV]  max_depth=12, max_features=None, max_leaf_nodes=200, splitter=best, total=   0.0s\n",
      "[CV] max_depth=12, max_features=None, max_leaf_nodes=200, splitter=best \n",
      "[CV]  max_depth=12, max_features=None, max_leaf_nodes=200, splitter=best, total=   0.0s\n",
      "[CV] max_depth=12, max_features=None, max_leaf_nodes=200, splitter=best \n",
      "[CV]  max_depth=12, max_features=None, max_leaf_nodes=200, splitter=best, total=   0.0s\n",
      "[CV] max_depth=12, max_features=None, max_leaf_nodes=200, splitter=random \n",
      "[CV]  max_depth=12, max_features=None, max_leaf_nodes=200, splitter=random, total=   0.0s\n",
      "[CV] max_depth=12, max_features=None, max_leaf_nodes=200, splitter=random \n",
      "[CV]  max_depth=12, max_features=None, max_leaf_nodes=200, splitter=random, total=   0.0s\n",
      "[CV] max_depth=12, max_features=None, max_leaf_nodes=200, splitter=random \n",
      "[CV]  max_depth=12, max_features=None, max_leaf_nodes=200, splitter=random, total=   0.0s\n",
      "[CV] max_depth=12, max_features=None, max_leaf_nodes=500, splitter=best \n",
      "[CV]  max_depth=12, max_features=None, max_leaf_nodes=500, splitter=best, total=   0.0s\n",
      "[CV] max_depth=12, max_features=None, max_leaf_nodes=500, splitter=best \n",
      "[CV]  max_depth=12, max_features=None, max_leaf_nodes=500, splitter=best, total=   0.0s\n",
      "[CV] max_depth=12, max_features=None, max_leaf_nodes=500, splitter=best \n",
      "[CV]  max_depth=12, max_features=None, max_leaf_nodes=500, splitter=best, total=   0.0s\n",
      "[CV] max_depth=12, max_features=None, max_leaf_nodes=500, splitter=random \n",
      "[CV]  max_depth=12, max_features=None, max_leaf_nodes=500, splitter=random, total=   0.0s\n",
      "[CV] max_depth=12, max_features=None, max_leaf_nodes=500, splitter=random \n"
     ]
    },
    {
     "name": "stdout",
     "output_type": "stream",
     "text": [
      "[CV]  max_depth=12, max_features=None, max_leaf_nodes=500, splitter=random, total=   0.0s\n",
      "[CV] max_depth=12, max_features=None, max_leaf_nodes=500, splitter=random \n",
      "[CV]  max_depth=12, max_features=None, max_leaf_nodes=500, splitter=random, total=   0.0s\n",
      "[CV] max_depth=12, max_features=None, max_leaf_nodes=1000, splitter=best \n",
      "[CV]  max_depth=12, max_features=None, max_leaf_nodes=1000, splitter=best, total=   0.0s\n",
      "[CV] max_depth=12, max_features=None, max_leaf_nodes=1000, splitter=best \n",
      "[CV]  max_depth=12, max_features=None, max_leaf_nodes=1000, splitter=best, total=   0.0s\n",
      "[CV] max_depth=12, max_features=None, max_leaf_nodes=1000, splitter=best \n",
      "[CV]  max_depth=12, max_features=None, max_leaf_nodes=1000, splitter=best, total=   0.0s\n",
      "[CV] max_depth=12, max_features=None, max_leaf_nodes=1000, splitter=random \n",
      "[CV]  max_depth=12, max_features=None, max_leaf_nodes=1000, splitter=random, total=   0.0s\n",
      "[CV] max_depth=12, max_features=None, max_leaf_nodes=1000, splitter=random \n",
      "[CV]  max_depth=12, max_features=None, max_leaf_nodes=1000, splitter=random, total=   0.0s\n",
      "[CV] max_depth=12, max_features=None, max_leaf_nodes=1000, splitter=random \n",
      "[CV]  max_depth=12, max_features=None, max_leaf_nodes=1000, splitter=random, total=   0.0s\n"
     ]
    },
    {
     "name": "stderr",
     "output_type": "stream",
     "text": [
      "[Parallel(n_jobs=1)]: Done 960 out of 960 | elapsed:    8.1s finished\n"
     ]
    },
    {
     "data": {
      "text/plain": [
       "GridSearchCV(cv=3, estimator=DecisionTreeRegressor(),\n",
       "             param_grid={'max_depth': [1, 7, 9, 11, 12],\n",
       "                         'max_features': ['auto', 'log2', 'sqrt', None],\n",
       "                         'max_leaf_nodes': [None, 10, 20, 50, 100, 200, 500,\n",
       "                                            1000],\n",
       "                         'splitter': ['best', 'random']},\n",
       "             scoring='neg_mean_squared_error', verbose=2)"
      ]
     },
     "execution_count": 100,
     "metadata": {},
     "output_type": "execute_result"
    }
   ],
   "source": [
    "grid_dtr.fit(X_train,y_train)"
   ]
  },
  {
   "cell_type": "code",
   "execution_count": 101,
   "metadata": {},
   "outputs": [
    {
     "data": {
      "text/plain": [
       "{'max_depth': 9,\n",
       " 'max_features': 'auto',\n",
       " 'max_leaf_nodes': 1000,\n",
       " 'splitter': 'random'}"
      ]
     },
     "execution_count": 101,
     "metadata": {},
     "output_type": "execute_result"
    }
   ],
   "source": [
    "grid_dtr.best_params_"
   ]
  },
  {
   "cell_type": "code",
   "execution_count": 102,
   "metadata": {},
   "outputs": [
    {
     "data": {
      "text/plain": [
       "0.7460113210399755"
      ]
     },
     "execution_count": 102,
     "metadata": {},
     "output_type": "execute_result"
    }
   ],
   "source": [
    "tune_grid_dtr=DecisionTreeRegressor(max_depth=11,max_features=None,max_leaf_nodes=None,splitter='random').fit(X_train,y_train)\n",
    "tgpred=tune_grid_dtr.predict(X_test)\n",
    "DTR_grid_Test=tune_grid_dtr.score(X_test,y_test)\n",
    "acc.append(DTR_grid_Test)\n",
    "labels.append('DTR & Grid')\n",
    "DTR_grid_Test"
   ]
  },
  {
   "cell_type": "markdown",
   "metadata": {},
   "source": [
    "## 6. Linear Regression"
   ]
  },
  {
   "cell_type": "code",
   "execution_count": 103,
   "metadata": {},
   "outputs": [
    {
     "data": {
      "image/png": "[encoded data removed]",
      "text/plain": [
       "<Figure size 432x288 with 1 Axes>"
      ]
     },
     "metadata": {
      "needs_background": "light"
     },
     "output_type": "display_data"
    },
    {
     "name": "stdout",
     "output_type": "stream",
     "text": [
      "MAE: 1673.200369026403\n",
      "MSE: 6526149.256506182\n",
      "RMSE: 2554.632900537019\n"
     ]
    }
   ],
   "source": [
    "from sklearn.linear_model import LinearRegression\n",
    "from sklearn.metrics import mean_squared_error\n",
    "lin_model = LinearRegression()\n",
    "lin_model.fit(X_train, y_train)\n",
    "ly_pred = lin_model.predict(X_test)\n",
    "lin_model.score(X_train, y_train)\n",
    "\n",
    "sns.distplot(y_test-ly_pred)\n",
    "plt.show()\n",
    "print('MAE:', metrics.mean_absolute_error(y_test, ly_pred))\n",
    "print('MSE:', metrics.mean_squared_error(y_test, ly_pred))\n",
    "print('RMSE:', np.sqrt(metrics.mean_squared_error(y_test, ly_pred)))"
   ]
  },
  {
   "cell_type": "code",
   "execution_count": 104,
   "metadata": {},
   "outputs": [
    {
     "data": {
      "text/plain": [
       "0.641483650192229"
      ]
     },
     "execution_count": 104,
     "metadata": {},
     "output_type": "execute_result"
    }
   ],
   "source": [
    "LR_Test=lin_model.score(X_test, y_test)\n",
    "acc.append(LR_Test)\n",
    "labels.append('LR')\n",
    "LR_Test"
   ]
  },
  {
   "cell_type": "markdown",
   "metadata": {},
   "source": [
    "SelectKBest----> Incorrect features.."
   ]
  },
  {
   "cell_type": "code",
   "execution_count": 105,
   "metadata": {},
   "outputs": [],
   "source": [
    "from sklearn.feature_selection import SelectKBest, chi2\n",
    "test=SelectKBest(score_func=chi2, k=4)\n",
    "fit=test.fit(X_train,y_train)\n",
    "features = fit.transform(X_train)"
   ]
  },
  {
   "cell_type": "code",
   "execution_count": 106,
   "metadata": {},
   "outputs": [
    {
     "name": "stdout",
     "output_type": "stream",
     "text": [
      "            Specs         Score\n",
      "4         Dep_min  46708.777685\n",
      "7  Duration_hours  36583.267782\n",
      "6     Arrival_min  32401.653635\n",
      "8   Duration_mins  29848.114063\n",
      "5    Arrival_hour  12236.609193\n"
     ]
    }
   ],
   "source": [
    "dfscores = pd.DataFrame(fit.scores_)\n",
    "dfcolumns = pd.DataFrame(X_train.columns)\n",
    "#concat two dataframes for better visualization \n",
    "featureScores = pd.concat([dfcolumns,dfscores],axis=1)\n",
    "featureScores.columns = ['Specs','Score']  #naming the dataframe columns\n",
    "print(featureScores.nlargest(5,'Score')) "
   ]
  },
  {
   "cell_type": "markdown",
   "metadata": {},
   "source": [
    "## 7. Ridge"
   ]
  },
  {
   "cell_type": "code",
   "execution_count": 107,
   "metadata": {},
   "outputs": [
    {
     "data": {
      "text/plain": [
       "0.6556352410794407"
      ]
     },
     "execution_count": 107,
     "metadata": {},
     "output_type": "execute_result"
    }
   ],
   "source": [
    "from sklearn.linear_model import Ridge\n",
    "clf = Ridge(alpha=1.0)\n",
    "clf.fit(X_train,y_train)\n",
    "Ridge_Test=clf.score(X_test,y_test)\n",
    "acc.append(Ridge_Test)\n",
    "labels.append('Ridge')\n",
    "Ridge_Test"
   ]
  },
  {
   "cell_type": "markdown",
   "metadata": {},
   "source": [
    "### RidgeCV"
   ]
  },
  {
   "cell_type": "code",
   "execution_count": 108,
   "metadata": {},
   "outputs": [
    {
     "data": {
      "text/plain": [
       "0.6441703536437238"
      ]
     },
     "execution_count": 108,
     "metadata": {},
     "output_type": "execute_result"
    }
   ],
   "source": [
    "from sklearn.linear_model import RidgeCV\n",
    "clf = RidgeCV(alphas=[1e-3, 1e-2, 1e-1, 1]).fit(X_train, y_train)\n",
    "RidgeCV_Test=clf.score(X_test,y_test)\n",
    "acc.append(RidgeCV_Test)\n",
    "labels.append('Ridge CV')\n",
    "RidgeCV_Test"
   ]
  },
  {
   "cell_type": "markdown",
   "metadata": {},
   "source": [
    "## 8. Kernel Ridge"
   ]
  },
  {
   "cell_type": "code",
   "execution_count": 109,
   "metadata": {},
   "outputs": [
    {
     "data": {
      "text/plain": [
       "0.6560129344044847"
      ]
     },
     "execution_count": 109,
     "metadata": {},
     "output_type": "execute_result"
    }
   ],
   "source": [
    "from sklearn.kernel_ridge import KernelRidge\n",
    "clf = KernelRidge(alpha=1.0).fit(X_train,y_train)\n",
    "Kernel_Test=clf.score(X_test,y_test)\n",
    "acc.append(Kernel_Test)\n",
    "labels.append('Kernel Ridge')\n",
    "Kernel_Test"
   ]
  },
  {
   "cell_type": "markdown",
   "metadata": {},
   "source": [
    "## 9. K-Nearest Neighbors Regressor"
   ]
  },
  {
   "cell_type": "code",
   "execution_count": 110,
   "metadata": {},
   "outputs": [
    {
     "data": {
      "text/plain": [
       "<matplotlib.axes._subplots.AxesSubplot at 0x211ad8226a0>"
      ]
     },
     "execution_count": 110,
     "metadata": {},
     "output_type": "execute_result"
    },
    {
     "data": {
      "image/png": "[encoded data removed]",
      "text/plain": [
       "<Figure size 432x288 with 1 Axes>"
      ]
     },
     "metadata": {
      "needs_background": "light"
     },
     "output_type": "display_data"
    }
   ],
   "source": [
    "sns.distplot(y)"
   ]
  },
  {
   "cell_type": "code",
   "execution_count": 111,
   "metadata": {},
   "outputs": [
    {
     "name": "stdout",
     "output_type": "stream",
     "text": [
      "Coefficient of determination R^2 <-- on train set: 0.9847431805979177\n"
     ]
    }
   ],
   "source": [
    "from sklearn.neighbors import KNeighborsRegressor\n",
    "regressor=KNeighborsRegressor(n_neighbors=1)\n",
    "regressor.fit(X_train,y_train)\n",
    "print(\"Coefficient of determination R^2 <-- on train set: {}\".format(regressor.score(X_train, y_train)))"
   ]
  },
  {
   "cell_type": "code",
   "execution_count": 112,
   "metadata": {},
   "outputs": [
    {
     "name": "stdout",
     "output_type": "stream",
     "text": [
      "Coefficient of determination R^2 <-- on train set: 0.4676627535038159\n"
     ]
    }
   ],
   "source": [
    "print(\"Coefficient of determination R^2 <-- on train set: {}\".format(regressor.score(X_test, y_test)))"
   ]
  },
  {
   "cell_type": "code",
   "execution_count": 113,
   "metadata": {},
   "outputs": [
    {
     "data": {
      "text/plain": [
       "0.4676627535038159"
      ]
     },
     "execution_count": 113,
     "metadata": {},
     "output_type": "execute_result"
    }
   ],
   "source": [
    "KNR_Test=regressor.score(X_test, y_test)\n",
    "acc.append(KNR_Test)\n",
    "labels.append('KNR_1')\n",
    "KNR_Test"
   ]
  },
  {
   "cell_type": "markdown",
   "metadata": {},
   "source": [
    "### Predicting R2 value for KNN"
   ]
  },
  {
   "cell_type": "code",
   "execution_count": 114,
   "metadata": {},
   "outputs": [],
   "source": [
    "from sklearn.model_selection import cross_val_score\n",
    "score=cross_val_score(regressor,X,y,cv=5)"
   ]
  },
  {
   "cell_type": "code",
   "execution_count": 115,
   "metadata": {},
   "outputs": [
    {
     "data": {
      "text/plain": [
       "0.5511661581415173"
      ]
     },
     "execution_count": 115,
     "metadata": {},
     "output_type": "execute_result"
    }
   ],
   "source": [
    "score.mean()"
   ]
  },
  {
   "cell_type": "code",
   "execution_count": 116,
   "metadata": {},
   "outputs": [],
   "source": [
    "prediction=regressor.predict(X_test)"
   ]
  },
  {
   "cell_type": "code",
   "execution_count": 117,
   "metadata": {},
   "outputs": [
    {
     "data": {
      "text/plain": [
       "KNeighborsRegressor(n_neighbors=3)"
      ]
     },
     "execution_count": 117,
     "metadata": {},
     "output_type": "execute_result"
    }
   ],
   "source": [
    "regressor=KNeighborsRegressor(n_neighbors=3)\n",
    "regressor.fit(X_train,y_train)"
   ]
  },
  {
   "cell_type": "code",
   "execution_count": 118,
   "metadata": {},
   "outputs": [],
   "source": [
    "#### another method to find r2 value"
   ]
  },
  {
   "cell_type": "code",
   "execution_count": 119,
   "metadata": {},
   "outputs": [
    {
     "data": {
      "text/plain": [
       "0.5593068069072755"
      ]
     },
     "execution_count": 119,
     "metadata": {},
     "output_type": "execute_result"
    }
   ],
   "source": [
    "ypredi=regressor.predict(X_test)\n",
    "metrics.r2_score(y_test,ypredi)"
   ]
  },
  {
   "cell_type": "code",
   "execution_count": 120,
   "metadata": {},
   "outputs": [
    {
     "data": {
      "text/plain": [
       "0.5593068069072755"
      ]
     },
     "execution_count": 120,
     "metadata": {},
     "output_type": "execute_result"
    }
   ],
   "source": [
    "acc.append(regressor.score(X_test,y_test))\n",
    "labels.append('KNR_3')\n",
    "regressor.score(X_test,y_test)"
   ]
  },
  {
   "cell_type": "markdown",
   "metadata": {},
   "source": [
    "## Hyperparameter Tuning KNN Regressor"
   ]
  },
  {
   "cell_type": "code",
   "execution_count": 121,
   "metadata": {},
   "outputs": [],
   "source": [
    "accuracy_rate = []\n",
    "\n",
    "# Will take some time\n",
    "for i in range(1,40):\n",
    "    \n",
    "    knn = KNeighborsRegressor(n_neighbors=i)\n",
    "    score=cross_val_score(knn,X,y,cv=10)\n",
    "    accuracy_rate.append(score.mean())"
   ]
  },
  {
   "cell_type": "code",
   "execution_count": 122,
   "metadata": {},
   "outputs": [],
   "source": [
    "# FIRST A QUICK COMPARISON TO OUR ORIGINAL K=1\n",
    "knn = KNeighborsRegressor(n_neighbors=1)\n",
    "\n",
    "knn.fit(X_train,y_train)\n",
    "score=cross_val_score(knn,X,y,cv=10)\n",
    "predictions = knn.predict(X_test)"
   ]
  },
  {
   "cell_type": "code",
   "execution_count": 123,
   "metadata": {},
   "outputs": [
    {
     "data": {
      "text/plain": [
       "0.5554222244228879"
      ]
     },
     "execution_count": 123,
     "metadata": {},
     "output_type": "execute_result"
    }
   ],
   "source": [
    "acc.append(score.mean())\n",
    "labels.append('KNR_hp-1')\n",
    "score.mean()"
   ]
  },
  {
   "cell_type": "code",
   "execution_count": 124,
   "metadata": {},
   "outputs": [
    {
     "name": "stdout",
     "output_type": "stream",
     "text": [
      "MAE: 1422.6642282370153\n",
      "MSE: 9690247.954645209\n",
      "RMSE: 3112.916310253973\n"
     ]
    }
   ],
   "source": [
    "from sklearn import metrics\n",
    "print('MAE:', metrics.mean_absolute_error(y_test, predictions))\n",
    "print('MSE:', metrics.mean_squared_error(y_test, predictions))\n",
    "print('RMSE:', np.sqrt(metrics.mean_squared_error(y_test, predictions)))"
   ]
  },
  {
   "cell_type": "code",
   "execution_count": 125,
   "metadata": {},
   "outputs": [],
   "source": [
    "# FIRST A QUICK COMPARISON TO OUR ORIGINAL K=3\n",
    "knn = KNeighborsRegressor(n_neighbors=3)\n",
    "\n",
    "knn.fit(X_train,y_train)\n",
    "score=cross_val_score(knn,X,y,cv=10)\n",
    "predictions = knn.predict(X_test)"
   ]
  },
  {
   "cell_type": "code",
   "execution_count": 126,
   "metadata": {},
   "outputs": [
    {
     "data": {
      "text/plain": [
       "0.6282223527264866"
      ]
     },
     "execution_count": 126,
     "metadata": {},
     "output_type": "execute_result"
    }
   ],
   "source": [
    "acc.append(score.mean())\n",
    "labels.append('KNR_hp-3')\n",
    "score.mean()"
   ]
  },
  {
   "cell_type": "code",
   "execution_count": 127,
   "metadata": {},
   "outputs": [
    {
     "name": "stdout",
     "output_type": "stream",
     "text": [
      "MAE: 1411.8931967812728\n",
      "MSE: 8022031.787368934\n",
      "RMSE: 2832.3191535151777\n"
     ]
    }
   ],
   "source": [
    "#after hypertuning values decreased\n",
    "from sklearn import metrics\n",
    "print('MAE:', metrics.mean_absolute_error(y_test, predictions))\n",
    "print('MSE:', metrics.mean_squared_error(y_test, predictions))\n",
    "print('RMSE:', np.sqrt(metrics.mean_squared_error(y_test, predictions)))"
   ]
  },
  {
   "cell_type": "code",
   "execution_count": 128,
   "metadata": {},
   "outputs": [
    {
     "name": "stdout",
     "output_type": "stream",
     "text": [
      "MAE: 1422.6642282370153\n",
      "MSE: 9690247.954645209\n",
      "RMSE: 3112.916310253973\n"
     ]
    }
   ],
   "source": [
    "#before hypertuning\n",
    "print('MAE:', metrics.mean_absolute_error(y_test, prediction))\n",
    "print('MSE:', metrics.mean_squared_error(y_test, prediction))\n",
    "print('RMSE:', np.sqrt(metrics.mean_squared_error(y_test, prediction)))"
   ]
  },
  {
   "cell_type": "markdown",
   "metadata": {},
   "source": [
    "## 10.Lasso"
   ]
  },
  {
   "cell_type": "code",
   "execution_count": 129,
   "metadata": {},
   "outputs": [
    {
     "name": "stderr",
     "output_type": "stream",
     "text": [
      "C:\\Users\\HP\\anaconda3\\lib\\site-packages\\sklearn\\linear_model\\_coordinate_descent.py:529: ConvergenceWarning: Objective did not converge. You might want to increase the number of iterations. Duality gap: 15436360681.987621, tolerance: 9476423.494285494\n",
      "  model = cd_fast.enet_coordinate_descent(\n",
      "C:\\Users\\HP\\anaconda3\\lib\\site-packages\\sklearn\\linear_model\\_coordinate_descent.py:529: ConvergenceWarning: Objective did not converge. You might want to increase the number of iterations. Duality gap: 16019108807.591276, tolerance: 9244485.990503276\n",
      "  model = cd_fast.enet_coordinate_descent(\n",
      "C:\\Users\\HP\\anaconda3\\lib\\site-packages\\sklearn\\linear_model\\_coordinate_descent.py:529: ConvergenceWarning: Objective did not converge. You might want to increase the number of iterations. Duality gap: 16000266707.977024, tolerance: 9576694.243397731\n",
      "  model = cd_fast.enet_coordinate_descent(\n",
      "C:\\Users\\HP\\anaconda3\\lib\\site-packages\\sklearn\\linear_model\\_coordinate_descent.py:529: ConvergenceWarning: Objective did not converge. You might want to increase the number of iterations. Duality gap: 15607374254.370628, tolerance: 9678248.31573232\n",
      "  model = cd_fast.enet_coordinate_descent(\n",
      "C:\\Users\\HP\\anaconda3\\lib\\site-packages\\sklearn\\linear_model\\_coordinate_descent.py:529: ConvergenceWarning: Objective did not converge. You might want to increase the number of iterations. Duality gap: 15501831868.130892, tolerance: 9229203.901863107\n",
      "  model = cd_fast.enet_coordinate_descent(\n",
      "C:\\Users\\HP\\anaconda3\\lib\\site-packages\\sklearn\\linear_model\\_coordinate_descent.py:529: ConvergenceWarning: Objective did not converge. You might want to increase the number of iterations. Duality gap: 3646546676.4964714, tolerance: 9678248.31573232\n",
      "  model = cd_fast.enet_coordinate_descent(\n",
      "C:\\Users\\HP\\anaconda3\\lib\\site-packages\\sklearn\\linear_model\\_coordinate_descent.py:529: ConvergenceWarning: Objective did not converge. You might want to increase the number of iterations. Duality gap: 3646206754.1337376, tolerance: 9678248.31573232\n",
      "  model = cd_fast.enet_coordinate_descent(\n",
      "C:\\Users\\HP\\anaconda3\\lib\\site-packages\\sklearn\\linear_model\\_coordinate_descent.py:529: ConvergenceWarning: Objective did not converge. You might want to increase the number of iterations. Duality gap: 3646414820.8894463, tolerance: 9678248.31573232\n",
      "  model = cd_fast.enet_coordinate_descent(\n"
     ]
    },
    {
     "name": "stdout",
     "output_type": "stream",
     "text": [
      "{'alpha': 0.01}\n"
     ]
    },
    {
     "data": {
      "text/plain": [
       "0.6576474544213008"
      ]
     },
     "execution_count": 129,
     "metadata": {},
     "output_type": "execute_result"
    }
   ],
   "source": [
    "from sklearn.linear_model import Lasso\n",
    "from sklearn.model_selection import GridSearchCV\n",
    "lasso=Lasso()\n",
    "parameters={'alpha':[1e-15,1e-10,1e-8,1e-3,1e-2,1,5,10,20,30,35,40]}\n",
    "lasso_regressor=GridSearchCV(lasso,parameters,cv=5)\n",
    "lasso_regressor.fit(X,y)\n",
    "print(lasso_regressor.best_params_)\n",
    "Lasso_Test=lasso_regressor.best_score_\n",
    "acc.append(Lasso_Test)\n",
    "labels.append('Lasso')\n",
    "Lasso_Test"
   ]
  },
  {
   "cell_type": "code",
   "execution_count": 130,
   "metadata": {},
   "outputs": [
    {
     "data": {
      "text/plain": [
       "<matplotlib.axes._subplots.AxesSubplot at 0x211ac504160>"
      ]
     },
     "execution_count": 130,
     "metadata": {},
     "output_type": "execute_result"
    },
    {
     "data": {
      "image/png": "[encoded data removed]",
      "text/plain": [
       "<Figure size 432x288 with 1 Axes>"
      ]
     },
     "metadata": {
      "needs_background": "light"
     },
     "output_type": "display_data"
    }
   ],
   "source": [
    "acc=[round(100*i,2) for i in acc]\n",
    "ds=pd.DataFrame(list(zip(labels,acc)),columns=['Algorithms','Accuracies'])\n",
    "ds.set_index(\"Algorithms\",inplace=True)\n",
    "ds.plot.bar()"
   ]
  },
  {
   "cell_type": "markdown",
   "metadata": {},
   "source": [
    "# Pickel the file\n",
    "### The file is pickled with the selected model for the web application."
   ]
  },
  {
   "cell_type": "code",
   "execution_count": 131,
   "metadata": {},
   "outputs": [],
   "source": [
    "import pickle\n",
    "file=open('rfr.pkl','wb')\n",
    "pickle.dump(random_rf,file)\n"
   ]
  },
  {
   "cell_type": "code",
   "execution_count": 132,
   "metadata": {},
   "outputs": [
    {
     "data": {
      "text/plain": [
       "0.8135592206909515"
      ]
     },
     "execution_count": 132,
     "metadata": {},
     "output_type": "execute_result"
    }
   ],
   "source": [
    "model=open('rfr.pkl','rb')\n",
    "f=pickle.load(model)\n",
    "y_pred=f.predict(X_test)\n",
    "metrics.r2_score(y_test,y_pred)"
   ]
  },
  {
   "cell_type": "code",
   "execution_count": null,
   "metadata": {},
   "outputs": [],
   "source": []
  }
 ],
 "metadata": {
  "kernelspec": {
   "display_name": "Python 3",
   "language": "python",
   "name": "python3"
  },
  "language_info": {
   "codemirror_mode": {
    "name": "ipython",
    "version": 3
   },
   "file_extension": ".py",
   "mimetype": "text/x-python",
   "name": "python",
   "nbconvert_exporter": "python",
   "pygments_lexer": "ipython3",
   "version": "3.8.3"
  }
 },
 "nbformat": 4,
 "nbformat_minor": 4
}
